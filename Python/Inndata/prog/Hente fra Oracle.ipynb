{
 "cells": [
  {
   "cell_type": "markdown",
   "id": "b6107661-c5ac-4dad-bc8e-024182de9a1d",
   "metadata": {},
   "source": [
    "# Hente data fra oracle\n",
    "Vi bruker biblioteket **cx_Oracle** for å hente data fra Oracle. For passordet bruker vi biblioteket **getpass**. I tellegg bruker som alltid pandas."
   ]
  },
  {
   "cell_type": "code",
   "execution_count": null,
   "id": "ea148f76-4821-4441-ad6d-c56b3b30bc0f",
   "metadata": {},
   "outputs": [],
   "source": [
    "import cx_Oracle\n",
    "import getpass\n",
    "import pandas as pd"
   ]
  },
  {
   "cell_type": "markdown",
   "id": "88f130cb-af58-43b5-be04-8ce509f6457f",
   "metadata": {},
   "source": [
    "## Angi bruker\n",
    "For inntasting fra brukeren har vi **input**. Den vil spørre oss om å skrive inn en tekst og returnere den til et objekt. Ved å ta med or-betingelsen kan vi gi en verdi dersom brukeren ikke oppgir noen. I eksempelet under hentes brukerens initialer (eller mer korrekt, brukeridenten)"
   ]
  },
  {
   "cell_type": "code",
   "execution_count": null,
   "id": "292a60c1-e55a-4ee8-8fa6-b7f8f4aad872",
   "metadata": {},
   "outputs": [],
   "source": [
    "bruker = input('Angi bruker: ') or getpass.getuser()\n",
    "bruker"
   ]
  },
  {
   "cell_type": "markdown",
   "id": "d95a0248-d8ca-4755-936b-4b55b0c9a63a",
   "metadata": {},
   "source": [
    "Passordet angis ved hjelp av **getpass**. Vær klar  over at passordet vil vises om vi gjør som under. Legger vi passordet i et objekt vil innholdet i det obkjektet, altså passordet, være synlig. Derfor, *ikke* gjør slik:"
   ]
  },
  {
   "cell_type": "code",
   "execution_count": null,
   "id": "65dc22e5-b2c9-477b-99fb-67d70e87888d",
   "metadata": {},
   "outputs": [],
   "source": [
    "getpass.getpass(prompt='Angi oracle-passord for bruker ' + bruker + ':')"
   ]
  },
  {
   "cell_type": "markdown",
   "id": "9ca3e244-191d-4624-a55c-6ebb02c310ba",
   "metadata": {},
   "source": [
    "## Oppkobling til Oracle\n",
    "I selve oppkobling oppgir vi passordet vårt. Med denne metoden vil det ikke legges i noe objekt eller vises på skjermen. I tillegg til passordet oppgis bruker og  database (her: db1t). Oppkoblingen lagres i objektet conn som brukes i selve spørringen"
   ]
  },
  {
   "cell_type": "code",
   "execution_count": null,
   "id": "2ce662bb-02a4-4b8c-8378-2326b538c205",
   "metadata": {},
   "outputs": [],
   "source": [
    "conn = cx_Oracle.connect(bruker + \"/\" + getpass.getpass(prompt='Angi oracle-passord for bruker ' + bruker + ':')+\"@DB1T\")"
   ]
  },
  {
   "cell_type": "markdown",
   "id": "fb9c16d4-83c2-4a05-bd73-4dc3a799c290",
   "metadata": {},
   "source": [
    "## Spørre mot databasen\n",
    "Selve spørringen mot databasen er en vanlig sql. Vi må vite navnet på skjemaet i databasen (her: sastest) og navnet på tabellen (her: no). Vi kan bruke små og store bokstaver om hverandre, resultat-kolonnene kommer ut med store bokstaver.\n",
    "\n",
    "Selve spørringen utføres med **read_sql_query** fra pandas, bibliotekt og resultatet er en panda dataframe, her kalt df"
   ]
  },
  {
   "cell_type": "code",
   "execution_count": null,
   "id": "20d8fd49-0d1b-466f-924f-f7047123bb5d",
   "metadata": {},
   "outputs": [],
   "source": [
    "query = \"\"\"\n",
    "select *\n",
    "from\n",
    "sastest.no\n",
    "\"\"\"\n",
    "\n",
    "df = pd.read_sql_query(query, conn)\n",
    "\n",
    "df.head()"
   ]
  },
  {
   "cell_type": "markdown",
   "id": "1125ff4f-3783-4a29-a9af-41f66951ec92",
   "metadata": {},
   "source": [
    "Her er et eksempel på en ny spørring. Den kan utføres uten å koble oss opp på nytt så lenge forbindelsen til Oracle er åpen. Den har en timeout på 4 minutter etter siste utførte spørring"
   ]
  },
  {
   "cell_type": "code",
   "execution_count": null,
   "id": "7cb543fe-1609-4dde-933e-5841a81badca",
   "metadata": {},
   "outputs": [],
   "source": [
    "query = \"\"\"\n",
    "select aar, sum(nopost_p5400) as nopost_p5400\n",
    " from sastest.no\n",
    " group by aar\n",
    " order by aar\n",
    "\"\"\"\n",
    "\n",
    "agg = pd.read_sql_query(query, conn)\n",
    "agg"
   ]
  },
  {
   "cell_type": "markdown",
   "id": "2d200bf0-2472-4370-8489-ecb2c8bc2d52",
   "metadata": {},
   "source": [
    "## Lukke Oracle-forbindelsen\n",
    "Vi lukker forbindelsen til Oracle med **close**."
   ]
  },
  {
   "cell_type": "code",
   "execution_count": null,
   "id": "b313287d-ff09-497b-a6ac-3d3d2163bc03",
   "metadata": {},
   "outputs": [],
   "source": [
    "conn.close()"
   ]
  },
  {
   "cell_type": "markdown",
   "id": "153d3dae-1880-4e97-b3dc-18d86ab1cb2a",
   "metadata": {},
   "source": [
    "## Koble opp mot delregister i sfu"
   ]
  },
  {
   "cell_type": "code",
   "execution_count": null,
   "id": "ba3fc74a-0506-4c30-8714-78256b49c495",
   "metadata": {},
   "outputs": [],
   "source": [
    "conn = cx_Oracle.connect(bruker + \"/\" + getpass.getpass(prompt='Angi oracle-passord for bruker ' + bruker + ':')+\"@DB1P\")"
   ]
  },
  {
   "cell_type": "code",
   "execution_count": null,
   "id": "d7531bdf-faa1-42b2-8aba-d0f0db8da623",
   "metadata": {},
   "outputs": [],
   "source": [
    "query = \"\"\"\n",
    " select *\n",
    " from dsbbase.DSBBASE_REF_CODES\n",
    " where rv_domain = 'DLR_KVITT_TYPE' or rv_domain = 'DLR_KVITT_UNDERTYPE'\n",
    " \"\"\"\n",
    "\n",
    "df = pd.read_sql_query(query, conn)\n",
    "\n",
    "df.sample(15)"
   ]
  },
  {
   "cell_type": "code",
   "execution_count": null,
   "id": "715d40e3-afc5-42c5-ba04-f745dd39c6fd",
   "metadata": {},
   "outputs": [],
   "source": [
    "conn.close()"
   ]
  },
  {
   "cell_type": "code",
   "execution_count": null,
   "id": "f08b947d-bd6b-4aeb-ac4f-e07b5fea458f",
   "metadata": {},
   "outputs": [],
   "source": []
  }
 ],
 "metadata": {
  "kernelspec": {
   "display_name": "Python 3",
   "language": "python",
   "name": "python3"
  },
  "language_info": {
   "codemirror_mode": {
    "name": "ipython",
    "version": 3
   },
   "file_extension": ".py",
   "mimetype": "text/x-python",
   "name": "python",
   "nbconvert_exporter": "python",
   "pygments_lexer": "ipython3",
   "version": "3.8.8"
  }
 },
 "nbformat": 4,
 "nbformat_minor": 5
}

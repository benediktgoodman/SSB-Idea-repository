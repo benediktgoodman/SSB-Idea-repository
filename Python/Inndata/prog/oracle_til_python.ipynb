{
 "cells": [
  {
   "cell_type": "markdown",
   "id": "318fba87-733c-4f0e-ad34-437e3a4367dd",
   "metadata": {},
   "source": [
    "# Hent data fra oracle til python\n",
    "Med pakken cx_Oracle kan vi hente ut data fra oracle-databaser."
   ]
  },
  {
   "cell_type": "code",
   "execution_count": null,
   "id": "21823c00-27a0-4b2f-a4bf-35ab723dc1ae",
   "metadata": {},
   "outputs": [],
   "source": [
    "import pandas as pd\n",
    "import cx_Oracle\n",
    "import getpass"
   ]
  },
  {
   "cell_type": "markdown",
   "id": "0ff594d4-9ef8-4f36-81ef-36b92a253f69",
   "metadata": {},
   "source": [
    "# Eksempel på et enkelt uttrekk"
   ]
  },
  {
   "cell_type": "code",
   "execution_count": null,
   "id": "780c951b-041e-40f6-9c8d-7daf8f570d4e",
   "metadata": {},
   "outputs": [],
   "source": [
    "# Kobler opp til db1p:\n",
    "conn = cx_Oracle.connect(getpass.getuser()+\"/\"+getpass.getpass(prompt='Oracle-passord: ')+\"@DB1P\")\n",
    "\n",
    "# Skriver en sql-spørring for å få ut det vi er interessert i:\n",
    "sql = f\"\"\"\n",
    "    select DELREG_NR, ORGNR_FORETAK, NAVN, KVITT_TYPE, DATO_INNKVITTERING\n",
    "        from DSBBASE.DLR_ENHET_I_DELREG\n",
    "        where DELREG_NR = 25240322 and KVITT_TYPE = 'K'\n",
    "        order by ORGNR_FORETAK\n",
    "    \"\"\"\n",
    "\n",
    "# Lagrer resultatet som en dataframe:\n",
    "df = pd.read_sql_query(sql, conn)\n",
    "\n",
    "# Lukker oppkoblingen:\n",
    "conn.close()"
   ]
  },
  {
   "cell_type": "code",
   "execution_count": null,
   "id": "cc938276-4273-406a-bb6d-303240791a6e",
   "metadata": {},
   "outputs": [],
   "source": [
    "df"
   ]
  },
  {
   "cell_type": "markdown",
   "id": "d7a60d51-428c-49bd-a234-f7a39c268a69",
   "metadata": {},
   "source": [
    "# Lag parametere i sql-spørringen med bind variable\n",
    "Les mer om hvorfor det må gjøres på denne måten her: https://cx-oracle.readthedocs.io/en/latest/user_guide/bind.html"
   ]
  },
  {
   "cell_type": "code",
   "execution_count": null,
   "id": "709d862b-6592-4501-80fd-de47519b6a1f",
   "metadata": {},
   "outputs": [],
   "source": [
    "# Hvordan man unngår hardkoding i sql-spørringen\n",
    "\n",
    "def henter_oracledata(delreg, kvitt):\n",
    "    # Kobler opp til db1p:\n",
    "    conn = cx_Oracle.connect(getpass.getuser()+\"/\"+getpass.getpass(prompt='Oracle-passord: ')+\"@DB1P\")\n",
    "\n",
    "    # Skriver en sql-spørring for å få ut det vi er interessert i:\n",
    "    sql = f\"\"\"\n",
    "        select DELREG_NR, ORGNR_FORETAK, NAVN, KVITT_TYPE, DATO_INNKVITTERING\n",
    "            from DSBBASE.DLR_ENHET_I_DELREG\n",
    "            where DELREG_NR = {delreg} and KVITT_TYPE = '{kvitt}'\n",
    "            order by ORGNR_FORETAK\n",
    "        \"\"\"\n",
    "    # Lagrer resultatet som en dataframe:\n",
    "    df = pd.read_sql_query(sql, conn)\n",
    "\n",
    "    return df\n",
    "\n",
    "    # Lukker oppkoblingen:\n",
    "    conn.close()\n",
    "\n",
    "df = henter_oracledata(delreg=25240322, kvitt='M')"
   ]
  },
  {
   "cell_type": "code",
   "execution_count": null,
   "id": "c61d687d-49bf-43eb-8414-6824d89b8b86",
   "metadata": {},
   "outputs": [],
   "source": [
    "df"
   ]
  },
  {
   "cell_type": "markdown",
   "id": "25b9ae96-dbfc-4ddf-b1ee-5b346fd66501",
   "metadata": {},
   "source": [
    "# Hent data fra dynarev\n",
    "Det er blitt laget en funksjon som henter ned dataene dine fra dynarev."
   ]
  },
  {
   "cell_type": "code",
   "execution_count": null,
   "id": "4a2f2cd1-e216-4ffa-bcf9-6d78770f4af4",
   "metadata": {},
   "outputs": [],
   "source": [
    "import sys \n",
    "sys.path.append('/ssb/bruker/felles/oracle_to_py')\n",
    "from dynarev_to_py import dynarev_uttrekk"
   ]
  },
  {
   "cell_type": "code",
   "execution_count": null,
   "id": "ca2aa889-bd66-4fa8-b20a-0dc3d11e9ed6",
   "metadata": {},
   "outputs": [],
   "source": [
    "df = dynarev_uttrekk('25240322', 'RA-0297')"
   ]
  },
  {
   "cell_type": "code",
   "execution_count": null,
   "id": "d9b5a1a8-e7a8-4cb7-9a8b-226f10ad43e8",
   "metadata": {},
   "outputs": [],
   "source": [
    "df"
   ]
  },
  {
   "cell_type": "code",
   "execution_count": null,
   "id": "4c47bcfc-0c70-42b0-ae32-53d53523f9ba",
   "metadata": {},
   "outputs": [],
   "source": [
    "df2, df3 = dynarev_uttrekk('25240322', 'RA-0297', False, True)"
   ]
  },
  {
   "cell_type": "code",
   "execution_count": null,
   "id": "ca3d190b-9490-453e-9162-6b6ae4865d7c",
   "metadata": {},
   "outputs": [],
   "source": [
    "df2"
   ]
  }
 ],
 "metadata": {
  "kernelspec": {
   "display_name": "Python 3-- (ipykernel)",
   "language": "python",
   "name": "python3"
  },
  "language_info": {
   "codemirror_mode": {
    "name": "ipython",
    "version": 3
   },
   "file_extension": ".py",
   "mimetype": "text/x-python",
   "name": "python",
   "nbconvert_exporter": "python",
   "pygments_lexer": "ipython3",
   "version": "3.8.8"
  }
 },
 "nbformat": 4,
 "nbformat_minor": 5
}

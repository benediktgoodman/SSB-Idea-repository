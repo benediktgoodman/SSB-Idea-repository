{
 "cells": [
  {
   "cell_type": "markdown",
   "metadata": {},
   "source": [
    "## Demoscript for bruk av oppslagsfunksjon for nærings- og produktkoder"
   ]
  },
  {
   "cell_type": "markdown",
   "metadata": {},
   "source": [
    "Har du noen gang klødd deg i hodet over en eller flere NR-koder du finner i Fame og samtidig irritert deg over hvor lang tid det tar å finne koden i kontoplanen? \n",
    "\n",
    "Da er denne funksjonen for deg. Code_dictionary tar produkt- og næringskoder som input og gir NR-kode, navn og pubagg koder som output. Man kan skrive inn så mange koder man vil, så fremt de enten er næringskoder eller produktkoder, men man må (foreløpig) spesifisere hva slags koder man putter inn via argumentet lookup_table."
   ]
  },
  {
   "cell_type": "code",
   "execution_count": 10,
   "metadata": {},
   "outputs": [],
   "source": [
    "# Import av funksjon\n",
    "from oppslagsfunksjon import code_dictionary"
   ]
  },
  {
   "cell_type": "markdown",
   "metadata": {},
   "source": [
    "### Finn næringskode"
   ]
  },
  {
   "cell_type": "markdown",
   "metadata": {},
   "source": [
    "Koder skrives inn som strings. I python gjør man dette ved å legge til 'hermetegn' rundt det man vil at programmet skal oppfatte som string. Argumentet lookup_table har to gyldige inputs. Disse er 'naering' og 'produkt'. For lookup_table er det viktig å skrive lookup_table='argument', ellers oppfatter ikke funksjonen argumentet som spesifikasjon på hva slags kodetype man skriver inn."
   ]
  },
  {
   "cell_type": "code",
   "execution_count": 11,
   "metadata": {},
   "outputs": [
    {
     "name": "stdout",
     "output_type": "stream",
     "text": [
      "    NAERING                                        NAERING_LANG PUBAGG\n",
      "164   61D40  Andre varer og tjenester tilknyttet bolig(VAR mv.)    61D\n"
     ]
    }
   ],
   "source": [
    "# Finn næringskode\n",
    "code_dictionary('61D40', lookup_table='naering')"
   ]
  },
  {
   "cell_type": "markdown",
   "metadata": {},
   "source": [
    "### Finn produktkode"
   ]
  },
  {
   "cell_type": "code",
   "execution_count": 12,
   "metadata": {},
   "outputs": [
    {
     "name": "stdout",
     "output_type": "stream",
     "text": [
      "   PRODUKT                               PRODUKT_LANG PUBAGG\n",
      "44  101120  Kjøtt av svin, ferskt , fryst eller kjølt    nyt\n"
     ]
    }
   ],
   "source": [
    "# Finn produktkode\n",
    "code_dictionary('101120', lookup_table='produkt')"
   ]
  },
  {
   "cell_type": "markdown",
   "metadata": {},
   "source": [
    "### Finn flere koder samtidig"
   ]
  },
  {
   "cell_type": "markdown",
   "metadata": {},
   "source": [
    "Det er fullt mulig å lete etter flere koder på en gang. Men disse må være enten produktkoder eller næringskoder. Om dette er skikkelig plagsomt, si ifra til benedikt.goodman@ssb.no så kan den skrives om."
   ]
  },
  {
   "cell_type": "code",
   "execution_count": 15,
   "metadata": {},
   "outputs": [
    {
     "name": "stdout",
     "output_type": "stream",
     "text": [
      "   PRODUKT                                        PRODUKT_LANG PUBAGG\n",
      "0    19138  Investeringsarbeider jordbruk, bygninger og anlegg   prim\n",
      "2    22010                               Rundtømmer av bartrær   prim\n",
      "12   31120          Sild, brisling og lodde, fersk eller kjølt   prim\n"
     ]
    }
   ],
   "source": [
    "# Funksjonen kan håndtere flere inputs\n",
    "code_dictionary('19138', '22010', '31120' ,  lookup_table='produkt')"
   ]
  },
  {
   "cell_type": "markdown",
   "metadata": {},
   "source": [
    "### Feilmeldinger"
   ]
  },
  {
   "cell_type": "markdown",
   "metadata": {},
   "source": [
    "Dersom en kode ikke finnes i nærings- eller produktkorrespondensfilen gir funksjonen en feilmelding,"
   ]
  },
  {
   "cell_type": "code",
   "execution_count": 16,
   "metadata": {},
   "outputs": [
    {
     "name": "stdout",
     "output_type": "stream",
     "text": [
      "Error: One or more input codes not in reference file\n"
     ]
    }
   ],
   "source": [
    "#...men kodene må eksistere i referansefilen\n",
    "code_dictionary('19138', '22010', '31120' ,  lookup_table='naering')"
   ]
  },
  {
   "cell_type": "markdown",
   "metadata": {},
   "source": [
    "Funksjonen gir også feilmelding dersom man skriver argumentene til lookup_table feil"
   ]
  },
  {
   "cell_type": "code",
   "execution_count": 17,
   "metadata": {},
   "outputs": [
    {
     "name": "stdout",
     "output_type": "stream",
     "text": [
      "Error: valid inputs for lookup_table are 'produkt' or 'naering'.\n",
      "Error: Wrong input. Input code must be string. valid inputs for \n",
      "lookup_table are 'naering' and 'produkt'.\n"
     ]
    }
   ],
   "source": [
    "#feil lookuptable\n",
    "code_dictionary('19138', '22010', '31120' ,  lookup_table='naring')"
   ]
  }
 ],
 "metadata": {
  "kernelspec": {
   "display_name": "Python 3.9.12 ('NR')",
   "language": "python",
   "name": "python3"
  },
  "language_info": {
   "codemirror_mode": {
    "name": "ipython",
    "version": 3
   },
   "file_extension": ".py",
   "mimetype": "text/x-python",
   "name": "python",
   "nbconvert_exporter": "python",
   "pygments_lexer": "ipython3",
   "version": "3.9.12"
  },
  "orig_nbformat": 4,
  "vscode": {
   "interpreter": {
    "hash": "013a765ecdf53e060f09f2f39df102aebe615d204c5b6d33fc26e4d8766fec5c"
   }
  }
 },
 "nbformat": 4,
 "nbformat_minor": 2
}

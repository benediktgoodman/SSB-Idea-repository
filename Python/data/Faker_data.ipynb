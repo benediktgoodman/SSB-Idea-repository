{
 "cells": [
  {
   "cell_type": "markdown",
   "id": "d19ed2a9-f3b7-4d75-902a-9e56783da2b5",
   "metadata": {},
   "source": [
    "### Fake data\n",
    "https://faker.readthedocs.io/en/master/locales/no_NO.html"
   ]
  },
  {
   "cell_type": "code",
   "execution_count": null,
   "id": "90af63dc-981f-452b-882d-3ea0e4022baa",
   "metadata": {},
   "outputs": [],
   "source": [
    "import pandas as pd"
   ]
  },
  {
   "cell_type": "code",
   "execution_count": null,
   "id": "8f67641f-60be-4282-9595-291a03567704",
   "metadata": {},
   "outputs": [],
   "source": [
    "# Faker lokalisert til Norge\n",
    "from faker import Faker\n",
    "fake = Faker('no_NO')\n",
    "fake.name()"
   ]
  },
  {
   "cell_type": "code",
   "execution_count": null,
   "id": "bf0d2ccb-cbf7-4637-b545-f01ca5649a1f",
   "metadata": {},
   "outputs": [],
   "source": [
    "# Funksjon for X antall rader\n",
    "def create_rows_faker(num=1):\n",
    "    output = [{     \"fnr\":fake.ssn(),\n",
    "                    \"adresse\":fake.address(),\n",
    "                    \"navn\":fake.name(),\n",
    "                    \"email\":fake.email(),\n",
    "                    \"tlf\":fake.phone_number(), \n",
    "                    \"dato\":fake.date_time(),\n",
    "                    \"org_navn\":fake.company()\n",
    "              } for x in range(num)]\n",
    "    return output"
   ]
  },
  {
   "cell_type": "code",
   "execution_count": null,
   "id": "68967297-bcc3-4d8f-b2f5-345b3fda5c93",
   "metadata": {},
   "outputs": [],
   "source": [
    "# 100 rader med norsk, fake data\n",
    "df_faker = pd.DataFrame(create_rows_faker(100))\n",
    "df_faker"
   ]
  }
 ],
 "metadata": {
  "language_info": {
   "codemirror_mode": {
    "name": "ipython"
   },
   "file_extension": ".py",
   "mimetype": "text/x-python",
   "name": "python",
   "nbconvert_exporter": "python"
  }
 },
 "nbformat": 4,
 "nbformat_minor": 5
}

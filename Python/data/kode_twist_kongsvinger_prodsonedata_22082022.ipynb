{
 "cells": [
  {
   "cell_type": "code",
   "execution_count": null,
   "id": "6a0d3a20-b53d-4ff1-adf1-eb7496788b14",
   "metadata": {},
   "outputs": [],
   "source": [
    "import pandas as pd\n",
    "import os\n",
    "from glob import glob"
   ]
  },
  {
   "cell_type": "markdown",
   "id": "c047ad7c-60c7-469b-ac15-0033b630ebd8",
   "metadata": {},
   "source": [
    "# Finne data på lagring"
   ]
  },
  {
   "cell_type": "markdown",
   "id": "7798181e-9c9c-4b59-bd8e-8f1dbce09a1e",
   "metadata": {},
   "source": [
    "### Linuxstammene"
   ]
  },
  {
   "cell_type": "code",
   "execution_count": null,
   "id": "59cf795e-10d6-4406-954e-8d64588c5897",
   "metadata": {},
   "outputs": [],
   "source": [
    "# \"Linux-forkortelser\" ligger i environment-variablene\n",
    "FELLES = os.environ['FELLES']\n",
    "FELLES"
   ]
  },
  {
   "cell_type": "code",
   "execution_count": null,
   "id": "f8c492b9-b5fc-4d25-bc4c-271bbcd985a0",
   "metadata": {},
   "outputs": [],
   "source": [
    "# glob er fin\n",
    "sorted(glob(FELLES + \"/*\"))[:5]"
   ]
  },
  {
   "cell_type": "code",
   "execution_count": null,
   "id": "f8a8fc1f-916b-4f53-b56c-f31649f6a938",
   "metadata": {},
   "outputs": [],
   "source": [
    "[x for x in sorted(glob(FELLES + \"/*\")) if 'AKU' in x]"
   ]
  },
  {
   "cell_type": "code",
   "execution_count": null,
   "id": "4593d89d-031a-4c3f-94c4-445fb2671269",
   "metadata": {},
   "outputs": [],
   "source": [
    "# evt. listdir\n",
    "mock_data = FELLES + '/kurs_python_nybegynner/data/mock_sysselsatte'\n",
    "os.listdir(mock_data)[:5]"
   ]
  },
  {
   "cell_type": "code",
   "execution_count": null,
   "id": "ecb330f6-a4c3-4c0a-887d-ee6372e7028b",
   "metadata": {},
   "outputs": [],
   "source": [
    "comp = pd.read_csv(mock_data + \"/companies_2019_10000.csv\")\n",
    "comp"
   ]
  },
  {
   "cell_type": "markdown",
   "id": "fe433903-b457-46bc-8cf1-d747d2eab5de",
   "metadata": {},
   "source": [
    "### X-disk\n",
    "Hakket mer komplisert enn henting fra linux-stammene.\\\n",
    "Krever også tilganger"
   ]
  },
  {
   "cell_type": "code",
   "execution_count": null,
   "id": "500e97b7-4230-4055-bd38-29e635bd1472",
   "metadata": {},
   "outputs": [],
   "source": [
    "# Denne tar seg av evt. innlogging om det trengs\n",
    "from xdisk import xdisk\n",
    "xdisk_path = xdisk()\n",
    "xdisk_path"
   ]
  },
  {
   "cell_type": "code",
   "execution_count": null,
   "id": "34909c17-3788-449e-ab9f-56f8d5a75467",
   "metadata": {},
   "outputs": [],
   "source": [
    "mock_data_xdisk = sorted(glob(xdisk_path + \"/A300/360/Brukere/cfc/mock_data/*\"))\n",
    "pops_paths = [x for x in mock_data_xdisk if 'population' in x]\n",
    "pops_paths"
   ]
  },
  {
   "cell_type": "code",
   "execution_count": null,
   "id": "a4854f9d-a84f-4fc4-b200-c6adae5749f2",
   "metadata": {},
   "outputs": [],
   "source": [
    "pop = pd.read_csv(pops_paths[-1])\n",
    "pop"
   ]
  },
  {
   "cell_type": "markdown",
   "id": "563937ee-6897-4ca3-9f66-d0be70ec0f68",
   "metadata": {},
   "source": [
    "### Oracle\n",
    "Krever eget database-passord og **bruker med tilgang** til Oracle-databasen DB1P og tabellene de spørres etter.\\\n",
    "Spørringen under fungerer dermed mest sannsynlig ikke for deg, uten alterasjon til de tabellene du har rettigheter til.\\\n",
    "Funksjonen er satt opp til å spørre om passord hver gang. Om du ikke har lagt det inn i en .env eller environment-variablene til miljøet som \"DB1P_PASSWORD\" \\\n",
    "Om du legger det i en .env, så settes det noen krav til hvordan passordet kan lagres, det må ikke følge med kodebasen til github feks."
   ]
  },
  {
   "cell_type": "code",
   "execution_count": null,
   "id": "566716a3-0b5d-45f7-8e25-6d538528430a",
   "metadata": {},
   "outputs": [],
   "source": [
    "from db1p import query_db1p"
   ]
  },
  {
   "cell_type": "code",
   "execution_count": null,
   "id": "a7c30c1b-07ac-4e38-96e3-4bc5704e0870",
   "metadata": {},
   "outputs": [],
   "source": [
    "sporring = \"\"\"\n",
    "    SELECT TAB.KOMM_16, TAB.FODT_AAR\n",
    "    FROM nudb_adm.TAB_UTD_PERSON TAB\n",
    "    FETCH FIRST 20 ROWS ONLY\n",
    "\"\"\""
   ]
  },
  {
   "cell_type": "code",
   "execution_count": null,
   "id": "4191da19-c4dd-4a83-80f0-7e65a46c449a",
   "metadata": {},
   "outputs": [],
   "source": [
    "komm_fodt = query_db1p(sporring)\n",
    "komm_fodt"
   ]
  },
  {
   "cell_type": "markdown",
   "id": "1e1c0ab5-501f-4a26-8679-019ff570faea",
   "metadata": {},
   "source": [
    "# Flate filtyper - pandas.read_xxx()"
   ]
  },
  {
   "cell_type": "markdown",
   "id": "50df1702-f4ed-4607-897a-47085783f5e6",
   "metadata": {},
   "source": [
    "### Parquet\n",
    "Filformatet som bruke på Dapla, inneholder innebygd datatype-info, kan importeres kolonnevis"
   ]
  },
  {
   "cell_type": "code",
   "execution_count": null,
   "id": "61bd5ede-da5e-4a5c-a848-1e3b6f848eb2",
   "metadata": {},
   "outputs": [],
   "source": [
    "kirkedata = pd.read_parquet(\"/ssb/bruker/felles/kurs_python_nybegynner/data/kirkedata.parquet.gzip\")\n",
    "kirkedata.info()"
   ]
  },
  {
   "cell_type": "markdown",
   "id": "a01c4772-0c98-4c2d-85ee-e48e5fc3e9cd",
   "metadata": {},
   "source": [
    "### DAT\n",
    "Flate tekstfiler med satte bredder"
   ]
  },
  {
   "cell_type": "code",
   "execution_count": null,
   "id": "fc8b6324-be23-4a5c-adfd-1da5f23e0bee",
   "metadata": {},
   "outputs": [],
   "source": [
    "input_sas = \"\"\"\n",
    " INPUT @01 ident    $CHAR15.\n",
    "       @16 kjonn    $CHAR1.\n",
    "       @17 kommune  $CHAR4.\n",
    "       @21 famtype  $CHAR1.\n",
    "       @22 statsb   $CHAR3.\n",
    "       @25 foppdato YYMMDD8.\n",
    "       @33 antbu17       2.\n",
    "       @35 kapinnt       8.\n",
    "       @43 samlinnt      8.\n",
    "       @51 vekt      NUMX6.2\n",
    "       ;\n",
    "\"\"\""
   ]
  },
  {
   "cell_type": "code",
   "execution_count": null,
   "id": "535dde2e-9ab1-4b13-a2fe-de8d20332269",
   "metadata": {
    "tags": []
   },
   "outputs": [],
   "source": [
    "# Last inn dat\n",
    "headers = ['ident', 'kjonn', 'kommune', 'famtype', 'statsb', 'foppdato', 'antbu17', 'kapinnt', 'samlinnt', 'vekt']\n",
    "prockurs = pd.read_fwf(\"/ssb/bruker/felles/saskurs/procs/data/prockurs.dat\",\n",
    "                        widths = [15,1,4,1,3,8,2,8,8,6],\n",
    "                        names = headers,\n",
    "                        converters={h:str for h in headers}\n",
    "                       )\n",
    "prockurs"
   ]
  },
  {
   "cell_type": "markdown",
   "id": "7d64dc95-8247-4c8f-8595-2d0044565b2d",
   "metadata": {},
   "source": [
    "### Bonus: Parse input-setningen fra SAS for bredder og navn"
   ]
  },
  {
   "cell_type": "code",
   "execution_count": null,
   "id": "bbb36e1f-9662-409c-ad1a-8d9569dde801",
   "metadata": {
    "jupyter": {
     "source_hidden": true
    },
    "tags": []
   },
   "outputs": [],
   "source": [
    "# lengder fra input\n",
    "in_clean = [x.strip() for x in input_sas.replace('\\n','')\\\n",
    "                                .replace(':', '')\\\n",
    "                                .replace('INPUT', '')\\\n",
    "                                .split('@')]\n",
    "in_clean = dict([' '.join(x.split()).split(' ')[1:3] for x in in_clean if x])\n",
    "in_clean = {k: ''.join([c for c in v if c in '1234567890.']) for k,v in in_clean.items()}\n",
    "in_clean = {k: int(v.split('.')[0]) for k,v in in_clean.items()}"
   ]
  },
  {
   "cell_type": "code",
   "execution_count": null,
   "id": "d41159b7-5d3e-4626-a698-31e68ef8ebee",
   "metadata": {
    "jupyter": {
     "source_hidden": true
    },
    "tags": []
   },
   "outputs": [],
   "source": [
    "# Last inn dat\n",
    "prockurs = pd.read_fwf(\"/ssb/bruker/felles/saskurs/procs/data/prockurs.dat\",\n",
    "                        widths = in_clean.values(),\n",
    "                        names = in_clean.keys(),\n",
    "                        converters={h:str for h in in_clean.keys()}\n",
    "                       )"
   ]
  },
  {
   "cell_type": "code",
   "execution_count": null,
   "id": "165881eb-b783-4427-bc24-aeb41d3058e4",
   "metadata": {
    "jupyter": {
     "source_hidden": true
    },
    "tags": []
   },
   "outputs": [],
   "source": [
    "# Sett datatyper\n",
    "prockurs[['kapinnt', 'samlinnt']] = prockurs[['kapinnt', 'samlinnt']].astype('Int64')\n",
    "prockurs['vekt'] = prockurs['vekt'].str.replace(',','.').astype('float')\n",
    "prockurs.info()"
   ]
  },
  {
   "cell_type": "markdown",
   "id": "bf74612b-5b5b-4184-a5de-8a03af116a12",
   "metadata": {},
   "source": [
    "### Excel\n",
    "Vær bevisst på at hvert \"ark\" kanskje må importeres for seg."
   ]
  },
  {
   "cell_type": "code",
   "execution_count": null,
   "id": "d86d96e1-be17-46b4-ba77-7299638fbdb6",
   "metadata": {},
   "outputs": [],
   "source": [
    "medie_tabell = pd.read_excel(f\"{xdisk_path}/A300/360/Brukere/cfc/mediebruk/Tabeller_medie_2020_carl_temp_singles.xlsx\",\n",
    "                            sheet_name = \"Tabell39\" ,\n",
    "                            header = 3)\n",
    "medie_tabell"
   ]
  },
  {
   "cell_type": "markdown",
   "id": "64ae0179-be81-4802-98e1-c360f91bf5a4",
   "metadata": {},
   "source": [
    "##### Bonus: Rydd opp til multicolumn"
   ]
  },
  {
   "cell_type": "code",
   "execution_count": null,
   "id": "76241a6a-0641-4c1a-bf18-787d58f55024",
   "metadata": {
    "jupyter": {
     "source_hidden": true
    },
    "tags": []
   },
   "outputs": [],
   "source": [
    "# Kjønn, alder, utdanning\n",
    "medie_tabell = medie_tabell.dropna(subset=['Mean', 'Mean.1'])\n",
    "medie_tabell"
   ]
  },
  {
   "cell_type": "code",
   "execution_count": null,
   "id": "7ac58784-cff4-490a-8857-89a1cf9e2fb5",
   "metadata": {
    "tags": []
   },
   "outputs": [],
   "source": [
    "medie_tabell = medie_tabell.rename({'Unnamed: 0':'Boklesere'}, axis = 1)\n",
    "medie_tabell = medie_tabell.set_index('Boklesere')"
   ]
  },
  {
   "cell_type": "code",
   "execution_count": null,
   "id": "fe57064b-680f-4d2d-acfb-cbb49c000403",
   "metadata": {
    "tags": []
   },
   "outputs": [],
   "source": [
    "medie_tabell = medie_tabell.astype('Int64')\n",
    "medie_tabell"
   ]
  },
  {
   "cell_type": "code",
   "execution_count": null,
   "id": "58d4842b-bf08-4fee-9f1f-5618d1663178",
   "metadata": {
    "jupyter": {
     "source_hidden": true
    },
    "tags": []
   },
   "outputs": [],
   "source": [
    "lengths = {'Kjønn' : 3, 'Alder' : 6, 'Utdanning' : 5}\n",
    "index1 = [item for sublist in [[k]*v for k,v in lengths.items()] for item in sublist]\n",
    "index12 = list(zip(index1, medie_tabell.index))\n",
    "index = pd.MultiIndex.from_tuples(index12, names = ['Hovedgruppe', 'Undergruppe'])\n",
    "medie_tabell.index = index\n",
    "medie_tabell"
   ]
  },
  {
   "cell_type": "code",
   "execution_count": null,
   "id": "f979c89f-389b-4f66-a6e4-77f3790d1bd7",
   "metadata": {
    "jupyter": {
     "source_hidden": true
    },
    "tags": []
   },
   "outputs": [],
   "source": [
    "medie_tabell.loc['Kjønn']"
   ]
  },
  {
   "cell_type": "code",
   "execution_count": null,
   "id": "3c288796-7b8c-4a11-9310-a447cb2ba361",
   "metadata": {
    "jupyter": {
     "source_hidden": true
    },
    "tags": []
   },
   "outputs": [],
   "source": [
    "medie_tabell.loc['Kjønn','Menn']['N']"
   ]
  },
  {
   "cell_type": "markdown",
   "id": "dbd331d5-dc4d-4e72-9e69-20c8500d3f12",
   "metadata": {},
   "source": [
    "# sas7bdat\n",
    "Anbefalt innlasting er litt kompleks for å gi ekstra hastighet.\\\n",
    "Vi lar her egentlig sas-serverene ta seg av selve fil-lesingen...\\\n",
    "Finne en metode for automatisk innlogging?"
   ]
  },
  {
   "cell_type": "code",
   "execution_count": null,
   "id": "9da1874c-cff5-47c2-8b19-ae122a908dcd",
   "metadata": {},
   "outputs": [],
   "source": [
    "from saspy_session import saspy_df_from_path, set_password"
   ]
  },
  {
   "cell_type": "code",
   "execution_count": null,
   "id": "bc1748e7-f499-49ef-b72f-beb86a82eae8",
   "metadata": {},
   "outputs": [],
   "source": [
    "help(set_password)"
   ]
  },
  {
   "cell_type": "code",
   "execution_count": null,
   "id": "06285c66-1170-45b8-80f0-083773e9b1cd",
   "metadata": {},
   "outputs": [],
   "source": [
    "set_password('{SAS004}B...')"
   ]
  },
  {
   "cell_type": "code",
   "execution_count": null,
   "id": "6caf6d47-16f8-461c-95f3-c54ef40b788a",
   "metadata": {},
   "outputs": [],
   "source": [
    "# Åpne fil til pandas\n",
    "industri2011 = saspy_df_from_path('/ssb/bruker/felles/saskurs/data/industri_2011.sas7bdat')\n",
    "industri2011.info()"
   ]
  },
  {
   "cell_type": "markdown",
   "id": "21f75a04-42ad-4398-9ac4-fe536a44124b",
   "metadata": {},
   "source": [
    "# Data fra APIer"
   ]
  },
  {
   "cell_type": "markdown",
   "id": "3edc71c5-0885-4ffe-ae91-9781ef213437",
   "metadata": {},
   "source": [
    "### Data fra statbanken"
   ]
  },
  {
   "cell_type": "code",
   "execution_count": null,
   "id": "d652b58c-701a-46ea-8528-6347868fc5d4",
   "metadata": {},
   "outputs": [],
   "source": [
    "from statbankpy import apidata"
   ]
  },
  {
   "cell_type": "code",
   "execution_count": null,
   "id": "0c86de29-734f-4c81-9b10-8dee1ad99d18",
   "metadata": {},
   "outputs": [],
   "source": [
    "trosamfunn = apidata('05300', include_id = True)\n",
    "trosamfunn"
   ]
  },
  {
   "cell_type": "markdown",
   "id": "ce2d2233-b0ea-4b81-9cdd-5e04286b8fa1",
   "metadata": {},
   "source": [
    "### Tabell fra KLASS (kommunenummer og navn)"
   ]
  },
  {
   "cell_type": "code",
   "execution_count": null,
   "id": "0d7a421b-f358-4bae-9228-30723bb4dd0f",
   "metadata": {
    "tags": []
   },
   "outputs": [],
   "source": [
    "from klass import klass_df\n",
    "# Alle kommuner som har eksistert mellom 1970 og 2050, hvor vi beholder de sist valide, unike kodene\n",
    "kommuneinndeling = klass_df('https://data.ssb.no/api/klass/v1/classifications/131/codes.json?from=1970-01-01&to=2050-01-01', 'codes')\n",
    "kommuneinndeling = kommuneinndeling.sort_values('validToInRequestedRange', ascending=False).drop_duplicates(subset=['code']).sort_values('code')\n",
    "kommuneinndeling = dict(zip(kommuneinndeling['code'], kommuneinndeling['name']))\n",
    "#kommuneinndeling"
   ]
  },
  {
   "cell_type": "markdown",
   "id": "d698bd42-79f2-42c2-adfe-4a97360511f4",
   "metadata": {},
   "source": [
    "### Bonus: Tilbakefør data via korrespondansetabell fra KLASS"
   ]
  },
  {
   "cell_type": "code",
   "execution_count": null,
   "id": "418de688-6128-4315-9fbf-420eb6706393",
   "metadata": {
    "jupyter": {
     "source_hidden": true
    },
    "tags": []
   },
   "outputs": [],
   "source": [
    "livssyn_query = {\n",
    "  \"query\": [\n",
    "    {\"code\": \"Region\",\n",
    "      \"selection\": {\n",
    "        \"filter\": \"vs:Fylker\",\n",
    "        \"values\": [\"30\",\"01\",\"02\",\"06\",\"03\",\"34\",\"04\",\"05\",\"38\",\"07\",\"08\",\"42\",\"09\",\"10\",\n",
    "                   \"11\",\"46\",\"12\",\"13\",\"14\",\"15\",\"50\",\"16\",\"17\",\"18\",\"54\",\"19\",\"20\",\"21\",\n",
    "                    \"22\",\"23\",\"25\",\"26\",\"88\",\"99\"]\n",
    "      }\n",
    "    },\n",
    "    {\n",
    "      \"code\": \"ReligionLivs\",\n",
    "      \"selection\": {\n",
    "        \"filter\": \"item\",\n",
    "        \"values\": [\n",
    "          \"900\"\n",
    "        ]\n",
    "      }\n",
    "    }\n",
    "  ],\n",
    "  \"response\": {\n",
    "    \"format\": \"json-stat2\"\n",
    "  }\n",
    "}"
   ]
  },
  {
   "cell_type": "code",
   "execution_count": null,
   "id": "9f1fba67-afb7-441c-9d4f-4bbc819ed6e0",
   "metadata": {
    "tags": []
   },
   "outputs": [],
   "source": [
    "livssyn_fylker = apidata('08531', livssyn_query, include_id=True)\n",
    "livssyn_fylker[livssyn_fylker['region'].str.lower().str.contains('trøn')]"
   ]
  },
  {
   "cell_type": "code",
   "execution_count": null,
   "id": "38af381b-c23a-4912-ae1d-cb989d35967b",
   "metadata": {
    "jupyter": {
     "source_hidden": true
    },
    "tags": []
   },
   "outputs": [],
   "source": [
    "fylkeskorrespondanse_2019 = klass_df(\"https://data.ssb.no/api/klass/v1/correspondencetables/452\", 'correspondenceMaps')\n",
    "fylkeskorrespondanse_2018 = klass_df(\"https://data.ssb.no/api/klass/v1/correspondencetables/588\", 'correspondenceMaps')\n",
    "fylkeskorrespondanse = pd.concat([fylkeskorrespondanse_2019, fylkeskorrespondanse_2018])\n",
    "fylkeskorrespondanse"
   ]
  },
  {
   "cell_type": "code",
   "execution_count": null,
   "id": "12eaa9e3-8faa-486c-a293-bc27240eed07",
   "metadata": {
    "jupyter": {
     "source_hidden": true
    },
    "tags": []
   },
   "outputs": [],
   "source": [
    "from klass import korrespondanse_summer\n",
    "# Check mutability?\n",
    "livssyn_fylker_kombinert = korrespondanse_summer(livssyn_fylker, fylkeskorrespondanse, 'Region', ['value'])"
   ]
  },
  {
   "cell_type": "code",
   "execution_count": null,
   "id": "13a2c3f0-b751-4935-84f6-483030b678fd",
   "metadata": {
    "jupyter": {
     "source_hidden": true
    },
    "tags": []
   },
   "outputs": [],
   "source": [
    "# Slett de fra datasettet, som ligger i korrespondansen\n",
    "livssyn_fylker_kombinert = livssyn_fylker_kombinert[livssyn_fylker_kombinert['Region'].isin(fylkeskorrespondanse['sourceCode'])]"
   ]
  },
  {
   "cell_type": "code",
   "execution_count": null,
   "id": "6647da7c-df56-4f43-bbfe-6093b9dd185a",
   "metadata": {
    "jupyter": {
     "source_hidden": true
    },
    "tags": []
   },
   "outputs": [],
   "source": [
    "# Skal ha endret seg til å ha verdier i trøndelag før sammenslåingen, og Sør-Trøndelag og Nord-Trøndelag skal være borte\n",
    "livssyn_fylker_kombinert[livssyn_fylker_kombinert['region'].str.lower().str.contains('trøn')]"
   ]
  },
  {
   "cell_type": "markdown",
   "id": "2a129233-83ea-4830-b147-a21996f557e6",
   "metadata": {},
   "source": [
    "# Bonus: enkel linjegraf med plotly"
   ]
  },
  {
   "cell_type": "code",
   "execution_count": null,
   "id": "5d6a3f6d-64b4-4c12-8eea-00f202709aba",
   "metadata": {
    "jupyter": {
     "source_hidden": true
    },
    "tags": []
   },
   "outputs": [],
   "source": [
    "import plotly.express as px"
   ]
  },
  {
   "cell_type": "code",
   "execution_count": null,
   "id": "7dfd4b34-244b-4d46-8eec-d72a3ee10c4e",
   "metadata": {
    "tags": []
   },
   "outputs": [],
   "source": [
    "fig = px.line(livssyn_fylker_kombinert, x=\"år\", y=\"value\", color='region', \n",
    "              title=f'Antall medlemmer i Livssyn etter fylke. {min(livssyn_fylker_kombinert[\"år\"])}-{max(livssyn_fylker_kombinert[\"år\"])}')\n",
    "fig.show()"
   ]
  },
  {
   "cell_type": "code",
   "execution_count": null,
   "id": "d7c4a84f-fa92-4dc3-9c99-347f6bf40600",
   "metadata": {},
   "outputs": [],
   "source": []
  }
 ],
 "metadata": {
  "kernelspec": {
   "display_name": "Python 3",
   "language": "python",
   "name": "python3-new"
  },
  "language_info": {
   "codemirror_mode": {
    "name": "ipython",
    "version": 3
   },
   "file_extension": ".py",
   "mimetype": "text/x-python",
   "name": "python",
   "nbconvert_exporter": "python",
   "pygments_lexer": "ipython3",
   "version": "3.8.8"
  }
 },
 "nbformat": 4,
 "nbformat_minor": 5
}

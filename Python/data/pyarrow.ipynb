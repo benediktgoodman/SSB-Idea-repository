{
 "cells": [
  {
   "cell_type": "code",
   "execution_count": null,
   "id": "d992ad71-74ae-4949-8a31-5dd684056ac9",
   "metadata": {},
   "outputs": [],
   "source": [
    "import pyarrow as pa"
   ]
  },
  {
   "cell_type": "code",
   "execution_count": null,
   "id": "dac879b2-9d9c-4209-bb18-97a2341789e9",
   "metadata": {},
   "outputs": [],
   "source": [
    "table1 = pa.Table.from_pydict({'id' : [1,2,3],\n",
    "                 'year' : [2020,2022,2019]})\n",
    "table2 = pa.Table.from_pydict({'id': [2,3],\n",
    "                   'n_legs':[5,100]})"
   ]
  },
  {
   "cell_type": "code",
   "execution_count": null,
   "id": "5ec5fdbf-a519-453a-8982-628d721efffe",
   "metadata": {},
   "outputs": [],
   "source": [
    "result = table1.join(table2, keys='id')\n",
    "result"
   ]
  },
  {
   "cell_type": "code",
   "execution_count": null,
   "id": "84a513bd-aa15-4383-9a20-8166222e72b0",
   "metadata": {},
   "outputs": [],
   "source": [
    "table1"
   ]
  },
  {
   "cell_type": "code",
   "execution_count": null,
   "id": "27fb6861-021f-40e0-95e4-1c73596b552d",
   "metadata": {},
   "outputs": [],
   "source": [
    "!pip freeze | grep pyarrow"
   ]
  },
  {
   "cell_type": "code",
   "execution_count": null,
   "id": "269b2a2d-f583-4a8c-846c-41144baab6c2",
   "metadata": {},
   "outputs": [],
   "source": []
  }
 ],
 "metadata": {
  "kernelspec": {
   "display_name": "Python 3",
   "language": "python",
   "name": "python3-new"
  },
  "language_info": {
   "codemirror_mode": {
    "name": "ipython",
    "version": 3
   },
   "file_extension": ".py",
   "mimetype": "text/x-python",
   "name": "python",
   "nbconvert_exporter": "python",
   "pygments_lexer": "ipython3",
   "version": "3.8.8"
  }
 },
 "nbformat": 4,
 "nbformat_minor": 5
}

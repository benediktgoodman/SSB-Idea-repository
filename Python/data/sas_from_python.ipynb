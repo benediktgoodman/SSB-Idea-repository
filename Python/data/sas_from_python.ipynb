{
 "cells": [
  {
   "cell_type": "markdown",
   "id": "f113a4db-e389-4417-abbf-6e5919a2a9b1",
   "metadata": {},
   "source": [
    "# Kjøre Sas fra Python\n",
    "Med Sas sit bibliotek saspy kan vi kjøre Sas fra Python. Vi kan også konvertere fra Sas-datasett til Pandas dataframe og omvendt"
   ]
  },
  {
   "cell_type": "code",
   "execution_count": null,
   "id": "0d84b926-0bb8-478c-96c3-020fedd1ae2b",
   "metadata": {},
   "outputs": [],
   "source": [
    "import saspy\n",
    "import os"
   ]
  },
  {
   "cell_type": "markdown",
   "id": "c9b1bd05-fa46-4830-ace3-9c013ae6f640",
   "metadata": {},
   "source": [
    "Sjekker hvilken mappe vi jobber i "
   ]
  },
  {
   "cell_type": "code",
   "execution_count": null,
   "id": "2fc2d150-2688-482c-8b77-980a90da2420",
   "metadata": {},
   "outputs": [],
   "source": [
    "os.getcwd()"
   ]
  },
  {
   "cell_type": "code",
   "execution_count": null,
   "id": "bf4d0ff1-61a0-4554-8ba6-1a80789697e6",
   "metadata": {},
   "outputs": [],
   "source": [
    "os.environ['FELLES']"
   ]
  },
  {
   "cell_type": "markdown",
   "id": "7061bcc5-6e41-492e-b70c-22e11976fef3",
   "metadata": {},
   "source": [
    "Sjekker hvor konfigurasjonsfilen til saspy ligger"
   ]
  },
  {
   "cell_type": "code",
   "execution_count": null,
   "id": "06f05ce8",
   "metadata": {},
   "outputs": [],
   "source": [
    "#sys.executable\n",
    "saspy.SAScfg"
   ]
  },
  {
   "cell_type": "markdown",
   "id": "4e0d5301-b187-436a-8da2-dd1036c6e350",
   "metadata": {},
   "source": [
    "## Starte en Sas-sesjon fra Python\n",
    "Felles konfigurasjonsfil brukes. Se mer info her: https://wiki.ssb.no/pages/viewpage.action?pageId=187499307 (utenfor prod-sonen)."
   ]
  },
  {
   "cell_type": "code",
   "execution_count": null,
   "id": "0290d080",
   "metadata": {},
   "outputs": [],
   "source": [
    "felles = os.environ['FELLES']\n",
    "#felles = '/ssb/bruker/felles'\n",
    "# Gyldige verdier for cfgtype er ssh (denne spør ikke om passord, men virker ikke uten en engangssak) og iomlinux (denne spør om bruker og passord) \n",
    "# Ved ssh kan host-parameter brukes. Ved iomlinux kan iomhost-paremeter brukes. Hvis iomhost ikke brukes tildeles en tilfeldig server(!)\n",
    "cfgtype= 'iomlinux'\n",
    "SasServer = 'sl-sas-work-3'\n",
    "#sas = saspy.SASsession(cfgname=cfgtype,cfgfile=f'{felles}/sascfg.py', encoding='latin1', host=SasServer)\n",
    "sas = saspy.SASsession(cfgname=cfgtype,cfgfile=f'{felles}/sascfg.py', encoding='latin1')"
   ]
  },
  {
   "cell_type": "markdown",
   "id": "dd52a424-1f03-4f64-84a5-b9020f52d48b",
   "metadata": {},
   "source": [
    "### Sjekke hvilken server vi er på"
   ]
  },
  {
   "cell_type": "code",
   "execution_count": null,
   "id": "ed4aa8d9-3873-40f0-88ce-7ab809f89f16",
   "metadata": {},
   "outputs": [],
   "source": [
    "result = sas.submit(\n",
    "\"\"\"\n",
    "%put &=SYSTCPIPHOSTNAME;\n",
    "\"\"\")\n",
    "print(result['LOG'])"
   ]
  },
  {
   "cell_type": "markdown",
   "id": "519827ed-c977-4c86-9873-4e60101b23bf",
   "metadata": {},
   "source": [
    "## Bruke Python-kode på Sas-datasett\n",
    "Her definerer vi først datasettet som et eget objekt i Python. Deretter kan vi bruke Python-kode på det, her illustrert med head()"
   ]
  },
  {
   "cell_type": "code",
   "execution_count": null,
   "id": "686bde4e",
   "metadata": {},
   "outputs": [],
   "source": [
    "demographics = sas.sasdata('demographics',libref='sashelp')\n",
    "demographics.head()"
   ]
  },
  {
   "cell_type": "markdown",
   "id": "ed78109c-9eae-48e9-9de4-21168975712c",
   "metadata": {},
   "source": [
    "For å jobbe med Sas-datasett som ikke er kjent for Sas må vi definere libname til mappen der Sas-datasettene ligger. Vi gjør det med sas.saslib. Her ser vi at vi kan bruke miljøvariable direkte. Dette er fordi det er startet en Sas-sesjon på Sas-serveren som er valgt og i Sas kan vi bruke miljøvariablene som $FELLES etc. Det kan vi ikke gjøre i vanlig Python.\n",
    "\n",
    "Lager en libref til mappen med Sas-datasett. Libref blir datalib som angitt i parentes. Navnet libref er bare dere objektet som inneholder libref'en blir lagret."
   ]
  },
  {
   "cell_type": "code",
   "execution_count": null,
   "id": "13839db9-d49d-4f86-af2c-c838a1721f5e",
   "metadata": {},
   "outputs": [],
   "source": [
    "libref = sas.saslib('datalib',path='$FELLES/saskurs/data')"
   ]
  },
  {
   "cell_type": "markdown",
   "id": "a5287c53-40e0-4e19-ace8-ed58b1ace9eb",
   "metadata": {},
   "source": [
    "Utdraget fra Sas blir her et Sas-objekt og ikke en Pandas dataframe. Se neste eksempel for å konvertere til en Pandas dataframe."
   ]
  },
  {
   "cell_type": "code",
   "execution_count": null,
   "id": "f1ae90ff",
   "metadata": {},
   "outputs": [],
   "source": [
    "industri_2011 = sas.sasdata('industri_2011','datalib')\n",
    "industri_2011.head()"
   ]
  },
  {
   "cell_type": "markdown",
   "id": "3c3954d5-c162-4ff8-a470-2569deda54fe",
   "metadata": {},
   "source": [
    "## Konvertere fra Sas-datasett til Pandas dataframe\n",
    "Vi bruker sas.sasdata2dataframe for å gjøre om et Sas-datasett til en Python dataframe"
   ]
  },
  {
   "cell_type": "code",
   "execution_count": null,
   "id": "e3f9641b",
   "metadata": {},
   "outputs": [],
   "source": [
    "industri_2011 = sas.sasdata2dataframe('industri_2011',libref='datalib')\n",
    "industri_2011"
   ]
  },
  {
   "cell_type": "markdown",
   "id": "54f62b8b-8446-4600-8349-edaa8016a022",
   "metadata": {},
   "source": [
    "### Med seleksjoner\n",
    "Kan velge variabler med enten **keep** eller **drop**. Disse angis som Python dictionaries."
   ]
  },
  {
   "cell_type": "code",
   "execution_count": null,
   "id": "f3a4d8e9-fe62-4bbd-8577-ff6ca5215b41",
   "metadata": {},
   "outputs": [],
   "source": [
    "opsjoner = {'keep': 'naring reg_type omsetning'}\n",
    "industri_2011x = sas.sasdata2dataframe('industri_2011',libref='datalib', dsopts=opsjoner)\n",
    "industri_2011x"
   ]
  },
  {
   "cell_type": "markdown",
   "id": "4de616bb-33b4-4a06-8a79-7369dd37d0d5",
   "metadata": {},
   "source": [
    "Kan bruke **where** for å velge ut rader som tilfredstiller betingelser"
   ]
  },
  {
   "cell_type": "code",
   "execution_count": null,
   "id": "64596459-2d14-4d19-9153-4e1076eadcb9",
   "metadata": {},
   "outputs": [],
   "source": [
    "opsjoner = {'where': 'reg_type = \"02\"'}\n",
    "industri_2011_r02 = sas.sasdata2dataframe('industri_2011',libref='datalib', dsopts=opsjoner)\n",
    "industri_2011_r02"
   ]
  },
  {
   "cell_type": "markdown",
   "id": "c182c797-8719-4251-bdb1-1d586a6894f4",
   "metadata": {},
   "source": [
    "Kan kombinere flere opsjoner"
   ]
  },
  {
   "cell_type": "code",
   "execution_count": null,
   "id": "7e5bd77f-f939-4b79-a514-a5d0cc546aa2",
   "metadata": {},
   "outputs": [],
   "source": [
    "opsjoner = {'keep': 'naring reg_type omsetning', 'where': 'reg_type = \"02\"', 'obs': '111'}\n",
    "industri_2011x_r02 = sas.sasdata2dataframe('industri_2011',libref='datalib', dsopts=opsjoner)\n",
    "industri_2011x_r02"
   ]
  },
  {
   "cell_type": "markdown",
   "id": "11132eda-35df-4741-8e5b-8d5257548751",
   "metadata": {},
   "source": [
    "## Konvertere fra en Pandas dataframe til et Sas-datasett\n",
    "For å gå den andre veien, fra Pandas dataframe til Sas-datasett bruker vi sas.dataframe2sasdata"
   ]
  },
  {
   "cell_type": "code",
   "execution_count": null,
   "id": "133aed84",
   "metadata": {},
   "outputs": [],
   "source": [
    "mitt_lib = sas.saslib('mitt_lib',path='$HOME/python/data')\n",
    "sas.dataframe2sasdata(df=industri_2011,table='industri_2011_fra_python',libref='mitt_lib')"
   ]
  },
  {
   "cell_type": "markdown",
   "id": "d6134b3a-39fd-4f4e-9539-663029618d24",
   "metadata": {},
   "source": [
    "## Kjøre et innskutt Sas-program fra Python\n",
    "Programmet skrives mellom trippelfnutter som vist under"
   ]
  },
  {
   "cell_type": "code",
   "execution_count": null,
   "id": "d2dddf6b",
   "metadata": {},
   "outputs": [],
   "source": [
    "result = sas.submitLST(\n",
    "\"\"\"\n",
    "proc print data=mitt_lib.industri_2011_fra_python (obs=11) n;\n",
    " title \"11 første obs fra sasdatasett laget fra python. Kjørt på &SYSTCPIPHOSTNAME\";\n",
    "run;   \n",
    "\"\"\")"
   ]
  },
  {
   "cell_type": "markdown",
   "id": "4cdc17f5-b1b0-4ec4-876b-a10f4a5615ab",
   "metadata": {},
   "source": [
    "## Kjøre et eksternt Sas-program fra Python\n",
    "Vi kan gjøre det med en %include-setning i det programmet vi sender til Sas"
   ]
  },
  {
   "cell_type": "code",
   "execution_count": null,
   "id": "7904eb13",
   "metadata": {},
   "outputs": [],
   "source": [
    "result = sas.submitLST(\"%include '$HOME/python/prog/print.sas';\")"
   ]
  },
  {
   "cell_type": "markdown",
   "id": "2bc6359c-2a07-4b42-aa76-3d145c912878",
   "metadata": {},
   "source": [
    "## Sende en parameter til en makrovariabel i Sas\n",
    "Når vi trenger å sende en eller flere parametere til Sas-programmet vi skal kjøre kan gjøre det ved hjelp av en sas.symput-kommando"
   ]
  },
  {
   "cell_type": "code",
   "execution_count": null,
   "id": "6da64c65",
   "metadata": {},
   "outputs": [],
   "source": [
    "sas.symput('naring','10.110')\n",
    "result = sas.submitLST(\n",
    "\"\"\"\n",
    "proc print data=mitt_lib.industri_2011_fra_python n;\n",
    " where naring = \"&naring\";\n",
    " title \"Næring &naring fra sasdatasett laget fra python\";\n",
    "run;\n",
    "\"\"\")"
   ]
  },
  {
   "cell_type": "markdown",
   "id": "3b1c3be7-682a-4538-88ac-b4c19f795419",
   "metadata": {},
   "source": [
    "## Angi en parameter når programmet kjøres\n",
    "Vi kan be om å få et vindu for å fylle inn en parameter til programmet ved å legge til prompt i kallet til Sas-programmet"
   ]
  },
  {
   "cell_type": "code",
   "execution_count": null,
   "id": "d5ee81ba",
   "metadata": {},
   "outputs": [],
   "source": [
    "result = sas.submitLST(\n",
    "\"%include '$HOME/python/prog/print_m_makrovar.sas';\",\n",
    "prompt = {'naring': False})"
   ]
  },
  {
   "cell_type": "markdown",
   "id": "98491342-df32-4ed6-bdc8-e748b187ef1f",
   "metadata": {},
   "source": [
    "Dette kan også gjøres med et innskutt program"
   ]
  },
  {
   "cell_type": "code",
   "execution_count": null,
   "id": "4ef20a87",
   "metadata": {},
   "outputs": [],
   "source": [
    "result = sas.submitLST(\n",
    "\"\"\"\n",
    "proc print data=mitt_lib.industri_2011_fra_python n;\n",
    " where naring = \"&naring\";\n",
    " title \"Næring &naring fra sasdatasett laget fra python\";\n",
    "run;\n",
    "\"\"\",\n",
    "prompt = {'naring': False})"
   ]
  },
  {
   "cell_type": "code",
   "execution_count": null,
   "id": "67d65d40",
   "metadata": {},
   "outputs": [],
   "source": [
    "result = sas.submitLST(\n",
    "\"%include '$HOME/python/prog/print_m_makrovar.sas';\",\n",
    "prompt = {'naring': False})"
   ]
  },
  {
   "cell_type": "markdown",
   "id": "7e021cd0-c92e-4ac8-9f1f-c07bd1458902",
   "metadata": {},
   "source": [
    "## Hente logg og list\n",
    "Vi kan få logger og utlistinger sendt tilbake fra Sas for utlisting i Python. Vi kaller først opp display og HTML fra IPython"
   ]
  },
  {
   "cell_type": "code",
   "execution_count": null,
   "id": "8c863eab",
   "metadata": {},
   "outputs": [],
   "source": [
    "from IPython.core.display import display, HTML"
   ]
  },
  {
   "cell_type": "markdown",
   "id": "5b18b611-e41a-4c76-bcdc-2de014b9c430",
   "metadata": {},
   "source": [
    "For å skrive ut loggen og list kan vi gjøre som vist under"
   ]
  },
  {
   "cell_type": "code",
   "execution_count": null,
   "id": "c07764c7",
   "metadata": {},
   "outputs": [],
   "source": [
    "result = sas.submit(\n",
    "\"\"\"\n",
    "proc print data=mitt_lib.industri_2011_fra_python n;\n",
    " where naring = \"&naring\";\n",
    " title \"Næring &naring fra sasdatasett laget fra python\";\n",
    "run;\n",
    "\"\"\",\n",
    "prompt = {'naring': False},method='listandlog')\n",
    "print(result['LOG'])\n",
    "display(HTML(result['LST']))"
   ]
  }
 ],
 "metadata": {
  "language_info": {
   "codemirror_mode": {
    "name": "ipython"
   },
   "file_extension": ".py",
   "mimetype": "text/x-python",
   "name": "python",
   "nbconvert_exporter": "python"
  }
 },
 "nbformat": 4,
 "nbformat_minor": 5
}

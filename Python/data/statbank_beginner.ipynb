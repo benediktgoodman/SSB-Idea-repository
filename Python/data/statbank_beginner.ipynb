{
 "cells": [
  {
   "cell_type": "code",
   "execution_count": null,
   "metadata": {},
   "outputs": [],
   "source": [
    "# Pandas er superviktig og det vi bruker stort sett nedover i arket\n",
    "import pandas as pd\n",
    "# Vi trenger dette biblioteket for å håndtere objektet vi får tilbake fra statbanken \n",
    "from pyjstat import pyjstat\n",
    "# Vi bruker requests for å spørre statbanken om svar\n",
    "import requests"
   ]
  },
  {
   "cell_type": "markdown",
   "metadata": {},
   "source": [
    "#### 06326: Medlemmer i trus- og livssynssamfunn som mottek offentleg stønad og er utanfor Den norske kyrkja, etter religion/livssyn\n",
    "https://www.ssb.no/statbank/table/06326/"
   ]
  },
  {
   "cell_type": "code",
   "execution_count": null,
   "metadata": {},
   "outputs": [],
   "source": [
    "# Hent dette fra api-spørringen under den genererte statbanken\n",
    "\n",
    "# Adressen til statbanktabellen\n",
    "URL = 'http://data.ssb.no/api/v0/no/table/06326'\n",
    "# Begrensningene og det vi etterspør på denne tabellen, dette går inn i en \"json-header-payload\"\n",
    "payload = {\n",
    "  \"query\": [\n",
    "    {\n",
    "      \"code\": \"ReligionLivs\",\n",
    "      \"selection\": {\n",
    "        \"filter\": \"item\",\n",
    "        \"values\": [\n",
    "          \"999\",\n",
    "          \"800\",\n",
    "          \"200\",\n",
    "          \"300\",\n",
    "          \"400\",\n",
    "          \"500\",\n",
    "          \"600\",\n",
    "          \"700\",\n",
    "          \"900\",\n",
    "          \"901\"\n",
    "        ]\n",
    "      }\n",
    "    }\n",
    "  ],\n",
    "  \"response\": {\n",
    "    \"format\": \"json-stat2\"\n",
    "  }\n",
    "}"
   ]
  },
  {
   "cell_type": "code",
   "execution_count": null,
   "metadata": {},
   "outputs": [],
   "source": [
    "# Spør APIet om å få resultatet med requests-biblioteket\n",
    "resultat = requests.post(URL, json = payload)"
   ]
  },
  {
   "cell_type": "code",
   "execution_count": null,
   "metadata": {},
   "outputs": [],
   "source": [
    "# Putt teksten i resultatet inn i ett pyjstat-datasett-objekt\n",
    "dataset = pyjstat.Dataset.read(resultat.text)\n",
    "# Skriv pyjstat-objektet ut som en pandas dataframe\n",
    "df = dataset.write('dataframe')\n",
    "# Om du vil ha ID som kolonne-nøkkel isteden\n",
    "#df = dataset.write('dataframe', naming = 'id')\n",
    "# Se på dataframen\n",
    "df"
   ]
  },
  {
   "cell_type": "code",
   "execution_count": null,
   "metadata": {},
   "outputs": [],
   "source": [
    "# Måter å se på datasettet, uncomment de linjene du vil prøve ut\n",
    "\n",
    "# Beskrivende funksjoner\n",
    "#df.info()\n",
    "#df.describe()\n",
    "#df['år'].value_counts()\n",
    "\n",
    "# Kolonnenavn\n",
    "#df.keys()\n",
    "#df.columns\n",
    "\n",
    "# Kolonne datatyper\n",
    "#df.dtypes\n",
    "\n",
    "# Data du kanskje vil bruke i koden din\n",
    "#df.shape[1]\n",
    "#len(df)"
   ]
  },
  {
   "cell_type": "code",
   "execution_count": null,
   "metadata": {},
   "outputs": [],
   "source": [
    "# Konverter år til heltall\n",
    "df['år'] = df['år'].astype(int)\n",
    "df.dtypes"
   ]
  },
  {
   "cell_type": "code",
   "execution_count": null,
   "metadata": {},
   "outputs": [],
   "source": [
    "# Dropp kolonnen som er lik på hver linje\n",
    "df.drop('statistikkvariabel', axis = \"columns\", inplace = True)"
   ]
  },
  {
   "cell_type": "code",
   "execution_count": null,
   "metadata": {},
   "outputs": [],
   "source": [
    "df"
   ]
  },
  {
   "cell_type": "code",
   "execution_count": null,
   "metadata": {},
   "outputs": [],
   "source": [
    "# Kutt ut oppsummeringsvariabelen\n",
    "df = df[~df['religion/livssyn'].isin(['Medlemmer i alt'])]\n"
   ]
  },
  {
   "cell_type": "code",
   "execution_count": null,
   "metadata": {},
   "outputs": [],
   "source": [
    "# Døp om kolonner\n",
    "df.columns = ['religion', 'aar', 'value']\n",
    "df"
   ]
  },
  {
   "cell_type": "code",
   "execution_count": null,
   "metadata": {},
   "outputs": [],
   "source": [
    "# Måter å gjøre utdrag fra datasettet\n",
    "# For at dette skal ha noen konsekvens så må du assigne dem til en variabel.\n",
    "# F.eks. \n",
    "#df_2020 = df[df['år'] == 2020]\n",
    "\n",
    "\n",
    "# Radene hvor året er 2020\n",
    "#df[df['aar'] == 2020]\n",
    "# Totalt antall medlemmer i 2020 utenfor den norske kirke\n",
    "#df[df['aar'] == 2020]['value'].sum()\n",
    "\n",
    "\n",
    "# Radene med Kristendom, men kun returner \"value\"-kolonnen\n",
    "#df[df['religion'] == 'Kristendom']['value']\n",
    "# Sjekk gjennomsnittlig medlemstall i Kristendom 2006-2020\n",
    "#df[df['religion'] == 'Kristendom']['value'].mean()\n",
    "\n",
    "# Rader hvor året er etter 2010 og medlemmer er over 10 000\n",
    "#df.loc[(df['aar'] >= 2010) & (df['value'] >= 10000)]\n",
    "\n",
    "# Tredje raden\n",
    "#df['aar'].iloc[0]\n",
    "# De to siste radene\n",
    "#df.iloc[-5:]\n",
    "# Alle radene baklengs\n",
    "#df.iloc[::-1]"
   ]
  },
  {
   "cell_type": "code",
   "execution_count": null,
   "metadata": {},
   "outputs": [],
   "source": [
    "# Høyeste året i datasettet\n",
    "max_aar = df['aar'].max()\n",
    "max_aar"
   ]
  },
  {
   "cell_type": "code",
   "execution_count": null,
   "metadata": {},
   "outputs": [],
   "source": [
    "# Radene som inneholder det høyeste året i årskolonnen\n",
    "df[df['aar'] == max_aar]"
   ]
  },
  {
   "cell_type": "code",
   "execution_count": null,
   "metadata": {},
   "outputs": [],
   "source": [
    "df_thisyr = df[df['aar'] == max_aar]\n",
    "# Sorter gruppene etter verdien på det siste forekommende året\n",
    "df_thisyr = df_thisyr.sort_values('value', ascending = False)\n",
    "\n",
    "print(f'Størrelser for {max_aar}')\n",
    "df_thisyr"
   ]
  },
  {
   "cell_type": "code",
   "execution_count": null,
   "metadata": {},
   "outputs": [],
   "source": [
    "# Pivot til ett format matplotlib forventer\n",
    "df_piv = df.pivot('aar', 'religion', 'value')\n",
    "df_piv"
   ]
  },
  {
   "cell_type": "code",
   "execution_count": null,
   "metadata": {},
   "outputs": [],
   "source": [
    "# Kolonnene kommer nå alfabetisk etter pivot, så vi sorterer etter motsatt størrelse i 2020\n",
    "df_piv = df_piv[list(df_thisyr['religion'].iloc[::-1])]\n",
    "df_piv"
   ]
  },
  {
   "cell_type": "code",
   "execution_count": null,
   "metadata": {},
   "outputs": [],
   "source": [
    "# Output ett stacked area-plot for å se på størrelsene\n",
    "df_piv.plot.area(figsize = (15,10))"
   ]
  }
 ],
 "metadata": {
  "kernelspec": {
   "display_name": "Python 3",
   "language": "python",
   "name": "python3"
  },
  "language_info": {
   "codemirror_mode": {
    "name": "ipython",
    "version": 3
   },
   "file_extension": ".py",
   "mimetype": "text/x-python",
   "name": "python",
   "nbconvert_exporter": "python",
   "pygments_lexer": "ipython3",
   "version": "3.8.10"
  }
 },
 "nbformat": 4,
 "nbformat_minor": 4
}

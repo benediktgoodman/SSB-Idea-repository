{
 "cells": [
  {
   "cell_type": "markdown",
   "metadata": {},
   "source": [
    "## Mikroeditering (idé)\n",
    "Dette eksemplet illustrerer hvordan vi kan bruke plott til å identifisere, mikroeditere og se hvilken konsekvenser dette har for resultatet (aggregeringer)"
   ]
  },
  {
   "cell_type": "markdown",
   "metadata": {},
   "source": [
    "#### Importere bibliotekene"
   ]
  },
  {
   "cell_type": "code",
   "execution_count": null,
   "metadata": {},
   "outputs": [],
   "source": [
    "import pandas as pd\n",
    "\n",
    "import plotly.graph_objects as go\n",
    "\n",
    "from IPython.core.display import display\n",
    "from ipywidgets import widgets"
   ]
  },
  {
   "cell_type": "markdown",
   "metadata": {},
   "source": [
    "#### Lage testdata\n",
    "Vi lager et datasett som inneholder følgende variabler:\n",
    "- id: en enhetsidentifikator for den enkelte observasjon\n",
    "- gruppe: en grupperingsvariabel som sier noe om størrelsen på verdien\n",
    "- verdi: en verdi vi skal regne på\n",
    "\n",
    "Vi har lagt inn noen feilføringer mellom gruppe og verdi, så spørsmålet er kanskje om det er *verdi* eller *gruppe* som skal rettes \n"
   ]
  },
  {
   "cell_type": "code",
   "execution_count": null,
   "metadata": {},
   "outputs": [],
   "source": [
    "df = pd.DataFrame({\n",
    "    \"id\": [1,2,3,4,5,6,7,8,9,10,11,12,13,14,15,16,17,18],\n",
    "    \"gruppe\": ['stor','liten','middels','middels','liten','stor','middels','middels','liten','stor','liten','middels','middels','liten','stor','middels','middels','liten'],\n",
    "    \"verdi\": [100,2,46,30,4,90,37,1,5,80,100,54,50,8,70,48,39,6]\n",
    "})"
   ]
  },
  {
   "cell_type": "markdown",
   "metadata": {},
   "source": [
    "#### Funksjon som returnerer et datasett med gjennomsnitt \n",
    "fra et datasettet (df) for én verdi (col_value):\n",
    "- pr gruppe (col_group)\n",
    "- det totale gjennomsnittet "
   ]
  },
  {
   "cell_type": "code",
   "execution_count": null,
   "metadata": {},
   "outputs": [],
   "source": [
    "def calc_mean(df, col_group, col_value):\n",
    "    _res_df = df.groupby(col_group).mean()[col_value]\n",
    "\n",
    "    _total_mean = pd.Series({'totalt': df[col_value].mean()})\n",
    "    \n",
    "    _res_df = _res_df.append(_total_mean)\n",
    "\n",
    "    return _res_df"
   ]
  },
  {
   "cell_type": "markdown",
   "metadata": {},
   "source": [
    "#### Funksjon som kalles når brukeren klikker på en observasjon i plottet\n",
    "Funksjonen gjør følgende:\n",
    "- oppdaterer editeringsfeltene med verdier fra valgt observasjon\n",
    "- markerer valgt observasjon rød\n",
    "\n",
    "Funksjonen er avhengig av at følgende objekter er tilgjengelige:\n",
    "- datasettet: df\n",
    "- figurvariabelene: scatter og fig\n",
    "- observasjonsfeltene: id_field, group_field og value_field"
   ]
  },
  {
   "cell_type": "code",
   "execution_count": null,
   "metadata": {},
   "outputs": [],
   "source": [
    "def update_point(trace, points, selector):\n",
    "    i = points.point_inds[0]\n",
    "    obs = df.loc[i,:]\n",
    "    id_field.value =str(obs.id)\n",
    "    group_field.value =str(obs.gruppe)\n",
    "    value_field.value =str(obs.verdi)\n",
    "\n",
    "    scatter.marker.color = colors\n",
    "    scatter.marker.size = [10] * 100\n",
    "    c = list(scatter.marker.color)\n",
    "    s = list(scatter.marker.size)\n",
    "    for i in points.point_inds:\n",
    "        c[i] = 'red'\n",
    "        s[i] = 20\n",
    "        with fig.batch_update():\n",
    "            scatter.marker.color = c\n",
    "            scatter.marker.size = s"
   ]
  },
  {
   "cell_type": "markdown",
   "metadata": {},
   "source": [
    "#### Funksjon blir kalt når brukern trykker på lagre-knappen\n",
    "Det vil si etter at mikroediteringen er gjennomført (lagret)\n",
    "Funksjonen oppdaterer plottet:\n",
    "- endrer fargen på observasjonen til grønn (fra rød)\n",
    "- oppdaterer plottet (flytter observasjonen som er endret)\n",
    "\n",
    "Funksjonen er avhengig av at følgende objekter er tilgjengelige:\n",
    "- datasettet: df\n",
    "- figurvariabelene: scatter og fig"
   ]
  },
  {
   "cell_type": "code",
   "execution_count": null,
   "metadata": {},
   "outputs": [],
   "source": [
    "def update_plot(_id, _gr, _va):\n",
    "    i= df.id[df.id == _id].index.tolist()[0]\n",
    "\n",
    "    scatter.marker.color = colors\n",
    "    scatter.marker.size = [10] * 100\n",
    "    c = list(scatter.marker.color)\n",
    "    s = list(scatter.marker.size)\n",
    "    c[i] = 'green'\n",
    "    s[i] = 20\n",
    "    with fig.batch_update():\n",
    "        scatter.marker.color = c\n",
    "        scatter.marker.size = s\n",
    "        scatter.y = df.verdi\n",
    "        scatter.x = df.gruppe"
   ]
  },
  {
   "cell_type": "markdown",
   "metadata": {},
   "source": [
    "#### Funksjon som kalles når brukern trykker på lagre-knappen\n",
    "Oppdaterer datasettet med endringen og kaller update_plot for å oppdatere plottet."
   ]
  },
  {
   "cell_type": "code",
   "execution_count": null,
   "metadata": {},
   "outputs": [],
   "source": [
    "def on_button_clicked(b):\n",
    "    try:\n",
    "        _id = int(id_field.value)\n",
    "        _gr = group_field.value\n",
    "        _va = int(value_field.value)\n",
    "\n",
    "        df.loc[df.id == _id, ['gruppe','verdi']]= _gr, _va\n",
    "        update_plot(_id, _gr, _va)\n",
    "        update_mean()\n",
    "    except:\n",
    "        print(\"An exception occurred\")"
   ]
  },
  {
   "cell_type": "markdown",
   "metadata": {},
   "source": [
    "#### Funksjon som kalles når brukern trykker på lagre-knappen\n",
    "oppdaterer verdiene for gjennomsnitt\n",
    "\n",
    "Funksjonen er avhengig av at følgende objekter er tilgjengelige:\n",
    "- datasettet: df\n",
    "- gjennomsnittsfeltene: total_mean, liten_mean, middels_mean, stor_mean"
   ]
  },
  {
   "cell_type": "code",
   "execution_count": null,
   "metadata": {},
   "outputs": [],
   "source": [
    "def update_mean(): \n",
    "    _df_mean = calc_mean(df,'gruppe','verdi').round(2)\n",
    "\n",
    "    total_mean.value = str(_df_mean.get('totalt'))\n",
    "    liten_mean.value = str(_df_mean.get('liten'))\n",
    "    middels_mean.value = str(_df_mean.get('middels'))\n",
    "    stor_mean.value = str(_df_mean.get('stor'))"
   ]
  },
  {
   "cell_type": "markdown",
   "metadata": {},
   "source": [
    "#### Oppretter plottet som en figur (plotly.graph_objects)\n",
    "Her definerer vi objekter som skal være tilgjengelig for funksjonene over:\n",
    "- fig\n",
    "- scatter"
   ]
  },
  {
   "cell_type": "code",
   "execution_count": null,
   "metadata": {},
   "outputs": [],
   "source": [
    "fig = go.Figure()\n",
    "fig = go.FigureWidget([go.Scatter(x=df.gruppe, y=df.verdi, mode='markers')])\n",
    "\n",
    "scatter = fig.data[0]\n",
    "colors = ['#a3a7e4'] * 100\n",
    "scatter.marker.color = colors\n",
    "scatter.marker.size = [10] * 100\n",
    "fig.layout.hovermode = 'closest'\n",
    "\n",
    "scatter.on_click(update_point)"
   ]
  },
  {
   "cell_type": "markdown",
   "metadata": {},
   "source": [
    "#### Lager tekstfelter (widgets.Text) for å presentere og endre observasjoner\n",
    "Objekter som skal være tilgjengelig i andre celler:\n",
    "- id_field\n",
    "- group_field\n",
    "- value_field"
   ]
  },
  {
   "cell_type": "code",
   "execution_count": null,
   "metadata": {},
   "outputs": [],
   "source": [
    "id_field = widgets.Text(\n",
    "    value='',\n",
    "    description='Identifikator:',\n",
    "    disabled=True\n",
    ")\n",
    "\n",
    "group_field = widgets.Text(\n",
    "    value='',\n",
    "    description='Gruppe:',\n",
    "    disabled=False\n",
    ")\n",
    "\n",
    "value_field = widgets.Text(\n",
    "    value='',\n",
    "    description='Verdi:',\n",
    "    disabled=False\n",
    ")\n",
    "\n",
    "save_button = widgets.Button(description=\"Save\")\n",
    "save_button.on_click(on_button_clicked)"
   ]
  },
  {
   "cell_type": "markdown",
   "metadata": {},
   "source": [
    "#### Lager tekstfelter for gjennomsnitt"
   ]
  },
  {
   "cell_type": "code",
   "execution_count": null,
   "metadata": {},
   "outputs": [],
   "source": [
    "df_mean = calc_mean(df,'gruppe','verdi').round(2)\n",
    "\n",
    "total_mean = widgets.Text(\n",
    "    value=str(df_mean.get('totalt')),\n",
    "    description='Totalt:',\n",
    "    disabled=True\n",
    ")\n",
    "\n",
    "liten_mean = widgets.Text(\n",
    "    value=str(df_mean.get('liten')),\n",
    "    description='Liten',\n",
    "    disabled=True\n",
    ")\n",
    "\n",
    "middels_mean = widgets.Text(\n",
    "    value=str(df_mean.get('middels')),\n",
    "    description='Middels:',\n",
    "    disabled=True\n",
    ")\n",
    "\n",
    "stor_mean = widgets.Text(\n",
    "    value=str(df_mean.get('stor')),\n",
    "    description='Stor:',\n",
    "    disabled=True\n",
    ")"
   ]
  },
  {
   "cell_type": "markdown",
   "metadata": {},
   "source": [
    "#### Vise figur (plott) og tekstfelter"
   ]
  },
  {
   "cell_type": "code",
   "execution_count": null,
   "metadata": {},
   "outputs": [],
   "source": [
    "display(total_mean,liten_mean, middels_mean, stor_mean, fig, id_field, group_field,value_field, save_button)"
   ]
  },
  {
   "cell_type": "code",
   "execution_count": null,
   "metadata": {},
   "outputs": [],
   "source": []
  }
 ],
 "metadata": {
  "language_info": {
   "codemirror_mode": {
    "name": "ipython"
   },
   "file_extension": ".py",
   "mimetype": "text/x-python",
   "name": "python",
   "nbconvert_exporter": "python"
  }
 },
 "nbformat": 4,
 "nbformat_minor": 4
}

{
 "cells": [
  {
   "cell_type": "markdown",
   "metadata": {},
   "source": [
    "### Erstatt verdier i en kolonne, basert på verdier i en annen kolonne, utfra en manuelt-skrevet liste"
   ]
  },
  {
   "cell_type": "code",
   "execution_count": null,
   "metadata": {},
   "outputs": [],
   "source": [
    "import pandas as pd"
   ]
  },
  {
   "cell_type": "code",
   "execution_count": null,
   "metadata": {},
   "outputs": [],
   "source": [
    "# Lag en \"dummy-dataframe\"\n",
    "df = pd.DataFrame({'skolenummer': {0: 1, 1: '01809', 2: '12805', 3: '01809'}, 'orgnr': {0: 'w', 1: 1, 2: 2, 3: '01809'}})\n",
    "df"
   ]
  },
  {
   "cell_type": "code",
   "execution_count": null,
   "metadata": {},
   "outputs": [],
   "source": [
    "# Finn det til venstre (keys), erstatt med det til høyre (items)\n",
    "# Dette er eksempel på en \"dict\" eller \"dictionary\" i python\n",
    "replacements = {\n",
    "'01809' : '998173108',\n",
    "'12805' : '974117045'\n",
    "}"
   ]
  },
  {
   "cell_type": "code",
   "execution_count": null,
   "metadata": {},
   "outputs": [],
   "source": [
    "# Loop gjennom hvert sett av keys og items i dicten\n",
    "for key, item in replacements.items():\n",
    "    # Erstatt verdier i orgnr med item, der keyen matcher skolenummer\n",
    "    df.loc[df['skolenummer'] == key, 'orgnr'] = item\n",
    "    \n",
    "df"
   ]
  }
 ],
 "metadata": {
  "language_info": {
   "codemirror_mode": {
    "name": "ipython"
   },
   "file_extension": ".py",
   "mimetype": "text/x-python",
   "name": "python",
   "nbconvert_exporter": "python"
  }
 },
 "nbformat": 4,
 "nbformat_minor": 4
}

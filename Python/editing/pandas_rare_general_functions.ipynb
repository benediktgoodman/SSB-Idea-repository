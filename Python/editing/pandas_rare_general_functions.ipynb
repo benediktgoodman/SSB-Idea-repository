{
 "cells": [
  {
   "cell_type": "code",
   "execution_count": null,
   "id": "ba003066",
   "metadata": {},
   "outputs": [],
   "source": [
    "import pandas as pd\n",
    "import dapla as dp\n",
    "dp.show('/felles/veiledning/r/eksempler/ytelser')\n",
    "df = dp.read_pandas('/felles/veiledning/r/eksempler/ytelser')"
   ]
  },
  {
   "cell_type": "code",
   "execution_count": null,
   "id": "3fb4ba79",
   "metadata": {},
   "outputs": [],
   "source": [
    "df"
   ]
  },
  {
   "cell_type": "markdown",
   "id": "28fed03a",
   "metadata": {},
   "source": [
    "### Corr\n",
    "Korrelasjon mellom numeriske variabler"
   ]
  },
  {
   "cell_type": "markdown",
   "id": "5f77a405",
   "metadata": {},
   "source": [
    "### Crosstab\n",
    "https://pandas.pydata.org/pandas-docs/stable/reference/api/pandas.crosstab.html \\\n",
    "Krysstabuler to variabler til en ny 2-dimensjonal tabell"
   ]
  },
  {
   "cell_type": "code",
   "execution_count": null,
   "id": "da353f40",
   "metadata": {},
   "outputs": [],
   "source": []
  },
  {
   "cell_type": "markdown",
   "id": "e29ec620",
   "metadata": {},
   "source": [
    "### Cut\n",
    "https://pandas.pydata.org/pandas-docs/stable/reference/api/pandas.cut.html \\\n",
    "Nyttig om du vil dele opp datasettet i ett gitt antall \"bins\""
   ]
  },
  {
   "cell_type": "code",
   "execution_count": null,
   "id": "71e480b8",
   "metadata": {},
   "outputs": [],
   "source": [
    "# Del opp i høy, middel og lav ytelse, ved 10 og 100 mill\n",
    "df['utbetalt_grad'] = pd.cut(df['utbetalt_mill_kr'], \n",
    "                             # Tar en serie inn, og passer en serie tilbake\n",
    "                             # Vi bruker uendelig minus og pluss, som nedre og øvre \"bound\"\n",
    "                             [-float(\"inf\"), 10, 100, float(\"inf\")], \n",
    "                             # Labels må være i samme rekkefølge som boundene\n",
    "                             labels=[\"lav\", \"medium\", \"høy\"])\n",
    "# Se på hvor mange rader vi får i hver kategori\n",
    "df['utbetalt_grad'].value_counts()"
   ]
  },
  {
   "cell_type": "markdown",
   "id": "9413cf3d",
   "metadata": {},
   "source": [
    "### Describe\n",
    "Analyser numeriske verdier"
   ]
  },
  {
   "cell_type": "markdown",
   "id": "abddf37d",
   "metadata": {},
   "source": [
    "### Eval\n",
    "https://pandas.pydata.org/pandas-docs/stable/reference/api/pandas.eval.html"
   ]
  },
  {
   "cell_type": "markdown",
   "id": "470364e7",
   "metadata": {},
   "source": [
    "### Factorize\n",
    "https://pandas.pydata.org/pandas-docs/stable/reference/api/pandas.factorize.html"
   ]
  },
  {
   "cell_type": "markdown",
   "id": "d45c8ccf",
   "metadata": {},
   "source": [
    "### Get_dummies\n",
    "https://pandas.pydata.org/pandas-docs/stable/reference/api/pandas.get_dummies.html"
   ]
  },
  {
   "cell_type": "markdown",
   "id": "a036d160",
   "metadata": {},
   "source": [
    "### Infer_freq\n",
    "https://pandas.pydata.org/pandas-docs/stable/reference/api/pandas.infer_freq.html"
   ]
  },
  {
   "cell_type": "markdown",
   "id": "e9af8382",
   "metadata": {},
   "source": [
    "### Info\n",
    "https://pandas.pydata.org/pandas-docs/stable/reference/api/pandas.DataFrame.info.html \\\n",
    "Print a concise summary of a DataFrame."
   ]
  },
  {
   "cell_type": "markdown",
   "id": "7169a14c",
   "metadata": {},
   "source": [
    "### Interval_range\n",
    "https://pandas.pydata.org/pandas-docs/stable/reference/api/pandas.interval_range.html"
   ]
  },
  {
   "cell_type": "markdown",
   "id": "39306fbf",
   "metadata": {},
   "source": [
    "### Iterrows"
   ]
  },
  {
   "cell_type": "markdown",
   "id": "6093dc77",
   "metadata": {},
   "source": [
    "### Merge_ordered\n",
    "https://pandas.pydata.org/pandas-docs/stable/reference/api/pandas.merge_ordered.html"
   ]
  },
  {
   "cell_type": "markdown",
   "id": "805ec28c",
   "metadata": {},
   "source": [
    "### Merge_asof\n",
    "https://pandas.pydata.org/pandas-docs/stable/reference/api/pandas.merge_asof.html"
   ]
  },
  {
   "cell_type": "markdown",
   "id": "1a1831eb",
   "metadata": {},
   "source": [
    "### Period_range\n",
    "https://pandas.pydata.org/pandas-docs/stable/reference/api/pandas.period_range.html"
   ]
  },
  {
   "cell_type": "markdown",
   "id": "54e64b7c",
   "metadata": {},
   "source": [
    "### Qcut\n",
    "https://pandas.pydata.org/pandas-docs/stable/reference/api/pandas.qcut.html"
   ]
  },
  {
   "cell_type": "markdown",
   "id": "4d7f6893",
   "metadata": {},
   "source": [
    "### Wide_to_long\n",
    "https://pandas.pydata.org/pandas-docs/stable/reference/api/pandas.wide_to_long.html"
   ]
  },
  {
   "cell_type": "code",
   "execution_count": null,
   "id": "5c08ffc2",
   "metadata": {},
   "outputs": [],
   "source": []
  }
 ],
 "metadata": {
  "language_info": {
   "codemirror_mode": {
    "name": "ipython"
   },
   "file_extension": ".py",
   "mimetype": "text/x-python",
   "name": "python",
   "nbconvert_exporter": "python"
  }
 },
 "nbformat": 4,
 "nbformat_minor": 5
}

{
 "cells": [
  {
   "cell_type": "code",
   "execution_count": null,
   "id": "15fe7cea",
   "metadata": {},
   "outputs": [],
   "source": [
    "import pandas as pd\n",
    "import numpy as np"
   ]
  },
  {
   "cell_type": "markdown",
   "id": "64fb5bf8",
   "metadata": {},
   "source": [
    "np.nan er å foretrekke over pd.NA i mange tilfeller <br />\n",
    "https://stackoverflow.com/questions/60115806/pd-na-vs-np-nan-for-pandas"
   ]
  },
  {
   "cell_type": "code",
   "execution_count": null,
   "id": "32ea08af",
   "metadata": {},
   "outputs": [],
   "source": [
    "# Dummydata\n",
    "df = pd.DataFrame([[4, 'Ja', 6.1, True],\n",
    "                   [-6, 'Nei', -7.5, False],\n",
    "                   [-9, 'Kanskje', -8.9, False],\n",
    "                   [12, 'Ok', np.nan, True]\n",
    "                  ])"
   ]
  },
  {
   "cell_type": "code",
   "execution_count": null,
   "id": "e257b7e9",
   "metadata": {},
   "outputs": [],
   "source": [
    "df"
   ]
  },
  {
   "cell_type": "code",
   "execution_count": null,
   "id": "fb67bad9",
   "metadata": {},
   "outputs": [],
   "source": [
    "# Funksjon for å applikere bakgrunnsfarge på antall celler lik bredden av dataframen\n",
    "def color(self, width, column):\n",
    "    if self.loc[column]:\n",
    "        return ['background-color: darkblue'] * width\n",
    "    else:\n",
    "        return ['background-color: '] * width\n",
    "    \n",
    "\n",
    "# Appliker funksjonen over, ved å sende funksjonnavn, bredden på dataframen, iden til kolonnen, axen den skal opererer over\n",
    "s = df.style.apply(color, width=df.shape[1], column=3, axis=1)\n",
    "# Resultatet er en \"pandas-styler\" type objekt, som kan ses som en \"wrapper\" rundt dataframen\n",
    "type(s)\n",
    "# Den inneholder altså dataframen, pluss info om hvordan denne skal displayes."
   ]
  },
  {
   "cell_type": "code",
   "execution_count": null,
   "id": "4a0b146f",
   "metadata": {},
   "outputs": [],
   "source": [
    "# Display stylerobjektet\n",
    "s"
   ]
  },
  {
   "cell_type": "code",
   "execution_count": null,
   "id": "3e96d6cc",
   "metadata": {},
   "outputs": [],
   "source": [
    "# Ipysheet er ikke designet for å ta imot \"stylerobjekt\", kun data frames\n",
    "#import ipysheet\n",
    "#sheet = ipysheet.from_dataframe(s.data)"
   ]
  },
  {
   "cell_type": "code",
   "execution_count": null,
   "id": "ddf08060",
   "metadata": {},
   "outputs": [],
   "source": [
    "# Om man etter å ha jobbet med ett \"stylerobjekt\", vil ha tilbake dataframen den er wrappet rundt, så kan man hente den fra .data\n",
    "df2 = s.data\n",
    "df2"
   ]
  },
  {
   "cell_type": "code",
   "execution_count": null,
   "id": "f6eccc96",
   "metadata": {},
   "outputs": [],
   "source": [
    "# Bevis at dette nå er en dataframe\n",
    "type(df2)"
   ]
  },
  {
   "cell_type": "code",
   "execution_count": null,
   "id": "2dbbc0ef",
   "metadata": {},
   "outputs": [],
   "source": [
    "# Gradient color, google \"matplotlib colormaps\" for å se gallerier på hva du skal legge i \"cmap\"\n",
    "df2.style.background_gradient(subset = [2], cmap='ocean')\\\n",
    "            .highlight_null('red', subset = [2])"
   ]
  },
  {
   "cell_type": "code",
   "execution_count": null,
   "id": "336f8917",
   "metadata": {},
   "outputs": [],
   "source": [
    "df2.style.bar()"
   ]
  },
  {
   "cell_type": "code",
   "execution_count": null,
   "id": "e0278ba2",
   "metadata": {},
   "outputs": [],
   "source": [
    "# Subset: liste over kolonner vi vil opperere på\n",
    "# Align, hvordan baren skal plasseres i cellen\n",
    "# Color, farge på negativ / positive verdier\n",
    "\n",
    "df2.style.bar(subset = [2], \n",
    "            align = 'mid', \n",
    "            color=['red', 'darkgreen'])"
   ]
  },
  {
   "cell_type": "code",
   "execution_count": null,
   "id": "6f71f500",
   "metadata": {},
   "outputs": [],
   "source": [
    "# Kombiner stylene i korrekt rekkefølge\n",
    "s2 = df2.style\\\n",
    "    .apply(color, \n",
    "            width = df.shape[1], \n",
    "            column=3, \n",
    "            axis=1)\\\n",
    "    .bar(subset = [2], \n",
    "            align = 'mid', \n",
    "            color=['red', 'darkgreen'])\n",
    "s2"
   ]
  },
  {
   "cell_type": "code",
   "execution_count": null,
   "id": "502b1623",
   "metadata": {},
   "outputs": [],
   "source": [
    "s2.to_excel('s2.xlsx')"
   ]
  },
  {
   "cell_type": "code",
   "execution_count": null,
   "id": "6c8de0df",
   "metadata": {},
   "outputs": [],
   "source": []
  }
 ],
 "metadata": {
  "language_info": {
   "codemirror_mode": {
    "name": "ipython"
   },
   "file_extension": ".py",
   "mimetype": "text/x-python",
   "name": "python",
   "nbconvert_exporter": "python"
  }
 },
 "nbformat": 4,
 "nbformat_minor": 5
}

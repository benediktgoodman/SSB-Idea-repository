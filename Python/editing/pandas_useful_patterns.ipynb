{
 "cells": [
  {
   "cell_type": "code",
   "execution_count": null,
   "id": "d24e178b",
   "metadata": {},
   "outputs": [],
   "source": [
    "import dapla as dp\n",
    "import pandas as pd"
   ]
  },
  {
   "cell_type": "code",
   "execution_count": null,
   "id": "f92fc03f",
   "metadata": {},
   "outputs": [],
   "source": [
    "#dp.show('/felles/mock_sysselsatte')"
   ]
  },
  {
   "cell_type": "code",
   "execution_count": null,
   "id": "eef2845d",
   "metadata": {},
   "outputs": [],
   "source": [
    "dp.show_meta('/felles/mock_sysselsatte/companies_2019_30000')"
   ]
  },
  {
   "cell_type": "code",
   "execution_count": null,
   "id": "be5f52fc",
   "metadata": {},
   "outputs": [],
   "source": [
    "comp = dp.read_pandas('/felles/mock_sysselsatte/companies_2019_30000')\n",
    "pop = dp.read_pandas('/felles/mock_sysselsatte/population_2019_30000')"
   ]
  },
  {
   "cell_type": "code",
   "execution_count": null,
   "id": "180db193",
   "metadata": {},
   "outputs": [],
   "source": [
    "%%output\n"
   ]
  },
  {
   "cell_type": "code",
   "execution_count": null,
   "id": "9547c902",
   "metadata": {},
   "outputs": [],
   "source": [
    "pop"
   ]
  },
  {
   "cell_type": "code",
   "execution_count": null,
   "id": "511c13f3",
   "metadata": {},
   "outputs": [],
   "source": [
    "# Aldersfordeling i populasjonen\n",
    "pop['age'].value_counts().sort_index().plot.line()"
   ]
  },
  {
   "cell_type": "code",
   "execution_count": null,
   "id": "aff11981",
   "metadata": {},
   "outputs": [],
   "source": [
    "comp"
   ]
  },
  {
   "cell_type": "code",
   "execution_count": null,
   "id": "6957cf2d",
   "metadata": {},
   "outputs": [],
   "source": [
    "# Kan også hente kolonner med punktnotasjon, men ligner da mer på andre ting...\n",
    "comp.nace\n",
    "# Men det er strengt tatt færre tegn"
   ]
  },
  {
   "cell_type": "markdown",
   "id": "50a07d85",
   "metadata": {},
   "source": [
    "### Sletting"
   ]
  },
  {
   "cell_type": "code",
   "execution_count": null,
   "id": "174f8f8a",
   "metadata": {},
   "outputs": [],
   "source": [
    "# Droppe kolonner\n",
    "comp.drop('employee_points', axis = 1)"
   ]
  },
  {
   "cell_type": "code",
   "execution_count": null,
   "id": "f2b58ef0",
   "metadata": {},
   "outputs": [],
   "source": [
    "#comp"
   ]
  },
  {
   "cell_type": "code",
   "execution_count": null,
   "id": "5d62477f",
   "metadata": {},
   "outputs": [],
   "source": [
    "# Finne duplikater på nace\n",
    "comp[comp.duplicated('nace', keep = False)].sort_values('nace')"
   ]
  },
  {
   "cell_type": "code",
   "execution_count": null,
   "id": "ebffceb9",
   "metadata": {},
   "outputs": [],
   "source": [
    "# Droppe duplikater ved å bruke .drop_duplicates\n",
    "comp.drop_duplicates('nace').sort_values('nace')"
   ]
  },
  {
   "cell_type": "code",
   "execution_count": null,
   "id": "58da1a2a",
   "metadata": {},
   "outputs": [],
   "source": [
    "# Droppe duplikater ved å gruppere, og beholde den første\n",
    "comp.groupby('nace', as_index = False).first()\n",
    "# OBS, du mister indexen på raden!!!"
   ]
  },
  {
   "cell_type": "markdown",
   "id": "31bb2da1",
   "metadata": {},
   "source": [
    "### Ofte kan det være smart å filtrere ned først\n",
    "Men lag en kopi av orginaldatasettet før du gjør permanente endringer"
   ]
  },
  {
   "cell_type": "code",
   "execution_count": null,
   "id": "13b503d7",
   "metadata": {},
   "outputs": [],
   "source": [
    "comp_tmp = comp"
   ]
  },
  {
   "cell_type": "code",
   "execution_count": null,
   "id": "0f3c1a79",
   "metadata": {},
   "outputs": [],
   "source": [
    "comp_tmp"
   ]
  },
  {
   "cell_type": "code",
   "execution_count": null,
   "id": "da026481",
   "metadata": {},
   "outputs": [],
   "source": [
    "# Enkelt filter Oslo\n",
    "comp_tmp_oslo = comp_tmp[comp_tmp['region_code'] == '03']\n",
    "print(len(comp_tmp_oslo))\n",
    "comp_tmp_oslo"
   ]
  },
  {
   "cell_type": "code",
   "execution_count": null,
   "id": "c0fd14bf",
   "metadata": {},
   "outputs": [],
   "source": [
    "# Invert filter\n",
    "comp_tmp_ikkeoslo = comp_tmp[comp_tmp['region_code'] != '03']\n",
    "comp_tmp_ikkeoslo = comp_tmp[~(comp_tmp['region_code'] == '03')]\n",
    "comp_tmp_ikkeoslo"
   ]
  },
  {
   "cell_type": "code",
   "execution_count": null,
   "id": "977586d3",
   "metadata": {},
   "outputs": [],
   "source": [
    "# Enkelt filter Oslo eller Østfold, \"|\" = \"or\"\n",
    "comp_tmp_osloostfold = comp_tmp[(comp_tmp['region_code'] == '03') | (comp_tmp['region_code'] == '01')]\n",
    "comp_tmp_osloostfold"
   ]
  },
  {
   "cell_type": "code",
   "execution_count": null,
   "id": "cebb1cee",
   "metadata": {},
   "outputs": [],
   "source": [
    "# Isin Oslo eller Østfold\n",
    "comp_tmp_osloostfold = comp_tmp[comp_tmp['region_code'].isin(['03', '01'])]\n",
    "comp_tmp_osloostfold"
   ]
  },
  {
   "cell_type": "code",
   "execution_count": null,
   "id": "599e8b78",
   "metadata": {},
   "outputs": [],
   "source": [
    "# unique\n",
    "unike_regionkoder = pd.unique(comp['region_code']).tolist()\n",
    "unike_regionkoder"
   ]
  },
  {
   "cell_type": "code",
   "execution_count": null,
   "id": "f4a581ec",
   "metadata": {},
   "outputs": [],
   "source": [
    "# Skriver sort over listen? ja.\n",
    "unike_regionkoder[:-1].sort()\n",
    "# The sort() method doesn't return any value. Rather, it changes the original list."
   ]
  },
  {
   "cell_type": "code",
   "execution_count": null,
   "id": "8e838f12",
   "metadata": {},
   "outputs": [],
   "source": [
    "unike_regionkoder[:5]"
   ]
  },
  {
   "cell_type": "code",
   "execution_count": null,
   "id": "dec3eaf0",
   "metadata": {},
   "outputs": [],
   "source": [
    "comp[comp['region_code'].isin(unike_regionkoder[:5])]"
   ]
  },
  {
   "cell_type": "markdown",
   "id": "d7cdf9a6",
   "metadata": {},
   "source": [
    "### \"Kobling\" (merge + concat)"
   ]
  },
  {
   "cell_type": "code",
   "execution_count": null,
   "id": "d6705c4b",
   "metadata": {},
   "outputs": [],
   "source": [
    "# Merge (alle varibaler)\n",
    "pop.merge(comp, how = 'left')\n",
    "#pop.merge(comp, how = 'left', left_on = 'work_id', right_on='work_id')"
   ]
  },
  {
   "cell_type": "code",
   "execution_count": null,
   "id": "2d8980f7",
   "metadata": {},
   "outputs": [],
   "source": [
    "pop_2020 = dp.read_pandas('/felles/mock_sysselsatte/population_2020_30000')\n",
    "\n",
    "# Concat, slå sammen lignende ting etter hverandre (ogsp kalt append)\n",
    "fnr_20192020 = pd.concat([pop_2020['id'], pop['id']])\n",
    "fnr_20192020"
   ]
  },
  {
   "cell_type": "code",
   "execution_count": null,
   "id": "1f22eb7e",
   "metadata": {},
   "outputs": [],
   "source": [
    "len(pd.unique(fnr_20192020))"
   ]
  },
  {
   "cell_type": "code",
   "execution_count": null,
   "id": "b4655cff",
   "metadata": {},
   "outputs": [],
   "source": [
    "comp_tmp = comp"
   ]
  },
  {
   "cell_type": "code",
   "execution_count": null,
   "id": "11df8b37",
   "metadata": {},
   "outputs": [],
   "source": [
    "comp_tmp[comp_tmp['nace'] == '01.000u']"
   ]
  },
  {
   "cell_type": "code",
   "execution_count": null,
   "id": "0924aa88",
   "metadata": {},
   "outputs": [],
   "source": [
    "# .loc for å sette verdier i en annen kolonne\n",
    "comp_tmp.loc[comp_tmp['nace'] == '01.000u', 'employee_points'] = '0'\n",
    "# Se på de som evt. ble omkodet\n",
    "comp_tmp[comp_tmp['nace'] == '01.000u']"
   ]
  },
  {
   "cell_type": "code",
   "execution_count": null,
   "id": "0d0bb55f",
   "metadata": {},
   "outputs": [],
   "source": [
    "# loop gjennom pandas-katalog med iterrows()\n",
    "for i, row in comp.iterrows():\n",
    "    wrk_id = row['work_id']\n",
    "    print(wrk_id, row['nace'])\n",
    "    #print(len(pop[pop['work_id'] == wrk_id]))"
   ]
  },
  {
   "cell_type": "code",
   "execution_count": null,
   "id": "84ceaf07",
   "metadata": {},
   "outputs": [],
   "source": [
    "# Random sample av rader, på størrelse 10\n",
    "demo_sample = comp.sample(10)\n",
    "demo_sample"
   ]
  },
  {
   "cell_type": "code",
   "execution_count": null,
   "id": "b53bd2b7",
   "metadata": {},
   "outputs": [],
   "source": [
    "# .iloc vs. .loc\n",
    "\n",
    "# iloc opererer uavhengig av indexen, den plukker bare \"de 4 første\", selv om de radene heter \"2, 5, 6, 8\"\n",
    "demo_sample.iloc[0]"
   ]
  },
  {
   "cell_type": "code",
   "execution_count": null,
   "id": "743d0339",
   "metadata": {},
   "outputs": [],
   "source": [
    "# Mens loc går mer på index-navn, så her må raden hete \"10\", ikke være nummer 10\n",
    "comp.loc[10]"
   ]
  },
  {
   "cell_type": "markdown",
   "id": "2f7dbe54",
   "metadata": {},
   "source": [
    "### Påfør radene originaldatasettet"
   ]
  },
  {
   "cell_type": "code",
   "execution_count": null,
   "id": "02c1481c",
   "metadata": {},
   "outputs": [],
   "source": [
    "# Bevissthet rundt radnummer / index"
   ]
  },
  {
   "cell_type": "code",
   "execution_count": null,
   "id": "d8624b1a",
   "metadata": {},
   "outputs": [],
   "source": [
    "# Doble alle indeksene, så vi ser forskjell på de, og de som kommer fra reset_index lengre ned\n",
    "comp_tmp.index *= 2 "
   ]
  },
  {
   "cell_type": "code",
   "execution_count": null,
   "id": "00a32672",
   "metadata": {},
   "outputs": [],
   "source": [
    "# Ta en kopi av dataframen, for å være sikker på at vi ikke endrer det orginale datasettet \n",
    "comp_tmp2 = comp_tmp.copy()\n",
    "# Egentlig så er pandas kanskje smart nok til å skjønne dette..."
   ]
  },
  {
   "cell_type": "code",
   "execution_count": null,
   "id": "c8c7b331",
   "metadata": {},
   "outputs": [],
   "source": [
    "# .reset_index() er litt skummel\n",
    "comp_tmp2.head(5)"
   ]
  },
  {
   "cell_type": "code",
   "execution_count": null,
   "id": "cac07639",
   "metadata": {},
   "outputs": [],
   "source": [
    "comp_tmp2 = comp_tmp2.reset_index()\n",
    "comp_tmp2.head(5)\n",
    "# yay, dobbel index! Vil vi egentlig ha det?"
   ]
  },
  {
   "cell_type": "code",
   "execution_count": null,
   "id": "3e4e5098",
   "metadata": {},
   "outputs": [],
   "source": [
    "comp_tmp2 = comp_tmp.copy()\n",
    "comp_tmp2 = comp_tmp2.reset_index(drop = True)\n",
    "# Hva skjer om vi dropper på reset_index() ?\n",
    "comp_tmp2"
   ]
  },
  {
   "cell_type": "markdown",
   "id": "75e6dbc1",
   "metadata": {},
   "source": [
    "### Ryddighet"
   ]
  },
  {
   "cell_type": "code",
   "execution_count": null,
   "id": "d51036bb",
   "metadata": {},
   "outputs": [],
   "source": [
    "# del for å være ryddig \n",
    "\n",
    "# Sletter \n",
    "del comp_tmp"
   ]
  },
  {
   "cell_type": "code",
   "execution_count": null,
   "id": "0aec9c06",
   "metadata": {},
   "outputs": [],
   "source": [
    "# valuation og state på dp.write_pandas()\n",
    "\n",
    "dp.write_pandas(comp, '/felles/mock_sysselsatte/companies_2019_30000test', valuation = 'OPEN', state = 'TEMP')\n",
    "\n",
    "# skriv dataframen tilbake til daplalagringen med en del options og path.\n",
    "# Verdivurderingsscorenivå:    .option(\"valuation\", \"XXXX\") = SENSITVE, SHIELDED, INTERNAL eller OPEN\n",
    "# Dataferdigstillingssnivå:    .option(\"state\", \"XXXX\") = RAW, INPUT, PROCESSED, OUTPUT, PRODUCT, TEMP eller OTHER\n",
    "# Se kodekilde: https://github.com/statisticsnorway/dapla-catalog-protobuf/blob/master/src/main/proto/dataset.proto"
   ]
  }
 ],
 "metadata": {
  "language_info": {
   "codemirror_mode": {
    "name": "ipython"
   },
   "file_extension": ".py",
   "mimetype": "text/x-python",
   "name": "python",
   "nbconvert_exporter": "python"
  }
 },
 "nbformat": 4,
 "nbformat_minor": 5
}

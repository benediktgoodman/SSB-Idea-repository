{
 "cells": [
  {
   "cell_type": "code",
   "execution_count": null,
   "id": "cf79140c",
   "metadata": {},
   "outputs": [],
   "source": [
    "import pandas as pd\n",
    "import dapla as dp\n",
    "import qgrid\n",
    "import numpy as np"
   ]
  },
  {
   "cell_type": "markdown",
   "id": "692909c1",
   "metadata": {},
   "source": [
    "## Relativt elegant, men kompleks datainnlast"
   ]
  },
  {
   "cell_type": "code",
   "execution_count": null,
   "id": "cbbf57bd",
   "metadata": {
    "jupyter": {
     "source_hidden": true
    }
   },
   "outputs": [],
   "source": [
    "#dp.show('/felles/mock_sysselsatte')"
   ]
  },
  {
   "cell_type": "code",
   "execution_count": null,
   "id": "c2d3c372",
   "metadata": {},
   "outputs": [],
   "source": [
    "# Man kan skrive inn understreker i tall, for bedre lesbarhet, men de vil senere bli ignorert.\n",
    "pop_size = 10_000\n",
    "# Siste årstall, skal være siste årstall+1\n",
    "aar_serie = (2019, 2024)"
   ]
  },
  {
   "cell_type": "code",
   "execution_count": null,
   "id": "111d584f",
   "metadata": {},
   "outputs": [],
   "source": [
    "# List-comprehensions for å generere alle paths, med tuple unpacking for årstall\n",
    "pop_in_paths = [f'/felles/mock_sysselsatte/population_{i}_{pop_size}' for i in range( *aar_serie )]\n",
    "comp_in_paths = [f'/felles/mock_sysselsatte/companies_{i}_{pop_size}' for i in range( *aar_serie )]"
   ]
  },
  {
   "cell_type": "code",
   "execution_count": null,
   "id": "305e3436",
   "metadata": {},
   "outputs": [],
   "source": [
    "# Dictionary som dataframene skal stappes inn i\n",
    "dfs = {}\n",
    "# Loop gjennom alle pathene vi lagde med comprehensionene\n",
    "for in_path in pop_in_paths + comp_in_paths:\n",
    "    print('Laster inn', in_path)\n",
    "    # Lag keys fra pathene, og les inn dataframes fra daplalagringen på de dem\n",
    "    dfs['_'.join(in_path.split('/')[-1].split('_')[:2])] = dp.read_pandas(in_path)"
   ]
  },
  {
   "cell_type": "code",
   "execution_count": null,
   "id": "a581838d",
   "metadata": {},
   "outputs": [],
   "source": [
    "# Eksempler på henting av data ut fra dictionaryen\n",
    "comp2020 = dfs['companies_2020'].drop('employee_points', axis = 'columns')\n",
    "comp2020.tail(5)"
   ]
  },
  {
   "cell_type": "code",
   "execution_count": null,
   "id": "369a6bb2",
   "metadata": {},
   "outputs": [],
   "source": [
    "pop2020 = dfs['population_2020']\n",
    "pop2020"
   ]
  },
  {
   "cell_type": "markdown",
   "id": "590bc3bd",
   "metadata": {},
   "source": [
    "## Koble (merge) data fra selskaper på personer"
   ]
  },
  {
   "cell_type": "code",
   "execution_count": null,
   "id": "b6b688fa",
   "metadata": {},
   "outputs": [],
   "source": [
    "popcomp2020 = pop2020.merge(comp2020, \n",
    "                            how = 'left', \n",
    "                            on = 'work_id' )\n",
    "popcomp2020"
   ]
  },
  {
   "cell_type": "code",
   "execution_count": null,
   "id": "11f8bdbd",
   "metadata": {},
   "outputs": [],
   "source": [
    "# Personer registrert med arbeidssted\n",
    "popcomp2020[~popcomp2020['work_id'].isnull()].head()"
   ]
  },
  {
   "cell_type": "markdown",
   "id": "a1d50897",
   "metadata": {},
   "source": [
    "## Start Qgrid"
   ]
  },
  {
   "cell_type": "code",
   "execution_count": null,
   "id": "6a88c106",
   "metadata": {},
   "outputs": [],
   "source": [
    "qgrid_widget = qgrid.show_grid(popcomp2020, show_toolbar = True)\n",
    "qgrid_widget"
   ]
  },
  {
   "cell_type": "code",
   "execution_count": null,
   "id": "ae0eed23",
   "metadata": {},
   "outputs": [],
   "source": [
    "df_selection = qgrid_widget.get_changed_df()\n",
    "df_selection"
   ]
  },
  {
   "cell_type": "code",
   "execution_count": null,
   "id": "92227711",
   "metadata": {},
   "outputs": [],
   "source": [
    "# After upgrading to 1.0.3\n",
    "def handle_json_updated(event, qgrid_widget):\n",
    "    # exclude 'viewport_changed' events since that doesn't change the DataFrame\n",
    "    if (event['triggered_by'] != 'viewport_changed'):\n",
    "        print(qgrid_widget.get_changed_df())\n",
    "\n",
    "qgrid_widget.on('json_updated', handle_json_updated)"
   ]
  },
  {
   "cell_type": "code",
   "execution_count": null,
   "id": "aad33587",
   "metadata": {},
   "outputs": [],
   "source": [
    "df_selection = qgrid_widget.get_changed_df()\n",
    "row_ids = df_selection.index.tolist()"
   ]
  },
  {
   "cell_type": "markdown",
   "id": "0cf7702d",
   "metadata": {},
   "source": [
    "### Her bør du logge endringene du gjør ett eller annet sted..."
   ]
  },
  {
   "cell_type": "code",
   "execution_count": null,
   "id": "c562f80a",
   "metadata": {},
   "outputs": [],
   "source": [
    "# Dette er sånt som hadde vært smart å logget, før man påførte det på datasettet\n",
    "diff = popcomp2020.loc[row_ids].compare(df_selection)\n",
    "diff"
   ]
  },
  {
   "cell_type": "code",
   "execution_count": null,
   "id": "39000956",
   "metadata": {},
   "outputs": [],
   "source": [
    "# Navn på datasett endret, brukernavn, tidspunkt, endringskommentar"
   ]
  },
  {
   "cell_type": "markdown",
   "id": "4fc07328",
   "metadata": {},
   "source": [
    "### Du kan overskrive dataene i det originale datasettet, men hva gjør du da for å endre det tilbake?"
   ]
  },
  {
   "cell_type": "code",
   "execution_count": null,
   "id": "794f019f",
   "metadata": {},
   "outputs": [],
   "source": [
    "# Skriv over rader i orginaldataframe med endringene\n",
    "#for i, row in df_selection.iterrows():\n",
    "#    popcomp2020.loc[i] = row"
   ]
  },
  {
   "cell_type": "code",
   "execution_count": null,
   "id": "3cf9fb7c",
   "metadata": {},
   "outputs": [],
   "source": [
    "#popcomp2020.loc[row_ids]"
   ]
  },
  {
   "cell_type": "code",
   "execution_count": null,
   "id": "b970daed",
   "metadata": {},
   "outputs": [],
   "source": []
  }
 ],
 "metadata": {
  "language_info": {
   "codemirror_mode": {
    "name": "ipython"
   },
   "file_extension": ".py",
   "mimetype": "text/x-python",
   "name": "python",
   "nbconvert_exporter": "python"
  }
 },
 "nbformat": 4,
 "nbformat_minor": 5
}

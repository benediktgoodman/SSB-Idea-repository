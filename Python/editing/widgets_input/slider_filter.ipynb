{
 "cells": [
  {
   "cell_type": "markdown",
   "metadata": {},
   "source": [
    "### Demo av å bruke \"sliders\" som filter\n",
    "Kan være nyttig for å interaktivt se på segmenter av ett utvalg.\\\n",
    "Se andre typer widgets i <a href=\"https://ipywidgets.readthedocs.io/en/latest/examples/Widget%20Basics.html\">dokumentasjonen til biblioteket.</a>"
   ]
  },
  {
   "cell_type": "code",
   "execution_count": null,
   "metadata": {},
   "outputs": [],
   "source": [
    "# Denne skal være innstallert fra før, den gjør at vi kan lage interaktive inputs, som \"sliders\"\n",
    "%matplotlib widget\n",
    "import ipywidgets as widgets\n",
    "\n",
    "# Standardimporter\n",
    "import dapla as dp\n",
    "import pandas as pd\n",
    "\n",
    "import matplotlib.pyplot as plt"
   ]
  },
  {
   "cell_type": "code",
   "execution_count": null,
   "metadata": {},
   "outputs": [],
   "source": [
    "diam = dp.read_pandas(\"/felles/kurs/helt_python/diamonds\")\n",
    "\n",
    "# Vi skal filtrere på pris, \n",
    "# og det er nyttig at slideren vår ikke har verdier som er utenfor slideren. \n",
    "# Derfor henter vi min og max verdier live fra datasettet.\n",
    "maks = diam['price'].max()\n",
    "mini = diam['price'].min()"
   ]
  },
  {
   "cell_type": "code",
   "execution_count": null,
   "metadata": {},
   "outputs": [],
   "source": [
    "#print('Filtrer på pris på diamanter')\n",
    "\n",
    "\n",
    "\n",
    "\n",
    "# Vi assigner widgeten til ett objekt \"omraade\", slik at vi senere kan hente ut verdiene fra den.\n",
    "omraade = widgets.IntRangeSlider(\n",
    "    # Disse tallene kan du sette selv, om du vil gjøre det enkelt, så kan du sette disse etter å ha tatt en rask titt på dataframen.\n",
    "    #value=[500, 2500],\n",
    "    # Man kan gjøre det vanskelig og... Ved å regne på forskjellen på maks og mini, og sette de 20% inn på hver ende feks.\n",
    "    value=[(mini+((maks-mini)/5)), (maks-((maks-mini)/5))],\n",
    "    # Her mater vi inn verdiene fra maks og mini over.\n",
    "    min=mini,\n",
    "    max=maks,\n",
    "    step=1,\n",
    "    description='Filter:',\n",
    "    disabled=False,\n",
    "    continuous_update=False,\n",
    "    orientation='horizontal',\n",
    "    readout=True,\n",
    "    readout_format='d',\n",
    ")\n"
   ]
  },
  {
   "cell_type": "code",
   "execution_count": null,
   "metadata": {
    "jupyter": {
     "source_hidden": true
    }
   },
   "outputs": [],
   "source": [
    "# Slik kan vi hente ut verdiene fra widget-objektet\n",
    "#print(omraade.value[0])\n",
    "#print(omraade.value[1])"
   ]
  },
  {
   "cell_type": "code",
   "execution_count": null,
   "metadata": {},
   "outputs": [],
   "source": [
    "\n",
    "\n",
    "def slider_change(change):\n",
    "    # Vi filtrerer på bunn og topp av diam\n",
    "    \n",
    "    diam_filtrert = diam[(\n",
    "        (diam['price']>=change[0])\n",
    "        & (diam['price']<=change[1])\n",
    "    )]\n",
    "\n",
    "    global update\n",
    "    update += 1\n",
    "    print('-'*55)\n",
    "    print(f'Du sitter igjen med {round(100*(len(diam_filtrert) * 100) / len(diam))/100 }% av det originale innholdet. Oppdatert {update} ganger.\\n')\n",
    "    print('-'*55)\n",
    "\n",
    "    # Vis den resulterende dataframen\n",
    "    #diam_filtrert\n",
    "\n",
    "    # Lag en scatter-plot av det resulterende tallmaterialet. Hvor man ser på pris versus karat.\n",
    "    plt.rcParams[\"figure.figsize\"] = (20,12) # Setter størrelse på figuren\n",
    "    plt.scatter(diam_filtrert['price'], diam_filtrert['carat']) # Lage selve plottet\n",
    "    plt.grid() # Legger på grid\n",
    "    plt.xlabel('Pris') # Sett tittel på x-aksen\n",
    "    plt.ylabel('Karat') # sett tittel på y-aksen\n",
    "    plt.show() # Vis plottet"
   ]
  },
  {
   "cell_type": "code",
   "execution_count": null,
   "metadata": {},
   "outputs": [],
   "source": [
    "output = widgets.Output()\n",
    "with output:\n",
    "    fig, ax = plt.subplots(constrained_layout=True, figsize=(6, 4))\n",
    "    \n",
    "# move the toolbar to the bottom\n",
    "fig.canvas.toolbar_position = 'bottom'\n",
    "ax.grid(True)    \n",
    "\n",
    "\n",
    "\n",
    "#output\n",
    "\n",
    "omraade.observe(slider_change, 'value')"
   ]
  },
  {
   "cell_type": "code",
   "execution_count": null,
   "metadata": {},
   "outputs": [],
   "source": [
    "#display(omraade)\n",
    "#slider_change(omraade.value)\n",
    "#omraade.observe(slider_change, 'value')\n",
    "#interact(slider_change, omraade)\n",
    "\n",
    "#widgets.interactive_output(slider_change, omraade.value)\n",
    "#display(omraade, out)\n",
    "#display.display(omraade)\n",
    "update = 0\n",
    "controls = widgets.VBox([omraade])\n",
    "widgets.HBox([controls, output])"
   ]
  },
  {
   "cell_type": "code",
   "execution_count": null,
   "metadata": {},
   "outputs": [],
   "source": []
  },
  {
   "cell_type": "code",
   "execution_count": null,
   "metadata": {},
   "outputs": [],
   "source": []
  },
  {
   "cell_type": "code",
   "execution_count": null,
   "metadata": {},
   "outputs": [],
   "source": []
  }
 ],
 "metadata": {
  "language_info": {
   "codemirror_mode": {
    "name": "ipython"
   },
   "file_extension": ".py",
   "mimetype": "text/x-python",
   "name": "python",
   "nbconvert_exporter": "python"
  }
 },
 "nbformat": 4,
 "nbformat_minor": 4
}

{
 "cells": [
  {
   "cell_type": "markdown",
   "metadata": {},
   "source": [
    "### Demo av å bruke \"textfield\" som filter\n",
    "Kan være nyttig for å interaktivt se på segmenter av ett utvalg.\\\n",
    "Se andre typer widgets i <a href=\"https://ipywidgets.readthedocs.io/en/latest/examples/Widget%20Basics.html\">dokumentasjonen til biblioteket.</a>"
   ]
  },
  {
   "cell_type": "code",
   "execution_count": null,
   "metadata": {},
   "outputs": [],
   "source": [
    "# Denne skal være innstallert fra før, den gjør at vi kan lage interaktive inputs, som \"sliders\"\n",
    "import ipywidgets as widgets\n",
    "\n",
    "# Standardimporter\n",
    "import dapla as dp\n",
    "import pandas as pd\n",
    "\n",
    "import matplotlib.pyplot as plt"
   ]
  },
  {
   "cell_type": "code",
   "execution_count": null,
   "metadata": {},
   "outputs": [],
   "source": [
    "diam = dp.read_pandas(\"/felles/kurs/helt_python/diamonds\")\n",
    "\n",
    "# Rask oversikt\n",
    "print(diam['color'].value_counts())\n",
    "\n",
    "# Lag litt plass i outputen\n",
    "print('\\n' + '-'*55 + '\\n')\n",
    "\n",
    "# Finn de unike fargekodene i dataframen\n",
    "unik_farg = pd.unique(diam['color'])\n",
    "print(unik_farg)\n"
   ]
  },
  {
   "cell_type": "code",
   "execution_count": null,
   "metadata": {},
   "outputs": [],
   "source": [
    "print('Unike farger du kan filtrere på, for å beholde (fjern de du ikke vil ha, før du kjører neste celle):')\n",
    "# Her setter vi de vi fant som default verdier, så brukerene ikke trenger skrive så mye.\n",
    "tkst_filt = widgets.Text(value=', '.join(unik_farg))\n",
    "display(tkst_filt)"
   ]
  },
  {
   "cell_type": "code",
   "execution_count": null,
   "metadata": {},
   "outputs": [],
   "source": [
    "# Parse gjennom input-teksten for å rydde opp litt, og gjøre den om til en liste\n",
    "tkst_clean = tkst_filt.value.upper()\n",
    "tkst_clean = tkst_clean.replace(' ','')\n",
    "tkst_clean = tkst_clean.replace(',','')\n",
    "tkst_clean = list(tkst_clean)\n",
    "print(tkst_clean)"
   ]
  },
  {
   "cell_type": "code",
   "execution_count": null,
   "metadata": {},
   "outputs": [],
   "source": [
    "# Filtrer\n",
    "diam_filt = diam[diam['color'].isin(tkst_clean)]\n",
    "print(f'Du sitter igjen med {round(100*(len(diam_filt) * 100) / len(diam))/100 }% av det originale innholdet.\\n')\n",
    "diam_filt"
   ]
  },
  {
   "cell_type": "code",
   "execution_count": null,
   "metadata": {},
   "outputs": [],
   "source": []
  }
 ],
 "metadata": {
  "language_info": {
   "codemirror_mode": {
    "name": "ipython"
   },
   "file_extension": ".py",
   "mimetype": "text/x-python",
   "name": "python",
   "nbconvert_exporter": "python"
  }
 },
 "nbformat": 4,
 "nbformat_minor": 4
}

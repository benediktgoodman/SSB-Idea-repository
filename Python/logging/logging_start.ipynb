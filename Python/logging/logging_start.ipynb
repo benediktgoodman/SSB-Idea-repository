{
 "cells": [
  {
   "cell_type": "code",
   "execution_count": null,
   "metadata": {},
   "outputs": [],
   "source": [
    "#help('modules')"
   ]
  },
  {
   "cell_type": "code",
   "execution_count": null,
   "metadata": {},
   "outputs": [],
   "source": [
    "#help('logging')"
   ]
  },
  {
   "cell_type": "markdown",
   "metadata": {},
   "source": [
    "## Let's try out the logging module\n",
    "Maybe it would be nice to be able to store it back to parquet-storage?"
   ]
  },
  {
   "cell_type": "code",
   "execution_count": null,
   "metadata": {},
   "outputs": [],
   "source": [
    "import os\n",
    "import logging\n",
    "import pandas as pd\n",
    "import ast"
   ]
  },
  {
   "cell_type": "markdown",
   "metadata": {},
   "source": [
    "### Parameters, change these"
   ]
  },
  {
   "cell_type": "code",
   "execution_count": null,
   "metadata": {},
   "outputs": [],
   "source": [
    "### PARAMETERS ###\n",
    "\n",
    "# Name the text-log\n",
    "txtlog_name = 'karakterer'\n",
    "notbook_num = '1'"
   ]
  },
  {
   "cell_type": "markdown",
   "metadata": {},
   "source": [
    "#### Set up the loggers location"
   ]
  },
  {
   "cell_type": "code",
   "execution_count": null,
   "metadata": {},
   "outputs": [],
   "source": [
    "txtlog_root = 'log'\n",
    "txtlog_path = f'{txtlog_root}/{txtlog_name}.log'\n",
    "\n",
    "# Create the log file, if it does not already exist\n",
    "if not os.path.isdir(txtlog_root):\n",
    "    os.makedirs(txtlog_root)\n",
    "if not os.path.isfile(txtlog_path):\n",
    "    os.mknod(txtlog_path)\n",
    "\n",
    "# Initialize the logger object\n",
    "txtlog = logging.getLogger(f'{txtlog_name}.{txtlog_name}{notbook_num}')\n",
    "fhandler = logging.FileHandler(filename=txtlog_path, mode='a')\n"
   ]
  },
  {
   "cell_type": "markdown",
   "metadata": {},
   "source": [
    "#### A custom child class, which handles exception-formatting"
   ]
  },
  {
   "cell_type": "code",
   "execution_count": null,
   "metadata": {},
   "outputs": [],
   "source": [
    "# Extend the logging formatter to do special things with exceptiontext\n",
    "class OneLineExceptionFormatter(logging.Formatter):\n",
    "    def formatException(self, exc_info):\n",
    "        result = super(OneLineExceptionFormatter, self).formatException(exc_info)\n",
    "        return repr(result) + '' # or format into one line however you want to\n",
    "\n",
    "    def format(self, record):\n",
    "        s = super(OneLineExceptionFormatter, self).format(record)\n",
    "        if record.exc_text:\n",
    "            s = s.replace('\\n', '')\n",
    "            s = s.replace('\"<', \"'<\")\n",
    "            s = s.replace('>\"', \">'\")\n",
    "        s = s  + '\"],\\\\'\n",
    "        return s"
   ]
  },
  {
   "cell_type": "markdown",
   "metadata": {},
   "source": [
    "#### Rest of the loggers configuration"
   ]
  },
  {
   "cell_type": "code",
   "execution_count": null,
   "metadata": {},
   "outputs": [],
   "source": [
    "#formatter = logging.Formatter('%(asctime)s - %(name)s - %(levelname)s - %(message)s')\n",
    "formatter = OneLineExceptionFormatter('[\"%(asctime)s\", \"%(name)s\", \"%(levelname)s\", \"%(message)s', \"%Y-%m-%d %H:%M:%S\")\n",
    "fhandler.setFormatter(formatter)\n",
    "txtlog.addHandler(fhandler)\n",
    "txtlog.setLevel(logging.DEBUG) # Debug is the lowest level, meaning all logs will be kept."
   ]
  },
  {
   "cell_type": "markdown",
   "metadata": {},
   "source": [
    "#### Some examples"
   ]
  },
  {
   "cell_type": "code",
   "execution_count": null,
   "metadata": {},
   "outputs": [],
   "source": [
    "# Write examples of logging-levels to the log\n",
    "txtlog.debug('Debug is mostly used during development')\n",
    "txtlog.info('Just to inform user about what is going on')\n",
    "txtlog.warning('You should take a look at this')\n",
    "txtlog.error('This should probably not happen')\n",
    "txtlog.critical('Shit is serious')\n",
    "\n",
    "# Cause an error on purpose, first_fail() function should not exist\n",
    "try:\n",
    "    first_fail()\n",
    "except Exception as e:\n",
    "    # Provide exception info in regular logging-levels\n",
    "    txtlog.critical('Shit is serious, and might be attached to an error: {0}'.format(e), exc_info = True)\n",
    "    # Exception-info is automatically included at this level, without the kwarg \"exec_info\" being set to True\n",
    "    txtlog.exception('We can also catch exceptions, with this conveniance-level. It falls back to the Error-level: {0}'.format(e))\n",
    "    # Which means that the exception-level is identical to this line:\n",
    "    txtlog.error('Just to illustrate that this is the same as the exception-conveniance-level: {0}'.format(e), exc_info = True)"
   ]
  },
  {
   "cell_type": "markdown",
   "metadata": {},
   "source": [
    "#### Demo that we have some control over which levels are being written to the log"
   ]
  },
  {
   "cell_type": "code",
   "execution_count": null,
   "metadata": {},
   "outputs": [],
   "source": [
    "# If code is not in development anymore, maybe you want the debug level to be discarded:\n",
    "txtlog.setLevel(logging.INFO) \n",
    "# The log-messages from lower levels, than the level set, will not be kept.\n",
    "# So it might be less expensive to never calculate it in the first place\n",
    "if txtlog.isEnabledFor(logging.DEBUG):\n",
    "    txtlog.debug('Only printed if debug-level is enabled.')"
   ]
  },
  {
   "cell_type": "markdown",
   "metadata": {},
   "source": [
    "### Read the list-parsed log file and try writing it into a pandas dataframe"
   ]
  },
  {
   "cell_type": "code",
   "execution_count": null,
   "metadata": {},
   "outputs": [],
   "source": [
    "# We have parsed the log as a list, so lets try importing it back in\n",
    "contents = \"\"\n",
    "with open(txtlog_path) as f:\n",
    "    contents = contents + f.read()\n",
    "contents = ast.literal_eval(contents[:-3])\n",
    "\n",
    "# And inserting the resulting list into a dataframe, which could theoretically be saved back to the parquet-storage.\n",
    "conts = pd.DataFrame(contents)\n",
    "#print(conts[3])\n",
    "pd.set_option('display.max_colwidth', None)\n",
    "conts.tail(10)"
   ]
  },
  {
   "cell_type": "code",
   "execution_count": null,
   "metadata": {},
   "outputs": [],
   "source": []
  }
 ],
 "metadata": {
  "language_info": {
   "codemirror_mode": {
    "name": "ipython"
   },
   "file_extension": ".py",
   "mimetype": "text/x-python",
   "name": "python",
   "nbconvert_exporter": "python"
  }
 },
 "nbformat": 4,
 "nbformat_minor": 4
}

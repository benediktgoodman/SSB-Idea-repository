{
 "cells": [
  {
   "cell_type": "markdown",
   "metadata": {},
   "source": [
    "# 2020 Befolkning i Oslo på grunnkrets"
   ]
  },
  {
   "cell_type": "code",
   "execution_count": null,
   "metadata": {},
   "outputs": [],
   "source": [
    "import json\n",
    "import os\n",
    "import pandas as pd\n",
    "import requests\n",
    "import numpy as np\n",
    "import ipyleaflet\n",
    "\n",
    "from branca.colormap import linear\n",
    "from pyjstat import pyjstat\n",
    "\n",
    "from ipyleaflet import (\n",
    "    Map,\n",
    "    Marker,\n",
    "    TileLayer, ImageOverlay,\n",
    "    Polyline, Polygon, Rectangle, Circle, CircleMarker,\n",
    "    GeoJSON,\n",
    "    DrawControl\n",
    ")"
   ]
  },
  {
   "cell_type": "markdown",
   "metadata": {},
   "source": [
    "Vi heter opp en GeoJSON-fil med polygoner for alle grunnkretsene i Oslo"
   ]
  },
  {
   "cell_type": "code",
   "execution_count": null,
   "metadata": {},
   "outputs": [],
   "source": [
    "geodata = json.load(open('data/oslo-grunnkrets.json'))"
   ]
  },
  {
   "cell_type": "markdown",
   "metadata": {},
   "source": [
    "Vi henter opp spørringen mot Statistikkbanken. "
   ]
  },
  {
   "cell_type": "code",
   "execution_count": null,
   "metadata": {},
   "outputs": [],
   "source": [
    "query = json.load(open('data/befolkning-query.json'))"
   ]
  },
  {
   "cell_type": "markdown",
   "metadata": {},
   "source": [
    "Spørringen og endepunktet til API-et kan hentes fra Statistikkbanken."
   ]
  },
  {
   "cell_type": "code",
   "execution_count": null,
   "metadata": {},
   "outputs": [],
   "source": [
    "res = requests.post(\"https://data.ssb.no/api/v0/no/table/04317/\", json=query)"
   ]
  },
  {
   "cell_type": "code",
   "execution_count": null,
   "metadata": {},
   "outputs": [],
   "source": [
    "ds = pyjstat.Dataset.read(res.text)\n",
    "befolkning = ds.write('dataframe', naming='id')"
   ]
  },
  {
   "cell_type": "markdown",
   "metadata": {},
   "source": [
    "Vi fjerner \"NaN\" fra datasettet og erstatter med \"0\". Dette er ikke helt riktig, siden disse er fjernet av konfedensialitetshensyn. I tillegg liker ikke Cloropleth-rutinen verdier som ikke er numeriske. Vi printer også ut datastrukturen slik at vi vet hvordan data ser ut."
   ]
  },
  {
   "cell_type": "code",
   "execution_count": null,
   "metadata": {},
   "outputs": [],
   "source": [
    "befolkning.replace(np.NaN, 0, inplace=True)\n",
    "befolkning"
   ]
  },
  {
   "cell_type": "markdown",
   "metadata": {},
   "source": [
    "Vi bygger opp en mapping mellom grunnkrets-id'ene og verdiene. Disse brukes av Chropleth-rutinen som lager fargekartet. Her går det også an å velge andre basemaps om det er ønskelig. En utfordring med iPyleaflet sin Choropleth-rutine er at den forutsetter at ID-en som verdien skal mappes mot, ligger på feature-nivå i GeoJSON-fila. Dette er ikke alltid tilfellet og krever litt jobbing med kartgrunnlaget."
   ]
  },
  {
   "cell_type": "code",
   "execution_count": null,
   "metadata": {},
   "outputs": [],
   "source": [
    "be = dict(zip(befolkning['Grunnkretser'].tolist(), befolkning['value'].tolist()))\n"
   ]
  },
  {
   "cell_type": "code",
   "execution_count": null,
   "metadata": {},
   "outputs": [],
   "source": [
    "layer = ipyleaflet.Choropleth(\n",
    "    geo_data=geodata,\n",
    "    choro_data=be,\n",
    "    colormap=linear.YlOrRd_04,\n",
    "    style={'fillOpacity': 0.6, 'dashArray': '1, 1'}\n",
    ")"
   ]
  },
  {
   "cell_type": "markdown",
   "metadata": {},
   "source": [
    "Vi velger et senter-punkt + zoom."
   ]
  },
  {
   "cell_type": "code",
   "execution_count": null,
   "metadata": {},
   "outputs": [],
   "source": [
    "center = [59.905695, 10.737880]\n",
    "zoom = 12"
   ]
  },
  {
   "cell_type": "code",
   "execution_count": null,
   "metadata": {},
   "outputs": [],
   "source": [
    "m = Map(center=center, zoom=zoom)"
   ]
  },
  {
   "cell_type": "code",
   "execution_count": null,
   "metadata": {},
   "outputs": [],
   "source": [
    "m.add_layer(layer)\n",
    "m"
   ]
  },
  {
   "cell_type": "code",
   "execution_count": null,
   "metadata": {},
   "outputs": [],
   "source": []
  }
 ],
 "metadata": {
  "language_info": {
   "codemirror_mode": {
    "name": "ipython"
   },
   "file_extension": ".py",
   "mimetype": "text/x-python",
   "name": "python",
   "nbconvert_exporter": "python"
  }
 },
 "nbformat": 4,
 "nbformat_minor": 4
}

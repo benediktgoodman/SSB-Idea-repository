{
 "cells": [
  {
   "cell_type": "markdown",
   "id": "2edaa163",
   "metadata": {},
   "source": [
    "### \"configr\" biblioteket kan lese TOML"
   ]
  },
  {
   "cell_type": "code",
   "execution_count": null,
   "id": "592c5f10",
   "metadata": {},
   "outputs": [],
   "source": [
    "library('configr')"
   ]
  },
  {
   "cell_type": "code",
   "execution_count": null,
   "id": "933c185b",
   "metadata": {},
   "outputs": [],
   "source": [
    "conf <- read.config('config.toml')"
   ]
  },
  {
   "cell_type": "code",
   "execution_count": null,
   "id": "6cb541dc",
   "metadata": {},
   "outputs": [],
   "source": [
    "conf[[\"FEATURES\"]][[\"log_kvalitet\"]]"
   ]
  },
  {
   "cell_type": "markdown",
   "id": "866efa16",
   "metadata": {},
   "source": [
    "### Age ranges er da en liste av lister, med navn på \"kategori\", og verdier som skal kodes til disse"
   ]
  },
  {
   "cell_type": "code",
   "execution_count": null,
   "id": "f71ad1bf",
   "metadata": {},
   "outputs": [],
   "source": [
    "age_ranges <- conf$FORMATS$POP$age_ranges\n",
    "age_ranges"
   ]
  },
  {
   "cell_type": "code",
   "execution_count": null,
   "id": "e658f34f",
   "metadata": {},
   "outputs": [],
   "source": [
    "# Eksempeldatasett"
   ]
  },
  {
   "cell_type": "code",
   "execution_count": null,
   "id": "6de93073",
   "metadata": {},
   "outputs": [],
   "source": [
    "inpath = paste(conf$PATHS$mock, \"/population_2019_10000\", sep=\"\")\n",
    "inpath"
   ]
  },
  {
   "cell_type": "code",
   "execution_count": null,
   "id": "89d2d34a",
   "metadata": {},
   "outputs": [],
   "source": [
    "# Les inn datasettet\n",
    "df <- spark.read.path(inpath)\n",
    "# Konverter fra spark-dataframe til R dataframe\n",
    "df <- as.data.frame(df)"
   ]
  },
  {
   "cell_type": "code",
   "execution_count": null,
   "id": "4154d75d",
   "metadata": {},
   "outputs": [],
   "source": [
    "#df"
   ]
  },
  {
   "cell_type": "markdown",
   "id": "e1b4b8a3",
   "metadata": {},
   "source": [
    "### Påfør kolonne for ny grupperingsvariabel på alder, utifra formatene i konfigurasjonsfilen"
   ]
  },
  {
   "cell_type": "code",
   "execution_count": null,
   "id": "cec89d92",
   "metadata": {},
   "outputs": [],
   "source": [
    "for(key in names(age_ranges)){\n",
    "    \n",
    "    value <-age_ranges[key][[1]]\n",
    "    print(key)\n",
    "    \n",
    "    # Om det er to verdier i listen så antar vi at de representerer en range av verdier\n",
    "    if (length(value) == 2){\n",
    "        print(\"Do stuff with two elements\")\n",
    "        df$age_group <- replace(df$age_group, \n",
    "                                sapply(df$age, \n",
    "                                       function(p) all(p >= value[[1]] \n",
    "                                                    & p <= value[[2]])\n",
    "                                       ),\n",
    "                                       key\n",
    "                               )\n",
    "    # Om det er en eller flere enn to verdier, så looper vi bare over alle enkeltvis og setter dem\n",
    "    } else if (length(value) > 2 | length(value) == 1) {\n",
    "        print(\"Do stuff with one or many elements\")\n",
    "        for (elem in value) {\n",
    "           df$age_group <- replace(df$age_group, \n",
    "                                sapply(df$age, \n",
    "                                       function(p) all(p == elem)\n",
    "                                       ),\n",
    "                                       key\n",
    "                               ) \n",
    "        }\n",
    "        \n",
    "    } else {\n",
    "        print(\"very few elements?\")\n",
    "    }\n",
    "    writeLines(\"\\n\")\n",
    "}"
   ]
  },
  {
   "cell_type": "markdown",
   "id": "dba4069b",
   "metadata": {},
   "source": [
    "### Se på en sample av datasettet"
   ]
  },
  {
   "cell_type": "code",
   "execution_count": null,
   "id": "c9629f55",
   "metadata": {},
   "outputs": [],
   "source": [
    "library(dplyr)"
   ]
  },
  {
   "cell_type": "code",
   "execution_count": null,
   "id": "4f29bc19",
   "metadata": {},
   "outputs": [],
   "source": [
    "sample_n(df, 30)"
   ]
  },
  {
   "cell_type": "code",
   "execution_count": null,
   "id": "dc5d354d",
   "metadata": {},
   "outputs": [],
   "source": []
  }
 ],
 "metadata": {
  "language_info": {
   "codemirror_mode": "r",
   "file_extension": ".r",
   "mimetype": "text/x-r-source",
   "name": "R"
  }
 },
 "nbformat": 4,
 "nbformat_minor": 5
}

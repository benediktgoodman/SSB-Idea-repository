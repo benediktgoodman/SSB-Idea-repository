{
 "cells": [
  {
   "cell_type": "markdown",
   "id": "fe96d640",
   "metadata": {},
   "source": [
    "### En måte å dynamisk laste biblioteker"
   ]
  },
  {
   "cell_type": "code",
   "execution_count": null,
   "id": "b5482999",
   "metadata": {},
   "outputs": [],
   "source": [
    "# På denne måten kan man samle \"alle bibliotekene man importerer hver gang\" i en linje\n",
    "from config.pyimports import *\n",
    "# Se i filen config/pyimport hvilke biblioteker du nå har tilgang til."
   ]
  },
  {
   "cell_type": "code",
   "execution_count": null,
   "id": "7b15cd40",
   "metadata": {},
   "outputs": [],
   "source": [
    "#pd.DataFrame()"
   ]
  },
  {
   "cell_type": "code",
   "execution_count": null,
   "id": "c35646e9",
   "metadata": {},
   "outputs": [],
   "source": [
    "#np.nan"
   ]
  },
  {
   "cell_type": "code",
   "execution_count": null,
   "id": "61d55c77",
   "metadata": {},
   "outputs": [],
   "source": [
    "#help(dp.execute)"
   ]
  },
  {
   "cell_type": "markdown",
   "id": "4ce767a1",
   "metadata": {},
   "source": [
    "Men det anbefales ikke for biblioteker du ikke trenger i *hvert ark*."
   ]
  },
  {
   "cell_type": "markdown",
   "id": "8d92524f",
   "metadata": {},
   "source": [
    "### Statiske konfigurasjonsfiler som TOML"
   ]
  },
  {
   "cell_type": "code",
   "execution_count": null,
   "id": "88d4c733",
   "metadata": {},
   "outputs": [],
   "source": [
    "import toml"
   ]
  },
  {
   "cell_type": "code",
   "execution_count": null,
   "id": "ee962ecf",
   "metadata": {},
   "outputs": [],
   "source": [
    "config = toml.load('config.toml')"
   ]
  },
  {
   "cell_type": "code",
   "execution_count": null,
   "id": "809696ee",
   "metadata": {},
   "outputs": [],
   "source": []
  },
  {
   "cell_type": "code",
   "execution_count": null,
   "id": "ded3ef51",
   "metadata": {},
   "outputs": [],
   "source": [
    "paths = config['PATHS']['KAG']\n",
    "paths['utpakk']"
   ]
  },
  {
   "cell_type": "code",
   "execution_count": null,
   "id": "44144c90",
   "metadata": {},
   "outputs": [],
   "source": [
    "# Man kan indexe i TOML-filen, som om den var en dict av dicts\n",
    "config['FEATURES']['valuation']"
   ]
  },
  {
   "cell_type": "code",
   "execution_count": null,
   "id": "d0200314",
   "metadata": {},
   "outputs": [],
   "source": [
    "# Hvor hvert \"kapittel\" kan slås opp i, med videre indexing"
   ]
  },
  {
   "cell_type": "code",
   "execution_count": null,
   "id": "19aeeab8",
   "metadata": {},
   "outputs": [],
   "source": [
    "config['PATHS']['KAG']['utpakk']"
   ]
  },
  {
   "cell_type": "code",
   "execution_count": null,
   "id": "4da712fc",
   "metadata": {},
   "outputs": [],
   "source": [
    "# I tilfelle dette ikke allerede er gjort\n",
    "import dapla as dp\n",
    "import pandas as pd"
   ]
  },
  {
   "cell_type": "code",
   "execution_count": null,
   "id": "11939fb2",
   "metadata": {},
   "outputs": [],
   "source": [
    "config['PATHS']['mock']"
   ]
  },
  {
   "cell_type": "code",
   "execution_count": null,
   "id": "e498c571",
   "metadata": {},
   "outputs": [],
   "source": [
    "# Les inn fra dapla\n",
    "pop = dp.read_pandas(\n",
    "    [    p for p in # loop over\n",
    "         dp.show(config['PATHS']['mock'])['path'] # pathene i mock-mappen\n",
    "         if 'pop' in p # finn de som har \"pop\" i pathen sin\n",
    "    ][0] # Ta den første av dem\n",
    ")"
   ]
  },
  {
   "cell_type": "code",
   "execution_count": null,
   "id": "7ebab762",
   "metadata": {},
   "outputs": [],
   "source": [
    "pop['sex']"
   ]
  },
  {
   "cell_type": "code",
   "execution_count": null,
   "id": "cd51a621",
   "metadata": {},
   "outputs": [],
   "source": [
    "# Påfør formatet\n",
    "pop = pop.replace(config['FORMATS']['POP'])\n",
    "pop['sex']"
   ]
  },
  {
   "cell_type": "code",
   "execution_count": null,
   "id": "ddc67270",
   "metadata": {},
   "outputs": [],
   "source": [
    "# Kod tilbake med flippete formater\n",
    "reverse_omkoding = {k1 : \n",
    "                        {v2 : k2 \n",
    "                         for k2, v2 \n",
    "                         in v1.items() \n",
    "                         if isinstance(v2, (str, int, float))} \n",
    "                   for k1, v1 \n",
    "                   in config['FORMATS']['POP'].items()}\n",
    "# Vi kan ikke flippe iterables inn i keys...\n",
    "reverse_omkoding\n",
    "# Derfor er \"AGE_GROUPS\" nå blitt litt tom"
   ]
  },
  {
   "cell_type": "code",
   "execution_count": null,
   "id": "c570f52d",
   "metadata": {},
   "outputs": [],
   "source": [
    "# Men det er jo ingen kolonne som heter \"AGE_GROUPS\", så det bryr vi oss ikke om her:\n",
    "pop = pop.replace(reverse_omkoding)"
   ]
  },
  {
   "cell_type": "code",
   "execution_count": null,
   "id": "8bf81eb5",
   "metadata": {},
   "outputs": [],
   "source": [
    "pop['sex']"
   ]
  },
  {
   "cell_type": "markdown",
   "id": "fb0aa97d",
   "metadata": {},
   "source": [
    "### Funksjon for å påføre grupperingsvariabel utifra ett format som består av lister"
   ]
  },
  {
   "cell_type": "code",
   "execution_count": null,
   "id": "6bdb0676",
   "metadata": {},
   "outputs": [],
   "source": [
    "# Man kan ha lister i TOML, og dette åpner for \"range\"-formater\n",
    "def range_format(df, kolonne = pd.Series(), grupperings_kolonne = '', formats = dict()):\n",
    "    \n",
    "    \"\"\"\n",
    "    Påfør range-formater som en ny kolonne, formatet bør være en dict med iterables med to verdier som values.\n",
    "    \"\"\"\n",
    "    \n",
    "    if not isinstance(df, pd.DataFrame):\n",
    "        raise ValueError('First parameter must be a dataframe.')\n",
    "    # Gjør masse lignende sjekker på de resterende parameterene?\n",
    "    \n",
    "    for k, i in formats.items():\n",
    "        # For hver gruppeindeling i formatet, legg til en gruppevariabel i kolonnen \"grupperings_kolonne\" med dict-keyen i formatet.\n",
    "        # Om det er to variabler så regner vi det som en range\n",
    "        if isinstance(i, list) and len(i) == 2:\n",
    "            df.loc[(kolonne >= i[0]) & (kolonne <= i[1]), grupperings_kolonne] = k\n",
    "        elif isinstance(i, list):\n",
    "            for j in i:\n",
    "                df.loc[kolonne == j, grupperings_kolonne] = k\n",
    "        # På dette tidspunktet er det potensielt feil ting sendt inn, men vi prøver litt til\n",
    "        try:\n",
    "            iter(i)\n",
    "        except:\n",
    "            # Ok da er kanskje ikke \"i\" iterable... Kanskje det er en enkeltverdi vi kan sette direkte?\n",
    "            df.loc[kolonne == i, grupperings_kolonne] = k\n",
    "            \n",
    "    return df"
   ]
  },
  {
   "cell_type": "code",
   "execution_count": null,
   "id": "11238124",
   "metadata": {},
   "outputs": [],
   "source": [
    "config['FORMATS']['POP']['age_ranges ']"
   ]
  },
  {
   "cell_type": "code",
   "execution_count": null,
   "id": "23f5c3c0",
   "metadata": {},
   "outputs": [],
   "source": [
    "pop = range_format(pop, # Dataframe\n",
    "                   pop['age'],  # Kolonne som skal tolkes\n",
    "                   'age_group', # Kolonne det skal skrives til\n",
    "                   config['FORMATS']['POP']['age_ranges']  # Formatet, en dict med lists\n",
    "                  )"
   ]
  },
  {
   "cell_type": "code",
   "execution_count": null,
   "id": "9eaae3f7",
   "metadata": {},
   "outputs": [],
   "source": [
    "# Sjekk om det funker med enkeltverdier, og lister med flere verdier.\n",
    "pop[pop['age'] <= 4][['age', 'age_group']]"
   ]
  },
  {
   "cell_type": "code",
   "execution_count": null,
   "id": "7ded2a41",
   "metadata": {},
   "outputs": [],
   "source": [
    "# Om det er bare to verdier i listene, så regnes det som \"ranges\"\n",
    "pop[['age', 'age_group']].sample(10)"
   ]
  },
  {
   "cell_type": "markdown",
   "id": "96761293",
   "metadata": {},
   "source": [
    "### En unødvendig parser for hierarkise paths i TOMLs"
   ]
  },
  {
   "cell_type": "code",
   "execution_count": null,
   "id": "e57a895c",
   "metadata": {},
   "outputs": [],
   "source": [
    "paths = toml.load('config/paths.toml')"
   ]
  },
  {
   "cell_type": "code",
   "execution_count": null,
   "id": "182d2b01",
   "metadata": {},
   "outputs": [],
   "source": [
    "def buildpaths(d, depth = 0, path = '', path_list = {}):\n",
    "    \n",
    "    \"\"\"\n",
    "    Recursive function that generates a list of paths, from a nested TOML.\n",
    "    Expects only the first parameter, being the loaded TOML-file. \n",
    "    Other parameters only used as defaults for the recursive nature of the function. \n",
    "    Will combine non-nested strings together, so should be only one string 'per chapter'.\n",
    "    \"\"\"\n",
    "\n",
    "    # Søk etter en dict\n",
    "    last_dict = {}\n",
    "    for k, v in d.items():\n",
    "        if isinstance(v, dict): last_dict = v\n",
    "    \n",
    "    # Når det ikke finnes in dict i dicten\n",
    "    if not bool(last_dict):\n",
    "        path += v\n",
    "        #print(base)\n",
    "        path_list[v] = path\n",
    "        #print(depth)\n",
    "        depth -= 1\n",
    "    # Om det finnes en dict i dicten\n",
    "    else:\n",
    "        for k, v in d.items():\n",
    "            # Om det vi ser på er en string\n",
    "            if isinstance(v, str):\n",
    "                path += v\n",
    "                depth -= 1\n",
    "            if isinstance(v, dict):\n",
    "                depth += 1\n",
    "                buildpaths(v, depth, path, path_list)\n",
    "                \n",
    "    return path_list"
   ]
  },
  {
   "cell_type": "code",
   "execution_count": null,
   "id": "794688cf",
   "metadata": {},
   "outputs": [],
   "source": [
    "paths = buildpaths(paths)"
   ]
  },
  {
   "cell_type": "code",
   "execution_count": null,
   "id": "df49fccc",
   "metadata": {},
   "outputs": [],
   "source": [
    "paths"
   ]
  },
  {
   "cell_type": "code",
   "execution_count": null,
   "id": "b1016aee",
   "metadata": {},
   "outputs": [],
   "source": [
    "with open('config/paths_hardcode.toml', 'w') as f:\n",
    "     paths_init = toml.dump(paths, f)"
   ]
  }
 ],
 "metadata": {
  "language_info": {
   "codemirror_mode": {
    "name": "ipython"
   },
   "file_extension": ".py",
   "mimetype": "text/x-python",
   "name": "python",
   "nbconvert_exporter": "python"
  }
 },
 "nbformat": 4,
 "nbformat_minor": 5
}

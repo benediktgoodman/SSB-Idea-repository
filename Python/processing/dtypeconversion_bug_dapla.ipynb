{
 "cells": [
  {
   "cell_type": "code",
   "execution_count": null,
   "id": "7f9f6866",
   "metadata": {},
   "outputs": [],
   "source": [
    "import dapla as dp\n",
    "import pandas as pd"
   ]
  },
  {
   "cell_type": "code",
   "execution_count": null,
   "id": "07be9909",
   "metadata": {},
   "outputs": [],
   "source": [
    "df = pd.DataFrame({\n",
    "    \"Integer\" : [1, 2, 3],\n",
    "    \"Integer64\": [6189, 6190, 6191],\n",
    "    \"Float64\": [6189.0, 6189.1, 6189.2],\n",
    "    \"Mixed\" : [1, \"a\", 7.1],\n",
    "    \"String\" : ['A', 'B', 'C'],\n",
    "    \"NumericCat\" : ['1234', '0123', '0012']\n",
    "})"
   ]
  },
  {
   "cell_type": "code",
   "execution_count": null,
   "id": "763a1f14",
   "metadata": {},
   "outputs": [],
   "source": [
    "# Vi mister category-dtype på kolonner hvor kategoriene er numeriske...\n",
    "for col in ['Integer64', \"Float64\", 'NumericCat']:\n",
    "    df[col] = df[col].astype('category')"
   ]
  },
  {
   "cell_type": "code",
   "execution_count": null,
   "id": "f52fbe83",
   "metadata": {},
   "outputs": [],
   "source": [
    "# Category-dtype bevares om kategoriene er strings\n",
    "#for col in ['Integer64', \"Float64\", 'NumericCat']:\n",
    "#    df[col] = df[col].astype(str).astype('category')"
   ]
  },
  {
   "cell_type": "code",
   "execution_count": null,
   "id": "d6beac65",
   "metadata": {},
   "outputs": [],
   "source": [
    "df.dtypes"
   ]
  },
  {
   "cell_type": "code",
   "execution_count": null,
   "id": "2cfd9a2d",
   "metadata": {},
   "outputs": [],
   "source": [
    "df['Integer64'].cat.categories"
   ]
  },
  {
   "cell_type": "code",
   "execution_count": null,
   "id": "5e32577b",
   "metadata": {},
   "outputs": [],
   "source": [
    "print(df['Integer64'].cat.categories[0],\n",
    "     type(df['Integer64'].cat.categories[0]))"
   ]
  },
  {
   "cell_type": "code",
   "execution_count": null,
   "id": "9d46f596",
   "metadata": {},
   "outputs": [],
   "source": [
    "#Produserer en error pga blandede typer i kolonnen\n",
    "#dp.write_pandas(df, '/felles/carl/dtype_bug', valuation='OPEN', state= 'PROCESSED')"
   ]
  },
  {
   "cell_type": "code",
   "execution_count": null,
   "id": "8db3d6ed",
   "metadata": {},
   "outputs": [],
   "source": [
    "# Produserer error pga blandete typer\n",
    "#df['Integer64'].cat.categories = [6189, 6190, \"06189\"]"
   ]
  },
  {
   "cell_type": "code",
   "execution_count": null,
   "id": "1344931a",
   "metadata": {},
   "outputs": [],
   "source": [
    "df = df.drop('Mixed', axis = 'columns')"
   ]
  },
  {
   "cell_type": "code",
   "execution_count": null,
   "id": "71633fa4",
   "metadata": {},
   "outputs": [],
   "source": [
    "dp.write_pandas(df, '/felles/carl/dtype_bug', valuation='OPEN', state= 'PROCESSED')"
   ]
  },
  {
   "cell_type": "code",
   "execution_count": null,
   "id": "c28b5706",
   "metadata": {},
   "outputs": [],
   "source": [
    "df2 = dp.read_pandas('/felles/carl/dtype_bug', categories=['Integer64', 'NumericCat', 'Float64'])\n",
    "#df2 = dp.read_pandas('/felles/carl/dtype_bug', categories=['Integer64', 'Float64'])\n",
    "df2.dtypes"
   ]
  },
  {
   "cell_type": "code",
   "execution_count": null,
   "id": "f87da47c",
   "metadata": {},
   "outputs": [],
   "source": [
    "df2['Integer64'].cat.categories[0]"
   ]
  },
  {
   "cell_type": "code",
   "execution_count": null,
   "id": "504a3b2d",
   "metadata": {},
   "outputs": [],
   "source": []
  }
 ],
 "metadata": {
  "language_info": {
   "codemirror_mode": {
    "name": "ipython"
   },
   "file_extension": ".py",
   "mimetype": "text/x-python",
   "name": "python",
   "nbconvert_exporter": "python"
  }
 },
 "nbformat": 4,
 "nbformat_minor": 5
}

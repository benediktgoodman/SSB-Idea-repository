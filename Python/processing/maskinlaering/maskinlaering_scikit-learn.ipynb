{
 "cells": [
  {
   "cell_type": "markdown",
   "id": "07dc546f",
   "metadata": {},
   "source": [
    "# Kode fra tutorial\n",
    "\n",
    "https://scikit-learn.org/stable/tutorial/basic/tutorial.html"
   ]
  },
  {
   "cell_type": "markdown",
   "id": "5f6809da",
   "metadata": {},
   "source": [
    "### Data"
   ]
  },
  {
   "cell_type": "code",
   "execution_count": null,
   "id": "e0af29e8",
   "metadata": {},
   "outputs": [],
   "source": [
    "# Det følger med datasets i sklearn\n",
    "from sklearn import datasets"
   ]
  },
  {
   "cell_type": "code",
   "execution_count": null,
   "id": "6b7c08c2",
   "metadata": {},
   "outputs": [],
   "source": [
    "iris = datasets.load_iris()\n",
    "digits = datasets.load_digits()"
   ]
  },
  {
   "cell_type": "code",
   "execution_count": null,
   "id": "fd2c33c4",
   "metadata": {},
   "outputs": [],
   "source": [
    "# Se på overskriftene i digits\n",
    "print(digits.keys())"
   ]
  },
  {
   "cell_type": "code",
   "execution_count": null,
   "id": "c6ce6f9e",
   "metadata": {},
   "outputs": [],
   "source": [
    "# Dette er typen data vi skal predikere fra, en liste av bilder\n",
    "print(digits.data)"
   ]
  },
  {
   "cell_type": "code",
   "execution_count": null,
   "id": "a682b408",
   "metadata": {},
   "outputs": [],
   "source": [
    "# Dette er det vi sikter på, en klassifisering av datapunktene sifferet til det tilhørende bilde\n",
    "print(digits.target)"
   ]
  },
  {
   "cell_type": "markdown",
   "id": "003b0400",
   "metadata": {},
   "source": [
    "### Learning"
   ]
  },
  {
   "cell_type": "code",
   "execution_count": null,
   "id": "b42da30b",
   "metadata": {},
   "outputs": [],
   "source": [
    "from sklearn import svm"
   ]
  },
  {
   "cell_type": "code",
   "execution_count": null,
   "id": "89d73661",
   "metadata": {},
   "outputs": [],
   "source": [
    "# Estimator med grunninnstillinger\n",
    "clf = svm.SVC(gamma=0.001, C=100.)"
   ]
  },
  {
   "cell_type": "code",
   "execution_count": null,
   "id": "6de2f22e",
   "metadata": {},
   "outputs": [],
   "source": [
    "# Pass estimatoren til modellen, på all data og targets bortsett fra den første og siste \"raden\".\n",
    "clf.fit(digits.data[1:-1], digits.target[1:-1])"
   ]
  },
  {
   "cell_type": "markdown",
   "id": "899f6541",
   "metadata": {},
   "source": [
    "### Predicting"
   ]
  },
  {
   "cell_type": "code",
   "execution_count": null,
   "id": "36096166",
   "metadata": {},
   "outputs": [],
   "source": [
    "# Nå kan vi gjette på \"ny data\", dvs den første og siste entryen/\"raden\", utifra data"
   ]
  },
  {
   "cell_type": "code",
   "execution_count": null,
   "id": "bcc23cbd",
   "metadata": {},
   "outputs": [],
   "source": [
    "# Det siste bildet ser slik ut\n",
    "from skimage import io\n",
    "io.imshow(digits.images[-1], cmap=\"gray_r\")"
   ]
  },
  {
   "cell_type": "code",
   "execution_count": null,
   "id": "124b5195",
   "metadata": {},
   "outputs": [],
   "source": [
    "# Gjett hvilket siffer som er på bildet\n",
    "clf.predict(digits.data[-1:])[0]"
   ]
  },
  {
   "cell_type": "code",
   "execution_count": null,
   "id": "eaabe274",
   "metadata": {},
   "outputs": [],
   "source": [
    "# Eller vi kan se på den første entryen..."
   ]
  },
  {
   "cell_type": "code",
   "execution_count": null,
   "id": "6d172dcc",
   "metadata": {},
   "outputs": [],
   "source": [
    "io.imshow(digits.images[0], cmap=\"gray_r\")"
   ]
  },
  {
   "cell_type": "code",
   "execution_count": null,
   "id": "3097eaf6",
   "metadata": {},
   "outputs": [],
   "source": [
    "clf.predict(digits.data[0:1])[0]"
   ]
  },
  {
   "cell_type": "code",
   "execution_count": null,
   "id": "1d58dadb",
   "metadata": {},
   "outputs": [],
   "source": []
  }
 ],
 "metadata": {
  "language_info": {
   "codemirror_mode": {
    "name": "ipython"
   },
   "file_extension": ".py",
   "mimetype": "text/x-python",
   "name": "python",
   "nbconvert_exporter": "python"
  }
 },
 "nbformat": 4,
 "nbformat_minor": 5
}

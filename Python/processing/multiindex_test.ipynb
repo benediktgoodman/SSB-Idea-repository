{
 "cells": [
  {
   "cell_type": "markdown",
   "metadata": {},
   "source": [
    "### Testing multi-indexing\n",
    "Dette kan potensielt være en måte å få inn \"names\" og \"labels\" slik som i SAS i python. \\\n",
    "Men det er ikke sikkert dette er måten vi ender opp med å gjøre noe slikt. \\\n",
    "Anbefalingen er egentlig at kolonne-headerene heller blir en mellomting, en lengre og mer beskrivende kode kanskje. \\\n",
    "F.eks. \"sett_Nyheter_NRK_7_dager\" istedenfor noe sånt som dette i SAS - name: \"fjern4a\" - label: \"Sett på nyheter på NRK de siste 7 dagene\".\n",
    "\n",
    "MultiIndex kan potensielt brukes til andre ting, som feks. å ha hierarkier av data i en dataframe. Men man skal være bevisst på om det er mulig å lagre dette tilbake til dapla-lagringen eller ikke. Så det er smart å gjøre tester før man implementerer noe slikt."
   ]
  },
  {
   "cell_type": "code",
   "execution_count": null,
   "metadata": {},
   "outputs": [],
   "source": [
    "import dapla as dp\n",
    "import pandas as pd"
   ]
  },
  {
   "cell_type": "code",
   "execution_count": null,
   "metadata": {},
   "outputs": [],
   "source": [
    "diam = dp.read_pandas(\"/felles/kurs/helt_python/diamonds\")\n",
    "diam.keys()"
   ]
  },
  {
   "cell_type": "code",
   "execution_count": null,
   "metadata": {},
   "outputs": [],
   "source": [
    "# Legg til en oversetting av hvert kolonnenavn, rekkefølgen er viktig.\n",
    "diam.columns = [diam.columns, ['Ukjent: 0', 'karat', 'utskjæring', 'farge', 'klarhet', 'dybde', 'bord', 'pris', 'x', 'y', 'z']]\n",
    "# Her bruker vi \"Norwegian\" og \"English\" som stand-in for slik \"labels\" og \"names\" fungerer i SAS\n",
    "diam.columns.names = ['English', 'Norwegian']"
   ]
  },
  {
   "cell_type": "code",
   "execution_count": null,
   "metadata": {},
   "outputs": [],
   "source": [
    "diam.columns"
   ]
  },
  {
   "cell_type": "code",
   "execution_count": null,
   "metadata": {},
   "outputs": [],
   "source": [
    "# Det er relativt enkelt å selecte kolonner fra den øverste indeksen\n",
    "# Men man bør være bevisst på om man får en dataframe eller en series i retur\n",
    "df_english_carat = diam[['carat']]\n",
    "# Her er en metode for å konvertere den første kolonnen i en dataframe til en series\n",
    "series_english_carat = df_english_carat.iloc[:, 0] \n",
    "\n",
    "# Vis innholdet av dataframen\n",
    "df_english_carat"
   ]
  },
  {
   "cell_type": "code",
   "execution_count": null,
   "metadata": {},
   "outputs": [],
   "source": [
    "# Det er ikke like selvsagt hvordan å hente fra under-indeksene, men det er langt fra umulig\n",
    "df_norsk_karat = diam.xs('karat', level=\"Norwegian\", axis=1, drop_level = False)\n",
    "# Konverter til series likt som over\n",
    "series_norsk_karat = df_norsk_karat.iloc[:, 0] \n",
    "\n",
    "# Vis at det er forskjell før og etter .iloc\n",
    "print(type(df_norsk_karat))\n",
    "print(type(series_norsk_karat))\n",
    "\n",
    "# Se på den resulterende serien (uten kolonne-header)\n",
    "series_norsk_karat"
   ]
  },
  {
   "cell_type": "code",
   "execution_count": null,
   "metadata": {},
   "outputs": [],
   "source": [
    "# Man kan selvfølgelig hente fra den øverste indexen på samme måte, men det er ganske mye lengre enn å skrive diam[['carat']]\n",
    "df_english_carat = diam.xs('carat', level=\"English\", axis=1, drop_level = False)\n",
    "series_english_carat = df_english_carat.iloc[:, 0] "
   ]
  },
  {
   "cell_type": "code",
   "execution_count": null,
   "metadata": {},
   "outputs": [],
   "source": [
    "print(type(diam['carat']['karat']))\n",
    "diam['carat']['karat']\n"
   ]
  }
 ],
 "metadata": {
  "language_info": {
   "codemirror_mode": {
    "name": "ipython"
   },
   "file_extension": ".py",
   "mimetype": "text/x-python",
   "name": "python",
   "nbconvert_exporter": "python"
  }
 },
 "nbformat": 4,
 "nbformat_minor": 4
}

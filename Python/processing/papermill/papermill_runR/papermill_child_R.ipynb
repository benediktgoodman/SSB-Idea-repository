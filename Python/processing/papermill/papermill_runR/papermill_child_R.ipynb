{
 "cells": [
  {
   "cell_type": "code",
   "execution_count": null,
   "id": "48744e4d",
   "metadata": {
    "tags": [
     "parameters"
    ]
   },
   "outputs": [],
   "source": [
    "# Tagged with \"parameters\" in jupyter\n",
    "in_path = ''\n",
    "out_path = ''"
   ]
  },
  {
   "cell_type": "code",
   "execution_count": null,
   "id": "e2975249",
   "metadata": {},
   "outputs": [],
   "source": [
    "print(in_path)\n",
    "print(out_path)"
   ]
  },
  {
   "cell_type": "code",
   "execution_count": null,
   "id": "304de246",
   "metadata": {},
   "outputs": [],
   "source": [
    "df <- spark.read.path(in_path)\n",
    "# Konverter fra spark-dataframe til R dataframe\n",
    "df <- as.data.frame(df)"
   ]
  },
  {
   "cell_type": "code",
   "execution_count": null,
   "id": "169a78d7",
   "metadata": {},
   "outputs": [],
   "source": [
    "# Dropp den siste kolonnen, siden det er blitt med en rar index.\n",
    "df <- df[1:(length(df)-1)]"
   ]
  },
  {
   "cell_type": "code",
   "execution_count": null,
   "id": "c3de3fb0",
   "metadata": {},
   "outputs": [],
   "source": [
    "# Dupliser den siste raden i dataframe\n",
    "df <- rbind(df, tail(df,1))"
   ]
  },
  {
   "cell_type": "code",
   "execution_count": null,
   "id": "c85711c6",
   "metadata": {},
   "outputs": [],
   "source": [
    "# Konverter til dataframeformat spark forventer\n",
    "df <- as.DataFrame(df)\n",
    "# Lagre tilbake til daplalagringen\n",
    "spark.write.path(df, out_path, valuation = \"INTERNAL\", state = \"INPUT\")"
   ]
  }
 ],
 "metadata": {
  "language_info": {
   "codemirror_mode": "r",
   "file_extension": ".r",
   "mimetype": "text/x-r-source",
   "name": "R"
  }
 },
 "nbformat": 4,
 "nbformat_minor": 5
}

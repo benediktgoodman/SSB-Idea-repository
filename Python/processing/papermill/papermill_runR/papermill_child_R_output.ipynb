{
 "cells": [
  {
   "cell_type": "code",
   "execution_count": null,
   "id": "48744e4d",
   "metadata": {
    "papermill": {
     "duration": 0.057054,
     "end_time": "2021-09-27T09:51:55.572875",
     "exception": false,
     "start_time": "2021-09-27T09:51:55.515821",
     "status": "completed"
    },
    "tags": [
     "parameters"
    ]
   },
   "outputs": [],
   "source": [
    "# Tagged with \"parameters\" in jupyter\n",
    "in_path = ''\n",
    "out_path = ''"
   ]
  },
  {
   "cell_type": "code",
   "execution_count": null,
   "id": "dc49c895",
   "metadata": {
    "papermill": {
     "duration": 0.063243,
     "end_time": "2021-09-27T09:51:55.643399",
     "exception": false,
     "start_time": "2021-09-27T09:51:55.580156",
     "status": "completed"
    },
    "tags": [
     "injected-parameters"
    ]
   },
   "outputs": [],
   "source": [
    "# Parameters\n",
    "in_path = \"/felles/py_to_r_test/test1py_in\"\n",
    "out_path = \"/felles/py_to_r_test/test1r_out\"\n"
   ]
  },
  {
   "cell_type": "code",
   "execution_count": null,
   "id": "e2975249",
   "metadata": {
    "papermill": {
     "duration": 0.027254,
     "end_time": "2021-09-27T09:51:55.675358",
     "exception": false,
     "start_time": "2021-09-27T09:51:55.648104",
     "status": "completed"
    },
    "tags": []
   },
   "outputs": [],
   "source": [
    "print(in_path)\n",
    "print(out_path)"
   ]
  },
  {
   "cell_type": "code",
   "execution_count": null,
   "id": "304de246",
   "metadata": {
    "papermill": {
     "duration": 11.98253,
     "end_time": "2021-09-27T09:52:07.664874",
     "exception": false,
     "start_time": "2021-09-27T09:51:55.682344",
     "status": "completed"
    },
    "tags": []
   },
   "outputs": [],
   "source": [
    "df <- spark.read.path(in_path)\n",
    "# Konverter fra spark-dataframe til R dataframe\n",
    "df <- as.data.frame(df)"
   ]
  },
  {
   "cell_type": "code",
   "execution_count": null,
   "id": "169a78d7",
   "metadata": {
    "papermill": {
     "duration": 0.028504,
     "end_time": "2021-09-27T09:52:07.699027",
     "exception": false,
     "start_time": "2021-09-27T09:52:07.670523",
     "status": "completed"
    },
    "tags": []
   },
   "outputs": [],
   "source": [
    "# Dropp den siste kolonnen, siden det er blitt med en rar index.\n",
    "df <- df[1:(length(df)-1)]"
   ]
  },
  {
   "cell_type": "code",
   "execution_count": null,
   "id": "c3de3fb0",
   "metadata": {
    "papermill": {
     "duration": 0.029165,
     "end_time": "2021-09-27T09:52:07.735976",
     "exception": false,
     "start_time": "2021-09-27T09:52:07.706811",
     "status": "completed"
    },
    "tags": []
   },
   "outputs": [],
   "source": [
    "# Dupliser den siste raden i dataframe\n",
    "df <- rbind(df, tail(df,1))"
   ]
  },
  {
   "cell_type": "code",
   "execution_count": null,
   "id": "c85711c6",
   "metadata": {
    "papermill": {
     "duration": 5.161366,
     "end_time": "2021-09-27T09:52:12.903020",
     "exception": false,
     "start_time": "2021-09-27T09:52:07.741654",
     "status": "completed"
    },
    "tags": []
   },
   "outputs": [],
   "source": [
    "# Konverter til dataframeformat spark forventer\n",
    "df <- as.DataFrame(df)\n",
    "# Lagre tilbake til daplalagringen\n",
    "spark.write.path(df, out_path, valuation = \"INTERNAL\", state = \"INPUT\")"
   ]
  }
 ],
 "metadata": {
  "language_info": {
   "codemirror_mode": "r",
   "file_extension": ".r",
   "mimetype": "text/x-r-source",
   "name": "R"
  },
  "papermill": {
   "default_parameters": {},
   "duration": 27.069969,
   "end_time": "2021-09-27T09:52:14.982841",
   "environment_variables": {},
   "exception": null,
   "input_path": "papermill_child_R.ipynb",
   "output_path": "papermill_child_R_output.ipynb",
   "parameters": {
    "in_path": "/felles/py_to_r_test/test1py_in",
    "out_path": "/felles/py_to_r_test/test1r_out"
   },
   "start_time": "2021-09-27T09:51:47.912872",
   "version": "2.3.3"
  }
 },
 "nbformat": 4,
 "nbformat_minor": 5
}

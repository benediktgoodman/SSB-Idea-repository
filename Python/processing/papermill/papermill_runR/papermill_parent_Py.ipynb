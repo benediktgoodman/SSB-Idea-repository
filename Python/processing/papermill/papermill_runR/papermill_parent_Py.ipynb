{
 "cells": [
  {
   "cell_type": "markdown",
   "metadata": {},
   "source": [
    "### Sende data frem og tilbake mellom Python og R via papermill\n",
    "Vi legger til en ny rad i bunnen av datasettet i R, for så å vise denne i Python igjen"
   ]
  },
  {
   "cell_type": "code",
   "execution_count": null,
   "metadata": {},
   "outputs": [],
   "source": [
    "import dapla as dp\n",
    "import pandas as pd\n",
    "#Papermill kan \"parametisere\" og linke notebook-ark med hverandre\n",
    "import papermill as pm"
   ]
  },
  {
   "cell_type": "code",
   "execution_count": null,
   "metadata": {},
   "outputs": [],
   "source": [
    "# Eksempeldatasett\n",
    "org_inn = dp.read_pandas('/felles/rtest/test1')\n",
    "org_inn"
   ]
  },
  {
   "cell_type": "code",
   "execution_count": null,
   "metadata": {},
   "outputs": [],
   "source": [
    "Py_in_path = '/felles/py_to_r_test/test1py_in'\n",
    "#Py_out_path = '/felles/py_to_r_test/test1py_out'"
   ]
  },
  {
   "cell_type": "code",
   "execution_count": null,
   "metadata": {},
   "outputs": [],
   "source": [
    "dp.write_pandas(org_inn, Py_in_path, valuation='INTERNAL', state= 'INPUT')"
   ]
  },
  {
   "cell_type": "code",
   "execution_count": null,
   "metadata": {
    "tags": [
     "parameters"
    ]
   },
   "outputs": [],
   "source": [
    "#parameters are default values that may be overwritten later\n",
    "#But there is no reason for initiating them here, they should be initiated in the subnotebooks,\n",
    "#as the subnotebooks will fail if the values are not initialized in them, before calling them.\n",
    "#So dont do this, unless you want to revert to original values, like at the bottom of this notebook.\n",
    "\n",
    "#R_in_path = '/felles/py_to_r_test/test1r_in'\n",
    "R_out_path = '/felles/py_to_r_test/test1r_out'\n",
    "\n",
    "#The cells containing parameters must be tagged with \"parameters\"\n",
    "#Take a look here:\n",
    "#https://papermill.readthedocs.io/en/latest/usage-parameterize.html#jupyterlab-2-0"
   ]
  },
  {
   "cell_type": "code",
   "execution_count": null,
   "metadata": {},
   "outputs": [],
   "source": [
    "#The second path is \"outputfile\", you can overwrite the input file, \n",
    "#but dont reference in other notebooks as outputpath, as they will be overwritten!\n",
    "result = pm.execute_notebook(\n",
    "   'papermill_child_R.ipynb',\n",
    "   'papermill_child_R_output.ipynb',\n",
    "    #These paramateres overwrite the vars in the input file, by inserting a cell below the \"parameters\"-cell\n",
    "    #So first, the originals will be printed, but below the \"parameters\"-cell, the info passed through this function will be inserted\n",
    "    parameters=dict(in_path = Py_in_path, out_path = R_out_path)\n",
    ")"
   ]
  },
  {
   "cell_type": "code",
   "execution_count": null,
   "metadata": {},
   "outputs": [],
   "source": [
    "after_r = dp.read_pandas(R_out_path)\n",
    "after_r"
   ]
  },
  {
   "cell_type": "code",
   "execution_count": null,
   "metadata": {},
   "outputs": [],
   "source": []
  }
 ],
 "metadata": {
  "language_info": {
   "codemirror_mode": {
    "name": "ipython"
   },
   "file_extension": ".py",
   "mimetype": "text/x-python",
   "name": "python",
   "nbconvert_exporter": "python"
  }
 },
 "nbformat": 4,
 "nbformat_minor": 4
}

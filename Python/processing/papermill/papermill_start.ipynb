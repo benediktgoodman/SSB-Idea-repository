{
 "cells": [
  {
   "cell_type": "code",
   "execution_count": null,
   "metadata": {},
   "outputs": [],
   "source": [
    "#Dette er Carls utprøving av papermill-modulen\n",
    "#Papermill kan \"parametisere\" og linke notebook-ark med hverandre\n",
    "\n",
    "import papermill as pm"
   ]
  },
  {
   "cell_type": "code",
   "execution_count": null,
   "metadata": {},
   "outputs": [],
   "source": [
    "# Definer funksjon i globalt scope for å si noe\n",
    "# Funksjonen virker IKKE å arves av barne-ark \n",
    "def say_greeting(name, greeting):\n",
    "    print (name, \"sier\", greeting)\n"
   ]
  },
  {
   "cell_type": "code",
   "execution_count": null,
   "metadata": {
    "tags": [
     "parameters"
    ]
   },
   "outputs": [],
   "source": [
    "#parameters are default values that may be overwritten later\n",
    "#But there is no reason for initiating them here, they should be initiated in the subnotebooks,\n",
    "#as the subnotebooks will fail if the values are not initialized in them, before calling them.\n",
    "#So dont do this, unless you want to revert to original values, like at the bottom of this notebook.\n",
    "\n",
    "name = 'Carl'\n",
    "greeting = 'hallo'\n",
    "\n",
    "#The cells containing parameters must be tagged with \"parameters\"\n",
    "#Take a look here:\n",
    "#https://papermill.readthedocs.io/en/latest/usage-parameterize.html#jupyterlab-2-0"
   ]
  },
  {
   "cell_type": "code",
   "execution_count": null,
   "metadata": {},
   "outputs": [],
   "source": [
    "#As the excecute function returns lots of info, this is for only showing what is printed from the children notebooks\n",
    "def papermill_printout(result):\n",
    "    for cell in result.cells:\n",
    "        if cell.outputs:\n",
    "            if 'text' in cell.outputs[0]:\n",
    "                print (cell.outputs[0]['text'])\n",
    "\n",
    "#The second path is \"outputfile\", you can overwrite the input file, \n",
    "#but dont reference in other notebooks as outputpath, as they will be overwritten!\n",
    "result1 = pm.execute_notebook(\n",
    "   'papermill_sub/papermill_sub1.ipynb',\n",
    "   'papermill_sub/papermill_sub1_.ipynb',\n",
    "    #These paramateres overwrite the vars in the input file, by inserting a cell below the \"parameters\"-cell\n",
    "    #So first, the originals will be printed, but below the \"parameters\"-cell, the info passed through this function will be inserted\n",
    "    parameters=dict(name = 'Kjartan', greeting = 'samletid')\n",
    ")\n",
    "\n",
    "result2 = pm.execute_notebook(\n",
    "   'papermill_sub/papermill_sub2.ipynb',\n",
    "   'papermill_sub/papermill_sub2_.ipynb',\n",
    "    #These paramateres overwrite the vars in the input file, by inserting a cell below the \"parameters\"-cell\n",
    "    parameters=dict(name = 'Elisabeth', greeting = 'kaketid')\n",
    ")"
   ]
  },
  {
   "cell_type": "code",
   "execution_count": null,
   "metadata": {},
   "outputs": [],
   "source": [
    "papermill_printout(result1)\n",
    "\n",
    "papermill_printout(result2)"
   ]
  },
  {
   "cell_type": "code",
   "execution_count": null,
   "metadata": {},
   "outputs": [],
   "source": [
    "#Resten av variablene skjer ikke i \"global scope\", som er her ute i hovedarket. Derfor så vil variablene her ute, referere til de orginale verdiene\n",
    "#Her fungerer også funksjonen vi definerte her, som ikke nødvendigvis fungerer i sub-arkene.\n",
    "say_greeting(name, greeting)\n",
    "#Den generelle bruken vil nok være at man regner ut datagrunnlaget i hovedarket, og bruker \"underark\" for å bygge ulike tabeller på samme datagrunnlag"
   ]
  },
  {
   "cell_type": "code",
   "execution_count": null,
   "metadata": {},
   "outputs": [],
   "source": [
    "#Testing passing a dataframe into the papermill excecute function\n",
    "#This fails as it seems only simple (built-in?) variables can be passed on, not dataframes\n",
    "\n",
    "import pandas as pd\n",
    "\n",
    "land_fifa_data = {'Land':['Belgia', 'Frankrike', 'Brasil', 'England', 'Uruguay', 'Norge','Tyskland'],\n",
    "                  'Poeng': [1765, 1733, 1712, 1661, 1645, 1451, 1602],\n",
    "                 }\n",
    "\n",
    "df_land_fifa = pd.DataFrame(land_fifa_data)\n",
    "\n",
    "pm.execute_notebook(\n",
    "   'papermill_sub/papermill_sub3.ipynb',\n",
    "   'papermill_sub/papermill_sub3_.ipynb',\n",
    "    #These paramateres overwrite the vars in the input file, by inserting a cell below the \"parameters\"-cell\n",
    "   parameters=dict(df_land_fifa)\n",
    ")\n"
   ]
  },
  {
   "cell_type": "code",
   "execution_count": null,
   "metadata": {},
   "outputs": [],
   "source": []
  }
 ],
 "metadata": {
  "language_info": {
   "codemirror_mode": {
    "name": "ipython"
   },
   "file_extension": ".py",
   "mimetype": "text/x-python",
   "name": "python",
   "nbconvert_exporter": "python"
  }
 },
 "nbformat": 4,
 "nbformat_minor": 4
}

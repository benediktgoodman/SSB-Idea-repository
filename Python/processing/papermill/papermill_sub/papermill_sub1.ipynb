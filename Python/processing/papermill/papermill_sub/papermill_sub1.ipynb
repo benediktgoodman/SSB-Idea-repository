{
 "cells": [
  {
   "cell_type": "code",
   "execution_count": null,
   "metadata": {
    "tags": [
     "parameters"
    ]
   },
   "outputs": [],
   "source": [
    "#The cells containing parameters must be tagged with \"parameters\"\n",
    "#Take a look here:\n",
    "#https://papermill.readthedocs.io/en/latest/usage-parameterize.html#jupyterlab-2-0\n",
    "\n",
    "#Her ser vi om arket arver variablene fra startarket\n",
    "name = 'Rolf'\n",
    "greeting = 'yo!'\n",
    "\n",
    "print ('Subpage1 Print1: ', name, \"sier\", greeting)\n",
    "\n",
    "#Å excecute en funksjon fra et annet ark, virker ikke å være mulig\n",
    "#say_greeting(name, greeting)"
   ]
  },
  {
   "cell_type": "code",
   "execution_count": null,
   "metadata": {},
   "outputs": [],
   "source": [
    "#Papermill injects after the parameters cell, so this might actually return something different now than above...\n",
    "print ('Subpage1 Print2: ',name, \"sier\", greeting)"
   ]
  },
  {
   "cell_type": "code",
   "execution_count": null,
   "metadata": {},
   "outputs": [],
   "source": []
  }
 ],
 "metadata": {
  "language_info": {
   "codemirror_mode": {
    "name": "ipython"
   },
   "file_extension": ".py",
   "mimetype": "text/x-python",
   "name": "python",
   "nbconvert_exporter": "python"
  }
 },
 "nbformat": 4,
 "nbformat_minor": 4
}

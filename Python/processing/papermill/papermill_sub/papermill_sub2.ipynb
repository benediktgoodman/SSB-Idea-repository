{
 "cells": [
  {
   "cell_type": "code",
   "execution_count": null,
   "metadata": {
    "tags": [
     "parameters"
    ]
   },
   "outputs": [],
   "source": [
    "#The cells containing parameters must be tagged with \"parameters\"\n",
    "#Take a look here:\n",
    "#https://papermill.readthedocs.io/en/latest/usage-parameterize.html#jupyterlab-2-0\n",
    "\n",
    "#Her ser vi om vi kan endre variablene i det andre arket\n",
    "name = 'Rachel'\n",
    "greeting = 'god dag'\n",
    "print ('Subpage2 Print1: ',name, \"sier\", greeting)\n",
    "#say_greeting('Rachel', 'god dag')"
   ]
  },
  {
   "cell_type": "code",
   "execution_count": null,
   "metadata": {},
   "outputs": [],
   "source": [
    "print ('Subpage2 Print2: ',name, \"sier\", greeting)"
   ]
  }
 ],
 "metadata": {
  "language_info": {
   "codemirror_mode": {
    "name": "ipython"
   },
   "file_extension": ".py",
   "mimetype": "text/x-python",
   "name": "python",
   "nbconvert_exporter": "python"
  }
 },
 "nbformat": 4,
 "nbformat_minor": 4
}

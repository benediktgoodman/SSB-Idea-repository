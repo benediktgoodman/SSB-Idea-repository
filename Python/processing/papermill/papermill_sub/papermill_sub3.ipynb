{
 "cells": [
  {
   "cell_type": "code",
   "execution_count": null,
   "metadata": {
    "tags": [
     "parameters"
    ]
   },
   "outputs": [],
   "source": [
    "land_fifa_data = {'Land':['Belgia', 'Frankrike'],\n",
    "                  'Poeng': [1765, 1733],\n",
    "                 }\n",
    "df_land_fifa = pd.DataFrame(land_fifa_data)\n",
    "df_land_fifa.style.hide_index()"
   ]
  },
  {
   "cell_type": "code",
   "execution_count": null,
   "metadata": {},
   "outputs": [],
   "source": [
    "df_land_fifa.style.hide_index()"
   ]
  }
 ],
 "metadata": {
  "language_info": {
   "codemirror_mode": {
    "name": "ipython"
   },
   "file_extension": ".py",
   "mimetype": "text/x-python",
   "name": "python",
   "nbconvert_exporter": "python"
  }
 },
 "nbformat": 4,
 "nbformat_minor": 4
}

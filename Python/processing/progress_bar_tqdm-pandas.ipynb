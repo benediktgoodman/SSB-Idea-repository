{
 "cells": [
  {
   "cell_type": "markdown",
   "metadata": {},
   "source": [
    "## Progressbars with tqdm\n",
    "Currently has support for progress_apply and progress_map, which can be substituted for pandas apply and map.\\\n",
    "Tqdm-package is used by papermill when executing other notebooks, where the cells are the components that are counted over in the progress-bars."
   ]
  },
  {
   "cell_type": "code",
   "execution_count": null,
   "metadata": {},
   "outputs": [],
   "source": [
    "import pandas as pd\n",
    "import numpy as np\n",
    "import dapla as dp\n",
    "\n",
    "from tqdm.notebook import tqdm_notebook as pbar"
   ]
  },
  {
   "cell_type": "code",
   "execution_count": null,
   "metadata": {},
   "outputs": [],
   "source": [
    "diam = dp.read_pandas(\"/felles/kurs/helt_python/diamonds\")"
   ]
  },
  {
   "cell_type": "markdown",
   "metadata": {},
   "source": [
    "### With Pandas\n",
    "Now you can use `progress_apply` instead of `apply`\n",
    "and `progress_map` instead of `map`"
   ]
  },
  {
   "cell_type": "code",
   "execution_count": null,
   "metadata": {},
   "outputs": [],
   "source": [
    "pbar.pandas(desc=\"Depth exponential\")\n",
    "diam['depth'] = diam['depth'].progress_apply(lambda x: x**2)\n",
    "\n",
    "pbar.pandas(desc=\"Table exponential\")\n",
    "diam['table'] = diam['table'].progress_apply(lambda x: x**2)\n",
    "\n",
    "pbar.pandas(desc=\"Price exponential\")\n",
    "diam['price'] = diam['price'].progress_apply(lambda x: x**2)"
   ]
  },
  {
   "cell_type": "markdown",
   "metadata": {},
   "source": [
    "## Iterable\n",
    "#### Otherwise you have to pass tqdm an iterable which is passed into a loop, like the column in a dataframe or a list, into a for or while-loop, so it knows what to count over."
   ]
  },
  {
   "cell_type": "code",
   "execution_count": null,
   "metadata": {},
   "outputs": [],
   "source": [
    "from time import sleep\n",
    "\n",
    "total_price = 0\n",
    "for num in pbar(diam['price']):\n",
    "    sleep(0.00001)\n",
    "    total_price += num\n",
    "print(total_price)"
   ]
  },
  {
   "cell_type": "markdown",
   "metadata": {},
   "source": [
    "### Manual"
   ]
  },
  {
   "cell_type": "code",
   "execution_count": null,
   "metadata": {},
   "outputs": [],
   "source": [
    "# Here we define the total (100) and then update the total (by 10) for every iteration of the loop.\n",
    "# If you do your math wrong, your progress-bar might finish at something else than 100%...\n",
    "with pbar(total=100) as pbar1:\n",
    "    for i in range(10):\n",
    "        sleep(0.1)\n",
    "        pbar1.update(10)\n",
    "        # Uncomment for example of wrong math:\n",
    "        #pbar.update(10.1)"
   ]
  },
  {
   "cell_type": "code",
   "execution_count": null,
   "metadata": {},
   "outputs": [],
   "source": [
    "# You don't have to provide a total if the iterable is of known length:\n",
    "diam_colors = pd.unique(diam['color'])\n",
    "print(len(diam_colors))\n",
    "\n",
    "# Assign the tqdm-object to a variable, before the loop\n",
    "pbar2 = pbar(diam_colors)\n",
    "\n",
    "for c in pbar2:\n",
    "    sleep(0.1)\n",
    "    print(c)\n",
    "    #pbar.update()\n",
    "\n",
    "# If you assign the tqdm-function to a variable, like above, you need to close it like this after usage:\n",
    "pbar2.close()"
   ]
  },
  {
   "cell_type": "code",
   "execution_count": null,
   "metadata": {},
   "outputs": [],
   "source": [
    "# What happens if we loop over \"pbar2\" more than once?\n",
    "with pbar2:\n",
    "    print('\\n')\n",
    "    for i in pbar2:\n",
    "        sleep(0.1)\n",
    "        print(i)\n",
    "pbar2.close()    \n",
    "# Seems the object has been deleted..."
   ]
  },
  {
   "cell_type": "code",
   "execution_count": null,
   "metadata": {},
   "outputs": [],
   "source": [
    "# But we can remake it\n",
    "pbar2 = pbar(diam_colors)\n",
    "\n",
    "# Which makes it available again\n",
    "with pbar2:\n",
    "    print('\\n')\n",
    "    for i in pbar2:\n",
    "        sleep(0.1)\n",
    "        print(i)\n",
    "pbar2.close()   \n",
    "\n",
    "# So you need to consider the \"close()\" as a \"del\" on the object called"
   ]
  }
 ],
 "metadata": {
  "language_info": {
   "codemirror_mode": {
    "name": "ipython"
   },
   "file_extension": ".py",
   "mimetype": "text/x-python",
   "name": "python",
   "nbconvert_exporter": "python"
  }
 },
 "nbformat": 4,
 "nbformat_minor": 4
}

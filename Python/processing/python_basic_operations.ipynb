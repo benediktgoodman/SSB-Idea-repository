{
 "cells": [
  {
   "cell_type": "code",
   "execution_count": null,
   "id": "bb5515fe",
   "metadata": {},
   "outputs": [],
   "source": [
    "\n",
    "i = 2\n",
    "\n",
    "langt_og_beskrivende_navn = 'Jo'\n",
    "camelCase = ['Jeg gir camelCase en score på:', 5]"
   ]
  },
  {
   "cell_type": "code",
   "execution_count": null,
   "id": "4ad5fef2",
   "metadata": {},
   "outputs": [],
   "source": [
    "# En basic for-loop\n",
    "for j in camelCase:\n",
    "    print(j)"
   ]
  },
  {
   "cell_type": "code",
   "execution_count": null,
   "id": "f47f6012",
   "metadata": {},
   "outputs": [],
   "source": [
    "# While loop\n",
    "x = 1\n",
    "while x <= lowerCamelCase[1]:\n",
    "    print(x)\n",
    "    x *= 1.15\n",
    "    \n",
    "    if x >= 4:\n",
    "        break"
   ]
  },
  {
   "cell_type": "code",
   "execution_count": null,
   "id": "c9b4e5d8",
   "metadata": {},
   "outputs": [],
   "source": [
    "def add(y, z):\n",
    "    return y + z"
   ]
  },
  {
   "cell_type": "code",
   "execution_count": null,
   "id": "99454248",
   "metadata": {},
   "outputs": [],
   "source": [
    "var = add(i, lowerCamelCase[1])\n",
    "print(var)"
   ]
  },
  {
   "cell_type": "code",
   "execution_count": null,
   "id": "83a0a4d2",
   "metadata": {},
   "outputs": [],
   "source": [
    "class placeholder():\n",
    "    def subtract(a, b):\n",
    "        return a - b"
   ]
  },
  {
   "cell_type": "code",
   "execution_count": null,
   "id": "18d40aa3",
   "metadata": {},
   "outputs": [],
   "source": [
    "placeholder.subtract(lowerCamelCase[1], i)"
   ]
  },
  {
   "cell_type": "code",
   "execution_count": null,
   "id": "25896f31",
   "metadata": {},
   "outputs": [],
   "source": []
  }
 ],
 "metadata": {
  "language_info": {
   "codemirror_mode": {
    "name": "ipython"
   },
   "file_extension": ".py",
   "mimetype": "text/x-python",
   "name": "python",
   "nbconvert_exporter": "python"
  }
 },
 "nbformat": 4,
 "nbformat_minor": 5
}

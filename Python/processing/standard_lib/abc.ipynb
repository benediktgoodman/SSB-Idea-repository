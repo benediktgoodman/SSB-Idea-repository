{
 "cells": [
  {
   "cell_type": "code",
   "execution_count": null,
   "id": "973326c3",
   "metadata": {},
   "outputs": [],
   "source": [
    "from abc import ABC, abstractmethod"
   ]
  },
  {
   "cell_type": "code",
   "execution_count": null,
   "id": "f8c6914c",
   "metadata": {},
   "outputs": [],
   "source": [
    "# Definer en klasse som man skal arve fra\n",
    "class ansatte(ABC):\n",
    "    # En abstrakt metode, man ønsker at alle barna skal implementere, men som ikke trengs å implementeres her\n",
    "    @abstractmethod\n",
    "    def betal():\n",
    "        # Vi må kunne betale alle ansatte, men denne utregningen er ulik per ansatt\n",
    "        pass"
   ]
  },
  {
   "cell_type": "code",
   "execution_count": null,
   "id": "bcfe05d0",
   "metadata": {},
   "outputs": [],
   "source": [
    "# En subclasse for de ansatte som er fast, og da med en implementering av betal-metoden\n",
    "class fast(ansatte):\n",
    "    timelonn: int = 200\n",
    "    def betal(self):\n",
    "        return 37.5*self.timelonn"
   ]
  },
  {
   "cell_type": "code",
   "execution_count": null,
   "id": "39f07703",
   "metadata": {},
   "outputs": [],
   "source": [
    "# Om den abstrakte metoden ikke er implementert i subclassen, vil man her få en error, ved initialisering av ett objekt basert på subclassen\n",
    "a = fast()"
   ]
  },
  {
   "cell_type": "code",
   "execution_count": null,
   "id": "dcffc15b",
   "metadata": {},
   "outputs": [],
   "source": [
    "a.betal()"
   ]
  },
  {
   "cell_type": "code",
   "execution_count": null,
   "id": "cf40974c",
   "metadata": {},
   "outputs": [],
   "source": [
    "help(a)"
   ]
  },
  {
   "cell_type": "code",
   "execution_count": null,
   "id": "a15c38bb",
   "metadata": {},
   "outputs": [],
   "source": []
  }
 ],
 "metadata": {
  "language_info": {
   "codemirror_mode": {
    "name": "ipython"
   },
   "file_extension": ".py",
   "mimetype": "text/x-python",
   "name": "python",
   "nbconvert_exporter": "python"
  }
 },
 "nbformat": 4,
 "nbformat_minor": 5
}

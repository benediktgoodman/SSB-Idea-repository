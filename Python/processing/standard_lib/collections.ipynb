{
 "cells": [
  {
   "cell_type": "markdown",
   "id": "183fd33b",
   "metadata": {},
   "source": [
    "### namedTuple() \n",
    "With namedtuple(), you can create immutable sequence types that allow you to access their values using descriptive field names and the dot notation instead of unclear integer indices."
   ]
  },
  {
   "cell_type": "code",
   "execution_count": null,
   "id": "a0babaf8",
   "metadata": {},
   "outputs": [],
   "source": [
    "from collections import namedtuple"
   ]
  },
  {
   "cell_type": "code",
   "execution_count": null,
   "id": "a5a6b1ef",
   "metadata": {},
   "outputs": [],
   "source": [
    "Point = namedtuple('Point', ['x', 'y'])\n",
    "issubclass(Point, tuple)"
   ]
  },
  {
   "cell_type": "code",
   "execution_count": null,
   "id": "9a6f3aa7",
   "metadata": {},
   "outputs": [],
   "source": [
    "point1 = Point(2, 4)\n",
    "point1"
   ]
  },
  {
   "cell_type": "code",
   "execution_count": null,
   "id": "e3139a87",
   "metadata": {},
   "outputs": [],
   "source": [
    "point1.x"
   ]
  },
  {
   "cell_type": "code",
   "execution_count": null,
   "id": "46d3a473",
   "metadata": {},
   "outputs": [],
   "source": [
    "point1[0]"
   ]
  },
  {
   "cell_type": "code",
   "execution_count": null,
   "id": "4f2c5314",
   "metadata": {},
   "outputs": [],
   "source": [
    "# Namedtuples are immutable, like their namesake\n",
    "point1[0] = 10"
   ]
  },
  {
   "cell_type": "markdown",
   "id": "9bcb8dda",
   "metadata": {},
   "source": [
    "### deque\n",
    "Especially designed to provide fast and memory-efficient ways to append and pop item from both ends of the underlying data structure."
   ]
  },
  {
   "cell_type": "code",
   "execution_count": null,
   "id": "b1dff345",
   "metadata": {},
   "outputs": [],
   "source": [
    "from collections import deque"
   ]
  },
  {
   "cell_type": "code",
   "execution_count": null,
   "id": "84267ed2",
   "metadata": {},
   "outputs": [],
   "source": [
    "# Construct deques from different iterables\n",
    "a = deque([1, 2, 3, 4])\n",
    "b = deque((1, 2, 3, 4))\n",
    "c = deque(range(1, 5))\n",
    "a == b == c"
   ]
  },
  {
   "cell_type": "code",
   "execution_count": null,
   "id": "56511a5f",
   "metadata": {},
   "outputs": [],
   "source": [
    "d = deque(\"abcd\")\n",
    "d"
   ]
  },
  {
   "cell_type": "code",
   "execution_count": null,
   "id": "bc218667",
   "metadata": {},
   "outputs": [],
   "source": [
    "numbers = {\"one\": 1, \"two\": 2, \"three\": 3, \"four\": 4}\n",
    "deque(numbers.items())"
   ]
  },
  {
   "cell_type": "markdown",
   "id": "a52fe381",
   "metadata": {},
   "source": [
    "##### Popping"
   ]
  },
  {
   "cell_type": "code",
   "execution_count": null,
   "id": "a04469ae",
   "metadata": {},
   "outputs": [],
   "source": [
    "a = deque([1, 2, 3, 4])"
   ]
  },
  {
   "cell_type": "code",
   "execution_count": null,
   "id": "48316969",
   "metadata": {},
   "outputs": [],
   "source": [
    "a0 = a.popleft()\n",
    "a4 = a.pop()"
   ]
  },
  {
   "cell_type": "code",
   "execution_count": null,
   "id": "6d64f3c4",
   "metadata": {},
   "outputs": [],
   "source": [
    "print(a0, a4, a)"
   ]
  },
  {
   "cell_type": "markdown",
   "id": "eb0e4b1d",
   "metadata": {},
   "source": [
    "##### Other methods"
   ]
  },
  {
   "cell_type": "code",
   "execution_count": null,
   "id": "41769b0c",
   "metadata": {},
   "outputs": [],
   "source": [
    "a.append(5)"
   ]
  },
  {
   "cell_type": "code",
   "execution_count": null,
   "id": "2db2af10",
   "metadata": {},
   "outputs": [],
   "source": [
    "a"
   ]
  },
  {
   "cell_type": "code",
   "execution_count": null,
   "id": "5cb7e0bf",
   "metadata": {},
   "outputs": [],
   "source": [
    "a[-1]"
   ]
  },
  {
   "cell_type": "code",
   "execution_count": null,
   "id": "3f11d780",
   "metadata": {},
   "outputs": [],
   "source": [
    "a[0]"
   ]
  },
  {
   "cell_type": "code",
   "execution_count": null,
   "id": "6c410209",
   "metadata": {},
   "outputs": [],
   "source": [
    "a.extendleft([0, 1])\n",
    "a"
   ]
  },
  {
   "cell_type": "code",
   "execution_count": null,
   "id": "34dc8e4f",
   "metadata": {},
   "outputs": [],
   "source": [
    "a.rotate(-3)\n",
    "a"
   ]
  },
  {
   "cell_type": "code",
   "execution_count": null,
   "id": "5c5025ed",
   "metadata": {},
   "outputs": [],
   "source": [
    "a.reverse()\n",
    "a"
   ]
  },
  {
   "cell_type": "code",
   "execution_count": null,
   "id": "6089d6b9",
   "metadata": {},
   "outputs": [],
   "source": [
    "for i in a:\n",
    "    print(i)"
   ]
  },
  {
   "cell_type": "markdown",
   "id": "13169daa",
   "metadata": {},
   "source": [
    "### ChainMap\n",
    "an updatable view over multiple dicts, and it behaves just like a normal dict."
   ]
  },
  {
   "cell_type": "code",
   "execution_count": null,
   "id": "e04cf49d",
   "metadata": {},
   "outputs": [],
   "source": [
    "toys = {'Blocks': 30, 'Monopoly': 20}\n",
    "computers = {'iMac': 1000, 'Chromebook': 800, 'PC': 400}\n",
    "clothing = {'Jeans': 40, 'T-Shirt': 10}"
   ]
  },
  {
   "cell_type": "code",
   "execution_count": null,
   "id": "bd594194",
   "metadata": {},
   "outputs": [],
   "source": [
    "from collections import ChainMap\n",
    "inventory = ChainMap(toys, computers, clothing)\n",
    "inventory"
   ]
  },
  {
   "cell_type": "code",
   "execution_count": null,
   "id": "d081d513",
   "metadata": {},
   "outputs": [],
   "source": [
    "inventory['Monopoly']"
   ]
  },
  {
   "cell_type": "code",
   "execution_count": null,
   "id": "c58d3350",
   "metadata": {},
   "outputs": [],
   "source": [
    "inventory.get('PC')"
   ]
  },
  {
   "cell_type": "markdown",
   "id": "bb3474dd",
   "metadata": {},
   "source": [
    "### Counter\n",
    "dict subclass for counting hashable objects. It is a collection where elements are stored as dictionary keys and their counts are stored as dictionary values. Counts are allowed to be any integer value including zero or negative counts."
   ]
  },
  {
   "cell_type": "code",
   "execution_count": null,
   "id": "f31c8e37",
   "metadata": {},
   "outputs": [],
   "source": [
    "from collections import Counter"
   ]
  },
  {
   "cell_type": "code",
   "execution_count": null,
   "id": "0b7586d4",
   "metadata": {},
   "outputs": [],
   "source": [
    "e = Counter(['a', 'b', 'c', 'a', 'b', 'a'])"
   ]
  },
  {
   "cell_type": "code",
   "execution_count": null,
   "id": "1828586d",
   "metadata": {},
   "outputs": [],
   "source": [
    "e"
   ]
  },
  {
   "cell_type": "code",
   "execution_count": null,
   "id": "09f7760b",
   "metadata": {},
   "outputs": [],
   "source": [
    "for i in e.elements(): print(i)"
   ]
  },
  {
   "cell_type": "code",
   "execution_count": null,
   "id": "2dc019b3",
   "metadata": {},
   "outputs": [],
   "source": [
    "e.most_common(1)"
   ]
  },
  {
   "cell_type": "code",
   "execution_count": null,
   "id": "4679e6d9",
   "metadata": {},
   "outputs": [],
   "source": [
    "e.subtract(Counter(['a', 'b', 'c']))\n",
    "e"
   ]
  },
  {
   "cell_type": "code",
   "execution_count": null,
   "id": "ab8983a7",
   "metadata": {},
   "outputs": [],
   "source": [
    "e.update(Counter(a = -3))\n",
    "e"
   ]
  },
  {
   "cell_type": "code",
   "execution_count": null,
   "id": "3af13a2c",
   "metadata": {},
   "outputs": [],
   "source": [
    "for i in e.elements(): print(i)"
   ]
  },
  {
   "cell_type": "code",
   "execution_count": null,
   "id": "60b29cb3",
   "metadata": {},
   "outputs": [],
   "source": [
    "-e"
   ]
  },
  {
   "cell_type": "code",
   "execution_count": null,
   "id": "805718ff",
   "metadata": {},
   "outputs": [],
   "source": [
    "+e"
   ]
  },
  {
   "cell_type": "markdown",
   "id": "83dfcdf2",
   "metadata": {},
   "source": [
    "### OrderedDict\n",
    "When we iterate over an OrderedDict, items are returned in the order they were inserted.\n",
    "\n",
    "A regular dictionary doesn’t track the insertion order. So when iterating over it, items are returned in an arbitrary order. When we want to make sure that items are returned in the order they were inserted, we can use OrderedDict."
   ]
  },
  {
   "cell_type": "code",
   "execution_count": null,
   "id": "15c77616",
   "metadata": {},
   "outputs": [],
   "source": [
    "from collections import OrderedDict"
   ]
  },
  {
   "cell_type": "code",
   "execution_count": null,
   "id": "9013f3da",
   "metadata": {},
   "outputs": [],
   "source": [
    "f = OrderedDict()\n",
    "for i, a in enumerate(\"abcd\"):\n",
    "    f[a] = i"
   ]
  },
  {
   "cell_type": "code",
   "execution_count": null,
   "id": "27f56ee5",
   "metadata": {},
   "outputs": [],
   "source": [
    "f"
   ]
  },
  {
   "cell_type": "code",
   "execution_count": null,
   "id": "9c7396b5",
   "metadata": {},
   "outputs": [],
   "source": [
    "# Move an item to end\n",
    "f.move_to_end(\"b\")\n",
    "f"
   ]
  },
  {
   "cell_type": "code",
   "execution_count": null,
   "id": "49b21cc0",
   "metadata": {},
   "outputs": [],
   "source": [
    "# Move an item to start\n",
    "f.move_to_end(\"c\", last = False)\n",
    "f"
   ]
  },
  {
   "cell_type": "code",
   "execution_count": null,
   "id": "fd5c14eb",
   "metadata": {},
   "outputs": [],
   "source": [
    "g = f.popitem()\n",
    "print(g, f)"
   ]
  },
  {
   "cell_type": "code",
   "execution_count": null,
   "id": "f9056890",
   "metadata": {},
   "outputs": [],
   "source": [
    "h = f.popitem(last = False)\n",
    "print(h, f)"
   ]
  },
  {
   "cell_type": "code",
   "execution_count": null,
   "id": "eeecb063",
   "metadata": {},
   "outputs": [],
   "source": [
    "f['d']"
   ]
  },
  {
   "cell_type": "code",
   "execution_count": null,
   "id": "55e24559",
   "metadata": {},
   "outputs": [],
   "source": [
    "# Because integers may be keys, this is not possible\n",
    "f[0]"
   ]
  },
  {
   "cell_type": "code",
   "execution_count": null,
   "id": "0f18f776",
   "metadata": {},
   "outputs": [],
   "source": [
    "# But we can get it with the \"next-iter\"-pattern\n",
    "print(next(iter(f)), ':', f[next(iter(f))])"
   ]
  },
  {
   "cell_type": "code",
   "execution_count": null,
   "id": "817922d6",
   "metadata": {},
   "outputs": [],
   "source": [
    "f.keys()"
   ]
  },
  {
   "cell_type": "code",
   "execution_count": null,
   "id": "0eb72fdb",
   "metadata": {},
   "outputs": [],
   "source": [
    "f.values()"
   ]
  },
  {
   "cell_type": "code",
   "execution_count": null,
   "id": "10196341",
   "metadata": {},
   "outputs": [],
   "source": [
    "f.items()"
   ]
  },
  {
   "cell_type": "markdown",
   "id": "86f010f1",
   "metadata": {},
   "source": [
    "### defaultdict\n",
    "Return a new dictionary-like object. defaultdict is a subclass of the built-in dict class. It overrides one method and adds one writable instance variable. The remaining functionality is the same as for the dict class"
   ]
  },
  {
   "cell_type": "code",
   "execution_count": null,
   "id": "d7a15bce",
   "metadata": {},
   "outputs": [],
   "source": [
    "from collections import defaultdict"
   ]
  },
  {
   "cell_type": "code",
   "execution_count": null,
   "id": "2ae6adbc",
   "metadata": {},
   "outputs": [],
   "source": [
    "s = [('yellow', 1), ('blue', 2), ('yellow', 3), ('blue', 4), ('red', 1)]\n",
    "d = defaultdict(int)\n",
    "for k, v in s:\n",
    "    d[k] += 1"
   ]
  },
  {
   "cell_type": "code",
   "execution_count": null,
   "id": "30f8e9ea",
   "metadata": {},
   "outputs": [],
   "source": [
    "d.items()"
   ]
  },
  {
   "cell_type": "code",
   "execution_count": null,
   "id": "a791db11",
   "metadata": {},
   "outputs": [],
   "source": [
    "# This key does not exist, so we get a \"default value\" for int = 0\n",
    "d['green']"
   ]
  },
  {
   "cell_type": "code",
   "execution_count": null,
   "id": "b172989b",
   "metadata": {},
   "outputs": [],
   "source": [
    "int()"
   ]
  },
  {
   "cell_type": "code",
   "execution_count": null,
   "id": "9e7b3538",
   "metadata": {},
   "outputs": [],
   "source": [
    "# Constructing with list gives an empty list\n",
    "h = defaultdict(list)\n",
    "h['green']"
   ]
  },
  {
   "cell_type": "code",
   "execution_count": null,
   "id": "7b67d020",
   "metadata": {},
   "outputs": [],
   "source": [
    "list()"
   ]
  },
  {
   "cell_type": "markdown",
   "id": "95fe28a1",
   "metadata": {},
   "source": [
    "### UserDict\n",
    "Consider subclassing dict directly instead..."
   ]
  },
  {
   "cell_type": "code",
   "execution_count": null,
   "id": "71b49eb7",
   "metadata": {},
   "outputs": [],
   "source": [
    "from collections import UserDict\n",
    "a = UserDict(a=1)\n",
    "d = dict(d=3)  # regular dictionary for comparison\n",
    "print(a, d)"
   ]
  },
  {
   "cell_type": "code",
   "execution_count": null,
   "id": "bb2e2c4e",
   "metadata": {},
   "outputs": [],
   "source": [
    "for k in a:\n",
    "    print(k, a[k]) \n",
    "# UserDict.items() returns \"real dict\" inside \"ItemsView\"\n",
    "a.items()"
   ]
  },
  {
   "cell_type": "code",
   "execution_count": null,
   "id": "b7b08215",
   "metadata": {},
   "outputs": [],
   "source": [
    "b = a.items()\n",
    "type(b)"
   ]
  },
  {
   "cell_type": "code",
   "execution_count": null,
   "id": "1e3cd646",
   "metadata": {},
   "outputs": [],
   "source": [
    "for k in d:\n",
    "    print(k, d[k])\n",
    "# While an ordinary \n",
    "d.items()"
   ]
  },
  {
   "cell_type": "code",
   "execution_count": null,
   "id": "463c0bef",
   "metadata": {},
   "outputs": [],
   "source": [
    "type(d.items())"
   ]
  },
  {
   "cell_type": "markdown",
   "id": "e510f9ec",
   "metadata": {},
   "source": [
    "### UserList\n",
    "Consider subclassing list directly instead.\n",
    "This class acts as a wrapper class around the List objects. This class is useful when one wants to create a list of their own with some modified functionality or with some new functionality. It can be considered as a way of adding new behaviors for the list. This class takes a list instance as an argument and simulates a list that is kept in a regular list. The list is accessible by the data attribute of the this class."
   ]
  },
  {
   "cell_type": "markdown",
   "id": "067c1c71",
   "metadata": {},
   "source": [
    "### UserString"
   ]
  },
  {
   "cell_type": "markdown",
   "id": "9afc0e6e",
   "metadata": {},
   "source": [
    "The class, UserString acts as a wrapper around string objects. The need for this class has been partially supplanted by the ability to subclass directly from str; however, this class can be easier to work with because the underlying string is accessible as an attribute."
   ]
  },
  {
   "cell_type": "code",
   "execution_count": null,
   "id": "3da3a813",
   "metadata": {},
   "outputs": [],
   "source": []
  }
 ],
 "metadata": {
  "language_info": {
   "codemirror_mode": {
    "name": "ipython"
   },
   "file_extension": ".py",
   "mimetype": "text/x-python",
   "name": "python",
   "nbconvert_exporter": "python"
  }
 },
 "nbformat": 4,
 "nbformat_minor": 5
}

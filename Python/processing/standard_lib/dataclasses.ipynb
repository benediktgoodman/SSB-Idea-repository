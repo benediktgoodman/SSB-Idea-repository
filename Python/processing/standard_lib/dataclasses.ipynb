{
 "cells": [
  {
   "cell_type": "markdown",
   "id": "89d0a97d",
   "metadata": {},
   "source": [
    "https://realpython.com/python-data-classes/"
   ]
  },
  {
   "cell_type": "code",
   "execution_count": null,
   "id": "3d1df349",
   "metadata": {},
   "outputs": [],
   "source": [
    "from dataclasses import dataclass, field\n",
    "from typing import List"
   ]
  },
  {
   "cell_type": "code",
   "execution_count": null,
   "id": "3d23148b",
   "metadata": {},
   "outputs": [],
   "source": [
    "suits = \"♧♦♥♤\"\n",
    "ranks = ['2', '3', '4', '5', '6', '7', '8', '9', '10', 'J', 'Q', 'K', 'A']"
   ]
  },
  {
   "cell_type": "code",
   "execution_count": null,
   "id": "86011f6d",
   "metadata": {},
   "outputs": [],
   "source": [
    "@dataclass(order=True)\n",
    "class Card:\n",
    "    sort_index: int = field(init=False, repr=False)\n",
    "    rank: str = 'joker'\n",
    "    num : int = 0\n",
    "    suit: str = 'joker'\n",
    "        \n",
    "    def __post_init__(self):\n",
    "        self.sort_index = (ranks.index(self.rank) * len(suits)\n",
    "                           + suits.index(self.suit))\n",
    "    \n",
    "    def __str__(self):\n",
    "        return f'{self.suit}{self.rank}'"
   ]
  },
  {
   "cell_type": "code",
   "execution_count": null,
   "id": "c803bc04",
   "metadata": {},
   "outputs": [],
   "source": [
    "queen_of_hearts = Card('Q', 12, '♥')\n",
    "queen_of_hearts"
   ]
  },
  {
   "cell_type": "code",
   "execution_count": null,
   "id": "106b375c",
   "metadata": {},
   "outputs": [],
   "source": [
    "queen_of_hearts.sort_index"
   ]
  },
  {
   "cell_type": "code",
   "execution_count": null,
   "id": "8727f933",
   "metadata": {},
   "outputs": [],
   "source": [
    "tenspades = Card('10', 10, '♧')"
   ]
  },
  {
   "cell_type": "code",
   "execution_count": null,
   "id": "938f2032",
   "metadata": {},
   "outputs": [],
   "source": [
    "tenspades.sort_index"
   ]
  },
  {
   "cell_type": "code",
   "execution_count": null,
   "id": "aa115c64",
   "metadata": {},
   "outputs": [],
   "source": [
    "#help(queen_of_hearts)"
   ]
  },
  {
   "cell_type": "code",
   "execution_count": null,
   "id": "483772dd",
   "metadata": {},
   "outputs": [],
   "source": [
    "queen_of_hearts"
   ]
  },
  {
   "cell_type": "code",
   "execution_count": null,
   "id": "763bc31c",
   "metadata": {},
   "outputs": [],
   "source": [
    "f'{queen_of_hearts!s}'"
   ]
  },
  {
   "cell_type": "code",
   "execution_count": null,
   "id": "b3885ec7",
   "metadata": {},
   "outputs": [],
   "source": [
    "queen_of_hearts.rank"
   ]
  },
  {
   "cell_type": "code",
   "execution_count": null,
   "id": "2afd25e8",
   "metadata": {},
   "outputs": [],
   "source": [
    "print(queen_of_hearts)"
   ]
  },
  {
   "cell_type": "markdown",
   "id": "3a054f72",
   "metadata": {},
   "source": [
    "### Make a deck"
   ]
  },
  {
   "cell_type": "code",
   "execution_count": null,
   "id": "6b1aaa3c",
   "metadata": {},
   "outputs": [],
   "source": [
    "def make_french_deck():\n",
    "    return [Card(r, i+2, s) for s in suits for i, r in enumerate(ranks)]"
   ]
  },
  {
   "cell_type": "code",
   "execution_count": null,
   "id": "2433d01c",
   "metadata": {},
   "outputs": [],
   "source": [
    "@dataclass\n",
    "class Deck:\n",
    "    cards: List[Card] = field(default_factory=make_french_deck)\n",
    "        \n",
    "    def __repr__(self):\n",
    "        cards = ', '.join(f'{c!s}' for c in self.cards)\n",
    "        return f'{self.__class__.__name__}({cards})'"
   ]
  },
  {
   "cell_type": "code",
   "execution_count": null,
   "id": "d91e810d",
   "metadata": {},
   "outputs": [],
   "source": [
    "deck1 = Deck(sorted(make_french_deck()))"
   ]
  },
  {
   "cell_type": "code",
   "execution_count": null,
   "id": "54e772ee",
   "metadata": {},
   "outputs": [],
   "source": [
    "deck1"
   ]
  },
  {
   "cell_type": "code",
   "execution_count": null,
   "id": "51763060",
   "metadata": {},
   "outputs": [],
   "source": [
    "sorted(deck1)"
   ]
  },
  {
   "cell_type": "code",
   "execution_count": null,
   "id": "224976c3",
   "metadata": {},
   "outputs": [],
   "source": []
  }
 ],
 "metadata": {
  "language_info": {
   "codemirror_mode": {
    "name": "ipython"
   },
   "file_extension": ".py",
   "mimetype": "text/x-python",
   "name": "python",
   "nbconvert_exporter": "python"
  }
 },
 "nbformat": 4,
 "nbformat_minor": 5
}

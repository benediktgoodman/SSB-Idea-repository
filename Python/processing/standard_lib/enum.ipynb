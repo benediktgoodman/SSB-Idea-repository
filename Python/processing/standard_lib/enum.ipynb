{
 "cells": [
  {
   "cell_type": "markdown",
   "id": "72990ac9",
   "metadata": {},
   "source": [
    "### Labels som enums?"
   ]
  },
  {
   "cell_type": "markdown",
   "id": "662a8ddc",
   "metadata": {},
   "source": [
    "https://docs.python.org/3/library/enum.html"
   ]
  },
  {
   "cell_type": "code",
   "execution_count": null,
   "id": "16f32e15",
   "metadata": {},
   "outputs": [],
   "source": [
    "from enum import Enum"
   ]
  },
  {
   "cell_type": "code",
   "execution_count": null,
   "id": "15b32ad6",
   "metadata": {},
   "outputs": [],
   "source": [
    "class labelSosbak(Enum):\n",
    "    LangHoy = 1\n",
    "    KortHoy = 2\n",
    "    VGS = 3\n",
    "    Grunnskole = 4\n",
    "    Uoppgitt = 9"
   ]
  },
  {
   "cell_type": "code",
   "execution_count": null,
   "id": "0c6a0b7a",
   "metadata": {},
   "outputs": [],
   "source": [
    "labelSosbakLong = {\n",
    "    1 : \"Lang høyere. Mor eller far eller begge har utdanning på nivå 7 el. 8\",\n",
    "    2 : \"Kort høyere. Mor eller far eller begge har utdanning på nivå 6\",\n",
    "    3 : \"Videregående. Mor eller far eller begge har utdanning på nivå 3, 4 eller 5\",\n",
    "    4 : \"Grunnskole. Mor eller far eller begge har utdanning på nivå 0, 1 eller 2\",\n",
    "    9 : \"Uoppgitt. Begge foreldrene har uoppgitt utdanning.\"\n",
    "}"
   ]
  },
  {
   "cell_type": "code",
   "execution_count": null,
   "id": "6b2b5050",
   "metadata": {},
   "outputs": [],
   "source": [
    "for x in labelSosbak:\n",
    "    x.longname = labelSosbakLong[x.value]"
   ]
  },
  {
   "cell_type": "code",
   "execution_count": null,
   "id": "6b1bb7bd",
   "metadata": {},
   "outputs": [],
   "source": [
    "labelSosbak.LangHoy"
   ]
  },
  {
   "cell_type": "code",
   "execution_count": null,
   "id": "0178cc3d",
   "metadata": {},
   "outputs": [],
   "source": [
    "labelSosbak(1)"
   ]
  },
  {
   "cell_type": "code",
   "execution_count": null,
   "id": "e3d7077d",
   "metadata": {},
   "outputs": [],
   "source": [
    "labelSosbak.LangHoy.name"
   ]
  },
  {
   "cell_type": "code",
   "execution_count": null,
   "id": "c2add811",
   "metadata": {},
   "outputs": [],
   "source": [
    "labelSosbak(1).value"
   ]
  },
  {
   "cell_type": "code",
   "execution_count": null,
   "id": "ddf3845e",
   "metadata": {},
   "outputs": [],
   "source": [
    "labelSosbak(1).longname"
   ]
  },
  {
   "cell_type": "markdown",
   "id": "f7da3a50",
   "metadata": {},
   "source": [
    "### Pandas implementering"
   ]
  },
  {
   "cell_type": "code",
   "execution_count": null,
   "id": "d2fe6d5a",
   "metadata": {},
   "outputs": [],
   "source": [
    "import pandas as pd"
   ]
  },
  {
   "cell_type": "code",
   "execution_count": null,
   "id": "b4d119da",
   "metadata": {},
   "outputs": [],
   "source": [
    "df = pd.DataFrame({\n",
    "    'code' : pd.Series([1, 2, 1, 4, 3, 9, 1, 3])\n",
    "})"
   ]
  },
  {
   "cell_type": "code",
   "execution_count": null,
   "id": "acdec498",
   "metadata": {},
   "outputs": [],
   "source": [
    "df['shortname'] = df['code'].replace({i.value : i.name for i in labelSosbak})"
   ]
  },
  {
   "cell_type": "code",
   "execution_count": null,
   "id": "45848179",
   "metadata": {},
   "outputs": [],
   "source": [
    "df['longname'] = df['code'].replace({i.value : i.longname for i in labelSosbak})"
   ]
  },
  {
   "cell_type": "code",
   "execution_count": null,
   "id": "6161668c",
   "metadata": {},
   "outputs": [],
   "source": [
    "df"
   ]
  },
  {
   "cell_type": "code",
   "execution_count": null,
   "id": "7df3aaad",
   "metadata": {},
   "outputs": [],
   "source": [
    "df.longname.value_counts()"
   ]
  },
  {
   "cell_type": "code",
   "execution_count": null,
   "id": "33c7311a",
   "metadata": {},
   "outputs": [],
   "source": []
  }
 ],
 "metadata": {
  "language_info": {
   "codemirror_mode": {
    "name": "ipython"
   },
   "file_extension": ".py",
   "mimetype": "text/x-python",
   "name": "python",
   "nbconvert_exporter": "python"
  }
 },
 "nbformat": 4,
 "nbformat_minor": 5
}

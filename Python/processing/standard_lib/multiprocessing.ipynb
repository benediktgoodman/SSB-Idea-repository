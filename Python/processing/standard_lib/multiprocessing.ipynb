{
 "cells": [
  {
   "cell_type": "markdown",
   "id": "1928db36",
   "metadata": {},
   "source": [
    "The multiprocessing package supports spawning processes. It refers to a function that loads and executes a new child processes. For the child to terminate or to continue executing concurrent computing,then the current process hasto wait using an API, which is similar to threading module"
   ]
  },
  {
   "cell_type": "code",
   "execution_count": null,
   "id": "a965bf54",
   "metadata": {},
   "outputs": [],
   "source": [
    "import multiprocessing\n",
    "from multiprocessing import Process\n",
    "import logging\n",
    "import os"
   ]
  },
  {
   "cell_type": "code",
   "execution_count": null,
   "id": "a946cb54",
   "metadata": {},
   "outputs": [],
   "source": [
    "multiprocessing.cpu_count()"
   ]
  },
  {
   "cell_type": "code",
   "execution_count": null,
   "id": "92dabea7",
   "metadata": {},
   "outputs": [],
   "source": [
    "logger = multiprocessing.log_to_stderr()\n",
    "logger.setLevel(logging.INFO)"
   ]
  },
  {
   "cell_type": "code",
   "execution_count": null,
   "id": "26c54029",
   "metadata": {},
   "outputs": [],
   "source": [
    "def worker1():\n",
    "    # printing process id\n",
    "    print(\"ID of process running worker1: {}\".format(os.getpid()))\n",
    "\n",
    "def worker2():\n",
    "    # printing process id\n",
    "    print(\"ID of process running worker2: {}\".format(os.getpid()))"
   ]
  },
  {
   "cell_type": "code",
   "execution_count": null,
   "id": "a6a949aa",
   "metadata": {},
   "outputs": [],
   "source": [
    "# printing main program process id\n",
    "print(\"ID of main process: {}\".format(os.getpid()))\n",
    "\n",
    "# creating processes\n",
    "p1 = multiprocessing.Process(target=worker1)\n",
    "p2 = multiprocessing.Process(target=worker2)\n",
    "\n",
    "# starting processes\n",
    "p1.start()\n",
    "p2.start()\n",
    "\n",
    "# process IDs\n",
    "print(\"ID of process p1: {}\".format(p1.pid))\n",
    "print(\"ID of process p2: {}\".format(p2.pid))\n",
    "\n",
    "# wait until processes are finished\n",
    "p1.join()\n",
    "p2.join()\n",
    "\n",
    "# both processes finished\n",
    "print(\"Both processes finished execution!\")\n",
    "\n",
    "# check if processes are alive\n",
    "print(\"Process p1 is alive: {}\".format(p1.is_alive()))\n",
    "print(\"Process p2 is alive: {}\".format(p2.is_alive()))"
   ]
  },
  {
   "cell_type": "code",
   "execution_count": null,
   "id": "7d4e2b6b",
   "metadata": {},
   "outputs": [],
   "source": []
  }
 ],
 "metadata": {
  "language_info": {
   "codemirror_mode": {
    "name": "ipython"
   },
   "file_extension": ".py",
   "mimetype": "text/x-python",
   "name": "python",
   "nbconvert_exporter": "python"
  }
 },
 "nbformat": 4,
 "nbformat_minor": 5
}

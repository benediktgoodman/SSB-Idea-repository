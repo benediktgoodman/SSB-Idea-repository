{
 "cells": [
  {
   "cell_type": "code",
   "execution_count": null,
   "id": "speaking-permission",
   "metadata": {},
   "outputs": [],
   "source": [
    "import pytest"
   ]
  },
  {
   "cell_type": "code",
   "execution_count": null,
   "id": "opening-manor",
   "metadata": {},
   "outputs": [],
   "source": [
    "import math\n",
    "\n",
    "def test_sqrt():\n",
    "    num = 25\n",
    "    assert math.sqrt(num) == 5\n",
    "\n",
    "def testsquare():\n",
    "    num = 7\n",
    "    assert 7*7 == 40\n",
    "\n",
    "def testequality():\n",
    "    assert 10 == 11"
   ]
  },
  {
   "cell_type": "code",
   "execution_count": null,
   "id": "objective-arlington",
   "metadata": {},
   "outputs": [],
   "source": [
    "pytest"
   ]
  },
  {
   "cell_type": "code",
   "execution_count": null,
   "id": "severe-bacteria",
   "metadata": {},
   "outputs": [],
   "source": []
  }
 ],
 "metadata": {
  "language_info": {
   "codemirror_mode": {
    "name": "ipython"
   },
   "file_extension": ".py",
   "mimetype": "text/x-python",
   "name": "python",
   "nbconvert_exporter": "python"
  }
 },
 "nbformat": 4,
 "nbformat_minor": 5
}

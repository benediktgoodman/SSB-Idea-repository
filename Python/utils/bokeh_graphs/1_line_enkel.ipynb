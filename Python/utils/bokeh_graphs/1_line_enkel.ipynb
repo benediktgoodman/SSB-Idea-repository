{
 "cells": [
  {
   "cell_type": "markdown",
   "metadata": {},
   "source": [
    "### Bokeh\n",
    "<a href=\"https://docs.bokeh.org/en/latest/index.html\">Bokeh sin nettside, med ett fint galleri</a>\\\n",
    "Dette arket ser på enkle linjegrafer basert på \"diamant\"-datasettet fra /felles/"
   ]
  },
  {
   "cell_type": "code",
   "execution_count": null,
   "metadata": {},
   "outputs": [],
   "source": [
    "# Uncomment denne linjen for å se dokumentasjonen til bokeh\n",
    "#help('bokeh')"
   ]
  },
  {
   "cell_type": "code",
   "execution_count": null,
   "metadata": {},
   "outputs": [],
   "source": [
    "# Standardimporter\n",
    "import dapla as dp\n",
    "import pandas as pd\n",
    "\n",
    "# Det vi trenger til en enkel line-plot\n",
    "from bokeh.plotting import figure, output_file, show\n",
    "# Vi trenger denne importen for å outputte til notebooken\n",
    "from bokeh.io import output_notebook"
   ]
  },
  {
   "cell_type": "code",
   "execution_count": null,
   "metadata": {},
   "outputs": [],
   "source": [
    "# Om du vil se flere rader av dataframen, for utforskning i starten\n",
    "pd.set_option('display.max_rows', 500)\n",
    "pd.set_option('display.max_columns', 500)\n",
    "pd.set_option('display.min_rows', 100)"
   ]
  },
  {
   "cell_type": "code",
   "execution_count": null,
   "metadata": {},
   "outputs": [],
   "source": [
    "# Les inn datasettet vi skal bruke som eksempel\n",
    "diam = dp.read_pandas(\"/felles/kurs/helt_python/diamonds\")"
   ]
  },
  {
   "cell_type": "code",
   "execution_count": null,
   "metadata": {},
   "outputs": [],
   "source": [
    "# Underutvalg av diamanter, kun de som er \"Premium\"\n",
    "diam = diam[diam['cut'] == 'Premium']\n",
    "\n",
    "# Med farge 'E'\n",
    "diam =  diam[diam['color'] == 'E']\n",
    "\n",
    "# Med gjennomsiktighet \"SI1\"\n",
    "diam =  diam[diam['clarity'] == 'SI1']\n",
    "\n",
    "# Fjern de som har tomme felt på karat eller price\n",
    "diam = diam[~diam['price'].isna()]\n",
    "diam = diam[~diam['carat'].isna()]"
   ]
  },
  {
   "cell_type": "code",
   "execution_count": null,
   "metadata": {},
   "outputs": [],
   "source": [
    "# Sorter først langs karat, så langs pris-kolonnen\n",
    "diam = diam.sort_values('price')\n",
    "diam = diam.sort_values('carat')"
   ]
  },
  {
   "cell_type": "code",
   "execution_count": null,
   "metadata": {},
   "outputs": [],
   "source": [
    "# Sett kolonnene til akse-navnene\n",
    "x = diam['carat']\n",
    "y = diam['price']"
   ]
  },
  {
   "cell_type": "code",
   "execution_count": null,
   "metadata": {},
   "outputs": [],
   "source": [
    "# Løpende gjennomsnitt med \"rolling mean\"\n",
    "x_roll = diam['carat'].rolling(30).mean()\n",
    "y_roll = diam['price'].rolling(30).mean()"
   ]
  },
  {
   "cell_type": "code",
   "execution_count": null,
   "metadata": {},
   "outputs": [],
   "source": [
    "# output til notebooken\n",
    "output_notebook()\n",
    "\n",
    "# create a new plot with a title and axis labels\n",
    "p = figure(title=\"Diamanter, pris vs. karat\", x_axis_label='Karat', y_axis_label='Pris')\n",
    "\n",
    "# add a line renderer with legend and line thickness\n",
    "p.line(x, y, legend_label=\"Pris over Karat\", line_width=2)\n",
    "p.line(x_roll, y_roll, legend_label=\"Løpende gjennomsnitt\", line_width=2, line_color=\"red\")\n",
    "\n",
    "# show the results\n",
    "show(p)"
   ]
  }
 ],
 "metadata": {
  "language_info": {
   "codemirror_mode": {
    "name": "ipython"
   },
   "file_extension": ".py",
   "mimetype": "text/x-python",
   "name": "python",
   "nbconvert_exporter": "python"
  }
 },
 "nbformat": 4,
 "nbformat_minor": 4
}

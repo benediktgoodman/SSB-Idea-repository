{
 "cells": [
  {
   "cell_type": "markdown",
   "id": "6ebbd852-37de-4fe4-b53c-9b11cd22e0c9",
   "metadata": {},
   "source": [
    "# Drille ned i lavere aggregater i linje graf"
   ]
  },
  {
   "cell_type": "markdown",
   "id": "188c423a-4222-4dd9-9bb5-a44207d876bd",
   "metadata": {},
   "source": [
    "Dette er ett eksempel på hvordan man kan benytte Plotly og Dash til å lage \n",
    "interaktiv graf til å kunne drille nedover i aggregatene sine.\n",
    "Eksempelet tar for seg data fra Utenrikshandel med varer som hentes rett fra Statistikkbank APIet.\n",
    "Enhver kan derfor kjøre dette notebooket for å teste det ut."
   ]
  },
  {
   "cell_type": "markdown",
   "id": "2f50c33f-442f-4ee4-b6e5-b565107af613",
   "metadata": {},
   "source": [
    "## Importere diverse pakker"
   ]
  },
  {
   "cell_type": "code",
   "execution_count": null,
   "id": "59b48e0f-b937-4ffc-9fad-2d27e0f6c584",
   "metadata": {},
   "outputs": [],
   "source": [
    "import plotly.express as px\n",
    "import datetime\n",
    "import dash\n",
    "from jupyter_dash import JupyterDash\n",
    "from dash import html, dcc, Input, Output, State\n",
    "import dash_bootstrap_components as dbc\n",
    "from dash.exceptions import PreventUpdate\n",
    "import json"
   ]
  },
  {
   "cell_type": "markdown",
   "id": "4672e46c-7c6c-4b67-a657-8e23d5f2542c",
   "metadata": {},
   "source": [
    "## Importere interne og prosjektinterne pakker"
   ]
  },
  {
   "cell_type": "code",
   "execution_count": null,
   "id": "d2a5a695-4220-4f6c-83f9-620360a192e1",
   "metadata": {},
   "outputs": [],
   "source": [
    "from statbankpy import apidata as sb\n",
    "from config_ssbapi import uhv_payload_sitc3, uhv_payload_sitc1, uhv_payload_sitc2"
   ]
  },
  {
   "cell_type": "code",
   "execution_count": null,
   "id": "f6715aff-2b20-458a-91f1-9765bb2d0cd0",
   "metadata": {},
   "outputs": [],
   "source": [
    "help(sb)"
   ]
  },
  {
   "cell_type": "markdown",
   "id": "80d4115e-0cf9-49db-9bba-a01f2515e475",
   "metadata": {},
   "source": [
    "## Hente data fra ssb.no apiet, samt justere dataene noe"
   ]
  },
  {
   "cell_type": "code",
   "execution_count": null,
   "id": "8a36c8ea-6bd4-45c8-85d6-d482bb66172f",
   "metadata": {},
   "outputs": [],
   "source": [
    "uhvdf = sb('08818', uhv_payload_sitc3, True)\n",
    "uhvdf = uhvdf.rename(str.lower, axis='columns')\n",
    "uhvdf = uhvdf.rename(columns={\n",
    "    \"sitc\": \"sitc3\",\n",
    "    \"value\": \"verdi\",\n",
    "    \"måned\": \"mnd\",\n",
    "    \"impeks\": \"imex\",\n",
    "    \"import/eksport\": \"impeks\"})\n",
    "uhvdf[\"sitc2\"] = uhvdf.sitc3.str[:2]\n",
    "uhvdf[\"sitc1\"] = uhvdf.sitc3.str[:1]\n",
    "uhvdf[\"year\"] = uhvdf.mnd.str[:4]\n",
    "fromyear = datetime.date.today().year - 10\n",
    "uhvdf = uhvdf[uhvdf.year >= f\"{fromyear}\"]\n",
    "#uhvdf"
   ]
  },
  {
   "cell_type": "markdown",
   "id": "e59ddd5d-0253-4456-ae90-ffb50e7f191a",
   "metadata": {},
   "source": [
    "Henter ut tekster til de andre aggregatene. Kunne ha benyttet klass her..."
   ]
  },
  {
   "cell_type": "code",
   "execution_count": null,
   "id": "b567e29e-1f6a-4eea-8d13-0cb693234539",
   "metadata": {},
   "outputs": [],
   "source": [
    "sitc1 = sb('08806', uhv_payload_sitc1, True)\n",
    "sitc1 = sitc1.rename(str.lower, axis='columns')\n",
    "sitc1 = sitc1.rename(columns={\"sitc\": \"sitc1\"})\n",
    "sitc1 = sitc1[['sitc1', 'varegruppe']].drop_duplicates().reset_index(drop=True)\n",
    "sitc1 = dict(zip(sitc1.sitc1.to_list(), sitc1.varegruppe.to_list()))\n",
    "#sitc1"
   ]
  },
  {
   "cell_type": "code",
   "execution_count": null,
   "id": "14ab4f56-531e-464f-9c84-daaa4cafc6c5",
   "metadata": {},
   "outputs": [],
   "source": [
    "sitc2 = sb('08806', uhv_payload_sitc2, True)\n",
    "sitc2 = sitc2.rename(str.lower, axis='columns')\n",
    "sitc2 = sitc2.rename(columns={\"sitc\": \"sitc1\"})\n",
    "sitc2 = sitc2[['sitc1', 'varegruppe']].drop_duplicates().reset_index(drop=True)\n",
    "sitc2 = dict(zip(sitc2.sitc1.to_list(), sitc2.varegruppe.to_list()))\n",
    "#sitc2"
   ]
  },
  {
   "cell_type": "code",
   "execution_count": null,
   "id": "1dad5edd-9fab-4a55-85d7-20cc76c28a25",
   "metadata": {},
   "outputs": [],
   "source": [
    "sitc3 = uhvdf[['sitc3', 'varegruppe']].drop_duplicates().reset_index(drop=True)\n",
    "sitc3 = dict(zip(sitc3.sitc3.to_list(), sitc3.varegruppe.to_list()))\n",
    "#sitc3"
   ]
  },
  {
   "cell_type": "markdown",
   "id": "13ba6e5e-0aa1-423e-ae18-8051957e9b9f",
   "metadata": {},
   "source": [
    "Setter sammen alt til en og samme dataframe"
   ]
  },
  {
   "cell_type": "code",
   "execution_count": null,
   "id": "9e1ce842-1b89-455b-bc89-18cd7264d511",
   "metadata": {},
   "outputs": [],
   "source": [
    "uhvdf['sitc1txt'] = uhvdf['sitc1'].map(sitc1)\n",
    "uhvdf['sitc2txt'] = uhvdf['sitc2'].map(sitc2)\n",
    "#uhvdf"
   ]
  },
  {
   "cell_type": "markdown",
   "id": "91314a49-d002-45b0-8587-57e3b65efe31",
   "metadata": {},
   "source": [
    "## Lager første figur"
   ]
  },
  {
   "cell_type": "code",
   "execution_count": null,
   "id": "551bc76a-439a-4317-9259-f7e4c85f07fb",
   "metadata": {},
   "outputs": [],
   "source": [
    "df = uhvdf.groupby(['impeks', 'mnd']).sum().reset_index()\n",
    "fig = px.line(df, x=\"mnd\", y=\"verdi\", color='impeks')\n",
    "fig"
   ]
  },
  {
   "cell_type": "markdown",
   "id": "ffc492f2-f3d9-4036-b753-bf994639f9cb",
   "metadata": {},
   "source": [
    "## Dashboard med mulighet for å drille i graf"
   ]
  },
  {
   "cell_type": "code",
   "execution_count": null,
   "id": "3af14043-cdd3-4025-8675-49e3b7c6316a",
   "metadata": {},
   "outputs": [],
   "source": [
    "from jupyter_dash.comms import _send_jupyter_config_comm_request\n",
    "_send_jupyter_config_comm_request()"
   ]
  },
  {
   "cell_type": "markdown",
   "id": "fb911b59-ee87-45d6-a14f-26bacd411bc9",
   "metadata": {},
   "source": [
    "OBS! VENT 2-3 sekunder her før du kjører neste celle!"
   ]
  },
  {
   "cell_type": "code",
   "execution_count": null,
   "id": "58dff1d2-f8f5-4d46-8cab-ae8b960dc20d",
   "metadata": {},
   "outputs": [],
   "source": [
    "JupyterDash.infer_jupyter_proxy_config()"
   ]
  },
  {
   "cell_type": "code",
   "execution_count": null,
   "id": "dc7df29f-c1a1-4e1f-a8d8-e97fa2e6fb16",
   "metadata": {},
   "outputs": [],
   "source": [
    "def get_aggregater():\n",
    "    aggregater = ['root', 'impeks', 'sitc1', 'sitc2', 'sitc3']\n",
    "    return aggregater"
   ]
  },
  {
   "cell_type": "code",
   "execution_count": null,
   "id": "951f1aac-ba54-4933-8af4-ae75b1493fc7",
   "metadata": {},
   "outputs": [],
   "source": [
    "layout_style = {\n",
    "    'backgroundColor': '#E3F1E6',\n",
    "    'height': '100vh'\n",
    "}"
   ]
  },
  {
   "cell_type": "code",
   "execution_count": null,
   "id": "49b12763-405c-46a1-ab9a-da5ccd1269c3",
   "metadata": {},
   "outputs": [],
   "source": [
    "app = JupyterDash(assets_folder='assets', external_stylesheets=[dbc.themes.BOOTSTRAP])\n",
    "app.config.suppress_callback_exceptions = True\n",
    "porten = 8777\n",
    "\n",
    "app.layout = html.Div([\n",
    "    html.H1('Norwegian external trade last 10 years', style={'text-align': 'center'})\n",
    "    ,\n",
    "    html.Hr()\n",
    "    ,\n",
    "    dcc.Markdown(id='where-am-i', children=\"\"\"Hvor i aggregatet: \"\"\")\n",
    "    ,\n",
    "    dcc.Markdown(id='varetxt', children=\"Vareforklaring: \")\n",
    "    ,\n",
    "    html.Hr()\n",
    "    ,\n",
    "    dbc.Button('🡠', id='back-button', size=\"lg\",\n",
    "               className='me-1', style={'display': 'none'}, n_clicks=0)\n",
    "    ,\n",
    "    dcc.Graph(id='the-graph', figure=fig)\n",
    "    ,\n",
    "    html.H5('ClickData')\n",
    "    ,\n",
    "    html.Div(id='click-data')\n",
    "    ,\n",
    "    html.H5('Click Triggered')\n",
    "    ,\n",
    "    html.Div(id='click-trigg')\n",
    "    ,\n",
    "    dcc.Store(id='drillagg', data=['root'], storage_type='memory')\n",
    "    ,\n",
    "    dcc.Store(id='my-agg-click', data={}, storage_type='memory')\n",
    "], style=layout_style)\n",
    "\n",
    "\n",
    "@app.callback(\n",
    "    [Output('the-graph', 'figure'),\n",
    "     Output('back-button', 'style'),\n",
    "     Output('back-button', 'n_clicks'),\n",
    "     Output('where-am-i', 'children'),\n",
    "     Output('drillagg', 'data'),\n",
    "     Output('my-agg-click', 'data'),\n",
    "     Output('varetxt', 'children')],\n",
    "    [Input('the-graph', 'clickData'),\n",
    "     Input('back-button', 'n_clicks')],\n",
    "    [State('drillagg', 'data'),\n",
    "     State('my-agg-click', 'data')],\n",
    "    prevent_initial_call=True)\n",
    "def drilling_in_graph(clickdata, bclick, colagg, drillagg):\n",
    "    # Henter ut data fra det vi har trykket på i dashboardet\n",
    "    trigger_id = [p['prop_id'] for p in dash.callback_context.triggered][0]\n",
    "    curve_trig = clickdata['points'][0]['curveNumber']\n",
    "    df = uhvdf.copy()\n",
    "    # Hvis grafen blir trykket på\n",
    "    if 'the-graph' in trigger_id:\n",
    "        # Hvor er vi i aggregatet\n",
    "        aggwhere = colagg\n",
    "        hvor = aggwhere[-1]\n",
    "        agglist = get_aggregater()\n",
    "        drilldict = drillagg\n",
    "        # hvis vi står i startposisjon\n",
    "        if hvor == aggwhere[0]:\n",
    "            # Ordner praktiske ting\n",
    "            nextagg = agglist.index(hvor) + 1\n",
    "            nextagg = agglist[nextagg]\n",
    "            groupagg = agglist.index(hvor) + 2\n",
    "            groupagg = agglist[groupagg]\n",
    "            drill = sorted(list(df[nextagg].unique()))[curve_trig]\n",
    "            aggwhere.append(nextagg)\n",
    "            drilldict[nextagg] = drill\n",
    "            # Order data og figur\n",
    "            df = df[df[nextagg] == drill]\n",
    "            dff = df.groupby([groupagg, 'mnd']).sum().reset_index()\n",
    "            fig = px.line(dff, x=\"mnd\", y=\"verdi\", color=groupagg)\n",
    "            # Oppdaterer markdown teksten\n",
    "            md = f\"Hvor i aggregatet: {drill}\"\n",
    "            vtxt = f\"Vareforklaring: Vareførsel {drill}\"\n",
    "            return fig, {'display': 'block'}, 0, md, aggwhere, drilldict, vtxt\n",
    "        # hvis vi uansett ikke kan drille videre\n",
    "        elif hvor == agglist[-2]:\n",
    "            # Ettersom vi ikke har mer data på et lavere aggregat å vise fram\n",
    "            raise PreventUpdate\n",
    "        else:\n",
    "            # Ordner data og praktiske ting\n",
    "            for i in drilldict:\n",
    "                df = df[df[i] == drilldict.get(i)]\n",
    "            nextagg = agglist.index(hvor) + 1\n",
    "            nextagg = agglist[nextagg]\n",
    "            groupagg = agglist.index(hvor) + 2\n",
    "            groupagg = agglist[groupagg]\n",
    "            drill = sorted(list(df[nextagg].unique()))[curve_trig]\n",
    "            df = df[df[nextagg] == drill]\n",
    "            aggwhere.append(nextagg)\n",
    "            drilldict[nextagg] = drill\n",
    "            # ferdigstiller figur\n",
    "            dff = df.groupby([groupagg, 'mnd']).sum().reset_index()\n",
    "            fig = px.line(dff, x=\"mnd\", y=\"verdi\", color=groupagg)\n",
    "            # Oppdaterer markdown teksten\n",
    "            mdtxt = [i[1] for i in drilldict.items()]\n",
    "            mdtxt = ' -> '.join(mdtxt)\n",
    "            md = f\"Hvor i aggregatet: {mdtxt}\"\n",
    "            if nextagg == 'impeks':\n",
    "                vtxt = df.impeks.unique()[0]\n",
    "                vtxt = f\"Vareforklaring: Vareførsel {vtxt}\"\n",
    "            else:\n",
    "                vtxt = df[f\"{nextagg}txt\"].unique()[0]\n",
    "                vtxt = f\"Vareforklaring: varetekst {vtxt}\"\n",
    "            return fig, {'display': 'block'}, 0, md, aggwhere, drilldict, vtxt\n",
    "    # Hvis tilbake-knappen blir trykket på\n",
    "    elif bclick == 1:\n",
    "        aggwhere = colagg\n",
    "        hvor = aggwhere[-1]\n",
    "        agglist = get_aggregater()\n",
    "        drilldict = drillagg\n",
    "        backto = agglist.index(hvor) - 1\n",
    "        backto = agglist[backto]\n",
    "        del aggwhere[-1]\n",
    "        drilldict.popitem()\n",
    "        if backto == 'root':\n",
    "            df = df.groupby(['impeks', 'mnd']).sum().reset_index()\n",
    "            fig = px.line(df, x=\"mnd\", y=\"verdi\", color='impeks')\n",
    "            md = \"Hvor i aggregatet: \"\n",
    "            vtxt = \"Vareforklaring: \"\n",
    "            return fig, {'display': 'none'}, 0, md, aggwhere, drilldict, vtxt\n",
    "        else:\n",
    "            for i in drilldict:\n",
    "                val = drilldict.get(i)\n",
    "                df = df[df[i] == val]\n",
    "            whereto = drilldict.get(backto)\n",
    "            df = df[df[backto] == whereto]\n",
    "            dff = df.groupby([hvor, 'mnd']).sum().reset_index()\n",
    "            fig = px.line(dff, x=\"mnd\", y=\"verdi\", color=hvor)\n",
    "            mdtxt = [i[1] for i in drilldict.items()]\n",
    "            mdtxt = ' -> '.join(mdtxt)\n",
    "            md = f\"Hvor i aggregatet: {mdtxt}\"\n",
    "            if backto == 'impeks':\n",
    "                vtxt = df.impeks.unique()[0]\n",
    "                vtxt = f\"Vareforklaring: Vareførsel {vtxt}\"\n",
    "            else:\n",
    "                vtxt = df[f\"{backto}txt\"].unique()[0]\n",
    "                vtxt = f\"Vareforklaring: varetekst {vtxt}\"\n",
    "            return fig, {'display': 'block'}, 0, md, aggwhere, drilldict, vtxt\n",
    "    # Ellers, så skal ingenting skje\n",
    "    else:\n",
    "        raise PreventUpdate\n",
    "\n",
    "\n",
    "@app.callback(\n",
    "    [Output('click-data', 'children'),\n",
    "     Output('click-trigg', 'children')],\n",
    "    [Input('the-graph', 'clickData')],\n",
    "    prevent_initial_call=True)\n",
    "def display_click_data(clickData):\n",
    "    trigger_id = dash.callback_context.triggered\n",
    "    return json.dumps(clickData, indent=2), json.dumps(trigger_id)\n",
    "\n",
    "\n",
    "if __name__ == '__main__':\n",
    "    #app.run_server(debug=True, port=porten, mode=\"jupyterlab\")\n",
    "    app.run_server(debug=True, port=porten)"
   ]
  },
  {
   "cell_type": "code",
   "execution_count": null,
   "id": "ba204e44-92d8-41af-8a89-822993fab0f5",
   "metadata": {},
   "outputs": [],
   "source": [
    "# Viktig å avslutte porten enten ved å kjøre dette eller å lukke kernelen når du er ferdig:\n",
    "app._terminate_server_for_port(\"localhost\", porten)"
   ]
  },
  {
   "cell_type": "code",
   "execution_count": null,
   "id": "6c26596a-8069-4f5e-ac14-bea01381efb6",
   "metadata": {},
   "outputs": [],
   "source": []
  }
 ],
 "metadata": {
  "language_info": {
   "codemirror_mode": {
    "name": "ipython"
   },
   "file_extension": ".py",
   "mimetype": "text/x-python",
   "name": "python",
   "nbconvert_exporter": "python"
  }
 },
 "nbformat": 4,
 "nbformat_minor": 5
}

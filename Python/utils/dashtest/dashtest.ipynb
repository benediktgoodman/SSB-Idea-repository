{
 "cells": [
  {
   "cell_type": "markdown",
   "metadata": {},
   "source": [
    "### Dash er ett dashboardingverktøy fra folka hos Plotly\n",
    "Den bruker React-komponenter for å lage interaktive dashboards i browseren.\\\n",
    "Dette eksempelet er basert på Simen Svenkeruds eksperiment i freg,\\\n",
    "CSS fra Mimir-prosjektet og noe input fra denne youtubevideoen: https://www.youtube.com/watch?v=hSPmj7mK6ng \\\n",
    "All javascript og CSS plassert på samme nivå som notebooken, i en mappe som heter \"assets, vil lastes inn.\\\n",
    "Så dette eksempelet laster faktisk assets/style.css, som er hentet herfra: https://github.com/statisticsnorway/ssb-component-library/blob/master/lib/bundle.css\n",
    "\n",
    "### (English) Dash is a dashboarding tool from the guys at Plotly\n",
    "It uses React components to create interactive dashboards in the browser.\\\n",
    "This example is based on Simen Svenkeruds experiments in freg,\\\n",
    "CSS from the Mimir-project and some input from this youtube-video: https://www.youtube.com/watch?v=hSPmj7mK6ng \\\n",
    "All javascript and CSS placed next to the executing script in an \"assets\"-folder, will be loaded.\\\n",
    "So this actually loads the assets/style.css, which was taken from here: https://github.com/statisticsnorway/ssb-component-library/blob/master/lib/bundle.css"
   ]
  },
  {
   "cell_type": "code",
   "execution_count": null,
   "metadata": {},
   "outputs": [],
   "source": [
    "import pandas as pd\n",
    "import dapla as dp"
   ]
  },
  {
   "cell_type": "code",
   "execution_count": null,
   "metadata": {},
   "outputs": [],
   "source": [
    "import plotly.graph_objects as go\n",
    "import dash\n",
    "import dash_core_components as dcc\n",
    "import dash_html_components as html\n",
    "from dash.dependencies import Input, Output\n",
    "# Merk deg denne, da vi caller den inni funksjonen lengre nede på px.scatter\n",
    "import plotly.express as px"
   ]
  },
  {
   "cell_type": "code",
   "execution_count": null,
   "metadata": {},
   "outputs": [],
   "source": [
    "from jupyter_dash import JupyterDash\n",
    "from jupyter_dash.comms import _send_jupyter_config_comm_request\n",
    "_send_jupyter_config_comm_request()"
   ]
  },
  {
   "cell_type": "code",
   "execution_count": null,
   "metadata": {},
   "outputs": [],
   "source": [
    "# This might struggle to rerun, if you do not restart your server in the Server Hub Control\n",
    "JupyterDash.infer_jupyter_proxy_config()"
   ]
  },
  {
   "cell_type": "code",
   "execution_count": null,
   "metadata": {},
   "outputs": [],
   "source": [
    "# Kanskje unødvendig, men greit å ha om man sliter med å ta ned serveren etter at den er startet, \n",
    "# kjøres fra siste celle for å terminere lokal-serveren som Dash kjører, om ønskelig.\n",
    "@classmethod\n",
    "def _terminate_server_for_port(cls, host, port):\n",
    "    shutdown_url = \"http://{host}:{port}/_shutdown_{token}\".format(\n",
    "        host=host, port=port, token=JupyterDash._token\n",
    "    )\n",
    "    try:\n",
    "        response = requests.get(shutdown_url)\n",
    "    except Exception as e:\n",
    "        pass"
   ]
  },
  {
   "cell_type": "code",
   "execution_count": null,
   "metadata": {},
   "outputs": [],
   "source": [
    "# Les eksempeldatasett fra dapla\n",
    "diam = dp.read_pandas(\"/felles/kurs/helt_python/diamonds\")"
   ]
  },
  {
   "cell_type": "code",
   "execution_count": null,
   "metadata": {},
   "outputs": [],
   "source": [
    "# Generer liste med \"options\" til dropdownen lengre nede, må være formatert i dicts\n",
    "drop_options = [{'label': 'Alle', 'value' : 'Alle'}] # Første alternativ, som inneholder alle farger\n",
    "\n",
    "# Legg inn resten av farger, basert på data i dataframen\n",
    "diam_colors = pd.unique(diam['color'])\n",
    "for color in diam_colors:\n",
    "    tmp_dict = {\"label\" : color, \"value\": color} # Dropdown-options krever at de er formatert slik, som dicts\n",
    "    drop_options.append(tmp_dict) # Legg til hver farge-options-dict i listen over options\n",
    "    \n",
    "# Uncomment om du vil se resultatet:\n",
    "#drop_options"
   ]
  },
  {
   "cell_type": "code",
   "execution_count": null,
   "metadata": {},
   "outputs": [],
   "source": [
    "# Opprett app-objektet\n",
    "app = JupyterDash(__name__)\n",
    "\n",
    "# Her er alle html-elementene som inngår i Dash-dashboardet.\n",
    "# Finn passende \"className\" fra style.css som gjerne kan tas herfra \n",
    "# https://github.com/statisticsnorway/ssb-component-library/blob/master/lib/bundle.css\n",
    "app.layout = html.Div([\n",
    "    # Overskrift, className er hentet fra CSSen fra Mimir-prosjektet\n",
    "    html.H1('Diamanter Dash-eksempel', className = \"ssb-title\"),\n",
    "    \n",
    "    # Dropdown for valg av \"farge\"\n",
    "    dcc.Dropdown('slct_color', # Denne tittelen brukes som input i funksjonen lengre ned, så det er viktig det stemmer med hverandre\n",
    "                 options = drop_options, # Denne bruker da settet med options vi lagde i cellen lengre opp\n",
    "                 multi = False,\n",
    "                 value = \"Alle\", # Samme som første option, se lengre opp\n",
    "                 style = {'width' : '40%'}, # Kunne også vært definert i css-filen\n",
    "                 className = \"ssb-dropdown\" # className er hentet fra CSSen fra Mimir-prosjektet\n",
    "                ),\n",
    "    \n",
    "    # Denne skal holde på tekstbiten som settes i \"container\", lengre ned\n",
    "    html.Div(id = 'output_container', children =[]),\n",
    "    # Dette er kun en kort \"break\", dvs. html-linjeskift\n",
    "    html.Br(),\n",
    "    # Her setter vi inn innhold for grafen, som kommer som output av funksjonen lengre nede.\n",
    "    dcc.Graph(id=\"diam_scatter\", figure={})    \n",
    "    \n",
    "])"
   ]
  },
  {
   "cell_type": "code",
   "execution_count": null,
   "metadata": {},
   "outputs": [],
   "source": [
    "# Dette er en decorator, som går \"utenpå\" funksjonen under, \n",
    "# som både lager grafen, og tar imot oppdateringer ift. input.\n",
    "@app.callback(\n",
    "    [Output(component_id='output_container', component_property='children'),\n",
    "     Output(component_id='diam_scatter', component_property='figure')],\n",
    "    [Input(component_id='slct_color', component_property='value')]\n",
    ")\n",
    "# Definer funksjonen som tar oppdateringer på inputen. \n",
    "# Omkranses av decoratoren over.\n",
    "def update_graph(option_slctd):\n",
    "    \n",
    "    # Enkelt varsel om hvilket alternativ du har valgt\n",
    "    container = f\"Du har valgt fargen: {option_slctd}\"\n",
    "    \n",
    "    # Ikke kødd med orginaldataframen inni en funksjon\n",
    "    dff = diam.copy()\n",
    "    \n",
    "    # Filtrer om noe annet enn \"All\" er valgt \n",
    "    if option_slctd != \"Alle\":\n",
    "        dff = dff[dff['color'] == option_slctd]\n",
    "        \n",
    "    # Ett scatterplot fra plotly.express\n",
    "    fig = px.scatter(\n",
    "        data_frame = dff,\n",
    "        x = 'price',\n",
    "        y = 'carat',\n",
    "        color = 'color',\n",
    "        # SSB-fargeskala\n",
    "        color_discrete_sequence=[\"#1a9d49\", \"#3396d2\", \"#9582bb\", \"#f26539\", \"#d2bc2a\", \n",
    "                                 \"#274247\", \"#90cc93\", \"#0757450\", \"#143f90\", \"#472f91\",\n",
    "                                 \"#93180a\", \"#9a7b1c\", \"#6f9090\"]\n",
    "    )\n",
    "    \n",
    "    # Vi må returnere ett objekt per output listet i decoratoren i toppen,\n",
    "    # så om du endrer antall outputs, må du også endre her nede.\n",
    "    return container, fig"
   ]
  },
  {
   "cell_type": "code",
   "execution_count": null,
   "metadata": {},
   "outputs": [],
   "source": [
    "# Start serveren på spesifisert port, returnerer en linktekst\n",
    "app.run_server(mode='external', port=8060)"
   ]
  },
  {
   "cell_type": "markdown",
   "metadata": {},
   "source": [
    "## Stop app running:"
   ]
  },
  {
   "cell_type": "code",
   "execution_count": null,
   "metadata": {},
   "outputs": [],
   "source": [
    "# This isnt really enough to rerun the scripts, as there will be issues with regestering outputs with the callback decorator etc.\n",
    "app._terminate_server_for_port(\"localhost\", 8060)"
   ]
  },
  {
   "cell_type": "code",
   "execution_count": null,
   "metadata": {},
   "outputs": [],
   "source": []
  }
 ],
 "metadata": {
  "language_info": {
   "codemirror_mode": {
    "name": "ipython"
   },
   "file_extension": ".py",
   "mimetype": "text/x-python",
   "name": "python",
   "nbconvert_exporter": "python"
  }
 },
 "nbformat": 4,
 "nbformat_minor": 4
}

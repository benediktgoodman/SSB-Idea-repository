{
 "cells": [
  {
   "cell_type": "code",
   "execution_count": null,
   "metadata": {},
   "outputs": [],
   "source": [
    "# Funksjon for å kommentere på en variabel\n",
    "def type_comment(var, helpy = False):\n",
    "    print(var)\n",
    "    print(f'Variabelen er av type: {type(var)}')\n",
    "    \n",
    "    # Sjekk lengde\n",
    "    try:\n",
    "        print(f'Lengden på variabelen er {len(var)}')\n",
    "    except:\n",
    "        print('Finner ikke lengden på variabelen')\n",
    "    \n",
    "    # Sjekk sannhet\n",
    "    try:\n",
    "        if var:\n",
    "            print(f'Variabelen er \"sann\"')\n",
    "        else:\n",
    "            print(f'Variabelen er \"USANN\"')\n",
    "    except:\n",
    "        print('Kan ikke avgjøre \"sannheten\" til variabelen')\n",
    "   \n",
    "    # Skriv hjelpfil\n",
    "    if helpy:\n",
    "        print(help(type(var)))"
   ]
  },
  {
   "cell_type": "code",
   "execution_count": null,
   "metadata": {},
   "outputs": [],
   "source": [
    "# String\n",
    "navn = 'Carl'\n",
    "type_comment(navn)\n",
    "# Om du vil ha med \"help\"-dokumentasjonen\n",
    "# pass \"True\" som andre argument til funksjonen\n",
    "#type_comment(navn, True)"
   ]
  },
  {
   "cell_type": "code",
   "execution_count": null,
   "metadata": {},
   "outputs": [],
   "source": [
    "# Integer\n",
    "alder = 0\n",
    "type_comment(alder)"
   ]
  },
  {
   "cell_type": "code",
   "execution_count": null,
   "metadata": {},
   "outputs": [],
   "source": [
    "# Float\n",
    "hoyde = 1.86\n",
    "type_comment(hoyde)"
   ]
  },
  {
   "cell_type": "code",
   "execution_count": null,
   "metadata": {},
   "outputs": [],
   "source": [
    "# Bool\n",
    "lever = True\n",
    "type_comment(lever)"
   ]
  },
  {
   "cell_type": "code",
   "execution_count": null,
   "metadata": {},
   "outputs": [],
   "source": [
    "# Liste\n",
    "ukestimer = [[7, 7.5, 8], 7.25, 7.75, 0, 0]\n",
    "type_comment(ukestimer)"
   ]
  },
  {
   "cell_type": "code",
   "execution_count": null,
   "metadata": {},
   "outputs": [],
   "source": [
    "# Listen kan ha ulike datatyper i seg\n",
    "for x in ukestimer:\n",
    "    type_comment(x)"
   ]
  },
  {
   "cell_type": "code",
   "execution_count": null,
   "metadata": {},
   "outputs": [],
   "source": [
    "ukestimer[2]"
   ]
  },
  {
   "cell_type": "code",
   "execution_count": null,
   "metadata": {},
   "outputs": [],
   "source": [
    "# Dict / Dictionary - \"Oppslagsverk\"\n",
    "adresse = {\n",
    "    'gatenavn' : 'Portveien',\n",
    "    'nummer' : 2,\n",
    "    'postnummer' : '0000',\n",
    "    'kommune' : 'Oslo',\n",
    "    'land' : 'Norge'\n",
    "}\n",
    "type_comment(adresse)"
   ]
  },
  {
   "cell_type": "code",
   "execution_count": null,
   "metadata": {},
   "outputs": [],
   "source": [
    "adresse['gatenavn']"
   ]
  },
  {
   "cell_type": "code",
   "execution_count": null,
   "metadata": {},
   "outputs": [],
   "source": [
    "# Loop gjennom dicten for å få tilgang til alle keys og elementer\n",
    "for key in adresse:\n",
    "    print(f'{key} : {adresse[key]}')"
   ]
  },
  {
   "cell_type": "code",
   "execution_count": null,
   "metadata": {},
   "outputs": [],
   "source": [
    "# Alternativt så kan de pakkes ut i for-loopen med .items()-metoden til dicts\n",
    "for key, item in adresse.items():\n",
    "    print(f'{key} : {item}')"
   ]
  },
  {
   "cell_type": "code",
   "execution_count": null,
   "metadata": {},
   "outputs": [],
   "source": [
    "# Range, lag en liste med mange tall, fra 18 tom. 69, med en step på 5\n",
    "# Hvilke tall dette er kalkuleres ikke i objektet, men når det brukes til noe, f.eks. ved looping\n",
    "sjekker = range(18, 70, 5)\n",
    "for num in sjekker:\n",
    "    print(num)\n",
    "type_comment(sjekker)"
   ]
  },
  {
   "cell_type": "code",
   "execution_count": null,
   "metadata": {},
   "outputs": [],
   "source": [
    "# Tuple, en \"immutable\", \"uendringsbar\" liste\n",
    "pos = (234, 456)\n",
    "type_comment(pos)"
   ]
  },
  {
   "cell_type": "code",
   "execution_count": null,
   "metadata": {},
   "outputs": [],
   "source": [
    "# Set, kan kun inneholde unike verdier\n",
    "pos_set = {234, 456, 234}\n",
    "type_comment(pos_set)"
   ]
  },
  {
   "cell_type": "markdown",
   "metadata": {},
   "source": [
    "### Mindre brukte typer vi ikke går gjennom nå\n",
    "Numeric Types:\tcomplex\\\n",
    "Set Types:\tfrozenset\\\n",
    "Binary Types:\tbytes, bytearray, memoryview"
   ]
  },
  {
   "cell_type": "markdown",
   "metadata": {},
   "source": [
    "# Datatyper i Pandas"
   ]
  },
  {
   "cell_type": "code",
   "execution_count": null,
   "metadata": {},
   "outputs": [],
   "source": [
    "import pandas as pd"
   ]
  },
  {
   "cell_type": "code",
   "execution_count": null,
   "metadata": {},
   "outputs": [],
   "source": []
  },
  {
   "cell_type": "code",
   "execution_count": null,
   "metadata": {},
   "outputs": [],
   "source": [
    "# Lag lister som vi skal konstruere Dataframen med\n",
    "cols = ['date1', 'date2',  'date3',   'date4',   'date5',   'date6']\n",
    "index = ['001', '002', '003']\n",
    "data = [[0,       5,       10,      15,      5,       40],\n",
    "        [0,       20,      50,      0,       10,      15],\n",
    "        [5,       15,      5,       30,      10,      0]]\n",
    "# Opprett dataframen med innholdet i \"data\"\n",
    "df = pd.DataFrame(data)\n",
    "df"
   ]
  },
  {
   "cell_type": "code",
   "execution_count": null,
   "metadata": {},
   "outputs": [],
   "source": [
    "# Legg til kolonnenavn\n",
    "df.columns = cols\n",
    "# Endre rad-idene om man ønsker\n",
    "df.index = index\n",
    "df"
   ]
  },
  {
   "cell_type": "code",
   "execution_count": null,
   "metadata": {},
   "outputs": [],
   "source": [
    "# Se på dataframen i sin helhet\n",
    "type_comment(df)"
   ]
  },
  {
   "cell_type": "code",
   "execution_count": null,
   "metadata": {},
   "outputs": [],
   "source": [
    "# En av kolonnene har en annen \"class\" enn dataframen i sin helhet: \"Series\"\n",
    "type_comment(df['date1'])"
   ]
  },
  {
   "cell_type": "code",
   "execution_count": null,
   "metadata": {},
   "outputs": [],
   "source": [
    "# Pandas bygger på biblioteket \"numpy\"\n",
    "# Hver celle-verdi er da en class fra det biblioteket\n",
    "type_comment(df['date1']['002'])\n",
    "#type_comment(df['date1']['003'])"
   ]
  },
  {
   "cell_type": "code",
   "execution_count": null,
   "metadata": {},
   "outputs": [],
   "source": []
  }
 ],
 "metadata": {
  "language_info": {
   "codemirror_mode": {
    "name": "ipython"
   },
   "file_extension": ".py",
   "mimetype": "text/x-python",
   "name": "python",
   "nbconvert_exporter": "python"
  }
 },
 "nbformat": 4,
 "nbformat_minor": 4
}

{
 "cells": [
  {
   "cell_type": "code",
   "execution_count": null,
   "id": "ca4f4b7e",
   "metadata": {},
   "outputs": [],
   "source": [
    "from mpl_toolkits import mplot3d"
   ]
  },
  {
   "cell_type": "code",
   "execution_count": null,
   "id": "ba6f83be",
   "metadata": {},
   "outputs": [],
   "source": [
    "%matplotlib inline\n",
    "import numpy as np\n",
    "import matplotlib.pyplot as plt\n",
    "import dapla as dp\n",
    "import pandas as pd\n",
    "from tqdm.notebook import tqdm_notebook as pbar"
   ]
  },
  {
   "cell_type": "code",
   "execution_count": null,
   "id": "0eaafc73",
   "metadata": {},
   "outputs": [],
   "source": [
    "help(dp.execute)"
   ]
  },
  {
   "cell_type": "code",
   "execution_count": null,
   "id": "8c0a50d3",
   "metadata": {},
   "outputs": [],
   "source": [
    "dp.show('/felles/mock')"
   ]
  },
  {
   "cell_type": "code",
   "execution_count": null,
   "id": "d35d5462",
   "metadata": {},
   "outputs": [],
   "source": [
    "yrs = [2019, 2024]\n",
    "\n",
    "for year in range(yrs[0], yrs[1]+1):\n",
    "    print(year)\n",
    "    pop = dp.read_pandas(f'/felles/mock_sysselsatte/population_{year}_30000')\n",
    "    comp = dp.read_pandas(f'/felles/mock_sysselsatte/companies_{year}_30000')\n",
    "    pop['year'] = year\n",
    "    if year == yrs[0]:\n",
    "        pop_comp = pop.merge(comp, on = \"work_id\", how = \"left\")\n",
    "    else:\n",
    "        pop_comp = pop_comp.append(pop.merge(comp, on = \"work_id\", how = \"left\"))"
   ]
  },
  {
   "cell_type": "code",
   "execution_count": null,
   "id": "c328e6d4",
   "metadata": {},
   "outputs": [],
   "source": [
    "pop_comp"
   ]
  },
  {
   "cell_type": "code",
   "execution_count": null,
   "id": "abb491b0",
   "metadata": {},
   "outputs": [],
   "source": [
    "workers = pop_comp[(pop_comp['work_id'].notna()) & \n",
    "                   (pop_comp['work_percent'].notna())]"
   ]
  },
  {
   "cell_type": "code",
   "execution_count": null,
   "id": "eb003a74",
   "metadata": {},
   "outputs": [],
   "source": [
    "# Make nace2 from nace5\n",
    "workers['nace2'] = workers['nace'].str[:2].astype(int)"
   ]
  },
  {
   "cell_type": "code",
   "execution_count": null,
   "id": "ac54a200",
   "metadata": {},
   "outputs": [],
   "source": [
    "workers['year']"
   ]
  },
  {
   "cell_type": "code",
   "execution_count": null,
   "id": "9bd873ee",
   "metadata": {},
   "outputs": [],
   "source": [
    "#workers"
   ]
  },
  {
   "cell_type": "markdown",
   "id": "01971f53",
   "metadata": {},
   "source": [
    "# Trisurf plot from matplotlib"
   ]
  },
  {
   "cell_type": "code",
   "execution_count": null,
   "id": "c2dcfcf5",
   "metadata": {},
   "outputs": [],
   "source": [
    "ax = plt.axes(projection='3d')\n",
    "plot = ax.plot_trisurf(workers['age'], workers['work_percent'], workers['nace2'], linewidth=0, antialiased=False, cmap='viridis')\n",
    "ax.set_title('Work percent over age and nace2-code');\n",
    "ax.set_ylabel('work percent')\n",
    "ax.set_xlabel('age')\n",
    "ax.set_zlabel('nace2')"
   ]
  },
  {
   "cell_type": "markdown",
   "id": "a663b6b3",
   "metadata": {},
   "source": [
    "### Make a dataset for companies with averages on age and work_percent per year"
   ]
  },
  {
   "cell_type": "code",
   "execution_count": null,
   "id": "a2f7d9ef",
   "metadata": {},
   "outputs": [],
   "source": [
    "# Already generated and saved here:\n",
    "companies = dp.read_pandas('/felles/mock_sysselsatte/companies_withworkaverages_20192024')"
   ]
  },
  {
   "cell_type": "code",
   "execution_count": null,
   "id": "741a8c50",
   "metadata": {},
   "outputs": [],
   "source": [
    "# If it can be loaded you can skip the cell below\n",
    "companies"
   ]
  },
  {
   "cell_type": "code",
   "execution_count": null,
   "id": "3abbaf33",
   "metadata": {},
   "outputs": [],
   "source": [
    "for year in pbar(range(yrs[0], yrs[1]+1)):\n",
    "    print(\"Starting\", year)\n",
    "    comp_tmp = pd.DataFrame(workers[workers['year'] == year]['work_id'].unique())\n",
    "    comp_tmp.columns = ['work_id']\n",
    "    comp_tmp['year'] = year\n",
    "    \n",
    "    for i, row in pbar(comp_tmp.iterrows(), total = len(comp_tmp)):\n",
    "        # employee_points\n",
    "        comp_tmp.loc[i, 'employee_points'] = workers[(workers['work_id'] == row[\"work_id\"]) &\n",
    "                                                      (workers['year'] == year)]['employee_points'].iloc[0]\n",
    "        # nace2-code\n",
    "        comp_tmp.loc[i, 'nace2'] = workers[(workers['work_id'] == row[\"work_id\"]) &\n",
    "                                                      (workers['year'] == year)]['nace2'].iloc[0]\n",
    "        # regione_code\n",
    "        comp_tmp.loc[i, 'region_code'] = workers[(workers['work_id'] == row[\"work_id\"]) &\n",
    "                                                      (workers['year'] == year)]['region_code'].astype(int).iloc[0]\n",
    "\n",
    "        # average age\n",
    "        comp_tmp.loc[i, 'age_avg'] = workers[(workers['work_id'] == row[\"work_id\"]) &\n",
    "                                                      (workers['year'] == year)]['age'].mean()\n",
    "        # average work_percent\n",
    "        comp_tmp.loc[i, 'work_percent_avg'] = workers[(workers['work_id'] == row[\"work_id\"]) &\n",
    "                                                      (workers['year'] == year)]['work_percent'].mean()\n",
    "    if year == yrs[0]:\n",
    "        companies = comp_tmp\n",
    "    else:\n",
    "        companies = companies.append(comp_tmp)\n",
    "    print(\"Finished\", year)"
   ]
  },
  {
   "cell_type": "code",
   "execution_count": null,
   "id": "1b7cb54f",
   "metadata": {},
   "outputs": [],
   "source": [
    "companies"
   ]
  },
  {
   "cell_type": "code",
   "execution_count": null,
   "id": "bc9831ae",
   "metadata": {},
   "outputs": [],
   "source": [
    "dp.write_pandas(companies, '/felles/mock_sysselsatte/companies_withworkaverages_20192024', valuation = \"OPEN\", state =\"PROCESSED\")"
   ]
  },
  {
   "cell_type": "markdown",
   "id": "57ee777d",
   "metadata": {},
   "source": [
    "# Plot the new companies-dataset in a 3D-scatterplot in Plotly"
   ]
  },
  {
   "cell_type": "code",
   "execution_count": null,
   "id": "b038d8f6",
   "metadata": {},
   "outputs": [],
   "source": [
    "import plotly.express as px\n",
    "fig = px.scatter_3d(companies, x='age_avg', y='region_code', z='work_percent_avg',\n",
    "              color='nace2', size=\"employee_points\", opacity=0.7, animation_frame=\"year\", animation_group = \"work_id\",\n",
    "                    hover_data = ['work_id']\n",
    "                   )\n",
    "\n",
    "fig.update_layout(\n",
    "    scene = dict(\n",
    "        xaxis = dict(nticks=4, range=[18,85], autorange = False),\n",
    "        yaxis = dict(nticks=4, range=[0, 50], autorange = False),\n",
    "        zaxis = dict(nticks=4, range=[40, 100], autorange = False),),\n",
    "    width=700, height = 700,\n",
    "    margin=dict(r=20, l=10, b=10, t=10))\n",
    "\n",
    "fig.show()"
   ]
  },
  {
   "cell_type": "code",
   "execution_count": null,
   "id": "fec1e66e",
   "metadata": {},
   "outputs": [],
   "source": []
  }
 ],
 "metadata": {
  "language_info": {
   "codemirror_mode": {
    "name": "ipython"
   },
   "file_extension": ".py",
   "mimetype": "text/x-python",
   "name": "python",
   "nbconvert_exporter": "python"
  }
 },
 "nbformat": 4,
 "nbformat_minor": 5
}

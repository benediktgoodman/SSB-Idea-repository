{
 "cells": [
  {
   "cell_type": "code",
   "execution_count": null,
   "id": "6d6e8c0f",
   "metadata": {},
   "outputs": [],
   "source": [
    "from ipyaggrid import Grid\n",
    "import dapla as dp\n",
    "import pandas as pd"
   ]
  },
  {
   "cell_type": "code",
   "execution_count": null,
   "id": "d6fbb8d7",
   "metadata": {},
   "outputs": [],
   "source": [
    "#dp.show('/felles/mock')"
   ]
  },
  {
   "cell_type": "code",
   "execution_count": null,
   "id": "81e3addf",
   "metadata": {},
   "outputs": [],
   "source": [
    "pop = dp.read_pandas('/felles/mock_sysselsatte/population_2020_30000')\n",
    "comp = dp.read_pandas('/felles/mock_sysselsatte/companies_2020_30000')\n",
    "popcomp = pop.merge(comp, on = \"work_id\", how = \"left\")"
   ]
  },
  {
   "cell_type": "code",
   "execution_count": null,
   "id": "56e1bac2",
   "metadata": {},
   "outputs": [],
   "source": [
    "popcomp['nace1'] = popcomp['nace'].str[0]\n",
    "popcomp['nace2'] = popcomp['nace'].str[:2]"
   ]
  },
  {
   "cell_type": "code",
   "execution_count": null,
   "id": "32c4fe63",
   "metadata": {},
   "outputs": [],
   "source": [
    "popcomp"
   ]
  },
  {
   "cell_type": "code",
   "execution_count": null,
   "id": "fbf77215",
   "metadata": {},
   "outputs": [],
   "source": [
    "# Behold kun arbeidere\n",
    "popcomp = popcomp[popcomp['work_id'].notna()]"
   ]
  },
  {
   "cell_type": "code",
   "execution_count": null,
   "id": "2af5982b",
   "metadata": {},
   "outputs": [],
   "source": [
    "# Sorter etter grunn-nace\n",
    "popcomp = popcomp.sort_values('nace')\n",
    "popcomp"
   ]
  },
  {
   "cell_type": "code",
   "execution_count": null,
   "id": "91ea63be",
   "metadata": {},
   "outputs": [],
   "source": [
    "# Detaljer om de kolonnene vi vil gruppere på og de vi vil summere på.\n",
    "# Kolonner som ikke detaljeres blir utelatt fra griden\n",
    "column_defs = [\n",
    "    # De fire kolonnene som skal bli grupperingene som kan ekspanderes\n",
    "    {\n",
    "        #'headerName' : 'NACE1', \n",
    "        'field' : 'nace1',\n",
    "        'rowGroup':True, \n",
    "        'hide':True\n",
    "    },\n",
    "    {\n",
    "        #'headerName' : 'NACE2', \n",
    "        'field' : 'nace2',\n",
    "        'rowGroup':True, \n",
    "        'hide':True\n",
    "    },\n",
    "    {\n",
    "        #'headerName' : 'Region', \n",
    "        'field' : 'region',\n",
    "        'rowGroup':True, \n",
    "        'hide':True\n",
    "    },\n",
    "    {\n",
    "        #'headerName' : 'Arbeidsplass', \n",
    "        'field' : 'work_id',\n",
    "        'rowGroup':True, \n",
    "        'hide':True\n",
    "    },\n",
    "    # De to numeriske kolonnene vi vil regne aggregat på\n",
    "    {\n",
    "        'headerName' : 'Arbeidsprosent', \n",
    "        'field' : 'work_percent',\n",
    "        'aggFunc' : 'avg'\n",
    "    },\n",
    "    {\n",
    "        'headerName' : 'Alder', \n",
    "        'field' : 'age',\n",
    "        'aggFunc' : 'avg'\n",
    "    },\n",
    "    # Ekstra kolonne vi ønsker å ha med\n",
    "    {\n",
    "        'headerName' : 'Full NACE', \n",
    "        'field' : 'nace',\n",
    "    },\n",
    "    ]"
   ]
  },
  {
   "cell_type": "code",
   "execution_count": null,
   "id": "c64e7b72",
   "metadata": {},
   "outputs": [],
   "source": [
    "grid_options = {\n",
    "        'columnDefs' : column_defs,\n",
    "        'enableSorting': True,\n",
    "        'enableFilter': True,\n",
    "        'enableColResize': True,\n",
    "        'enableRangeSelection': True,\n",
    " #       'rowSelection': 'multiple',\n",
    "    }"
   ]
  },
  {
   "cell_type": "code",
   "execution_count": null,
   "id": "e81174f6",
   "metadata": {},
   "outputs": [],
   "source": [
    "g = Grid(grid_data=popcomp,\n",
    "             grid_options = grid_options,\n",
    "             quick_filter = True,\n",
    "             #show_toggle_edit = False,\n",
    "             sync_on_edit = True,\n",
    "             #export_csv=True,\n",
    "             #export_excel=True,\n",
    "             theme='ag-theme-balham',\n",
    "             #show_toggle_delete=False,\n",
    "             columns_fit='auto',\n",
    "             index=False,\n",
    "             keep_multiindex=False\n",
    "        )\n",
    "\n",
    "g"
   ]
  },
  {
   "cell_type": "markdown",
   "id": "0af36d85",
   "metadata": {},
   "source": [
    "Det er da Nace1 > Nace2 > Region > arbeidsplass-id"
   ]
  }
 ],
 "metadata": {
  "language_info": {
   "codemirror_mode": {
    "name": "ipython"
   },
   "file_extension": ".py",
   "mimetype": "text/x-python",
   "name": "python",
   "nbconvert_exporter": "python"
  }
 },
 "nbformat": 4,
 "nbformat_minor": 5
}

{
 "cells": [
  {
   "cell_type": "code",
   "execution_count": null,
   "metadata": {},
   "outputs": [],
   "source": [
    "#Her importerer vi modulene som trengs til dette\n",
    "import json\n",
    "import requests\n",
    "\n",
    "#Denne printer bare litt penere...\n",
    "from pprint import pprint"
   ]
  },
  {
   "cell_type": "markdown",
   "metadata": {},
   "source": [
    "### Forbered etterspoersel\n",
    "Her er brukt som eksempel \"Gruppering av aarstrinn i grunnskolen 2014-11 - variant av AArstrinn i grunnskolen 2014-11\""
   ]
  },
  {
   "cell_type": "code",
   "execution_count": null,
   "metadata": {},
   "outputs": [],
   "source": [
    "url = 'http://data.ssb.no/api/klass/v1/variants/1121'\n",
    "headers = {'Accept': 'application/json'}\n",
    "\n",
    "#Gjoer etterspoersel\n",
    "r = requests.get(url, headers = headers)\n",
    "\n",
    "#Av en eller annen grunn returnerer KLASS APIen json som bytestring...\n",
    "#La oss decode...\n",
    "cont = r.content.decode('utf8').replace(\"'\", '\"')\n",
    "\n",
    "#Konverter til en liste vi kan bruke\n",
    "cont = json.loads(cont)\n",
    "\n",
    "#Print ut resultat\n",
    "#pprint(cont)"
   ]
  },
  {
   "cell_type": "code",
   "execution_count": null,
   "metadata": {},
   "outputs": [],
   "source": [
    "#Saerbehandling ift. innhold i eksempelrequest\n",
    "#Om du henter annen data fra Klass saa maa dette sikkert skrives om\n",
    "\n",
    "#Tittel og info\n",
    "print(cont['name'])\n",
    "print('Eies av: %s' % (cont['owningSection']) )\n",
    "print('Kontaktperson: %s\\nEmail: %s\\n' % (cont['contactPerson']['name'], cont['contactPerson']['email']))\n",
    "\n",
    "#Loop gjennom alle klassifikasjoner og print elementer med innhold underveis\n",
    "for item in cont['classificationItems']:\n",
    "    code = item['code']\n",
    "    parentCode = item['parentCode']\n",
    "    level = item['level']\n",
    "    name = item['name']\n",
    "    print( f'Kode: {code}')\n",
    "    \n",
    "    #Av og til var denne tom, saa da printer vi den ikke\n",
    "    if parentCode != \"\":\n",
    "        print( f'Foreldrekode: {parentCode}')\n",
    "    \n",
    "    print( f'Nivå: {level} \\nNavn: {name}\\n')"
   ]
  },
  {
   "cell_type": "code",
   "execution_count": null,
   "metadata": {},
   "outputs": [],
   "source": [
    "#Ta ut til json igjen om ønskelig\n",
    "s = json.dumps(cont, indent = 4 , sort_keys=True)\n",
    "print(s)"
   ]
  },
  {
   "cell_type": "code",
   "execution_count": null,
   "metadata": {},
   "outputs": [],
   "source": [
    "## Funnet her etter at det over ble skrevet\n",
    "#https://www.ssb.no/omssb/tjenester-og-verktoy/api/px-api/_attachment/400061?_ts=16dafd88650\n",
    "\n",
    "\n",
    "# ### Eksempel paa bruk av Klass API fra Python (Klass - Klassifikasjoner og kodelister)\n",
    "# Se også [API user guide](https://data.ssb.no/api/klass/v1/api-guide.html)\n",
    "\n",
    "import requests\n",
    "import pandas as pd\n",
    "from pandas.io.json import json_normalize #package for flattening json in pandas df\n",
    "\n",
    "\n",
    "# url til klass API - eksempelet henter Standard for kommuneinndeling med endringer fra 1.1.2017 t.o.m. 1.1.2020\n",
    "# parameteren includeFuture tar med framtidig inndeling for 2020\n",
    "\n",
    "URL = 'http://data.ssb.no/api/klass/v1/classifications/131/codes.json?from=2017-01-01&to=2020-01-02&includeFuture=True'\n",
    "r = requests.get(url = URL)\n",
    "\n",
    "# r gir bare http status koden\n",
    "r\n",
    "\n",
    "# Innholdet finner vi med .text\n",
    "dataset = r.text\n",
    "\n",
    "# Leser dataset som json til en dataframe\n",
    "df = pd.read_json(dataset)\n",
    "\n",
    "# ### utforsker dataframe\n",
    "# Dataframe inneholder bare objeketet 'codes'\n",
    "df.info()\n",
    "df.columns\n",
    "# leser codes til pandas Series\n",
    "ds = df['codes']\n",
    "# Leser foerste element\n",
    "ds[0]\n",
    "# Slutt på utforsking\n",
    "\n",
    "# Bruker Pandas [json_normalize](https://pandas.pydata.org/pandas-docs/stable/reference/api/pandas.io.json.json_normalize.html)\n",
    "kommun = json_normalize(df['codes'])\n",
    "\n",
    "# om jeg heller ville brukt normalize på ds\n",
    "# kommun1 = json_normalize(ds)\n",
    "\n",
    "kommun.head()\n",
    "kommun.describe()\n",
    "\n",
    "# setter code som inneholder kommunenummer som index\n",
    "kommun = kommun.set_index('code')\n",
    "kommun.tail()\n",
    "\n",
    "#Finn kommunenummer og gyldighetsperiode for\n",
    "kommun.query('name == \"Holmestrand\"')\n"
   ]
  }
 ],
 "metadata": {
  "language_info": {
   "codemirror_mode": {
    "name": "ipython"
   },
   "file_extension": ".py",
   "mimetype": "text/x-python",
   "name": "python",
   "nbconvert_exporter": "python"
  }
 },
 "nbformat": 4,
 "nbformat_minor": 4
}

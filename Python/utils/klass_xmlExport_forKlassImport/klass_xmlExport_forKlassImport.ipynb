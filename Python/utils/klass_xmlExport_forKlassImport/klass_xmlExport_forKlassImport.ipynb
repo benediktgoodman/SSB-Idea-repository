{
 "cells": [
  {
   "cell_type": "code",
   "execution_count": null,
   "metadata": {},
   "outputs": [],
   "source": [
    "# This snippet should take a dataframe in, and produce an xml compatible with upload into the KLASS-webgui\n",
    "# It outputs to the jupyter-folder of this script.\n",
    "# \n",
    "# See documentation here:\n",
    "# - https://wiki.ssb.no/display/KP/Eksport+og+import+Excel\n",
    "# Upload happens in\n",
    "# - https://i.ssb.no/klass/admin/klassui\n",
    "# Take a look at other examples by downloading the xmls from the KLASS UI\n",
    "# "
   ]
  },
  {
   "cell_type": "code",
   "execution_count": null,
   "metadata": {},
   "outputs": [],
   "source": [
    "import pandas as pd"
   ]
  },
  {
   "cell_type": "code",
   "execution_count": null,
   "metadata": {},
   "outputs": [],
   "source": [
    "# Example data into a pandas dataframe\n",
    "colm = ['kode', 'navn_bokmål', 'navn_engelsk', 'kilde_kode', 'forelder']\n",
    "rws = [['1', 'Ugift', 'Unmarried', 'a', None], ['2', 'Gift', 'Married', 'b', None]]\n",
    "\n",
    "# Create dataframe\n",
    "eks = pd.DataFrame(rws, columns = colm)\n",
    "print(eks)"
   ]
  },
  {
   "cell_type": "code",
   "execution_count": null,
   "metadata": {},
   "outputs": [],
   "source": [
    "#Function definition for writing content of xml\n",
    "\n",
    "def to_klass(df: 'dataframe', filename = None, mode = \"variant\"):\n",
    "    \"\"\"\n",
    "    Parameters:\n",
    "    df (dataframe): Dataframe into first argument \"to_klass\"-function.\n",
    "    filename (path): Path to write XML-file to. If not defined, no xml-file will be written.\n",
    "    mode (str): What kind of \"kodeverk\" is being encoded. \"variant\", \"version\", \"korrespondansetabell\" etc.\n",
    "    ### NOT ALL MODES HAVE BEEN CODED FOR YET ###\n",
    " \n",
    "    Returns:\n",
    "    str: output passed into xml-file\n",
    "    writes XML file in root folder of this script\n",
    "\n",
    "    \"\"\"\n",
    "    \n",
    "    # There are most likely missing translations here for other things than \"version\"    \n",
    "    ### UNFINISHED ###\n",
    "    if (mode == 'version'):\n",
    "        norsk_mode = 'versjon'\n",
    "        start = \"\".join(['<?xml version=\"1.0\" encoding=\"UTF-8\" standalone=\"yes\"?>\\n<ns1:', norsk_mode ,' xmlns:ns1=\"http://klass.ssb.no/', mode, '\">\\n'])\n",
    "        element = \"element\"\n",
    "        end = '\\n</ns1:' + norsk_mode + '>'\n",
    "    elif (mode == 'korrespondansetabell'):\n",
    "        norsk_mode = 'Korrespondanse'\n",
    "        start = '<Korrespondansetabell xmlns=\"http://klass.ssb.no/correspondenceTable\" xmlns:xsi=\"http://www.w3.org/2001/XMLSchema-instance\" '\n",
    "        start = start + 'xsi:schemaLocation=\"http://klass.ssb.no/correspondenceTable https://i.ssb.no/klass/admin/schemas/correspondenceTable.xsd\">\\n'\n",
    "        element = 'Korrespondanse'\n",
    "        end = '\\n</ns1:Korrespondansetabell>'\n",
    "    elif (mode == 'variant'):\n",
    "        norsk_mode = 'variant'\n",
    "        start = \"\".join(['<?xml version=\"1.0\" encoding=\"UTF-8\" standalone=\"yes\"?>\\n<ns1:', norsk_mode ,' xmlns:ns1=\"http://klass.ssb.no/', mode, '\">\\n'])\n",
    "        element = \"element\"\n",
    "        end = '\\n</ns1:' + norsk_mode + '>'\n",
    "    else:\n",
    "        norsk_mode = mode\n",
    "        start = \"\".join(['<?xml version=\"1.0\" encoding=\"UTF-8\" standalone=\"yes\"?>\\n<ns1:', norsk_mode ,' xmlns:ns1=\"http://klass.ssb.no/', mode, '\">\\n'])\n",
    "        element = \"element\"\n",
    "        end = '\\n</ns1:' + norsk_mode + '>'\n",
    "    \n",
    "    ### The \"ns1\"-kode is added by Excel when doing the roundtrip, unsure if this is necessary.\n",
    "    # Start building output\n",
    "    \n",
    "    def row_to_xml(row):\n",
    "        \"\"\"Returns xml-formatted row\n",
    "        Parameters:\n",
    "        row (dataframe row): Row of dataframe to operate on\n",
    "        \n",
    "        Returns:\n",
    "        List of lines for XML, with content from the row in question        \n",
    "        \"\"\"\n",
    "                \n",
    "        xml = ['\\t<ns1:' + element + '>']\n",
    "        # Inserting content per row in dataframe\n",
    "        for i, col_name in enumerate(row.index):\n",
    "            cont = '\\t\\t'\n",
    "            # Element is formatted differently when empty\n",
    "            if row.iloc[i] is not None:\n",
    "                cont = cont + '<ns1:{0}>{1}'.format(col_name, row.iloc[i])\n",
    "                cont = cont + '</ns1:{0}>'.format(col_name, row.iloc[i])\n",
    "            else: \n",
    "                cont = cont + '<ns1:{0}/>'.format(col_name, row.iloc[i])\n",
    "            # insert content for cell in list\n",
    "            xml.append(cont)\n",
    "        # Finishing up the row\n",
    "        xml.append('\\t</ns1:' + element +'>')\n",
    "        return '\\n'.join(xml)\n",
    "\n",
    "    # Apply the function to do per row on the whole dataframe\n",
    "    res = '\\n'.join(df.apply(row_to_xml, axis=1))\n",
    "    # Combine all the pieces to complete output\n",
    "    res = \"\".join([start, res, end])\n",
    "    \n",
    "    #If function is not passed filename, we want to return and exit    \n",
    "    if filename is None:\n",
    "        return res\n",
    "    #If filename is passed, try writing a xml with content\n",
    "    with open(filename, 'w') as f:\n",
    "        f.write(res)\n",
    "        return res"
   ]
  },
  {
   "cell_type": "code",
   "execution_count": null,
   "metadata": {},
   "outputs": [],
   "source": [
    "#We assign the result of the function to an attribute of the dataframe\n",
    "#The function runs at the same time, and will output an xml if filename is passed\n",
    "#eks.to_klass = to_klass(eks, filename = './klass_eksempel.xml', mode=\"version\")\n",
    "eks.klass_xml = to_klass(eks, filename = './klass_eksempel.xml', mode=\"version\")\n",
    "\n",
    "#Returning values will not be shown, unless we print it\n",
    "print(eks.klass_xml)"
   ]
  },
  {
   "cell_type": "code",
   "execution_count": null,
   "metadata": {},
   "outputs": [],
   "source": []
  }
 ],
 "metadata": {
  "language_info": {
   "codemirror_mode": {
    "name": "ipython"
   },
   "file_extension": ".py",
   "mimetype": "text/x-python",
   "name": "python",
   "nbconvert_exporter": "python"
  }
 },
 "nbformat": 4,
 "nbformat_minor": 4
}

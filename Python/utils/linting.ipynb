{
 "cells": [
  {
   "cell_type": "code",
   "execution_count": null,
   "id": "c5ba15ca",
   "metadata": {},
   "outputs": [],
   "source": [
    "!flake8 --show-source --ignore=E821 datatyper_python.ipynb"
   ]
  },
  {
   "cell_type": "code",
   "execution_count": null,
   "id": "d87e2fa4",
   "metadata": {},
   "outputs": [],
   "source": [
    "#!jupyter nbextension list"
   ]
  },
  {
   "cell_type": "code",
   "execution_count": null,
   "id": "9ba0cfbe",
   "metadata": {},
   "outputs": [],
   "source": [
    "import autopep8"
   ]
  },
  {
   "cell_type": "code",
   "execution_count": null,
   "id": "46fb6ea3",
   "metadata": {},
   "outputs": [],
   "source": [
    "#help(autopep8.fix_code)"
   ]
  },
  {
   "cell_type": "code",
   "execution_count": null,
   "id": "007c5e50",
   "metadata": {},
   "outputs": [],
   "source": [
    "import pylint"
   ]
  },
  {
   "cell_type": "code",
   "execution_count": null,
   "id": "0f7e1f57",
   "metadata": {},
   "outputs": [],
   "source": [
    "#help(pylint)"
   ]
  },
  {
   "cell_type": "code",
   "execution_count": null,
   "id": "dd39d506",
   "metadata": {},
   "outputs": [],
   "source": [
    "import black"
   ]
  },
  {
   "cell_type": "code",
   "execution_count": null,
   "id": "b0de75a7",
   "metadata": {},
   "outputs": [],
   "source": [
    "#help(black)"
   ]
  }
 ],
 "metadata": {
  "language_info": {
   "codemirror_mode": {
    "name": "ipython"
   },
   "file_extension": ".py",
   "mimetype": "text/x-python",
   "name": "python",
   "nbconvert_exporter": "python"
  }
 },
 "nbformat": 4,
 "nbformat_minor": 5
}

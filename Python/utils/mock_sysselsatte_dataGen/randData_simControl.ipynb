{
 "cells": [
  {
   "cell_type": "code",
   "execution_count": null,
   "id": "devoted-engine",
   "metadata": {},
   "outputs": [],
   "source": [
    "import papermill as pm"
   ]
  },
  {
   "cell_type": "code",
   "execution_count": null,
   "id": "typical-charger",
   "metadata": {},
   "outputs": [],
   "source": [
    "extra_iterations = 4\n",
    "start_year = 2019\n",
    "population_size = 30000"
   ]
  },
  {
   "cell_type": "code",
   "execution_count": null,
   "id": "oriented-attack",
   "metadata": {},
   "outputs": [],
   "source": [
    "for i in range(extra_iterations):\n",
    "    print(start_year + i)\n",
    "    comp_in_path = f'/felles/mock_sysselsatte/companies_{start_year + i}_{population_size}'\n",
    "    pop_in_path = f'/felles/mock_sysselsatte/population_{start_year + i}_{population_size}'\n",
    "    \n",
    "    result = pm.execute_notebook(\n",
    "       'randData_simYears.ipynb',\n",
    "       'randData_simYears_output.ipynb',\n",
    "        #These paramateres overwrite the vars in the input file, by inserting a cell below the \"parameters\"-cell\n",
    "        #So first, the originals will be printed, but below the \"parameters\"-cell, the info passed through this function will be inserted\n",
    "        parameters=dict(comp_in_path = comp_in_path, pop_in_path = pop_in_path)\n",
    "    )\n",
    "    "
   ]
  },
  {
   "cell_type": "code",
   "execution_count": null,
   "id": "refined-profile",
   "metadata": {},
   "outputs": [],
   "source": []
  }
 ],
 "metadata": {
  "language_info": {
   "codemirror_mode": {
    "name": "ipython"
   },
   "file_extension": ".py",
   "mimetype": "text/x-python",
   "name": "python",
   "nbconvert_exporter": "python"
  }
 },
 "nbformat": 4,
 "nbformat_minor": 5
}

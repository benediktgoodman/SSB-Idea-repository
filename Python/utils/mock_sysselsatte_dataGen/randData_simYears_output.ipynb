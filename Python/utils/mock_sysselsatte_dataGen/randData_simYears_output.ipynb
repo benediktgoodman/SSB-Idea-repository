{
 "cells": [
  {
   "cell_type": "code",
   "execution_count": null,
   "id": "extra-thing",
   "metadata": {
    "papermill": {
     "duration": 0.936525,
     "end_time": "2021-03-03T11:10:29.397306",
     "exception": false,
     "start_time": "2021-03-03T11:10:28.460781",
     "status": "completed"
    },
    "tags": []
   },
   "outputs": [],
   "source": [
    "import dapla as dp\n",
    "import pandas as pd\n",
    "import datetime\n",
    "import random\n",
    "import numpy as np\n",
    "import requests, json\n",
    "from pyjstat import pyjstat\n",
    "from tqdm.notebook import tqdm_notebook as pbar"
   ]
  },
  {
   "cell_type": "markdown",
   "id": "fuzzy-paragraph",
   "metadata": {
    "papermill": {
     "duration": 0.055082,
     "end_time": "2021-03-03T11:10:29.505284",
     "exception": false,
     "start_time": "2021-03-03T11:10:29.450202",
     "status": "completed"
    },
    "tags": []
   },
   "source": [
    "### Settings"
   ]
  },
  {
   "cell_type": "code",
   "execution_count": null,
   "id": "extended-consequence",
   "metadata": {
    "papermill": {
     "duration": 0.640848,
     "end_time": "2021-03-03T11:10:30.202566",
     "exception": false,
     "start_time": "2021-03-03T11:10:29.561718",
     "status": "completed"
    },
    "tags": [
     "parameters"
    ]
   },
   "outputs": [],
   "source": [
    "# Inputs / Parameters\n",
    "comp_in_path = '/felles/mock_sysselsatte/companies_2019_30000'\n",
    "pop_in_path = '/felles/mock_sysselsatte/population_2019_30000'\n",
    "\n",
    "companies = dp.read_pandas(comp_in_path)\n",
    "population = dp.read_pandas(pop_in_path)    "
   ]
  },
  {
   "cell_type": "code",
   "execution_count": null,
   "id": "rolled-adult",
   "metadata": {
    "papermill": {
     "duration": 0.058695,
     "end_time": "2021-03-03T11:10:30.312672",
     "exception": false,
     "start_time": "2021-03-03T11:10:30.253977",
     "status": "completed"
    },
    "tags": [
     "injected-parameters"
    ]
   },
   "outputs": [],
   "source": [
    "# Parameters\n",
    "comp_in_path = \"/felles/mock_sysselsatte/companies_2022_30000\"\n",
    "pop_in_path = \"/felles/mock_sysselsatte/population_2022_30000\"\n"
   ]
  },
  {
   "cell_type": "code",
   "execution_count": null,
   "id": "fallen-departure",
   "metadata": {
    "papermill": {
     "duration": 0.075264,
     "end_time": "2021-03-03T11:10:30.451745",
     "exception": false,
     "start_time": "2021-03-03T11:10:30.376481",
     "status": "completed"
    },
    "tags": []
   },
   "outputs": [],
   "source": [
    "start_year = int(pop_in_path.split('_')[-2])\n",
    "start_pop_num = int(pop_in_path.split('_')[-1])\n",
    "pop_num = len(population)\n",
    "comp_num = len(companies)\n",
    "print('Start year:\\t\\t', start_year,'\\nPopulation size:\\t', pop_num, '\\nCompanies number:\\t', comp_num)"
   ]
  },
  {
   "cell_type": "code",
   "execution_count": null,
   "id": "exact-extent",
   "metadata": {
    "papermill": {
     "duration": 0.062112,
     "end_time": "2021-03-03T11:10:30.577467",
     "exception": false,
     "start_time": "2021-03-03T11:10:30.515355",
     "status": "completed"
    },
    "tags": []
   },
   "outputs": [],
   "source": [
    "pop_num_ratio = pop_num / 5328212"
   ]
  },
  {
   "cell_type": "code",
   "execution_count": null,
   "id": "color-knowing",
   "metadata": {
    "papermill": {
     "duration": 0.06057,
     "end_time": "2021-03-03T11:10:30.690381",
     "exception": false,
     "start_time": "2021-03-03T11:10:30.629811",
     "status": "completed"
    },
    "tags": []
   },
   "outputs": [],
   "source": [
    "#companies"
   ]
  },
  {
   "cell_type": "code",
   "execution_count": null,
   "id": "manufactured-contrast",
   "metadata": {
    "papermill": {
     "duration": 0.069049,
     "end_time": "2021-03-03T11:10:30.817606",
     "exception": false,
     "start_time": "2021-03-03T11:10:30.748557",
     "status": "completed"
    },
    "tags": []
   },
   "outputs": [],
   "source": [
    "#population"
   ]
  },
  {
   "cell_type": "markdown",
   "id": "diagnostic-client",
   "metadata": {
    "papermill": {
     "duration": 0.05475,
     "end_time": "2021-03-03T11:10:30.926921",
     "exception": false,
     "start_time": "2021-03-03T11:10:30.872171",
     "status": "completed"
    },
    "tags": []
   },
   "source": [
    "### Statbank function"
   ]
  },
  {
   "cell_type": "code",
   "execution_count": null,
   "id": "stopped-maine",
   "metadata": {
    "papermill": {
     "duration": 0.061015,
     "end_time": "2021-03-03T11:10:31.041168",
     "exception": false,
     "start_time": "2021-03-03T11:10:30.980153",
     "status": "completed"
    },
    "tags": []
   },
   "outputs": [],
   "source": [
    "def statbank_pandas(url, payload):\n",
    "    resultat = requests.post(url, json = payload)\n",
    "    # Les resultatet som ett pyjstat-class-objekt\n",
    "    dataset = pyjstat.Dataset.read(resultat.text)\n",
    "    # Skriv \"hovedresultat\" til en dataframe\n",
    "    df = dataset.write('dataframe')\n",
    "    return df"
   ]
  },
  {
   "cell_type": "markdown",
   "id": "crucial-indian",
   "metadata": {
    "papermill": {
     "duration": 0.058659,
     "end_time": "2021-03-03T11:10:31.151180",
     "exception": false,
     "start_time": "2021-03-03T11:10:31.092521",
     "status": "completed"
    },
    "tags": []
   },
   "source": [
    "# Populace"
   ]
  },
  {
   "cell_type": "code",
   "execution_count": null,
   "id": "arbitrary-china",
   "metadata": {
    "papermill": {
     "duration": 0.066134,
     "end_time": "2021-03-03T11:10:31.270186",
     "exception": false,
     "start_time": "2021-03-03T11:10:31.204052",
     "status": "completed"
    },
    "tags": []
   },
   "outputs": [],
   "source": [
    "# Original number of workers at start of year\n",
    "original_workers = len(population[~population['work_id'].isnull()])"
   ]
  },
  {
   "cell_type": "markdown",
   "id": "expressed-effectiveness",
   "metadata": {
    "papermill": {
     "duration": 0.052482,
     "end_time": "2021-03-03T11:10:31.375365",
     "exception": false,
     "start_time": "2021-03-03T11:10:31.322883",
     "status": "completed"
    },
    "tags": []
   },
   "source": [
    "### Ageing"
   ]
  },
  {
   "cell_type": "code",
   "execution_count": null,
   "id": "conventional-destruction",
   "metadata": {
    "papermill": {
     "duration": 0.070554,
     "end_time": "2021-03-03T11:10:31.498595",
     "exception": false,
     "start_time": "2021-03-03T11:10:31.428041",
     "status": "completed"
    },
    "tags": []
   },
   "outputs": [],
   "source": [
    "population['age'] = (population['year_birth'] - start_year - 1)*-1"
   ]
  },
  {
   "cell_type": "code",
   "execution_count": null,
   "id": "cellular-carry",
   "metadata": {
    "papermill": {
     "duration": 0.079276,
     "end_time": "2021-03-03T11:10:31.635704",
     "exception": false,
     "start_time": "2021-03-03T11:10:31.556428",
     "status": "completed"
    },
    "tags": []
   },
   "outputs": [],
   "source": [
    "population"
   ]
  },
  {
   "cell_type": "markdown",
   "id": "pacific-manhattan",
   "metadata": {
    "papermill": {
     "duration": 0.05498,
     "end_time": "2021-03-03T11:10:31.749270",
     "exception": false,
     "start_time": "2021-03-03T11:10:31.694290",
     "status": "completed"
    },
    "tags": []
   },
   "source": [
    "### Birth"
   ]
  },
  {
   "cell_type": "code",
   "execution_count": null,
   "id": "korean-benjamin",
   "metadata": {
    "papermill": {
     "duration": 0.063404,
     "end_time": "2021-03-03T11:10:31.866336",
     "exception": false,
     "start_time": "2021-03-03T11:10:31.802932",
     "status": "completed"
    },
    "tags": []
   },
   "outputs": [],
   "source": [
    "# 54495 in 2019 with a population of 5328212\n",
    "total_pop = 5328212\n",
    "birth_ratio = 54495 / total_pop\n",
    "born_num = int(int(pop_num) * birth_ratio)\n",
    "born_num"
   ]
  },
  {
   "cell_type": "code",
   "execution_count": null,
   "id": "atlantic-genetics",
   "metadata": {
    "papermill": {
     "duration": 0.062773,
     "end_time": "2021-03-03T11:10:31.984430",
     "exception": false,
     "start_time": "2021-03-03T11:10:31.921657",
     "status": "completed"
    },
    "tags": []
   },
   "outputs": [],
   "source": [
    "# Male to female ratio based on numbers from 2019\n",
    "male = 28042\n",
    "female = 26453\n",
    "\n",
    "male_sex_ratio =  male / (male+female) \n",
    "female_sex_ratio = 1 - male_sex_ratio\n",
    "\n",
    "male_sex_ratio "
   ]
  },
  {
   "cell_type": "code",
   "execution_count": null,
   "id": "spread-attempt",
   "metadata": {
    "papermill": {
     "duration": 0.066329,
     "end_time": "2021-03-03T11:10:32.104818",
     "exception": false,
     "start_time": "2021-03-03T11:10:32.038489",
     "status": "completed"
    },
    "tags": []
   },
   "outputs": [],
   "source": [
    "def fnr_single(year, sex):\n",
    "    start_date = datetime.date(year, 1, 1)\n",
    "    end_date = datetime.date(year, 12, 31)\n",
    "\n",
    "    time_between_dates = end_date - start_date\n",
    "    days_between_dates = time_between_dates.days\n",
    "    random_number_of_days = random.randrange(days_between_dates)\n",
    "    random_date = start_date + datetime.timedelta(days=random_number_of_days)\n",
    "    date = f'{str(random_date.day).zfill(2)}{str(random_date.month).zfill(2)}'\n",
    "\n",
    "    # numbers 5-6 are birthyear, last two digits of current year - age\n",
    "    fnr = f'{date}{str(year)[2:]}'\n",
    "\n",
    "    # Last 5 digits are random, if sex is male, last digit should be divisable by two\n",
    "\n",
    "    # Edgecase might go from 99999 to 100000, so we start one below\n",
    "    last5 = np.random.randint(0,99998) \n",
    "    # If the number cant be divded cleanly by two, and the sex is male, increase the number by one\n",
    "    if last5 % 2 and sex == 'Menn':\n",
    "        last5 += 1\n",
    "    last5 = str(last5).zfill(5)\n",
    "\n",
    "    fnr = fnr + last5\n",
    "    return fnr"
   ]
  },
  {
   "cell_type": "code",
   "execution_count": null,
   "id": "motivated-chest",
   "metadata": {
    "papermill": {
     "duration": 1.40135,
     "end_time": "2021-03-03T11:10:33.561826",
     "exception": false,
     "start_time": "2021-03-03T11:10:32.160476",
     "status": "completed"
    },
    "tags": []
   },
   "outputs": [],
   "source": [
    "for i in range(born_num):\n",
    "    \n",
    "    ####### CHANGE WHEN ITERATING ########\n",
    "    year_birth = int(start_year) + 1\n",
    "    #print(year_birth)\n",
    "    \n",
    "    if i < (int(born_num * male_sex_ratio)):\n",
    "        sex = 'Menn'\n",
    "    else:\n",
    "        sex = 'Kvinner'\n",
    "        \n",
    "    fnr = fnr_single(year_birth, sex)\n",
    "    \n",
    "    add_row = [fnr, None, sex, 0.0, year_birth, float('NaN')]\n",
    "    population = population.append(pd.Series(add_row, index = population.columns), ignore_index = True)"
   ]
  },
  {
   "cell_type": "code",
   "execution_count": null,
   "id": "polar-insider",
   "metadata": {
    "papermill": {
     "duration": 0.072166,
     "end_time": "2021-03-03T11:10:33.689805",
     "exception": false,
     "start_time": "2021-03-03T11:10:33.617639",
     "status": "completed"
    },
    "tags": []
   },
   "outputs": [],
   "source": [
    "population.tail()"
   ]
  },
  {
   "cell_type": "markdown",
   "id": "synthetic-savings",
   "metadata": {
    "papermill": {
     "duration": 0.055228,
     "end_time": "2021-03-03T11:10:33.798686",
     "exception": false,
     "start_time": "2021-03-03T11:10:33.743458",
     "status": "completed"
    },
    "tags": []
   },
   "source": [
    "### Death"
   ]
  },
  {
   "cell_type": "code",
   "execution_count": null,
   "id": "musical-cleaner",
   "metadata": {
    "jupyter": {
     "source_hidden": true
    },
    "papermill": {
     "duration": 0.068422,
     "end_time": "2021-03-03T11:10:33.921096",
     "exception": false,
     "start_time": "2021-03-03T11:10:33.852674",
     "status": "completed"
    },
    "tags": []
   },
   "outputs": [],
   "source": [
    "url = 'https://data.ssb.no/api/v0/no/table/07995/'\n",
    "payload = {\n",
    "  \"query\": [\n",
    "    {\n",
    "      \"code\": \"Kjonn\",\n",
    "      \"selection\": {\n",
    "        \"filter\": \"item\",\n",
    "        \"values\": [\n",
    "          \"1\",\n",
    "          \"2\"\n",
    "        ]\n",
    "      }\n",
    "    },\n",
    "    {\n",
    "      \"code\": \"Alder\",\n",
    "      \"selection\": {\n",
    "        \"filter\": \"vs:AlleAldre00B\",\n",
    "        \"values\": [\n",
    "          \"000\",\n",
    "          \"001\",\n",
    "          \"002\",\n",
    "          \"003\",\n",
    "          \"004\",\n",
    "          \"005\",\n",
    "          \"006\",\n",
    "          \"007\",\n",
    "          \"008\",\n",
    "          \"009\",\n",
    "          \"010\",\n",
    "          \"011\",\n",
    "          \"012\",\n",
    "          \"013\",\n",
    "          \"014\",\n",
    "          \"015\",\n",
    "          \"016\",\n",
    "          \"017\",\n",
    "          \"018\",\n",
    "          \"019\",\n",
    "          \"020\",\n",
    "          \"021\",\n",
    "          \"022\",\n",
    "          \"023\",\n",
    "          \"024\",\n",
    "          \"025\",\n",
    "          \"026\",\n",
    "          \"027\",\n",
    "          \"028\",\n",
    "          \"029\",\n",
    "          \"030\",\n",
    "          \"031\",\n",
    "          \"032\",\n",
    "          \"033\",\n",
    "          \"034\",\n",
    "          \"035\",\n",
    "          \"036\",\n",
    "          \"037\",\n",
    "          \"038\",\n",
    "          \"039\",\n",
    "          \"040\",\n",
    "          \"041\",\n",
    "          \"042\",\n",
    "          \"043\",\n",
    "          \"044\",\n",
    "          \"045\",\n",
    "          \"046\",\n",
    "          \"047\",\n",
    "          \"048\",\n",
    "          \"049\",\n",
    "          \"050\",\n",
    "          \"051\",\n",
    "          \"052\",\n",
    "          \"053\",\n",
    "          \"054\",\n",
    "          \"055\",\n",
    "          \"056\",\n",
    "          \"057\",\n",
    "          \"058\",\n",
    "          \"059\",\n",
    "          \"060\",\n",
    "          \"061\",\n",
    "          \"062\",\n",
    "          \"063\",\n",
    "          \"064\",\n",
    "          \"065\",\n",
    "          \"066\",\n",
    "          \"067\",\n",
    "          \"068\",\n",
    "          \"069\",\n",
    "          \"070\",\n",
    "          \"071\",\n",
    "          \"072\",\n",
    "          \"073\",\n",
    "          \"074\",\n",
    "          \"075\",\n",
    "          \"076\",\n",
    "          \"077\",\n",
    "          \"078\",\n",
    "          \"079\",\n",
    "          \"080\",\n",
    "          \"081\",\n",
    "          \"082\",\n",
    "          \"083\",\n",
    "          \"084\",\n",
    "          \"085\",\n",
    "          \"086\",\n",
    "          \"087\",\n",
    "          \"088\",\n",
    "          \"089\",\n",
    "          \"090\",\n",
    "          \"091\",\n",
    "          \"092\",\n",
    "          \"093\",\n",
    "          \"094\",\n",
    "          \"095\",\n",
    "          \"096\",\n",
    "          \"097\",\n",
    "          \"098\",\n",
    "          \"099\",\n",
    "          \"100\",\n",
    "          \"101\",\n",
    "          \"102\",\n",
    "          \"103\",\n",
    "          \"104\",\n",
    "          \"105+\"\n",
    "        ]\n",
    "      }\n",
    "    },\n",
    "    {\n",
    "      \"code\": \"Tid\",\n",
    "      \"selection\": {\n",
    "        \"filter\": \"item\",\n",
    "        \"values\": [\n",
    "          \"2019\"\n",
    "        ]\n",
    "      }\n",
    "    }\n",
    "  ],\n",
    "  \"response\": {\n",
    "    \"format\": \"json-stat2\"\n",
    "  }\n",
    "}"
   ]
  },
  {
   "cell_type": "code",
   "execution_count": null,
   "id": "accompanied-exhaust",
   "metadata": {
    "papermill": {
     "duration": 0.947514,
     "end_time": "2021-03-03T11:10:34.930417",
     "exception": false,
     "start_time": "2021-03-03T11:10:33.982903",
     "status": "completed"
    },
    "tags": []
   },
   "outputs": [],
   "source": [
    "death_per_age = statbank_pandas(url, payload)"
   ]
  },
  {
   "cell_type": "code",
   "execution_count": null,
   "id": "yellow-swimming",
   "metadata": {
    "papermill": {
     "duration": 0.065866,
     "end_time": "2021-03-03T11:10:35.054385",
     "exception": false,
     "start_time": "2021-03-03T11:10:34.988519",
     "status": "completed"
    },
    "tags": []
   },
   "outputs": [],
   "source": [
    "death_per_age['alder'] = death_per_age['alder'].str.replace(' år eller eldre','')\n",
    "death_per_age['alder'] = death_per_age['alder'].str.replace(' år','')\n",
    "death_per_age['alder'] = death_per_age['alder'].astype(int)"
   ]
  },
  {
   "cell_type": "code",
   "execution_count": null,
   "id": "monthly-transaction",
   "metadata": {
    "papermill": {
     "duration": 0.068105,
     "end_time": "2021-03-03T11:10:35.181998",
     "exception": false,
     "start_time": "2021-03-03T11:10:35.113893",
     "status": "completed"
    },
    "tags": []
   },
   "outputs": [],
   "source": [
    "death_per_age['value_pop_ratio'] = round(death_per_age['value'].astype(int) * pop_num_ratio)"
   ]
  },
  {
   "cell_type": "code",
   "execution_count": null,
   "id": "three-producer",
   "metadata": {
    "papermill": {
     "duration": 0.064912,
     "end_time": "2021-03-03T11:10:35.302466",
     "exception": false,
     "start_time": "2021-03-03T11:10:35.237554",
     "status": "completed"
    },
    "tags": []
   },
   "outputs": [],
   "source": [
    "# We want this number to match the total death ratio\n",
    "print(death_per_age['value'].sum() / total_pop)\n",
    "print(death_per_age['value_pop_ratio'].sum() / pop_num)"
   ]
  },
  {
   "cell_type": "code",
   "execution_count": null,
   "id": "double-scenario",
   "metadata": {
    "papermill": {
     "duration": 0.072014,
     "end_time": "2021-03-03T11:10:35.430214",
     "exception": false,
     "start_time": "2021-03-03T11:10:35.358200",
     "status": "completed"
    },
    "tags": []
   },
   "outputs": [],
   "source": [
    "accuracy = 0.01\n",
    "\n",
    "while death_per_age['value'].sum() / total_pop > death_per_age['value_pop_ratio'].sum() / pop_num:\n",
    "    pop_num_ratio *= 1 + accuracy\n",
    "    #print(pop_num_ratio)\n",
    "    death_per_age['value_pop_ratio'] = round(death_per_age['value'].astype(int) * pop_num_ratio)\n",
    "    \n",
    "    \n",
    "while death_per_age['value'].sum() / total_pop < death_per_age['value_pop_ratio'].sum() / pop_num:\n",
    "    pop_num_ratio *= 1 - accuracy\n",
    "    #print(pop_num_ratio)\n",
    "    death_per_age['value_pop_ratio'] = round(death_per_age['value'].astype(int) * pop_num_ratio)"
   ]
  },
  {
   "cell_type": "code",
   "execution_count": null,
   "id": "flexible-treasure",
   "metadata": {
    "papermill": {
     "duration": 0.072547,
     "end_time": "2021-03-03T11:10:35.558279",
     "exception": false,
     "start_time": "2021-03-03T11:10:35.485732",
     "status": "completed"
    },
    "tags": []
   },
   "outputs": [],
   "source": [
    "# We want this number to match the total death ratio\n",
    "print(death_per_age['value'].sum() / total_pop)\n",
    "print(death_per_age['value_pop_ratio'].sum() / pop_num)"
   ]
  },
  {
   "cell_type": "code",
   "execution_count": null,
   "id": "ceramic-delight",
   "metadata": {
    "papermill": {
     "duration": 0.065402,
     "end_time": "2021-03-03T11:10:35.678967",
     "exception": false,
     "start_time": "2021-03-03T11:10:35.613565",
     "status": "completed"
    },
    "tags": []
   },
   "outputs": [],
   "source": [
    "kill_list = death_per_age[death_per_age['value_pop_ratio'].astype(int) > 0]"
   ]
  },
  {
   "cell_type": "code",
   "execution_count": null,
   "id": "expected-audit",
   "metadata": {
    "papermill": {
     "duration": 0.077202,
     "end_time": "2021-03-03T11:10:35.811370",
     "exception": false,
     "start_time": "2021-03-03T11:10:35.734168",
     "status": "completed"
    },
    "tags": []
   },
   "outputs": [],
   "source": [
    "kill_list"
   ]
  },
  {
   "cell_type": "code",
   "execution_count": null,
   "id": "closed-desire",
   "metadata": {
    "papermill": {
     "duration": 0.681785,
     "end_time": "2021-03-03T11:10:36.555433",
     "exception": false,
     "start_time": "2021-03-03T11:10:35.873648",
     "status": "completed"
    },
    "tags": []
   },
   "outputs": [],
   "source": [
    "for i, row in kill_list.iterrows():\n",
    "    sex = row['kjønn']\n",
    "    kill_num = int(row['value_pop_ratio'])\n",
    "    age = row['alder']\n",
    "    \n",
    "    #print('Kill', kill_num, sex, 'of age', age )\n",
    "    selection = population[(population['age'] == age) & (population['sex'] == sex)]\n",
    "    to_shuffle = list(selection.index)\n",
    "    random.shuffle(to_shuffle)\n",
    "    #print(to_shuffle[:kill_num])\n",
    "    \n",
    "    population = population.drop(to_shuffle[:kill_num])"
   ]
  },
  {
   "cell_type": "code",
   "execution_count": null,
   "id": "uniform-budget",
   "metadata": {
    "papermill": {
     "duration": 0.068332,
     "end_time": "2021-03-03T11:10:36.682159",
     "exception": false,
     "start_time": "2021-03-03T11:10:36.613827",
     "status": "completed"
    },
    "tags": []
   },
   "outputs": [],
   "source": [
    "# Kill everyone over 105\n",
    "population = population[population['age'] <= 105]"
   ]
  },
  {
   "cell_type": "code",
   "execution_count": null,
   "id": "hollow-means",
   "metadata": {
    "papermill": {
     "duration": 0.068238,
     "end_time": "2021-03-03T11:10:36.807885",
     "exception": false,
     "start_time": "2021-03-03T11:10:36.739647",
     "status": "completed"
    },
    "tags": []
   },
   "outputs": [],
   "source": [
    "#population"
   ]
  },
  {
   "cell_type": "markdown",
   "id": "known-giant",
   "metadata": {
    "papermill": {
     "duration": 0.056835,
     "end_time": "2021-03-03T11:10:36.920703",
     "exception": false,
     "start_time": "2021-03-03T11:10:36.863868",
     "status": "completed"
    },
    "tags": []
   },
   "source": [
    "### Emigration & Immigration"
   ]
  },
  {
   "cell_type": "code",
   "execution_count": null,
   "id": "norwegian-venture",
   "metadata": {
    "jupyter": {
     "source_hidden": true
    },
    "papermill": {
     "duration": 0.070125,
     "end_time": "2021-03-03T11:10:37.050758",
     "exception": false,
     "start_time": "2021-03-03T11:10:36.980633",
     "status": "completed"
    },
    "tags": []
   },
   "outputs": [],
   "source": [
    "url = 'https://data.ssb.no/api/v0/no/table/09203/'\n",
    "payload = {\n",
    "  \"query\": [\n",
    "    {\n",
    "      \"code\": \"Kjonn\",\n",
    "      \"selection\": {\n",
    "        \"filter\": \"item\",\n",
    "        \"values\": [\n",
    "          \"1\",\n",
    "          \"2\"\n",
    "        ]\n",
    "      }\n",
    "    },\n",
    "    {\n",
    "      \"code\": \"Alder\",\n",
    "      \"selection\": {\n",
    "        \"filter\": \"item\",\n",
    "        \"values\": [\n",
    "          \"00-04\",\n",
    "          \"05-09\",\n",
    "          \"10-14\",\n",
    "          \"15-19\",\n",
    "          \"20-24\",\n",
    "          \"25-29\",\n",
    "          \"30-34\",\n",
    "          \"35-39\",\n",
    "          \"40-44\",\n",
    "          \"45-49\",\n",
    "          \"50-54\",\n",
    "          \"55-59\",\n",
    "          \"60-64\",\n",
    "          \"65-69\",\n",
    "          \"70-74\",\n",
    "          \"75-79\",\n",
    "          \"80+\"\n",
    "        ]\n",
    "      }\n",
    "    },\n",
    "    {\n",
    "      \"code\": \"ContentsCode\",\n",
    "      \"selection\": {\n",
    "        \"filter\": \"item\",\n",
    "        \"values\": [\n",
    "          \"Innvandring\",\n",
    "          \"Utvandring\"\n",
    "        ]\n",
    "      }\n",
    "    },\n",
    "    {\n",
    "      \"code\": \"Tid\",\n",
    "      \"selection\": {\n",
    "        \"filter\": \"item\",\n",
    "        \"values\": [\n",
    "          \"2019\"\n",
    "        ]\n",
    "      }\n",
    "    }\n",
    "  ],\n",
    "  \"response\": {\n",
    "    \"format\": \"json-stat2\"\n",
    "  }\n",
    "}"
   ]
  },
  {
   "cell_type": "code",
   "execution_count": null,
   "id": "compliant-joint",
   "metadata": {
    "papermill": {
     "duration": 0.962754,
     "end_time": "2021-03-03T11:10:38.069860",
     "exception": false,
     "start_time": "2021-03-03T11:10:37.107106",
     "status": "completed"
    },
    "tags": []
   },
   "outputs": [],
   "source": [
    "migrate_age_sex = statbank_pandas(url, payload)"
   ]
  },
  {
   "cell_type": "code",
   "execution_count": null,
   "id": "medieval-millennium",
   "metadata": {
    "papermill": {
     "duration": 0.073169,
     "end_time": "2021-03-03T11:10:38.205803",
     "exception": false,
     "start_time": "2021-03-03T11:10:38.132634",
     "status": "completed"
    },
    "tags": []
   },
   "outputs": [],
   "source": [
    "emigrate_age_sex = migrate_age_sex[migrate_age_sex['statistikkvariabel'] == 'Utvandring']\n",
    "immigrate_age_sex = migrate_age_sex[migrate_age_sex['statistikkvariabel'] == 'Innvandring']"
   ]
  },
  {
   "cell_type": "code",
   "execution_count": null,
   "id": "cardiovascular-acquisition",
   "metadata": {
    "papermill": {
     "duration": 0.069974,
     "end_time": "2021-03-03T11:10:38.332743",
     "exception": false,
     "start_time": "2021-03-03T11:10:38.262769",
     "status": "completed"
    },
    "tags": []
   },
   "outputs": [],
   "source": [
    "emigrat_ratio = emigrate_age_sex['value'].sum() / total_pop\n",
    "emi_target = int(pop_num * emigrat_ratio)\n",
    "emi_target"
   ]
  },
  {
   "cell_type": "code",
   "execution_count": null,
   "id": "becoming-enforcement",
   "metadata": {
    "papermill": {
     "duration": 0.065437,
     "end_time": "2021-03-03T11:10:38.455329",
     "exception": false,
     "start_time": "2021-03-03T11:10:38.389892",
     "status": "completed"
    },
    "tags": []
   },
   "outputs": [],
   "source": [
    "emigrate_age_sex['value_ratio'] = emigrate_age_sex['value'].astype(int) * emigrat_ratio"
   ]
  },
  {
   "cell_type": "code",
   "execution_count": null,
   "id": "confirmed-skill",
   "metadata": {
    "papermill": {
     "duration": 0.067633,
     "end_time": "2021-03-03T11:10:38.581684",
     "exception": false,
     "start_time": "2021-03-03T11:10:38.514051",
     "status": "completed"
    },
    "tags": []
   },
   "outputs": [],
   "source": [
    "round(emigrate_age_sex['value_ratio']).sum()"
   ]
  },
  {
   "cell_type": "code",
   "execution_count": null,
   "id": "south-television",
   "metadata": {
    "papermill": {
     "duration": 0.087112,
     "end_time": "2021-03-03T11:10:38.732681",
     "exception": false,
     "start_time": "2021-03-03T11:10:38.645569",
     "status": "completed"
    },
    "tags": []
   },
   "outputs": [],
   "source": [
    "accuracy = 0.01\n",
    "\n",
    "while emigrate_age_sex['value'].sum() / total_pop > emigrate_age_sex['value_ratio'].sum() / pop_num:\n",
    "    emigrat_ratio *= 1 + accuracy\n",
    "    #print(emigrat_ratio)\n",
    "    emigrate_age_sex['value_ratio'] = round(emigrate_age_sex['value'].astype(int) * emigrat_ratio)\n",
    "    \n",
    "    \n",
    "while emigrate_age_sex['value'].sum() / total_pop < emigrate_age_sex['value_ratio'].sum() / pop_num:\n",
    "    emigrat_ratio *= 1 - accuracy\n",
    "    #print(emigrat_ratio)\n",
    "    emigrate_age_sex['value_ratio'] = round(emigrate_age_sex['value'].astype(int) * emigrat_ratio)\n",
    "    \n",
    "print(emigrat_ratio)"
   ]
  },
  {
   "cell_type": "code",
   "execution_count": null,
   "id": "portable-collapse",
   "metadata": {
    "papermill": {
     "duration": 0.071299,
     "end_time": "2021-03-03T11:10:38.870963",
     "exception": false,
     "start_time": "2021-03-03T11:10:38.799664",
     "status": "completed"
    },
    "tags": []
   },
   "outputs": [],
   "source": [
    "round(emigrate_age_sex['value_ratio']).sum()"
   ]
  },
  {
   "cell_type": "code",
   "execution_count": null,
   "id": "behavioral-klein",
   "metadata": {
    "papermill": {
     "duration": 0.074408,
     "end_time": "2021-03-03T11:10:39.010495",
     "exception": false,
     "start_time": "2021-03-03T11:10:38.936087",
     "status": "completed"
    },
    "tags": []
   },
   "outputs": [],
   "source": [
    "emi_list = emigrate_age_sex[emigrate_age_sex['value_ratio'].astype(int) > 0]"
   ]
  },
  {
   "cell_type": "code",
   "execution_count": null,
   "id": "international-church",
   "metadata": {
    "papermill": {
     "duration": 0.068329,
     "end_time": "2021-03-03T11:10:39.140413",
     "exception": false,
     "start_time": "2021-03-03T11:10:39.072084",
     "status": "completed"
    },
    "tags": []
   },
   "outputs": [],
   "source": [
    "# Old emigration, picks randomly\n",
    "#emi_list = list(population.index)\n",
    "#random.shuffle(emi_list)\n",
    "#population = population.drop(emi_list[:emi_target])\n",
    "#population"
   ]
  },
  {
   "cell_type": "code",
   "execution_count": null,
   "id": "paperback-drama",
   "metadata": {
    "papermill": {
     "duration": 0.072799,
     "end_time": "2021-03-03T11:10:39.272690",
     "exception": false,
     "start_time": "2021-03-03T11:10:39.199891",
     "status": "completed"
    },
    "tags": []
   },
   "outputs": [],
   "source": [
    "emi_list['alder1'] = emi_list['alder'].str.split(\"-\").str[0].astype(int)\n",
    "emi_list['alder2'] = emi_list['alder'].str.split(\"-\").str[1].str.replace(' år','').astype(int)\n",
    "emi_list = emi_list.drop(\"alder\", axis = 'columns')"
   ]
  },
  {
   "cell_type": "code",
   "execution_count": null,
   "id": "dramatic-accommodation",
   "metadata": {
    "papermill": {
     "duration": 0.074555,
     "end_time": "2021-03-03T11:10:39.406668",
     "exception": false,
     "start_time": "2021-03-03T11:10:39.332113",
     "status": "completed"
    },
    "tags": []
   },
   "outputs": [],
   "source": [
    "emi_list.head(3)"
   ]
  },
  {
   "cell_type": "code",
   "execution_count": null,
   "id": "generous-flush",
   "metadata": {
    "papermill": {
     "duration": 0.336228,
     "end_time": "2021-03-03T11:10:39.803383",
     "exception": false,
     "start_time": "2021-03-03T11:10:39.467155",
     "status": "completed"
    },
    "tags": []
   },
   "outputs": [],
   "source": [
    "for i, row in emi_list.iterrows():\n",
    "    sex = row['kjønn']\n",
    "    num = int(row['value_ratio'])\n",
    "    age1 = row['alder1']\n",
    "    age2 = row['alder2']\n",
    "    \n",
    "    print('Emigrate', num, sex, 'between age', age1, 'and', age2 )\n",
    "    selection = list(population[(population['age'] >= age1) & (population['age'] <= age2) & (population['sex'] == sex)].index)\n",
    "    random.shuffle(selection)\n",
    "    #print(selection[:kill_num])\n",
    "    \n",
    "    population = population.drop(selection[:num])"
   ]
  },
  {
   "cell_type": "code",
   "execution_count": null,
   "id": "annual-motor",
   "metadata": {
    "papermill": {
     "duration": 0.068044,
     "end_time": "2021-03-03T11:10:39.930589",
     "exception": false,
     "start_time": "2021-03-03T11:10:39.862545",
     "status": "completed"
    },
    "tags": []
   },
   "outputs": [],
   "source": [
    "#population"
   ]
  },
  {
   "cell_type": "markdown",
   "id": "swiss-there",
   "metadata": {
    "papermill": {
     "duration": 0.060198,
     "end_time": "2021-03-03T11:10:40.051672",
     "exception": false,
     "start_time": "2021-03-03T11:10:39.991474",
     "status": "completed"
    },
    "tags": []
   },
   "source": [
    "### Immigration"
   ]
  },
  {
   "cell_type": "code",
   "execution_count": null,
   "id": "structured-workplace",
   "metadata": {
    "papermill": {
     "duration": 0.07387,
     "end_time": "2021-03-03T11:10:40.188631",
     "exception": false,
     "start_time": "2021-03-03T11:10:40.114761",
     "status": "completed"
    },
    "tags": []
   },
   "outputs": [],
   "source": [
    "immigrat_ratio = immigrate_age_sex['value'].sum() / total_pop\n",
    "immi_target  = int(pop_num * immigrat_ratio)\n",
    "immi_target"
   ]
  },
  {
   "cell_type": "code",
   "execution_count": null,
   "id": "emerging-martin",
   "metadata": {
    "papermill": {
     "duration": 0.068699,
     "end_time": "2021-03-03T11:10:40.318228",
     "exception": false,
     "start_time": "2021-03-03T11:10:40.249529",
     "status": "completed"
    },
    "tags": []
   },
   "outputs": [],
   "source": [
    "immigrate_age_sex['value_ratio'] = immigrate_age_sex['value'].astype(int) * immigrat_ratio"
   ]
  },
  {
   "cell_type": "code",
   "execution_count": null,
   "id": "renewable-blank",
   "metadata": {
    "papermill": {
     "duration": 0.06999,
     "end_time": "2021-03-03T11:10:40.448159",
     "exception": false,
     "start_time": "2021-03-03T11:10:40.378169",
     "status": "completed"
    },
    "tags": []
   },
   "outputs": [],
   "source": [
    "round(immigrate_age_sex['value_ratio']).sum()"
   ]
  },
  {
   "cell_type": "code",
   "execution_count": null,
   "id": "simplified-portfolio",
   "metadata": {
    "papermill": {
     "duration": 0.11257,
     "end_time": "2021-03-03T11:10:40.621725",
     "exception": false,
     "start_time": "2021-03-03T11:10:40.509155",
     "status": "completed"
    },
    "tags": []
   },
   "outputs": [],
   "source": [
    "accuracy = 0.01\n",
    "\n",
    "while immigrate_age_sex['value'].sum() / total_pop > immigrate_age_sex['value_ratio'].sum() / pop_num:\n",
    "    immigrat_ratio *= 1 + accuracy\n",
    "    #print(pop_num_ratio)\n",
    "    immigrate_age_sex['value_ratio'] = round(immigrate_age_sex['value'].astype(int) * immigrat_ratio)\n",
    "    \n",
    "    \n",
    "while immigrate_age_sex['value'].sum() / total_pop < immigrate_age_sex['value_ratio'].sum() / pop_num:\n",
    "    immigrat_ratio *= 1 - accuracy\n",
    "    #print(pop_num_ratio)\n",
    "    immigrate_age_sex['value_ratio'] = round(immigrate_age_sex['value'].astype(int) * immigrat_ratio)\n",
    "    \n",
    "print(immigrat_ratio)"
   ]
  },
  {
   "cell_type": "code",
   "execution_count": null,
   "id": "attached-consortium",
   "metadata": {
    "papermill": {
     "duration": 0.07093,
     "end_time": "2021-03-03T11:10:40.756025",
     "exception": false,
     "start_time": "2021-03-03T11:10:40.685095",
     "status": "completed"
    },
    "tags": []
   },
   "outputs": [],
   "source": [
    "round(immigrate_age_sex['value_ratio']).sum()"
   ]
  },
  {
   "cell_type": "code",
   "execution_count": null,
   "id": "thick-water",
   "metadata": {
    "papermill": {
     "duration": 0.076873,
     "end_time": "2021-03-03T11:10:40.894538",
     "exception": false,
     "start_time": "2021-03-03T11:10:40.817665",
     "status": "completed"
    },
    "tags": []
   },
   "outputs": [],
   "source": [
    "immi_list = immigrate_age_sex[immigrate_age_sex['value_ratio'].astype(int) > 0]"
   ]
  },
  {
   "cell_type": "code",
   "execution_count": null,
   "id": "ranking-station",
   "metadata": {
    "papermill": {
     "duration": 0.069107,
     "end_time": "2021-03-03T11:10:41.024522",
     "exception": false,
     "start_time": "2021-03-03T11:10:40.955415",
     "status": "completed"
    },
    "tags": []
   },
   "outputs": [],
   "source": [
    "# Old emigration, picks randomly\n",
    "#emi_list = list(population.index)\n",
    "#random.shuffle(emi_list)\n",
    "#population = population.drop(emi_list[:emi_target])\n",
    "#population"
   ]
  },
  {
   "cell_type": "code",
   "execution_count": null,
   "id": "separated-crash",
   "metadata": {
    "papermill": {
     "duration": 0.08712,
     "end_time": "2021-03-03T11:10:41.174025",
     "exception": false,
     "start_time": "2021-03-03T11:10:41.086905",
     "status": "completed"
    },
    "tags": []
   },
   "outputs": [],
   "source": [
    "immi_list['alder1'] = immi_list['alder'].str.split(\"-\").str[0].astype(int)\n",
    "immi_list['alder2'] = immi_list['alder'].str.split(\"-\").str[1].str.replace(' år','').astype(int)\n",
    "immi_list = immi_list.drop(\"alder\", axis = 'columns')"
   ]
  },
  {
   "cell_type": "code",
   "execution_count": null,
   "id": "formal-antenna",
   "metadata": {
    "papermill": {
     "duration": 0.072359,
     "end_time": "2021-03-03T11:10:41.309217",
     "exception": false,
     "start_time": "2021-03-03T11:10:41.236858",
     "status": "completed"
    },
    "tags": []
   },
   "outputs": [],
   "source": [
    "immi_list['value_ratio'].sum()"
   ]
  },
  {
   "cell_type": "code",
   "execution_count": null,
   "id": "confident-realtor",
   "metadata": {
    "papermill": {
     "duration": 0.083647,
     "end_time": "2021-03-03T11:10:41.455849",
     "exception": false,
     "start_time": "2021-03-03T11:10:41.372202",
     "status": "completed"
    },
    "tags": []
   },
   "outputs": [],
   "source": [
    "population.head(3)"
   ]
  },
  {
   "cell_type": "code",
   "execution_count": null,
   "id": "precise-kruger",
   "metadata": {
    "papermill": {
     "duration": 1.43148,
     "end_time": "2021-03-03T11:10:42.950606",
     "exception": false,
     "start_time": "2021-03-03T11:10:41.519126",
     "status": "completed"
    },
    "tags": []
   },
   "outputs": [],
   "source": [
    "count = 0\n",
    "\n",
    "for i, row in immi_list.iterrows():\n",
    "    sex = row['kjønn']\n",
    "    num = int(row['value_ratio'])\n",
    "    age1 = row['alder1']\n",
    "    age2 = row['alder2']\n",
    "    \n",
    "    print('Immigrate', num, sex, 'between age', age1, 'and', age2 )\n",
    "    \n",
    "    for i in range(num):\n",
    "        age = np.random.randint(age1, age2 + 1)\n",
    "        \n",
    "        ######## CHANGE WITH ITERATIONS ########\n",
    "        year_birth = start_year - age + 1\n",
    "        \n",
    "        fnr = fnr_single(year_birth, sex)\n",
    "\n",
    "        add_row = [fnr, None, sex, age, year_birth, float('NaN')]\n",
    "        #print(add_row)\n",
    "        population = population.append(pd.Series(add_row, index = population.columns), ignore_index = True)\n",
    "        count += 1\n",
    "        \n",
    "print(count)"
   ]
  },
  {
   "cell_type": "code",
   "execution_count": null,
   "id": "undefined-lawrence",
   "metadata": {
    "papermill": {
     "duration": 0.083206,
     "end_time": "2021-03-03T11:10:43.100866",
     "exception": false,
     "start_time": "2021-03-03T11:10:43.017660",
     "status": "completed"
    },
    "tags": []
   },
   "outputs": [],
   "source": [
    "population.tail(5)"
   ]
  },
  {
   "cell_type": "markdown",
   "id": "radio-complaint",
   "metadata": {
    "papermill": {
     "duration": 0.064899,
     "end_time": "2021-03-03T11:10:43.236000",
     "exception": false,
     "start_time": "2021-03-03T11:10:43.171101",
     "status": "completed"
    },
    "tags": []
   },
   "source": [
    "#### Remove dupes on person-id"
   ]
  },
  {
   "cell_type": "code",
   "execution_count": null,
   "id": "satellite-hollywood",
   "metadata": {
    "papermill": {
     "duration": 0.083663,
     "end_time": "2021-03-03T11:10:43.384887",
     "exception": false,
     "start_time": "2021-03-03T11:10:43.301224",
     "status": "completed"
    },
    "tags": []
   },
   "outputs": [],
   "source": [
    "population.drop_duplicates('id', inplace = True)"
   ]
  },
  {
   "cell_type": "markdown",
   "id": "instant-march",
   "metadata": {
    "papermill": {
     "duration": 0.065946,
     "end_time": "2021-03-03T11:10:43.517086",
     "exception": false,
     "start_time": "2021-03-03T11:10:43.451140",
     "status": "completed"
    },
    "tags": []
   },
   "source": [
    "# Companies"
   ]
  },
  {
   "cell_type": "code",
   "execution_count": null,
   "id": "square-monitoring",
   "metadata": {
    "papermill": {
     "duration": 0.076204,
     "end_time": "2021-03-03T11:10:43.662136",
     "exception": false,
     "start_time": "2021-03-03T11:10:43.585932",
     "status": "completed"
    },
    "tags": []
   },
   "outputs": [],
   "source": [
    "# 12 343 increase in amount of buisnesses in Norway 2019-2021 per year\n",
    "# 4 557 bankruptcies in same period per year\n",
    "# increase in companies therefore 16 900\n",
    "bankrupt_num = 4557\n",
    "started_comp_num = 16900\n",
    "\n",
    "ratio_pop = pop_num / total_pop\n",
    "\n",
    "bankrupt_ratio = int(bankrupt_num * ratio_pop)\n",
    "started_comp_ratio = int(started_comp_num * ratio_pop)\n",
    "print(bankrupt_ratio, started_comp_ratio)"
   ]
  },
  {
   "cell_type": "code",
   "execution_count": null,
   "id": "korean-vacuum",
   "metadata": {
    "papermill": {
     "duration": 0.082938,
     "end_time": "2021-03-03T11:10:43.810637",
     "exception": false,
     "start_time": "2021-03-03T11:10:43.727699",
     "status": "completed"
    },
    "tags": []
   },
   "outputs": [],
   "source": [
    "companies"
   ]
  },
  {
   "cell_type": "markdown",
   "id": "minus-amazon",
   "metadata": {
    "papermill": {
     "duration": 0.065988,
     "end_time": "2021-03-03T11:10:43.942196",
     "exception": false,
     "start_time": "2021-03-03T11:10:43.876208",
     "status": "completed"
    },
    "tags": []
   },
   "source": [
    "### Bankrupt"
   ]
  },
  {
   "cell_type": "code",
   "execution_count": null,
   "id": "surrounded-microwave",
   "metadata": {
    "papermill": {
     "duration": 0.081239,
     "end_time": "2021-03-03T11:10:44.088878",
     "exception": false,
     "start_time": "2021-03-03T11:10:44.007639",
     "status": "completed"
    },
    "tags": []
   },
   "outputs": [],
   "source": [
    "# Prefer companies with zero employees\n",
    "zero_employees = companies[~companies['work_id'].isin(pd.unique(population['work_id']))]\n",
    "zero_employees\n",
    "# Then add other random companies to fill inn list, if necessary\n",
    "selection = companies[~companies.index.isin(zero_employees)].index.tolist()\n",
    "random.shuffle(selection)\n",
    "# combine lists, with the ones with zero employees first\n",
    "selection = zero_employees.index.tolist() + selection\n",
    "# Drop from top of list\n",
    "companies = companies.drop(selection[:bankrupt_ratio])"
   ]
  },
  {
   "cell_type": "code",
   "execution_count": null,
   "id": "arctic-tunnel",
   "metadata": {
    "papermill": {
     "duration": 0.083663,
     "end_time": "2021-03-03T11:10:44.238585",
     "exception": false,
     "start_time": "2021-03-03T11:10:44.154922",
     "status": "completed"
    },
    "tags": []
   },
   "outputs": [],
   "source": [
    "#companies"
   ]
  },
  {
   "cell_type": "markdown",
   "id": "natural-donna",
   "metadata": {
    "papermill": {
     "duration": 0.067885,
     "end_time": "2021-03-03T11:10:44.373180",
     "exception": false,
     "start_time": "2021-03-03T11:10:44.305295",
     "status": "completed"
    },
    "tags": []
   },
   "source": [
    "### New companies\n",
    "Add one employee into each"
   ]
  },
  {
   "cell_type": "code",
   "execution_count": null,
   "id": "editorial-asset",
   "metadata": {
    "jupyter": {
     "source_hidden": true
    },
    "papermill": {
     "duration": 0.180462,
     "end_time": "2021-03-03T11:10:44.619446",
     "exception": false,
     "start_time": "2021-03-03T11:10:44.438984",
     "status": "completed"
    },
    "tags": []
   },
   "outputs": [],
   "source": [
    "url = 'https://data.ssb.no/api/v0/no/table/11606/'\n",
    "payload = {\n",
    "  \"query\": [\n",
    "    {\n",
    "      \"code\": \"Region\",\n",
    "      \"selection\": {\n",
    "        \"filter\": \"vs:Fylker1972m22\",\n",
    "        \"values\": [\n",
    "          \"01\",\n",
    "          \"02\",\n",
    "          \"03\",\n",
    "          \"04\",\n",
    "          \"05\",\n",
    "          \"06\",\n",
    "          \"07\",\n",
    "          \"08\",\n",
    "          \"09\",\n",
    "          \"10\",\n",
    "          \"11\",\n",
    "          \"12\",\n",
    "          \"14\",\n",
    "          \"15\",\n",
    "          \"50\",\n",
    "          \"16\",\n",
    "          \"17\",\n",
    "          \"18\",\n",
    "          \"19\",\n",
    "          \"20\",\n",
    "          \"21\",\n",
    "          \"22\",\n",
    "          \"23\"\n",
    "        ]\n",
    "      }\n",
    "    },\n",
    "    {\n",
    "      \"code\": \"Alder\",\n",
    "      \"selection\": {\n",
    "        \"filter\": \"item\",\n",
    "        \"values\": [\n",
    "          \"15-74\"\n",
    "        ]\n",
    "      }\n",
    "    },\n",
    "    {\n",
    "      \"code\": \"NACE2007\",\n",
    "      \"selection\": {\n",
    "        \"filter\": \"vs:NACE2007regsys5siff\",\n",
    "        \"values\": [\n",
    "          \"01.110\",\n",
    "          \"01.120\",\n",
    "          \"01.130\",\n",
    "          \"01.140\",\n",
    "          \"01.150\",\n",
    "          \"01.160\",\n",
    "          \"01.190\",\n",
    "          \"01.210\",\n",
    "          \"01.220\",\n",
    "          \"01.230\",\n",
    "          \"01.240\",\n",
    "          \"01.250\",\n",
    "          \"01.260\",\n",
    "          \"01.270\",\n",
    "          \"01.280\",\n",
    "          \"01.290\",\n",
    "          \"01.300\",\n",
    "          \"01.410\",\n",
    "          \"01.420\",\n",
    "          \"01.430\",\n",
    "          \"01.440\",\n",
    "          \"01.451\",\n",
    "          \"01.452\",\n",
    "          \"01.460\",\n",
    "          \"01.471\",\n",
    "          \"01.479\",\n",
    "          \"01.490\",\n",
    "          \"01.500\",\n",
    "          \"01.610\",\n",
    "          \"01.620\",\n",
    "          \"01.630\",\n",
    "          \"01.640\",\n",
    "          \"01.700\",\n",
    "          \"01.000u\",\n",
    "          \"02.100\",\n",
    "          \"02.200\",\n",
    "          \"02.300\",\n",
    "          \"02.400\",\n",
    "          \"02.000u\",\n",
    "          \"03.111\",\n",
    "          \"03.112\",\n",
    "          \"03.120\",\n",
    "          \"03.211\",\n",
    "          \"03.212\",\n",
    "          \"03.213\",\n",
    "          \"03.221\",\n",
    "          \"03.222\",\n",
    "          \"03.223\",\n",
    "          \"03.000u\",\n",
    "          \"05.100\",\n",
    "          \"05.200\",\n",
    "          \"06.100\",\n",
    "          \"06.200\",\n",
    "          \"07.100\",\n",
    "          \"07.210\",\n",
    "          \"07.290\",\n",
    "          \"08.111\",\n",
    "          \"08.112\",\n",
    "          \"08.113\",\n",
    "          \"08.120\",\n",
    "          \"08.910\",\n",
    "          \"08.920\",\n",
    "          \"08.930\",\n",
    "          \"08.990\",\n",
    "          \"09.101\",\n",
    "          \"09.109\",\n",
    "          \"09.900\",\n",
    "          \"10.110\",\n",
    "          \"10.120\",\n",
    "          \"10.130\",\n",
    "          \"10.201\",\n",
    "          \"10.202\",\n",
    "          \"10.203\",\n",
    "          \"10.209\",\n",
    "          \"10.310\",\n",
    "          \"10.320\",\n",
    "          \"10.390\",\n",
    "          \"10.411\",\n",
    "          \"10.412\",\n",
    "          \"10.413\",\n",
    "          \"10.420\",\n",
    "          \"10.510\",\n",
    "          \"10.520\",\n",
    "          \"10.610\",\n",
    "          \"10.620\",\n",
    "          \"10.710\",\n",
    "          \"10.720\",\n",
    "          \"10.730\",\n",
    "          \"10.810\",\n",
    "          \"10.820\",\n",
    "          \"10.830\",\n",
    "          \"10.840\",\n",
    "          \"10.850\",\n",
    "          \"10.860\",\n",
    "          \"10.890\",\n",
    "          \"10.910\",\n",
    "          \"10.920\",\n",
    "          \"11.010\",\n",
    "          \"11.020\",\n",
    "          \"11.030\",\n",
    "          \"11.040\",\n",
    "          \"11.050\",\n",
    "          \"11.060\",\n",
    "          \"11.070\",\n",
    "          \"12.000\",\n",
    "          \"13.100\",\n",
    "          \"13.200\",\n",
    "          \"13.300\",\n",
    "          \"13.910\",\n",
    "          \"13.921\",\n",
    "          \"13.929\",\n",
    "          \"13.930\",\n",
    "          \"13.940\",\n",
    "          \"13.950\",\n",
    "          \"13.960\",\n",
    "          \"13.990\",\n",
    "          \"14.110\",\n",
    "          \"14.120\",\n",
    "          \"14.130\",\n",
    "          \"14.140\",\n",
    "          \"14.190\",\n",
    "          \"14.200\",\n",
    "          \"14.310\",\n",
    "          \"14.390\",\n",
    "          \"15.110\",\n",
    "          \"15.120\",\n",
    "          \"15.200\",\n",
    "          \"16.100\",\n",
    "          \"16.210\",\n",
    "          \"16.220\",\n",
    "          \"16.231\",\n",
    "          \"16.232\",\n",
    "          \"16.240\",\n",
    "          \"16.290\",\n",
    "          \"17.110\",\n",
    "          \"17.120\",\n",
    "          \"17.210\",\n",
    "          \"17.220\",\n",
    "          \"17.230\",\n",
    "          \"17.240\",\n",
    "          \"17.290\",\n",
    "          \"18.110\",\n",
    "          \"18.120\",\n",
    "          \"18.130\",\n",
    "          \"18.140\",\n",
    "          \"18.200\",\n",
    "          \"19.100\",\n",
    "          \"19.200\",\n",
    "          \"20.110\",\n",
    "          \"20.120\",\n",
    "          \"20.130\",\n",
    "          \"20.140\",\n",
    "          \"20.150\",\n",
    "          \"20.160\",\n",
    "          \"20.170\",\n",
    "          \"20.200\",\n",
    "          \"20.300\",\n",
    "          \"20.410\",\n",
    "          \"20.420\",\n",
    "          \"20.510\",\n",
    "          \"20.520\",\n",
    "          \"20.530\",\n",
    "          \"20.590\",\n",
    "          \"20.600\",\n",
    "          \"21.100\",\n",
    "          \"21.200\",\n",
    "          \"22.110\",\n",
    "          \"22.190\",\n",
    "          \"22.210\",\n",
    "          \"22.220\",\n",
    "          \"22.230\",\n",
    "          \"22.290\",\n",
    "          \"23.110\",\n",
    "          \"23.120\",\n",
    "          \"23.130\",\n",
    "          \"23.140\",\n",
    "          \"23.190\",\n",
    "          \"23.200\",\n",
    "          \"23.310\",\n",
    "          \"23.320\",\n",
    "          \"23.410\",\n",
    "          \"23.420\",\n",
    "          \"23.430\",\n",
    "          \"23.440\",\n",
    "          \"23.490\",\n",
    "          \"23.510\",\n",
    "          \"23.520\",\n",
    "          \"23.610\",\n",
    "          \"23.620\",\n",
    "          \"23.630\",\n",
    "          \"23.640\",\n",
    "          \"23.650\",\n",
    "          \"23.690\",\n",
    "          \"23.700\",\n",
    "          \"23.910\",\n",
    "          \"23.990\",\n",
    "          \"24.101\",\n",
    "          \"24.102\",\n",
    "          \"24.200\",\n",
    "          \"24.310\",\n",
    "          \"24.320\",\n",
    "          \"24.330\",\n",
    "          \"24.340\",\n",
    "          \"24.410\",\n",
    "          \"24.421\",\n",
    "          \"24.422\",\n",
    "          \"24.430\",\n",
    "          \"24.440\",\n",
    "          \"24.450\",\n",
    "          \"24.460\",\n",
    "          \"24.510\",\n",
    "          \"24.520\",\n",
    "          \"24.530\",\n",
    "          \"24.540\",\n",
    "          \"25.110\",\n",
    "          \"25.120\",\n",
    "          \"25.210\",\n",
    "          \"25.290\",\n",
    "          \"25.300\",\n",
    "          \"25.400\",\n",
    "          \"25.500\",\n",
    "          \"25.610\",\n",
    "          \"25.620\",\n",
    "          \"25.710\",\n",
    "          \"25.720\",\n",
    "          \"25.730\",\n",
    "          \"25.910\",\n",
    "          \"25.920\",\n",
    "          \"25.930\",\n",
    "          \"25.940\",\n",
    "          \"25.990\",\n",
    "          \"26.110\",\n",
    "          \"26.120\",\n",
    "          \"26.200\",\n",
    "          \"26.300\",\n",
    "          \"26.400\",\n",
    "          \"26.510\",\n",
    "          \"26.520\",\n",
    "          \"26.600\",\n",
    "          \"26.700\",\n",
    "          \"26.800\",\n",
    "          \"27.110\",\n",
    "          \"27.120\",\n",
    "          \"27.200\",\n",
    "          \"27.310\",\n",
    "          \"27.320\",\n",
    "          \"27.330\",\n",
    "          \"27.400\",\n",
    "          \"27.510\",\n",
    "          \"27.520\",\n",
    "          \"27.900\",\n",
    "          \"28.110\",\n",
    "          \"28.120\",\n",
    "          \"28.130\",\n",
    "          \"28.140\",\n",
    "          \"28.150\",\n",
    "          \"28.210\",\n",
    "          \"28.221\",\n",
    "          \"28.229\",\n",
    "          \"28.230\",\n",
    "          \"28.240\",\n",
    "          \"28.250\",\n",
    "          \"28.290\",\n",
    "          \"28.300\",\n",
    "          \"28.410\",\n",
    "          \"28.490\",\n",
    "          \"28.910\",\n",
    "          \"28.920\",\n",
    "          \"28.930\",\n",
    "          \"28.940\",\n",
    "          \"28.950\",\n",
    "          \"28.960\",\n",
    "          \"28.990\",\n",
    "          \"29.100\",\n",
    "          \"29.200\",\n",
    "          \"29.310\",\n",
    "          \"29.320\",\n",
    "          \"30.111\",\n",
    "          \"30.112\",\n",
    "          \"30.113\",\n",
    "          \"30.114\",\n",
    "          \"30.115\",\n",
    "          \"30.116\",\n",
    "          \"30.120\",\n",
    "          \"30.200\",\n",
    "          \"30.300\",\n",
    "          \"30.400\",\n",
    "          \"30.910\",\n",
    "          \"30.920\",\n",
    "          \"30.990\",\n",
    "          \"31.010\",\n",
    "          \"31.020\",\n",
    "          \"31.030\",\n",
    "          \"31.090\",\n",
    "          \"32.110\",\n",
    "          \"32.120\",\n",
    "          \"32.130\",\n",
    "          \"32.200\",\n",
    "          \"32.300\",\n",
    "          \"32.400\",\n",
    "          \"32.500\",\n",
    "          \"32.910\",\n",
    "          \"32.990\",\n",
    "          \"33.110\",\n",
    "          \"33.120\",\n",
    "          \"33.130\",\n",
    "          \"33.140\",\n",
    "          \"33.150\",\n",
    "          \"33.160\",\n",
    "          \"33.170\",\n",
    "          \"33.190\",\n",
    "          \"33.200\",\n",
    "          \"35.111\",\n",
    "          \"35.112\",\n",
    "          \"35.113\",\n",
    "          \"35.114\",\n",
    "          \"35.119\",\n",
    "          \"35.120\",\n",
    "          \"35.130\",\n",
    "          \"35.140\",\n",
    "          \"35.210\",\n",
    "          \"35.220\",\n",
    "          \"35.230\",\n",
    "          \"35.300\",\n",
    "          \"36.000\",\n",
    "          \"37.000\",\n",
    "          \"38.110\",\n",
    "          \"38.120\",\n",
    "          \"38.210\",\n",
    "          \"38.220\",\n",
    "          \"38.310\",\n",
    "          \"38.320\",\n",
    "          \"39.000\",\n",
    "          \"41.101\",\n",
    "          \"41.109\",\n",
    "          \"41.200\",\n",
    "          \"42.110\",\n",
    "          \"42.120\",\n",
    "          \"42.130\",\n",
    "          \"42.210\",\n",
    "          \"42.220\",\n",
    "          \"42.910\",\n",
    "          \"42.990\",\n",
    "          \"43.110\",\n",
    "          \"43.120\",\n",
    "          \"43.130\",\n",
    "          \"43.210\",\n",
    "          \"43.220\",\n",
    "          \"43.221\",\n",
    "          \"43.222\",\n",
    "          \"43.223\",\n",
    "          \"43.290\",\n",
    "          \"43.310\",\n",
    "          \"43.320\",\n",
    "          \"43.330\",\n",
    "          \"43.341\",\n",
    "          \"43.342\",\n",
    "          \"43.390\",\n",
    "          \"43.911\",\n",
    "          \"43.919\",\n",
    "          \"43.990\",\n",
    "          \"45.111\",\n",
    "          \"45.112\",\n",
    "          \"45.191\",\n",
    "          \"45.192\",\n",
    "          \"45.200\",\n",
    "          \"45.310\",\n",
    "          \"45.320\",\n",
    "          \"45.401\",\n",
    "          \"45.402\",\n",
    "          \"45.403\",\n",
    "          \"46.110\",\n",
    "          \"46.120\",\n",
    "          \"46.130\",\n",
    "          \"46.140\",\n",
    "          \"46.150\",\n",
    "          \"46.160\",\n",
    "          \"46.170\",\n",
    "          \"46.180\",\n",
    "          \"46.190\",\n",
    "          \"46.210\",\n",
    "          \"46.220\",\n",
    "          \"46.230\",\n",
    "          \"46.240\",\n",
    "          \"46.310\",\n",
    "          \"46.320\",\n",
    "          \"46.330\",\n",
    "          \"46.341\",\n",
    "          \"46.349\",\n",
    "          \"46.350\",\n",
    "          \"46.360\",\n",
    "          \"46.370\",\n",
    "          \"46.381\",\n",
    "          \"46.389\",\n",
    "          \"46.390\",\n",
    "          \"46.410\",\n",
    "          \"46.421\",\n",
    "          \"46.422\",\n",
    "          \"46.431\",\n",
    "          \"46.432\",\n",
    "          \"46.433\",\n",
    "          \"46.434\",\n",
    "          \"46.435\",\n",
    "          \"46.441\",\n",
    "          \"46.442\",\n",
    "          \"46.450\",\n",
    "          \"46.460\",\n",
    "          \"46.471\",\n",
    "          \"46.472\",\n",
    "          \"46.473\",\n",
    "          \"46.481\",\n",
    "          \"46.482\",\n",
    "          \"46.491\",\n",
    "          \"46.492\",\n",
    "          \"46.493\",\n",
    "          \"46.494\",\n",
    "          \"46.495\",\n",
    "          \"46.499\",\n",
    "          \"46.510\",\n",
    "          \"46.520\",\n",
    "          \"46.610\",\n",
    "          \"46.620\",\n",
    "          \"46.630\",\n",
    "          \"46.640\",\n",
    "          \"46.650\",\n",
    "          \"46.660\",\n",
    "          \"46.691\",\n",
    "          \"46.692\",\n",
    "          \"46.693\",\n",
    "          \"46.694\",\n",
    "          \"46.710\",\n",
    "          \"46.720\",\n",
    "          \"46.731\",\n",
    "          \"46.732\",\n",
    "          \"46.733\",\n",
    "          \"46.739\",\n",
    "          \"46.740\",\n",
    "          \"46.750\",\n",
    "          \"46.761\",\n",
    "          \"46.769\",\n",
    "          \"46.770\",\n",
    "          \"46.900\",\n",
    "          \"47.111\",\n",
    "          \"47.112\",\n",
    "          \"47.190\",\n",
    "          \"47.210\",\n",
    "          \"47.220\",\n",
    "          \"47.230\",\n",
    "          \"47.241\",\n",
    "          \"47.242\",\n",
    "          \"47.251\",\n",
    "          \"47.259\",\n",
    "          \"47.260\",\n",
    "          \"47.291\",\n",
    "          \"47.292\",\n",
    "          \"47.299\",\n",
    "          \"47.300\",\n",
    "          \"47.410\",\n",
    "          \"47.420\",\n",
    "          \"47.430\",\n",
    "          \"47.510\",\n",
    "          \"47.521\",\n",
    "          \"47.522\",\n",
    "          \"47.523\",\n",
    "          \"47.524\",\n",
    "          \"47.529\",\n",
    "          \"47.531\",\n",
    "          \"47.532\",\n",
    "          \"47.533\",\n",
    "          \"47.540\",\n",
    "          \"47.591\",\n",
    "          \"47.592\",\n",
    "          \"47.593\",\n",
    "          \"47.594\",\n",
    "          \"47.599\",\n",
    "          \"47.610\",\n",
    "          \"47.620\",\n",
    "          \"47.630\",\n",
    "          \"47.641\",\n",
    "          \"47.642\",\n",
    "          \"47.650\",\n",
    "          \"47.710\",\n",
    "          \"47.721\",\n",
    "          \"47.722\",\n",
    "          \"47.730\",\n",
    "          \"47.740\",\n",
    "          \"47.750\",\n",
    "          \"47.761\",\n",
    "          \"47.762\",\n",
    "          \"47.771\",\n",
    "          \"47.772\",\n",
    "          \"47.781\",\n",
    "          \"47.782\",\n",
    "          \"47.789\",\n",
    "          \"47.791\",\n",
    "          \"47.792\",\n",
    "          \"47.799\",\n",
    "          \"47.810\",\n",
    "          \"47.820\",\n",
    "          \"47.890\",\n",
    "          \"47.911\",\n",
    "          \"47.912\",\n",
    "          \"47.913\",\n",
    "          \"47.914\",\n",
    "          \"47.915\",\n",
    "          \"47.916\",\n",
    "          \"47.917\",\n",
    "          \"47.919\",\n",
    "          \"47.990\",\n",
    "          \"49.100\",\n",
    "          \"49.200\",\n",
    "          \"49.311\",\n",
    "          \"49.312\",\n",
    "          \"49.320\",\n",
    "          \"49.391\",\n",
    "          \"49.392\",\n",
    "          \"49.393\",\n",
    "          \"49.410\",\n",
    "          \"49.420\",\n",
    "          \"49.500\",\n",
    "          \"50.101\",\n",
    "          \"50.102\",\n",
    "          \"50.109\",\n",
    "          \"50.201\",\n",
    "          \"50.202\",\n",
    "          \"50.203\",\n",
    "          \"50.204\",\n",
    "          \"50.300\",\n",
    "          \"50.400\",\n",
    "          \"51.100\",\n",
    "          \"51.210\",\n",
    "          \"51.220\",\n",
    "          \"52.100\",\n",
    "          \"52.211\",\n",
    "          \"52.212\",\n",
    "          \"52.213\",\n",
    "          \"52.214\",\n",
    "          \"52.215\",\n",
    "          \"52.216\",\n",
    "          \"52.219\",\n",
    "          \"52.221\",\n",
    "          \"52.222\",\n",
    "          \"52.223\",\n",
    "          \"52.229\",\n",
    "          \"52.230\",\n",
    "          \"52.240\",\n",
    "          \"52.291\",\n",
    "          \"52.292\",\n",
    "          \"52.293\",\n",
    "          \"52.299\",\n",
    "          \"53.100\",\n",
    "          \"53.200\",\n",
    "          \"55.101\",\n",
    "          \"55.102\",\n",
    "          \"55.201\",\n",
    "          \"55.202\",\n",
    "          \"55.300\",\n",
    "          \"55.301\",\n",
    "          \"55.302\",\n",
    "          \"55.900\",\n",
    "          \"56.101\",\n",
    "          \"56.102\",\n",
    "          \"56.210\",\n",
    "          \"56.290\",\n",
    "          \"56.301\",\n",
    "          \"56.309\",\n",
    "          \"58.110\",\n",
    "          \"58.120\",\n",
    "          \"58.130\",\n",
    "          \"58.140\",\n",
    "          \"58.190\",\n",
    "          \"58.210\",\n",
    "          \"58.290\",\n",
    "          \"59.110\",\n",
    "          \"59.120\",\n",
    "          \"59.130\",\n",
    "          \"59.140\",\n",
    "          \"59.200\",\n",
    "          \"60.100\",\n",
    "          \"60.200\",\n",
    "          \"61.100\",\n",
    "          \"61.200\",\n",
    "          \"61.300\",\n",
    "          \"61.900\",\n",
    "          \"62.010\",\n",
    "          \"62.020\",\n",
    "          \"62.030\",\n",
    "          \"62.090\",\n",
    "          \"63.110\",\n",
    "          \"63.120\",\n",
    "          \"63.910\",\n",
    "          \"63.990\",\n",
    "          \"64.110\",\n",
    "          \"64.190\",\n",
    "          \"64.201\",\n",
    "          \"64.202\",\n",
    "          \"64.301\",\n",
    "          \"64.302\",\n",
    "          \"64.303\",\n",
    "          \"64.304\",\n",
    "          \"64.305\",\n",
    "          \"64.306\",\n",
    "          \"64.308\",\n",
    "          \"64.309\",\n",
    "          \"64.910\",\n",
    "          \"64.920\",\n",
    "          \"64.990\",\n",
    "          \"65.110\",\n",
    "          \"65.120\",\n",
    "          \"65.200\",\n",
    "          \"65.300\",\n",
    "          \"66.110\",\n",
    "          \"66.120\",\n",
    "          \"66.190\",\n",
    "          \"66.210\",\n",
    "          \"66.220\",\n",
    "          \"66.290\",\n",
    "          \"66.300\",\n",
    "          \"68.100\",\n",
    "          \"68.201\",\n",
    "          \"68.209\",\n",
    "          \"68.310\",\n",
    "          \"68.320\",\n",
    "          \"69.100\",\n",
    "          \"69.201\",\n",
    "          \"69.202\",\n",
    "          \"69.203\",\n",
    "          \"70.100\",\n",
    "          \"70.210\",\n",
    "          \"70.220\",\n",
    "          \"71.111\",\n",
    "          \"71.112\",\n",
    "          \"71.113\",\n",
    "          \"71.121\",\n",
    "          \"71.122\",\n",
    "          \"71.123\",\n",
    "          \"71.129\",\n",
    "          \"71.200\",\n",
    "          \"72.110\",\n",
    "          \"72.190\",\n",
    "          \"72.200\",\n",
    "          \"73.110\",\n",
    "          \"73.120\",\n",
    "          \"73.200\",\n",
    "          \"74.101\",\n",
    "          \"74.102\",\n",
    "          \"74.103\",\n",
    "          \"74.200\",\n",
    "          \"74.300\",\n",
    "          \"74.901\",\n",
    "          \"74.902\",\n",
    "          \"74.903\",\n",
    "          \"74.909\",\n",
    "          \"75.000\",\n",
    "          \"77.110\",\n",
    "          \"77.120\",\n",
    "          \"77.210\",\n",
    "          \"77.220\",\n",
    "          \"77.290\",\n",
    "          \"77.310\",\n",
    "          \"77.320\",\n",
    "          \"77.330\",\n",
    "          \"77.340\",\n",
    "          \"77.350\",\n",
    "          \"77.390\",\n",
    "          \"77.400\",\n",
    "          \"78.100\",\n",
    "          \"78.200\",\n",
    "          \"78.300\",\n",
    "          \"79.110\",\n",
    "          \"79.120\",\n",
    "          \"79.901\",\n",
    "          \"79.902\",\n",
    "          \"79.903\",\n",
    "          \"79.909\",\n",
    "          \"80.100\",\n",
    "          \"80.200\",\n",
    "          \"80.300\",\n",
    "          \"81.101\",\n",
    "          \"81.109\",\n",
    "          \"81.210\",\n",
    "          \"81.220\",\n",
    "          \"81.291\",\n",
    "          \"81.299\",\n",
    "          \"81.300\",\n",
    "          \"82.110\",\n",
    "          \"82.190\",\n",
    "          \"82.201\",\n",
    "          \"82.202\",\n",
    "          \"82.300\",\n",
    "          \"82.910\",\n",
    "          \"82.920\",\n",
    "          \"82.990\",\n",
    "          \"84.110\",\n",
    "          \"84.120\",\n",
    "          \"84.130\",\n",
    "          \"84.210\",\n",
    "          \"84.220\",\n",
    "          \"84.230\",\n",
    "          \"84.240\",\n",
    "          \"84.250\",\n",
    "          \"84.300\",\n",
    "          \"85.100\",\n",
    "          \"85.201\",\n",
    "          \"85.202\",\n",
    "          \"85.203\",\n",
    "          \"85.310\",\n",
    "          \"85.320\",\n",
    "          \"85.410\",\n",
    "          \"85.421\",\n",
    "          \"85.422\",\n",
    "          \"85.423\",\n",
    "          \"85.424\",\n",
    "          \"85.429\",\n",
    "          \"85.510\",\n",
    "          \"85.521\",\n",
    "          \"85.522\",\n",
    "          \"85.529\",\n",
    "          \"85.530\",\n",
    "          \"85.591\",\n",
    "          \"85.592\",\n",
    "          \"85.593\",\n",
    "          \"85.594\",\n",
    "          \"85.595\",\n",
    "          \"85.596\",\n",
    "          \"85.599\",\n",
    "          \"85.601\",\n",
    "          \"85.609\",\n",
    "          \"86.101\",\n",
    "          \"86.102\",\n",
    "          \"86.103\",\n",
    "          \"86.104\",\n",
    "          \"86.105\",\n",
    "          \"86.106\",\n",
    "          \"86.107\",\n",
    "          \"86.211\",\n",
    "          \"86.212\",\n",
    "          \"86.221\",\n",
    "          \"86.222\",\n",
    "          \"86.223\",\n",
    "          \"86.224\",\n",
    "          \"86.225\",\n",
    "          \"86.230\",\n",
    "          \"86.901\",\n",
    "          \"86.902\",\n",
    "          \"86.903\",\n",
    "          \"86.904\",\n",
    "          \"86.905\",\n",
    "          \"86.906\",\n",
    "          \"86.907\",\n",
    "          \"86.909\",\n",
    "          \"87.101\",\n",
    "          \"87.102\",\n",
    "          \"87.201\",\n",
    "          \"87.202\",\n",
    "          \"87.203\",\n",
    "          \"87.301\",\n",
    "          \"87.302\",\n",
    "          \"87.303\",\n",
    "          \"87.304\",\n",
    "          \"87.305\",\n",
    "          \"87.901\",\n",
    "          \"87.909\",\n",
    "          \"88.101\",\n",
    "          \"88.102\",\n",
    "          \"88.103\",\n",
    "          \"88.911\",\n",
    "          \"88.912\",\n",
    "          \"88.913\",\n",
    "          \"88.914\",\n",
    "          \"88.991\",\n",
    "          \"88.992\",\n",
    "          \"88.993\",\n",
    "          \"88.994\",\n",
    "          \"88.995\",\n",
    "          \"88.996\",\n",
    "          \"88.997\",\n",
    "          \"88.998\",\n",
    "          \"88.999\",\n",
    "          \"90.011\",\n",
    "          \"90.012\",\n",
    "          \"90.019\",\n",
    "          \"90.020\",\n",
    "          \"90.031\",\n",
    "          \"90.032\",\n",
    "          \"90.033\",\n",
    "          \"90.034\",\n",
    "          \"90.035\",\n",
    "          \"90.039\",\n",
    "          \"90.040\",\n",
    "          \"91.011\",\n",
    "          \"91.012\",\n",
    "          \"91.013\",\n",
    "          \"91.021\",\n",
    "          \"91.022\",\n",
    "          \"91.023\",\n",
    "          \"91.029\",\n",
    "          \"91.030\",\n",
    "          \"91.040\",\n",
    "          \"92.000\",\n",
    "          \"93.110\",\n",
    "          \"93.120\",\n",
    "          \"93.130\",\n",
    "          \"93.190\",\n",
    "          \"93.210\",\n",
    "          \"93.291\",\n",
    "          \"93.292\",\n",
    "          \"93.299\",\n",
    "          \"94.110\",\n",
    "          \"94.120\",\n",
    "          \"94.200\",\n",
    "          \"94.910\",\n",
    "          \"94.920\",\n",
    "          \"94.991\",\n",
    "          \"94.992\",\n",
    "          \"95.110\",\n",
    "          \"95.120\",\n",
    "          \"95.210\",\n",
    "          \"95.220\",\n",
    "          \"95.230\",\n",
    "          \"95.240\",\n",
    "          \"95.250\",\n",
    "          \"95.290\",\n",
    "          \"96.010\",\n",
    "          \"96.020\",\n",
    "          \"96.030\",\n",
    "          \"96.040\",\n",
    "          \"96.090\",\n",
    "          \"97.000\",\n",
    "          \"99.000\",\n",
    "          \"00.000\"\n",
    "        ]\n",
    "      }\n",
    "    },\n",
    "    {\n",
    "      \"code\": \"ContentsCode\",\n",
    "      \"selection\": {\n",
    "        \"filter\": \"item\",\n",
    "        \"values\": [\n",
    "          \"Sysselsatte\"\n",
    "        ]\n",
    "      }\n",
    "    },\n",
    "    {\n",
    "      \"code\": \"Tid\",\n",
    "      \"selection\": {\n",
    "        \"filter\": \"item\",\n",
    "        \"values\": [\n",
    "          '2019'\n",
    "        ]\n",
    "      }\n",
    "    }\n",
    "  ],\n",
    "  \"response\": {\n",
    "    \"format\": \"json-stat2\"\n",
    "  }\n",
    "}"
   ]
  },
  {
   "cell_type": "code",
   "execution_count": null,
   "id": "stopped-substance",
   "metadata": {
    "papermill": {
     "duration": 10.727644,
     "end_time": "2021-03-03T11:10:55.421583",
     "exception": false,
     "start_time": "2021-03-03T11:10:44.693939",
     "status": "completed"
    },
    "tags": []
   },
   "outputs": [],
   "source": [
    "df_nace_codes = statbank_pandas(url, payload)\n",
    "df_nace_codes['nace'] = ''\n",
    "df_nace_codes['employee_points'] = 0\n",
    "# Apply nacecode\n",
    "count = 0\n",
    "for code in payload['query'][2]['selection']['values']:\n",
    "    for x in range(len(pd.unique(df_nace_codes['region']))):\n",
    "        df_nace_codes['nace'].iloc[count] = code\n",
    "        count += 1\n",
    "\n",
    "# Number of rows to copy each region onto\n",
    "region_len = int(len(df_nace_codes) / len(pd.unique(df_nace_codes['region'])))\n",
    "df_nace_codes['region_code'] = ''\n",
    "# Apply region code in increments \n",
    "count = 0\n",
    "for code in payload['query'][0]['selection']['values']:\n",
    "    for x in range(region_len):\n",
    "        df_nace_codes['region_code'].iloc[count] = code\n",
    "        count += 1"
   ]
  },
  {
   "cell_type": "code",
   "execution_count": null,
   "id": "clear-surge",
   "metadata": {
    "papermill": {
     "duration": 0.080382,
     "end_time": "2021-03-03T11:10:55.574080",
     "exception": false,
     "start_time": "2021-03-03T11:10:55.493698",
     "status": "completed"
    },
    "tags": []
   },
   "outputs": [],
   "source": [
    "df_nace_codes = df_nace_codes[df_nace_codes['value'] > 0]"
   ]
  },
  {
   "cell_type": "code",
   "execution_count": null,
   "id": "lyric-singapore",
   "metadata": {
    "papermill": {
     "duration": 0.068593,
     "end_time": "2021-03-03T11:10:55.711138",
     "exception": false,
     "start_time": "2021-03-03T11:10:55.642545",
     "status": "completed"
    },
    "tags": []
   },
   "outputs": [],
   "source": []
  },
  {
   "cell_type": "code",
   "execution_count": null,
   "id": "compact-inside",
   "metadata": {
    "papermill": {
     "duration": 0.08429,
     "end_time": "2021-03-03T11:10:55.868257",
     "exception": false,
     "start_time": "2021-03-03T11:10:55.783967",
     "status": "completed"
    },
    "tags": []
   },
   "outputs": [],
   "source": [
    "# Semi-shuffle of df_nace_codes\n",
    "df_nace_codes = df_nace_codes.sort_values('value', ascending = False)\n",
    "# pick every n nace code, to be static\n",
    "step = np.random.randint(2, 4)\n",
    "start = np.random.randint(0, 3)\n",
    "static = df_nace_codes[start::step].index.tolist()\n",
    "\n",
    "to_shuffle = df_nace_codes[~df_nace_codes.index.isin(static)].index.tolist()\n",
    "random.shuffle(to_shuffle)\n"
   ]
  },
  {
   "cell_type": "code",
   "execution_count": null,
   "id": "designing-cartridge",
   "metadata": {
    "papermill": {
     "duration": 0.08114,
     "end_time": "2021-03-03T11:10:56.016857",
     "exception": false,
     "start_time": "2021-03-03T11:10:55.935717",
     "status": "completed"
    },
    "tags": []
   },
   "outputs": [],
   "source": [
    "nace_order = []\n",
    "count_static = 0\n",
    "count_shuff = 0\n",
    "try:\n",
    "    for idx in range(len(static) + len(to_shuffle)):\n",
    "        if idx % step == 0:\n",
    "            nace_order.append(static[count_static])\n",
    "            count_static += 1\n",
    "        else:\n",
    "            nace_order.append(to_shuffle[count_shuff])\n",
    "            count_shuff += 1\n",
    "        #print(idx)\n",
    "except:\n",
    "    ...\n",
    "try:\n",
    "    nace_order += static[count_static:]\n",
    "except:\n",
    "    ...\n",
    "try:\n",
    "    nace_order += to_shuffle[count_shuff:]\n",
    "except:\n",
    "    ..."
   ]
  },
  {
   "cell_type": "code",
   "execution_count": null,
   "id": "broadband-pittsburgh",
   "metadata": {
    "papermill": {
     "duration": 0.079343,
     "end_time": "2021-03-03T11:10:56.163052",
     "exception": false,
     "start_time": "2021-03-03T11:10:56.083709",
     "status": "completed"
    },
    "tags": []
   },
   "outputs": [],
   "source": [
    "print(df_nace_codes.index.tolist()[:5])\n",
    "#print(static[:5])\n",
    "#print(to_shuffle[:5])   \n",
    "print(nace_order[:5]) "
   ]
  },
  {
   "cell_type": "code",
   "execution_count": null,
   "id": "attended-freedom",
   "metadata": {
    "papermill": {
     "duration": 0.095307,
     "end_time": "2021-03-03T11:10:56.327064",
     "exception": false,
     "start_time": "2021-03-03T11:10:56.231757",
     "status": "completed"
    },
    "tags": []
   },
   "outputs": [],
   "source": [
    "df_nace_codes = df_nace_codes.loc[nace_order]\n",
    "df_nace_codes"
   ]
  },
  {
   "cell_type": "code",
   "execution_count": null,
   "id": "amino-guide",
   "metadata": {
    "papermill": {
     "duration": 1.166033,
     "end_time": "2021-03-03T11:10:57.561628",
     "exception": false,
     "start_time": "2021-03-03T11:10:56.395595",
     "status": "completed"
    },
    "tags": []
   },
   "outputs": [],
   "source": [
    "for i, row in df_nace_codes[:started_comp_ratio].iterrows():\n",
    "    #print(i)\n",
    "    \n",
    "    work_id = str(np.random.randint(0, 1000000000)).zfill(9)\n",
    "    nace = row['nace']\n",
    "    region_code = row['region_code']\n",
    "    region = row['region']\n",
    "    employee_points = 1\n",
    "    \n",
    "    \n",
    "    add_row = [work_id, nace, region_code, region, employee_points]\n",
    "    #print(add_row)\n",
    "    companies = companies.append(pd.Series(add_row, index = companies.columns), ignore_index = True)\n",
    "    \n",
    "    # Add a random employee that is not currently employed\n",
    "    employ_select = population[(population['work_id'].isnull()) & (population['age'] > 16) & (population['age'] < 74) ].index.tolist()\n",
    "    #print(employ_select)\n",
    "    random.shuffle(employ_select)\n",
    "    #population.loc[employ_select[0]]['work_id'] = work_id\n",
    "    population.loc[population.index == employ_select[0], 'work_id'] = work_id\n",
    "    #print(population[population['work_id'] == work_id])\n",
    "    #break"
   ]
  },
  {
   "cell_type": "code",
   "execution_count": null,
   "id": "separate-bumper",
   "metadata": {
    "papermill": {
     "duration": 0.074693,
     "end_time": "2021-03-03T11:10:57.711060",
     "exception": false,
     "start_time": "2021-03-03T11:10:57.636367",
     "status": "completed"
    },
    "tags": []
   },
   "outputs": [],
   "source": [
    "#print(population[population['work_id'] == '044062808'])"
   ]
  },
  {
   "cell_type": "code",
   "execution_count": null,
   "id": "transsexual-hamburg",
   "metadata": {
    "papermill": {
     "duration": 0.075646,
     "end_time": "2021-03-03T11:10:57.854024",
     "exception": false,
     "start_time": "2021-03-03T11:10:57.778378",
     "status": "completed"
    },
    "tags": []
   },
   "outputs": [],
   "source": [
    "#companies"
   ]
  },
  {
   "cell_type": "markdown",
   "id": "separated-matthew",
   "metadata": {
    "papermill": {
     "duration": 0.067908,
     "end_time": "2021-03-03T11:10:57.990633",
     "exception": false,
     "start_time": "2021-03-03T11:10:57.922725",
     "status": "completed"
    },
    "tags": []
   },
   "source": [
    "#### Remove dupes on company ids"
   ]
  },
  {
   "cell_type": "code",
   "execution_count": null,
   "id": "threatened-service",
   "metadata": {
    "papermill": {
     "duration": 0.081794,
     "end_time": "2021-03-03T11:10:58.140130",
     "exception": false,
     "start_time": "2021-03-03T11:10:58.058336",
     "status": "completed"
    },
    "tags": []
   },
   "outputs": [],
   "source": [
    "companies.drop_duplicates('work_id', inplace = True)"
   ]
  },
  {
   "cell_type": "markdown",
   "id": "collaborative-illness",
   "metadata": {
    "papermill": {
     "duration": 0.069962,
     "end_time": "2021-03-03T11:10:58.278857",
     "exception": false,
     "start_time": "2021-03-03T11:10:58.208895",
     "status": "completed"
    },
    "tags": []
   },
   "source": [
    "# Work"
   ]
  },
  {
   "cell_type": "markdown",
   "id": "sophisticated-termination",
   "metadata": {
    "papermill": {
     "duration": 0.06827,
     "end_time": "2021-03-03T11:10:58.415989",
     "exception": false,
     "start_time": "2021-03-03T11:10:58.347719",
     "status": "completed"
    },
    "tags": []
   },
   "source": [
    "### Move workers from non-existing companies to existing companies"
   ]
  },
  {
   "cell_type": "code",
   "execution_count": null,
   "id": "electoral-sharp",
   "metadata": {
    "papermill": {
     "duration": 0.083787,
     "end_time": "2021-03-03T11:10:58.569233",
     "exception": false,
     "start_time": "2021-03-03T11:10:58.485446",
     "status": "completed"
    },
    "tags": []
   },
   "outputs": [],
   "source": [
    "selection = population[~population['work_id'].isin(companies['work_id'].tolist())]\n",
    "selection = selection[~selection['work_id'].isnull()]\n",
    "selection_ids = selection.index.tolist()"
   ]
  },
  {
   "cell_type": "code",
   "execution_count": null,
   "id": "dependent-wallpaper",
   "metadata": {
    "papermill": {
     "duration": 0.678837,
     "end_time": "2021-03-03T11:10:59.317387",
     "exception": false,
     "start_time": "2021-03-03T11:10:58.638550",
     "status": "completed"
    },
    "tags": []
   },
   "outputs": [],
   "source": [
    "for i in selection_ids:\n",
    "    # Pick random existing company\n",
    "    comp_select = companies.index.tolist()\n",
    "    random.shuffle(comp_select)\n",
    "    work_id = str(companies['work_id'].loc[comp_select[0]])\n",
    "    #print(work_id)\n",
    "    population.loc[population.index == i, 'work_id'] = work_id"
   ]
  },
  {
   "cell_type": "code",
   "execution_count": null,
   "id": "familiar-express",
   "metadata": {
    "papermill": {
     "duration": 0.085698,
     "end_time": "2021-03-03T11:10:59.471742",
     "exception": false,
     "start_time": "2021-03-03T11:10:59.386044",
     "status": "completed"
    },
    "tags": []
   },
   "outputs": [],
   "source": [
    "# Check that selection now is empty, as we moved these\n",
    "selection = population[~population['work_id'].isin(companies['work_id'].tolist())]\n",
    "selection = selection[~selection['work_id'].isnull()]\n",
    "selection"
   ]
  },
  {
   "cell_type": "markdown",
   "id": "gross-cliff",
   "metadata": {
    "papermill": {
     "duration": 0.068553,
     "end_time": "2021-03-03T11:10:59.620683",
     "exception": false,
     "start_time": "2021-03-03T11:10:59.552130",
     "status": "completed"
    },
    "tags": []
   },
   "source": [
    "### Firings (leaving job)"
   ]
  },
  {
   "cell_type": "code",
   "execution_count": null,
   "id": "placed-minister",
   "metadata": {
    "papermill": {
     "duration": 0.077983,
     "end_time": "2021-03-03T11:10:59.767246",
     "exception": false,
     "start_time": "2021-03-03T11:10:59.689263",
     "status": "completed"
    },
    "tags": []
   },
   "outputs": [],
   "source": [
    "url = 'https://data.ssb.no/api/v0/no/table/12317/'\n",
    "payload = {\n",
    "  \"query\": [\n",
    "    {\n",
    "      \"code\": \"Sektor\",\n",
    "      \"selection\": {\n",
    "        \"filter\": \"item\",\n",
    "        \"values\": [\n",
    "          \"ALLE\"\n",
    "        ]\n",
    "      }\n",
    "    },\n",
    "    {\n",
    "      \"code\": \"ContentsCode\",\n",
    "      \"selection\": {\n",
    "        \"filter\": \"item\",\n",
    "        \"values\": [\n",
    "          \"AvgVirkTotalt\",\n",
    "          \"TilgVirkTotalt\"\n",
    "        ]\n",
    "      }\n",
    "    }\n",
    "  ],\n",
    "  \"response\": {\n",
    "    \"format\": \"json-stat2\"\n",
    "  }\n",
    "}"
   ]
  },
  {
   "cell_type": "code",
   "execution_count": null,
   "id": "happy-defensive",
   "metadata": {
    "papermill": {
     "duration": 0.61644,
     "end_time": "2021-03-03T11:11:00.453882",
     "exception": false,
     "start_time": "2021-03-03T11:10:59.837442",
     "status": "completed"
    },
    "tags": []
   },
   "outputs": [],
   "source": [
    "work_down = statbank_pandas(url, payload)\n",
    "#work_down"
   ]
  },
  {
   "cell_type": "code",
   "execution_count": null,
   "id": "expanded-victoria",
   "metadata": {
    "papermill": {
     "duration": 0.080601,
     "end_time": "2021-03-03T11:11:00.605693",
     "exception": false,
     "start_time": "2021-03-03T11:11:00.525092",
     "status": "completed"
    },
    "tags": []
   },
   "outputs": [],
   "source": [
    "# 4 quarters per year, times 4 is job loss per year\n",
    "lost_jobs = work_down[work_down['statistikkvariabel'] == 'Jobbnedgang, virksomheter i alt']['value'].mean()*4\n",
    "# Number of people who now should loose their jobs\n",
    "jobloss_corr = int((lost_jobs / total_pop) * len(population))"
   ]
  },
  {
   "cell_type": "code",
   "execution_count": null,
   "id": "injured-myrtle",
   "metadata": {
    "papermill": {
     "duration": 0.097396,
     "end_time": "2021-03-03T11:11:00.774132",
     "exception": false,
     "start_time": "2021-03-03T11:11:00.676736",
     "status": "completed"
    },
    "tags": []
   },
   "outputs": [],
   "source": [
    "workers = population[~population['work_id'].isnull()]\n",
    "print('Want to fire', round(jobloss_corr / len(workers) * 100), '% of workers in the population.')\n",
    "\n",
    "select_workers = workers.index.tolist()\n",
    "random.shuffle(select_workers)\n",
    "select_workers = select_workers[:jobloss_corr]\n",
    "\n",
    "population.loc[select_workers, 'work_id'] = None\n",
    "population.loc[select_workers, 'work_percent'] = np.nan\n",
    "\n",
    "print('Fired', len(select_workers), 'of', len(workers), 'original workers.')"
   ]
  },
  {
   "cell_type": "code",
   "execution_count": null,
   "id": "simplified-savannah",
   "metadata": {
    "papermill": {
     "duration": 0.081024,
     "end_time": "2021-03-03T11:11:00.923575",
     "exception": false,
     "start_time": "2021-03-03T11:11:00.842551",
     "status": "completed"
    },
    "tags": []
   },
   "outputs": [],
   "source": [
    "# Number of people still employed\n",
    "len(population[~population['work_id'].isnull()])"
   ]
  },
  {
   "cell_type": "markdown",
   "id": "israeli-million",
   "metadata": {
    "papermill": {
     "duration": 0.070335,
     "end_time": "2021-03-03T11:11:01.069951",
     "exception": false,
     "start_time": "2021-03-03T11:11:00.999616",
     "status": "completed"
    },
    "tags": []
   },
   "source": [
    "### Pensions"
   ]
  },
  {
   "cell_type": "code",
   "execution_count": null,
   "id": "revolutionary-certification",
   "metadata": {
    "papermill": {
     "duration": 0.455925,
     "end_time": "2021-03-03T11:11:01.595453",
     "exception": false,
     "start_time": "2021-03-03T11:11:01.139528",
     "status": "completed"
    },
    "tags": []
   },
   "outputs": [],
   "source": [
    "# People above 62 have a probability of (82-age) * 5% to be removed from their work status\n",
    "potential_pensioners = population[(population['age'] > 62) & (~population['work_id'].isnull())]\n",
    "count = 0\n",
    "for i, r in potential_pensioners.iterrows():\n",
    "    age = int(r['age'])\n",
    "    chance = ((age - 82 ) * 5) + 100\n",
    "    draw = random.randint(0,100)\n",
    "    #print(age, chance, draw)\n",
    "    \n",
    "    # The ones with a random draw below their chance, will be pensioned\n",
    "    if draw <= chance:\n",
    "        #print('Pensioner', i, 'at age', age)\n",
    "        count += 1\n",
    "        # Empty rows work_id\n",
    "        population.loc[i, 'work_id'] = None\n",
    "print('Pensioned', count, 'of', len(potential_pensioners), 'potential pensioners.')"
   ]
  },
  {
   "cell_type": "code",
   "execution_count": null,
   "id": "amber-variable",
   "metadata": {
    "papermill": {
     "duration": 0.081163,
     "end_time": "2021-03-03T11:11:01.747940",
     "exception": false,
     "start_time": "2021-03-03T11:11:01.666777",
     "status": "completed"
    },
    "tags": []
   },
   "outputs": [],
   "source": [
    "# Check if there is no workers above the age of 82\n",
    "workers_82 = population[(population['age'] >= 82) & (~population['work_id'].isnull())]\n",
    "if len(workers_82):\n",
    "    print(len(workers_82), 'workers above the age of 82, there should be 0.')"
   ]
  },
  {
   "cell_type": "markdown",
   "id": "consecutive-concert",
   "metadata": {
    "papermill": {
     "duration": 0.070137,
     "end_time": "2021-03-03T11:11:01.889377",
     "exception": false,
     "start_time": "2021-03-03T11:11:01.819240",
     "status": "completed"
    },
    "tags": []
   },
   "source": [
    "### Hirings (starting job)"
   ]
  },
  {
   "cell_type": "code",
   "execution_count": null,
   "id": "excessive-quantity",
   "metadata": {
    "papermill": {
     "duration": 0.08356,
     "end_time": "2021-03-03T11:11:02.042998",
     "exception": false,
     "start_time": "2021-03-03T11:11:01.959438",
     "status": "completed"
    },
    "tags": []
   },
   "outputs": [],
   "source": [
    "# Hire according to ratio first\n",
    "gained_jobs = work_down[work_down['statistikkvariabel'] == 'Jobboppgang, virksomheter i alt']['value'].mean()*4\n",
    "# Number of people we should hire according to stat\n",
    "jobgain_corr = int((gained_jobs / total_pop) * len(population))\n",
    "print(jobgain_corr)"
   ]
  },
  {
   "cell_type": "code",
   "execution_count": null,
   "id": "blind-strike",
   "metadata": {
    "papermill": {
     "duration": 0.085569,
     "end_time": "2021-03-03T11:11:02.199299",
     "exception": false,
     "start_time": "2021-03-03T11:11:02.113730",
     "status": "completed"
    },
    "tags": []
   },
   "outputs": [],
   "source": [
    "# Number of working people we should have according to other statistics \n",
    "15261 - len(population[~population['work_id'].isnull()])"
   ]
  },
  {
   "cell_type": "code",
   "execution_count": null,
   "id": "composite-discussion",
   "metadata": {
    "papermill": {
     "duration": 205.309036,
     "end_time": "2021-03-03T11:14:27.581928",
     "exception": false,
     "start_time": "2021-03-03T11:11:02.272892",
     "status": "completed"
    },
    "tags": []
   },
   "outputs": [],
   "source": [
    "# We prefer to hire people in their most productive years\n",
    "count = 0\n",
    "total_original_workers = df_nace_codes['value'].sum()\n",
    "with pbar(total = jobgain_corr) as pbar1:\n",
    "    while count <= jobgain_corr:\n",
    "        # This creates a semi-normalized chance of preferring people for hire in the mid-range (around 40 years of age)\n",
    "        half_range = 82 / 2\n",
    "        dice1 = random.randint(0, half_range)\n",
    "        dice2 = random.randint(0, half_range)\n",
    "        draw = dice1 + dice2\n",
    "        if draw > 16 and draw < 67:\n",
    "            # Try to hire one of this age\n",
    "            peeps_for_hire = population[(population['work_id'].isnull()) & (population['age'] == draw)]\n",
    "            if len(peeps_for_hire):\n",
    "                # Pick a random nace, based on chance from nace value rows\n",
    "\n",
    "                dice1 = random.randint(1, total_original_workers + 1)\n",
    "                nace_count = 0\n",
    "                nace_val_count = 0\n",
    "                while nace_val_count <= dice1:\n",
    "                    nace_val_count += df_nace_codes.iloc[nace_count]['value']\n",
    "                    nace = df_nace_codes.iloc[nace_count]['nace']\n",
    "\n",
    "                # Pick a random company with this Nace\n",
    "                work_id = companies[companies['nace'] == nace].sample()['work_id'].iloc[0]\n",
    "\n",
    "                # Pick one random worker among the correct age\n",
    "                pop_id = peeps_for_hire.sample().index.tolist()[0]\n",
    "                # Hire at company\n",
    "                population.loc[pop_id, 'work_id'] = work_id \n",
    "                #print(work_id, pop_id)\n",
    "                count += 1\n",
    "                pbar1.update(1)\n",
    "print('Hired', count, 'people.')"
   ]
  },
  {
   "cell_type": "code",
   "execution_count": null,
   "id": "atomic-picking",
   "metadata": {
    "papermill": {
     "duration": 0.089819,
     "end_time": "2021-03-03T11:14:27.752684",
     "exception": false,
     "start_time": "2021-03-03T11:14:27.662865",
     "status": "completed"
    },
    "tags": []
   },
   "outputs": [],
   "source": [
    "# Check against total in work now, \n",
    "print('Went from', len(workers), 'workers before firings, to', len(population[~population['work_id'].isnull()]), 'after hirings and pensionings.')"
   ]
  },
  {
   "cell_type": "markdown",
   "id": "northern-poultry",
   "metadata": {
    "papermill": {
     "duration": 0.071479,
     "end_time": "2021-03-03T11:14:27.903775",
     "exception": false,
     "start_time": "2021-03-03T11:14:27.832296",
     "status": "completed"
    },
    "tags": []
   },
   "source": [
    "### Re-establish work-percentage distribution"
   ]
  },
  {
   "cell_type": "code",
   "execution_count": null,
   "id": "descending-anthony",
   "metadata": {
    "papermill": {
     "duration": 1.680481,
     "end_time": "2021-03-03T11:14:29.654890",
     "exception": false,
     "start_time": "2021-03-03T11:14:27.974409",
     "status": "completed"
    },
    "tags": []
   },
   "outputs": [],
   "source": [
    "# Reshuffle existing work-percentages\n",
    "select_percents = population[~population['work_percent'].isnull()]\n",
    "\n",
    "for i, r in select_percents.iterrows():\n",
    "    half_range = 50 / 2\n",
    "    dice1 = random.randint(0, half_range)\n",
    "    dice2 = random.randint(0, half_range)\n",
    "    score = dice1 + dice2 - 25\n",
    "    if score > 10 or score < -10:\n",
    "        work_percent = int(r['work_percent']) + score\n",
    "        if work_percent > 100:\n",
    "            work_percent = 100\n",
    "        elif work_percent < 0:\n",
    "            work_percent = 5\n",
    "        #print(work_percent)\n",
    "        population.loc[i, 'work_percent'] = work_percent   "
   ]
  },
  {
   "cell_type": "code",
   "execution_count": null,
   "id": "promising-coaching",
   "metadata": {
    "jupyter": {
     "source_hidden": true
    },
    "papermill": {
     "duration": 0.089328,
     "end_time": "2021-03-03T11:14:29.817044",
     "exception": false,
     "start_time": "2021-03-03T11:14:29.727716",
     "status": "completed"
    },
    "tags": []
   },
   "outputs": [],
   "source": [
    "url = 'https://data.ssb.no/api/v0/no/table/12541/'\n",
    "payload = {\n",
    "  \"query\": [\n",
    "    {\n",
    "      \"code\": \"Alder\",\n",
    "      \"selection\": {\n",
    "        \"filter\": \"item\",\n",
    "        \"values\": [\n",
    "          \"15-19\",\n",
    "          \"20-24\",\n",
    "          \"25-39\",\n",
    "          \"40-54\",\n",
    "          \"55-66\",\n",
    "          \"67-74\"\n",
    "        ]\n",
    "      }\n",
    "    },\n",
    "    {\n",
    "      \"code\": \"Kjonn\",\n",
    "      \"selection\": {\n",
    "        \"filter\": \"item\",\n",
    "        \"values\": [\n",
    "          \"1\",\n",
    "          \"2\"\n",
    "        ]\n",
    "      }\n",
    "    },\n",
    "    {\n",
    "      \"code\": \"HovedBiarbeid\",\n",
    "      \"selection\": {\n",
    "        \"filter\": \"item\",\n",
    "        \"values\": [\n",
    "          \"T\"\n",
    "        ]\n",
    "      }\n",
    "    },\n",
    "    {\n",
    "      \"code\": \"ArbeidsTidRen\",\n",
    "      \"selection\": {\n",
    "        \"filter\": \"vs:ArbTidS12\",\n",
    "        \"values\": [\n",
    "          \"P000-009\",\n",
    "          \"P010-019\",\n",
    "          \"P020-029\",\n",
    "          \"P030-039\",\n",
    "          \"P040-049\",\n",
    "          \"P050-059\",\n",
    "          \"P060-069\",\n",
    "          \"P070-079\",\n",
    "          \"P080-089\",\n",
    "          \"P090-099\",\n",
    "          \"P100\"\n",
    "        ]\n",
    "      }\n",
    "    },\n",
    "    {\n",
    "      \"code\": \"Tid\",\n",
    "      \"selection\": {\n",
    "        \"filter\": \"item\",\n",
    "        \"values\": [\n",
    "          '2019'\n",
    "        ]\n",
    "      }\n",
    "    }\n",
    "  ],\n",
    "  \"response\": {\n",
    "    \"format\": \"json-stat2\"\n",
    "  }\n",
    "}"
   ]
  },
  {
   "cell_type": "code",
   "execution_count": null,
   "id": "disciplinary-terminology",
   "metadata": {
    "papermill": {
     "duration": 1.512467,
     "end_time": "2021-03-03T11:14:31.402871",
     "exception": false,
     "start_time": "2021-03-03T11:14:29.890404",
     "status": "completed"
    },
    "tags": []
   },
   "outputs": [],
   "source": [
    "df_work_percent = statbank_pandas(url, payload)\n",
    "df_work_percent['alder'] = df_work_percent['alder'].str.replace(' år','')\n",
    "df_work_percent[['alder1', 'alder2']] = df_work_percent['alder'].str.split('-', expand = True)\n",
    "\n",
    "df_work_percent['arbeidstid'] = df_work_percent['arbeidstid'].str.replace(' prosent','')\n",
    "df_work_percent['arbeidstid'] = df_work_percent['arbeidstid'].str.replace(' eller mer','-100')\n",
    "df_work_percent[['arbeidstid1', 'arbeidstid2']] = df_work_percent['arbeidstid'].str.split('-', expand = True)\n",
    "\n",
    "df_work_percent = df_work_percent[['alder1', 'alder2', 'kjønn', 'arbeidstid1', 'arbeidstid2', 'value']]\n",
    "#df_work_percent"
   ]
  },
  {
   "cell_type": "code",
   "execution_count": null,
   "id": "sixth-intro",
   "metadata": {
    "papermill": {
     "duration": 17.205945,
     "end_time": "2021-03-03T11:14:48.681767",
     "exception": false,
     "start_time": "2021-03-03T11:14:31.475822",
     "status": "completed"
    },
    "tags": []
   },
   "outputs": [],
   "source": [
    "# This amount of rows should have work_percents\n",
    "work_percent_target = round((df_work_percent['value'].sum() / total_pop) * len(population))\n",
    "# Subtract the amount that already has work_percent\n",
    "work_percent_target = work_percent_target - len(population[~population['work_percent'].isnull()])\n",
    "\n",
    "# Pick the people without work percents, but that work in companies, make a list over ids in population-dataframe\n",
    "selection = population[(population['work_percent'].isnull()) & (~population['work_id'].isnull())].index.tolist()\n",
    "# Shuffle the id-list\n",
    "random.shuffle(selection)\n",
    "\n",
    "# Loop through the shuffled list, until we hit the amount we are looking for\n",
    "for i in selection[:work_percent_target]:\n",
    "    \n",
    "    # Get persons sex and age\n",
    "    age = population.loc[i]['age']\n",
    "    sex = population.loc[i]['sex']\n",
    "    #print(age, sex)\n",
    "    \n",
    "    # Look at df_work_percent and add all the values together that match sex and age\n",
    "    appropriate = df_work_percent[(df_work_percent['kjønn'] == sex) &\n",
    "                    (df_work_percent['alder1'].astype(int) <= int(age)) & \n",
    "                    (df_work_percent['alder2'].astype(int) >= int(age))]\n",
    "    \n",
    "    # Draw a random int in this range\n",
    "    draw = random.randint(0, appropriate['value'].sum())\n",
    "    for index, r in appropriate.iterrows():\n",
    "        # Place in corresponding category\n",
    "        draw -= int(r['value'])\n",
    "        if draw <= 0:\n",
    "            # Set percent as a random number between edges\n",
    "            percent = random.randint(int(r['arbeidstid1']), int(r['arbeidstid2']))\n",
    "            #print(age, sex, percent)\n",
    "            \n",
    "            # Apply the work_percent to the dataset\n",
    "            population.loc[i, 'work_percent'] = percent\n",
    "            break\n",
    "    #break"
   ]
  },
  {
   "cell_type": "code",
   "execution_count": null,
   "id": "alone-illustration",
   "metadata": {
    "papermill": {
     "duration": 0.087094,
     "end_time": "2021-03-03T11:14:48.840924",
     "exception": false,
     "start_time": "2021-03-03T11:14:48.753830",
     "status": "completed"
    },
    "tags": []
   },
   "outputs": [],
   "source": [
    "# This should be 0, if we added the correct amount of work_percents\n",
    "round((df_work_percent['value'].sum() / total_pop) * len(population)) - len(population[~population['work_percent'].isnull()])"
   ]
  },
  {
   "cell_type": "markdown",
   "id": "apart-vegetable",
   "metadata": {
    "papermill": {
     "duration": 0.076102,
     "end_time": "2021-03-03T11:14:48.990192",
     "exception": false,
     "start_time": "2021-03-03T11:14:48.914090",
     "status": "completed"
    },
    "tags": []
   },
   "source": [
    "# Checks"
   ]
  },
  {
   "cell_type": "markdown",
   "id": "representative-holocaust",
   "metadata": {
    "papermill": {
     "duration": 0.072663,
     "end_time": "2021-03-03T11:14:49.137458",
     "exception": false,
     "start_time": "2021-03-03T11:14:49.064795",
     "status": "completed"
    },
    "tags": []
   },
   "source": [
    "### Companies without employees"
   ]
  },
  {
   "cell_type": "code",
   "execution_count": null,
   "id": "injured-enlargement",
   "metadata": {
    "papermill": {
     "duration": 0.100842,
     "end_time": "2021-03-03T11:14:49.312078",
     "exception": false,
     "start_time": "2021-03-03T11:14:49.211236",
     "status": "completed"
    },
    "tags": []
   },
   "outputs": [],
   "source": [
    "companies[~companies['work_id'].isin(pd.unique(population['work_id']).tolist())]"
   ]
  },
  {
   "cell_type": "markdown",
   "id": "sound-jamaica",
   "metadata": {
    "papermill": {
     "duration": 0.074563,
     "end_time": "2021-03-03T11:14:49.459652",
     "exception": false,
     "start_time": "2021-03-03T11:14:49.385089",
     "status": "completed"
    },
    "tags": []
   },
   "source": [
    "### Workers with non-exisiting companies"
   ]
  },
  {
   "cell_type": "code",
   "execution_count": null,
   "id": "employed-bruce",
   "metadata": {
    "papermill": {
     "duration": 0.101844,
     "end_time": "2021-03-03T11:14:49.647689",
     "exception": false,
     "start_time": "2021-03-03T11:14:49.545845",
     "status": "completed"
    },
    "tags": []
   },
   "outputs": [],
   "source": [
    "population[(~population['work_id'].isin(companies['work_id'].tolist())) & (~population['work_id'].isnull())]"
   ]
  },
  {
   "cell_type": "markdown",
   "id": "sunset-jewel",
   "metadata": {
    "papermill": {
     "duration": 0.075635,
     "end_time": "2021-03-03T11:14:49.797719",
     "exception": false,
     "start_time": "2021-03-03T11:14:49.722084",
     "status": "completed"
    },
    "tags": []
   },
   "source": [
    "## Save files"
   ]
  },
  {
   "cell_type": "code",
   "execution_count": null,
   "id": "quality-craps",
   "metadata": {
    "papermill": {
     "duration": 0.080322,
     "end_time": "2021-03-03T11:14:49.950109",
     "exception": false,
     "start_time": "2021-03-03T11:14:49.869787",
     "status": "completed"
    },
    "tags": []
   },
   "outputs": [],
   "source": [
    "start_path = '/'.join(pop_in_path.split('/')[:-1])\n",
    "comp_outpath = f'{start_path}/companies_{start_year + 1}_{start_pop_num}'\n",
    "pop_outpath = f'{start_path}/population_{start_year + 1}_{start_pop_num}'"
   ]
  },
  {
   "cell_type": "code",
   "execution_count": null,
   "id": "dramatic-margin",
   "metadata": {
    "papermill": {
     "duration": 1.385196,
     "end_time": "2021-03-03T11:14:51.409787",
     "exception": false,
     "start_time": "2021-03-03T11:14:50.024591",
     "status": "completed"
    },
    "tags": []
   },
   "outputs": [],
   "source": [
    "dp.write_pandas(companies, comp_outpath, valuation='OPEN', state= 'OUTPUT')\n",
    "dp.write_pandas(population, pop_outpath, valuation='OPEN', state= 'OUTPUT')"
   ]
  },
  {
   "cell_type": "code",
   "execution_count": null,
   "id": "heated-willow",
   "metadata": {
    "papermill": {
     "duration": 0.235697,
     "end_time": "2021-03-03T11:14:51.720427",
     "exception": false,
     "start_time": "2021-03-03T11:14:51.484730",
     "status": "completed"
    },
    "tags": []
   },
   "outputs": [],
   "source": [
    "companies.to_csv(f'companies_{start_year + 1}_{start_pop_num}_v001.csv', sep = ';', encoding = 'utf-8-sig')\n",
    "population.to_csv(f'population_{start_year + 1}_{start_pop_num}_v001.csv', sep = ';', encoding = 'utf-8-sig')"
   ]
  }
 ],
 "metadata": {
  "language_info": {
   "codemirror_mode": {
    "name": "ipython"
   },
   "file_extension": ".py",
   "mimetype": "text/x-python",
   "name": "python",
   "nbconvert_exporter": "python"
  },
  "papermill": {
   "default_parameters": {},
   "duration": 264.841505,
   "end_time": "2021-03-03T11:14:52.306971",
   "environment_variables": {},
   "exception": null,
   "input_path": "randData_simYears.ipynb",
   "output_path": "randData_simYears_output.ipynb",
   "parameters": {
    "comp_in_path": "/felles/mock_sysselsatte/companies_2022_30000",
    "pop_in_path": "/felles/mock_sysselsatte/population_2022_30000"
   },
   "start_time": "2021-03-03T11:10:27.465466",
   "version": "2.3.2"
  }
 },
 "nbformat": 4,
 "nbformat_minor": 5
}

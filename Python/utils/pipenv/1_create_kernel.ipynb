{
 "cells": [
  {
   "cell_type": "markdown",
   "id": "d620585f",
   "metadata": {},
   "source": [
    "### Terminal-commands for creating kernel\n",
    "1. cd to projectrepo\n",
    "1. pip install pipenv\n",
    "1. pipenv install\n",
    "1. pipenv-kernel create pipenvtest1 /opt/conda/share/jupyter/kernels/python3 --in-project"
   ]
  },
  {
   "cell_type": "markdown",
   "id": "08e564c5",
   "metadata": {},
   "source": [
    "### Terminalcommand to activate kernel\n",
    "1. cd to repo\n",
    "1. pipenv-kernel activate pipenvtest1"
   ]
  },
  {
   "cell_type": "code",
   "execution_count": null,
   "id": "a9fc4952",
   "metadata": {},
   "outputs": [],
   "source": [
    "# Dette er mappen du \"står i\"\n",
    "%pwd"
   ]
  },
  {
   "cell_type": "markdown",
   "id": "5487ff7f",
   "metadata": {},
   "source": [
    "## Makefile"
   ]
  },
  {
   "cell_type": "code",
   "execution_count": null,
   "id": "5ea22467",
   "metadata": {},
   "outputs": [],
   "source": [
    "!make -f Makefile create-kernel"
   ]
  },
  {
   "cell_type": "markdown",
   "id": "71dcae06",
   "metadata": {},
   "source": [
    "### Raw commands"
   ]
  },
  {
   "cell_type": "code",
   "execution_count": null,
   "id": "1fa32b43",
   "metadata": {},
   "outputs": [],
   "source": [
    "!pip install pipenv"
   ]
  },
  {
   "cell_type": "code",
   "execution_count": null,
   "id": "f1944179",
   "metadata": {},
   "outputs": [],
   "source": [
    "# feiler fra notebooks, pakker må innstalleres i terminalen\n",
    "#!pipenv install toml"
   ]
  },
  {
   "cell_type": "code",
   "execution_count": null,
   "id": "6fc19b55",
   "metadata": {
    "jupyter": {
     "source_hidden": true
    }
   },
   "outputs": [],
   "source": [
    "# Trying to set kernelname...\n",
    "try:\n",
    "    import toml\n",
    "    CONFIG = toml.load('./config.toml')\n",
    "    kernel_name = CONFIG['kernel_name']\n",
    "except:\n",
    "    try:\n",
    "        bash_cmd(\"pipenv install toml\")\n",
    "        import toml\n",
    "        CONFIG = toml.load('./config.toml')\n",
    "        kernel_name = CONFIG['kernel_name']\n",
    "    except:\n",
    "        # Open TOML without package\n",
    "        with open('./config.toml', 'r') as config_file:\n",
    "            kernel_name = ''\n",
    "            for line in config_file.readlines():\n",
    "                if 'kernel_name' in line:\n",
    "                    kernel_name = line.rstrip().split(\"=\")[-1].lstrip().replace(\"'\", \"\").replace('\"',\"\")\n",
    "                    break\n",
    "        if not kernel_name:\n",
    "            kernel_name = 'pipenvtest1'\n",
    "print(f'Setting kernel name to {kernel_name}')"
   ]
  },
  {
   "cell_type": "code",
   "execution_count": null,
   "id": "a12a6b63",
   "metadata": {},
   "outputs": [],
   "source": [
    "!/opt/dapla/pipenv_kernel.sh create pipenvtest1 /opt/conda/share/jupyter/kernels/python3 --in-project"
   ]
  }
 ],
 "metadata": {
  "language_info": {
   "codemirror_mode": {
    "name": "ipython"
   },
   "file_extension": ".py",
   "mimetype": "text/x-python",
   "name": "python",
   "nbconvert_exporter": "python"
  }
 },
 "nbformat": 4,
 "nbformat_minor": 5
}

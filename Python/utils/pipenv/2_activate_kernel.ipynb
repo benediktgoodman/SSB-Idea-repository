{
 "cells": [
  {
   "cell_type": "markdown",
   "id": "5e503d4d",
   "metadata": {},
   "source": [
    "## If kernel is missing for some reason, activate the kernel from the correct path\n",
    "(This notebook is currently in the same folder as the .venv)"
   ]
  },
  {
   "cell_type": "code",
   "execution_count": null,
   "id": "928db054",
   "metadata": {},
   "outputs": [],
   "source": [
    "!/opt/dapla/pipenv_kernel.sh activate pipenvtest1 --in-project"
   ]
  },
  {
   "cell_type": "code",
   "execution_count": null,
   "id": "61dd262f",
   "metadata": {},
   "outputs": [],
   "source": [
    "# Om den over ikke funker, prøv med full path, eller fra terminalen...\n",
    "#!/opt/dapla/pipenv_kernel.sh activate pipenvtest1"
   ]
  }
 ],
 "metadata": {
  "language_info": {
   "codemirror_mode": {
    "name": "ipython"
   },
   "file_extension": ".py",
   "mimetype": "text/x-python",
   "name": "python",
   "nbconvert_exporter": "python"
  }
 },
 "nbformat": 4,
 "nbformat_minor": 5
}

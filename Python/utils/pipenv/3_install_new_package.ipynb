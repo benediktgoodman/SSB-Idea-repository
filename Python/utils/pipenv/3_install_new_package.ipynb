{
 "cells": [
  {
   "cell_type": "code",
   "execution_count": null,
   "id": "918aa5fa",
   "metadata": {},
   "outputs": [],
   "source": [
    "# Switch to kernel you created on this notebook first\n",
    "!pip install pipenv"
   ]
  },
  {
   "cell_type": "code",
   "execution_count": null,
   "id": "4bdb54ff",
   "metadata": {},
   "outputs": [],
   "source": [
    "pip freeze"
   ]
  },
  {
   "cell_type": "markdown",
   "id": "80216528",
   "metadata": {},
   "source": [
    "### Adding a package to dapla\n",
    "1. Go to https://github.com/statisticsnorway/dapla-pypiserver\n",
    "1. Make a new branch from main, like the name of the package you are adding\n",
    "1. Commit a change to the new branch, where you add the package to \"Packages.txt\"\n",
    "1. Merge / Pull request that into main-branch and assign reviewers\n",
    "1. After review, make sure branch is merged and deleted"
   ]
  },
  {
   "cell_type": "markdown",
   "id": "4a8e6442",
   "metadata": {},
   "source": [
    "### Commands\n",
    "The [\"Packages.txt\"](https://github.com/statisticsnorway/dapla-pypiserver/blob/main/Packages.txt) also represents the list of packages you can install"
   ]
  },
  {
   "cell_type": "code",
   "execution_count": null,
   "id": "b8ff2d08",
   "metadata": {},
   "outputs": [],
   "source": [
    "# These currently crash? So paste them into the terminal...\n",
    "!pipenv install toml"
   ]
  },
  {
   "cell_type": "code",
   "execution_count": null,
   "id": "3f9ed186",
   "metadata": {},
   "outputs": [],
   "source": [
    "!pipenv install python-highcharts"
   ]
  },
  {
   "cell_type": "code",
   "execution_count": null,
   "id": "85e52dea",
   "metadata": {},
   "outputs": [],
   "source": [
    "#!pipenv install ipywidgets"
   ]
  },
  {
   "cell_type": "code",
   "execution_count": null,
   "id": "79ca1c88",
   "metadata": {},
   "outputs": [],
   "source": [
    "import highcharts"
   ]
  },
  {
   "cell_type": "markdown",
   "id": "5fbc6811",
   "metadata": {},
   "source": [
    "### Makefile\n",
    "This is an unecessary copy, if packages are referenced in the Piplock-file?"
   ]
  },
  {
   "cell_type": "code",
   "execution_count": null,
   "id": "6eacc9d9",
   "metadata": {},
   "outputs": [],
   "source": [
    "!make -f Makefile install-packages"
   ]
  }
 ],
 "metadata": {
  "language_info": {
   "codemirror_mode": {
    "name": "ipython"
   },
   "file_extension": ".py",
   "mimetype": "text/x-python",
   "name": "python",
   "nbconvert_exporter": "python"
  }
 },
 "nbformat": 4,
 "nbformat_minor": 5
}

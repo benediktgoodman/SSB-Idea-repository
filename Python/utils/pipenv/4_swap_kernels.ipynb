{
 "cells": [
  {
   "cell_type": "markdown",
   "id": "f1d3ddeb",
   "metadata": {},
   "source": [
    "### Set kernels dynamically on a list of notebooks\n",
    "Make sure everything is saved first!"
   ]
  },
  {
   "cell_type": "code",
   "execution_count": null,
   "id": "0524f149",
   "metadata": {},
   "outputs": [],
   "source": [
    "# All files in folder are targets for swap\n",
    "import glob, os\n",
    "targets = []\n",
    "#for file in glob.glob(\"*.ipynb\"):\n",
    "# Or for all files in a recursive search:\n",
    "for file in glob.glob(\"**/*.ipynb\", recursive = True):\n",
    "    targets += [str(file)]\n",
    "targets = sorted(targets)\n",
    "targets"
   ]
  },
  {
   "cell_type": "code",
   "execution_count": null,
   "id": "f10c3c40",
   "metadata": {},
   "outputs": [],
   "source": [
    "# Or all notebooks also in recursive search"
   ]
  },
  {
   "cell_type": "code",
   "execution_count": null,
   "id": "2fe11bf4",
   "metadata": {},
   "outputs": [],
   "source": [
    "# Get name of kernel / environment from configfile\n",
    "import toml\n",
    "CONFIG = toml.load(\"./config.toml\")\n",
    "CONFIG['kernel_name']"
   ]
  },
  {
   "cell_type": "code",
   "execution_count": null,
   "id": "c8bf1403",
   "metadata": {},
   "outputs": [],
   "source": [
    "# Kernelspec we want to swap to\n",
    "spec = {'display_name': CONFIG['kernel_name'], 'language': 'python', 'name': CONFIG['kernel_name']}\n",
    "#spec = {'display_name': 'Python 3', 'language': 'python', 'name': 'python3'}\n",
    "spec"
   ]
  },
  {
   "cell_type": "code",
   "execution_count": null,
   "id": "69ebf86a",
   "metadata": {},
   "outputs": [],
   "source": [
    "# Here is our swapping function\n",
    "from src.kernels import swap_kernels"
   ]
  },
  {
   "cell_type": "code",
   "execution_count": null,
   "id": "54ffd577",
   "metadata": {},
   "outputs": [],
   "source": [
    "swap_kernels(targets, spec)"
   ]
  },
  {
   "cell_type": "code",
   "execution_count": null,
   "id": "a9a38271",
   "metadata": {},
   "outputs": [],
   "source": []
  }
 ],
 "metadata": {
  "language_info": {
   "codemirror_mode": {
    "name": "ipython"
   },
   "file_extension": ".py",
   "mimetype": "text/x-python",
   "name": "python",
   "nbconvert_exporter": "python"
  }
 },
 "nbformat": 4,
 "nbformat_minor": 5
}

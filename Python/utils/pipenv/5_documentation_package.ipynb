{
 "cells": [
  {
   "cell_type": "markdown",
   "id": "302aa0f1",
   "metadata": {},
   "source": [
    "### Make sure you are in the right kernel first"
   ]
  },
  {
   "cell_type": "code",
   "execution_count": null,
   "id": "4c64e0e1",
   "metadata": {},
   "outputs": [],
   "source": [
    "!pip install pipenv"
   ]
  },
  {
   "cell_type": "code",
   "execution_count": null,
   "id": "ee6b259a",
   "metadata": {},
   "outputs": [],
   "source": [
    "!pipenv lock -r > requirements.txt"
   ]
  },
  {
   "cell_type": "markdown",
   "id": "001b0ad7",
   "metadata": {},
   "source": [
    "### Size of .venv"
   ]
  },
  {
   "cell_type": "code",
   "execution_count": null,
   "id": "2b46dc89",
   "metadata": {},
   "outputs": [],
   "source": [
    "!du -sh .venv"
   ]
  },
  {
   "cell_type": "code",
   "execution_count": null,
   "id": "29b42cb9",
   "metadata": {},
   "outputs": [],
   "source": [
    "!du -sh *"
   ]
  },
  {
   "cell_type": "code",
   "execution_count": null,
   "id": "b6f37b50",
   "metadata": {},
   "outputs": [],
   "source": []
  }
 ],
 "metadata": {
  "language_info": {
   "codemirror_mode": {
    "name": "ipython"
   },
   "file_extension": ".py",
   "mimetype": "text/x-python",
   "name": "python",
   "nbconvert_exporter": "python"
  }
 },
 "nbformat": 4,
 "nbformat_minor": 5
}

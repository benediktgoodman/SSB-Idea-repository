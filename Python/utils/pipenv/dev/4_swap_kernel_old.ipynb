{
 "cells": [
  {
   "cell_type": "markdown",
   "id": "9da0c083",
   "metadata": {},
   "source": [
    "### Kan vi endre kernel på notebooks med kode, da kan man bytte mellom kernels på hele produksjonsløp dynamisk?\n",
    "Det virker som dette raskt \"henger igjen i Jupyterlab, så dette kan introdusere litt \"weirdness\", hvor jupyterlab ikke helt \"vet\" hvilken kernel som tilhører arkene... Er det noe vi kan \"restarte\" for å fikse på dette? Slitsomt å restarte hele serveren kanskje, men det funker faktisk..."
   ]
  },
  {
   "cell_type": "code",
   "execution_count": null,
   "id": "7ab58c6f",
   "metadata": {},
   "outputs": [],
   "source": [
    "import json\n",
    "import toml"
   ]
  },
  {
   "cell_type": "code",
   "execution_count": null,
   "id": "ad7f8288",
   "metadata": {},
   "outputs": [],
   "source": [
    "CONFIG = toml.load(\"./config.toml\")"
   ]
  },
  {
   "cell_type": "code",
   "execution_count": null,
   "id": "4e0269e3",
   "metadata": {},
   "outputs": [],
   "source": [
    "# Switch for swapping settings\n",
    "local_kernel = True\n",
    "#local_kernel = False"
   ]
  },
  {
   "cell_type": "code",
   "execution_count": null,
   "id": "ea080e69",
   "metadata": {},
   "outputs": [],
   "source": [
    "# Notebooks to affect, we could dynamically find all notebooks below a directory or something here instead...\n",
    "targets = ['2_start_kernel_forstegang.ipynb', '3_bruk_kernel.ipynb']"
   ]
  },
  {
   "cell_type": "code",
   "execution_count": null,
   "id": "11fbce97",
   "metadata": {},
   "outputs": [],
   "source": [
    "# Local kernel spec\n",
    "local = {'display_name': CONFIG['kernel_name'], 'language': 'python', 'name': CONFIG['kernel_name']}\n",
    "# Standard Python 3 settings\n",
    "py3 = {'display_name': 'Python 3', 'language': 'python', 'name': 'python3'}"
   ]
  },
  {
   "cell_type": "code",
   "execution_count": null,
   "id": "bcc135b5",
   "metadata": {},
   "outputs": [],
   "source": [
    "def swap_kernels(nbs_paths, spec = py3):\n",
    "    \"\"\"\n",
    "    Parameters:\n",
    "        First: Positional argument with list of strings, paths to notebooks that will have their kernel switched.\n",
    "        Second: Keyword argument with a dict to replace in notebook['metadata']['kernelspec']. This describes the settings for the kernel.\n",
    "    Raises:\n",
    "        ValueError if nbs_paths is not a list of strings.\n",
    "        ValueError if spec is not a dict with string values.\n",
    "    Returns:\n",
    "        Nothing, but prints progress and a warning to restart jupyterlab-server to incorporate changes.    \n",
    "    \"\"\"\n",
    "    \n",
    "    if not (isinstance(targets, list) and all(isinstance(elem, str) for elem in targets)):\n",
    "        raise ValueError(\"Expecting list of strings as input for notebooks to set kernel on as first parameter.\")\n",
    "    \n",
    "    if not (isinstance(spec, dict) and all(isinstance(elem, str) for elem in spec.values())):\n",
    "        raise ValueError('Expecting dict, with strings as values in keyword-argument \"spec\".')\n",
    "        \n",
    "    for path in nbs_paths:\n",
    "        with open(path, \"r\") as json_file:\n",
    "            notebook = json.loads(json_file.read())\n",
    "            notebook['metadata']['kernelspec'] = spec\n",
    "        print(path, 'set to', spec['display_name'])\n",
    "\n",
    "        with open(path, \"w\") as json_file:\n",
    "            json_file.write(json.dumps(notebook))\n",
    "    print(\"\\nRestart jupyterserver for simplicity?\")"
   ]
  },
  {
   "cell_type": "code",
   "execution_count": null,
   "id": "13feaec9",
   "metadata": {},
   "outputs": [],
   "source": [
    "if local_kernel:\n",
    "    swap_kernels(targets, spec=local)\n",
    "else:\n",
    "    swap_kernels(targets, spec=py3)"
   ]
  },
  {
   "cell_type": "code",
   "execution_count": null,
   "id": "4ce516fe",
   "metadata": {},
   "outputs": [],
   "source": [
    "help(swap_kernels)"
   ]
  },
  {
   "cell_type": "code",
   "execution_count": null,
   "id": "4b0caf5c",
   "metadata": {},
   "outputs": [],
   "source": []
  }
 ],
 "metadata": {
  "language_info": {
   "codemirror_mode": {
    "name": "ipython"
   },
   "file_extension": ".py",
   "mimetype": "text/x-python",
   "name": "python",
   "nbconvert_exporter": "python"
  }
 },
 "nbformat": 4,
 "nbformat_minor": 5
}

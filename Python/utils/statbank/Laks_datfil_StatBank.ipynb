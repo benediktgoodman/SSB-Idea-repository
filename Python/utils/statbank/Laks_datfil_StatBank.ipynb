{
 "cells": [
  {
   "cell_type": "markdown",
   "id": "6748b633-7053-4bf4-b0de-3301ec037e21",
   "metadata": {},
   "source": [
    "# Klargjøre og laste grunnlagsdata til Statistikkbanken"
   ]
  },
  {
   "cell_type": "markdown",
   "id": "33b20e31-b80b-4351-99a0-af700e3219ce",
   "metadata": {},
   "source": [
    "Så langt kan alle seksjoner i SSB publisere til Statistikkbanken ved hjelp av SAS. Nå er det laget en Python funksjon som gjør at vi nå også kan publisere til Statistikkbanken ved hjelp av Python i stedet. I tillegg skal R funksjonen også være operativ igjen. Så SSB har nå muligheten for å publisere til Statistikkbanken i alle programmeringsspråkene våres: SAS, R, og Python.\n",
    "\n",
    "Dette gjør at alle seksjoner i SSB har muligheten til å skrive om lasteprogrammene sine fra SAS til Python som en del av omleggingsfasen til Dapla, samtidig å kunne ta det i bruk i dagens produksjon. Kanskje er det god læring for seksjonene for å bygge kompetanse i Python programmering ved å gå løs på denne type oppgave!\n",
    "\n",
    "Jeg kommer her til å demonstrere hvordan du kan lage datagrunnlaget for en Statistikk vi har i Statistikkbanken, Eksport av Laks, og laste opp data for publisering til Statistikkbanken."
   ]
  },
  {
   "cell_type": "markdown",
   "id": "ca2aac9b-756a-4be6-b70f-ce2f7d5342f3",
   "metadata": {},
   "source": [
    "## Importere moduler"
   ]
  },
  {
   "cell_type": "code",
   "execution_count": null,
   "id": "1a20795c-4fcb-4240-8b3d-b021af5a9c9e",
   "metadata": {},
   "outputs": [],
   "source": [
    "import numpy as np\n",
    "import pandas as pd\n",
    "import getpass\n",
    "import cx_Oracle\n",
    "import os\n",
    "import shutil"
   ]
  },
  {
   "cell_type": "code",
   "execution_count": null,
   "id": "535308f8-4126-4ee2-8606-1e3f21a3e34f",
   "metadata": {},
   "outputs": [],
   "source": [
    "# Hvor står vi nå?\n",
    "os.getcwd()"
   ]
  },
  {
   "cell_type": "markdown",
   "id": "ff9db76e-a68f-45a1-a5a9-424c2b5fb9b9",
   "metadata": {},
   "source": [
    "## .dat-filen, hvordan skal den se ut?"
   ]
  },
  {
   "cell_type": "markdown",
   "id": "554d759c-3dce-4732-99ba-8941ffb7d875",
   "metadata": {},
   "source": [
    "Henter opp og kopierer over en .dat fil som min seksjon har liggende. Kopierer over til mitt arbeidsområde så vi kan se nærmere på hvordan filen ser ut."
   ]
  },
  {
   "cell_type": "code",
   "execution_count": null,
   "id": "a2acd3bc-275c-40cc-b4a3-02d722a3d369",
   "metadata": {},
   "outputs": [],
   "source": [
    "datfil = \"ekslaksuke1.dat\"\n",
    "felles = os.getenv('UTENRIKS') + r\"/c_statbank/wk24\"\n",
    "src_path = felles + os.sep + datfil\n",
    "\n",
    "navn = \"ekslaksuke1test.dat\"\n",
    "hjemme = os.getcwd() + os.sep\n",
    "dst_path = hjemme + navn\n",
    "\n",
    "print(src_path)\n",
    "print(dst_path)"
   ]
  },
  {
   "cell_type": "code",
   "execution_count": null,
   "id": "cc90d404-574e-43df-959b-ef066e6570df",
   "metadata": {},
   "outputs": [],
   "source": [
    "# kopiere filer over til pathen\n",
    "shutil.copyfile(src_path, dst_path)"
   ]
  },
  {
   "cell_type": "markdown",
   "id": "338af1e3-cf10-46fe-ab40-e9596668a8a0",
   "metadata": {},
   "source": [
    "Laster opp dataene fra fila så vi får se nærmere på hvordan det skal se ut. Dette lager hele grunnlaget for hvordan vi må sette opp dataene våres..."
   ]
  },
  {
   "cell_type": "code",
   "execution_count": null,
   "id": "e3ee0b39-6f4c-4f3f-92c1-d490538ff622",
   "metadata": {},
   "outputs": [],
   "source": [
    "test1laks = pd.read_csv(navn, sep=';', header=None)\n",
    "test1laks"
   ]
  },
  {
   "cell_type": "code",
   "execution_count": null,
   "id": "d198a0b2-8600-416c-b0e3-84e5fbb785af",
   "metadata": {},
   "outputs": [],
   "source": [
    "test1laks.dtypes"
   ]
  },
  {
   "cell_type": "markdown",
   "id": "71acb576-c962-42ce-925e-a662676c7511",
   "metadata": {},
   "source": [
    "## Samle inn - Hente grunnlags data fra Oracle databasen"
   ]
  },
  {
   "cell_type": "markdown",
   "id": "a64152ce-8b35-4622-8aa2-32593bc0d16c",
   "metadata": {},
   "source": [
    "Setter opp connection til Oracle databasen. Du blir spurt om Oracle passord her."
   ]
  },
  {
   "cell_type": "code",
   "execution_count": null,
   "id": "48498ec5-4773-43a1-b898-232e48d2bed4",
   "metadata": {},
   "outputs": [],
   "source": [
    "conn = cx_Oracle.connect(getpass.getuser() + \"/\" + getpass.getpass(prompt='Angi oracle-passord for bruker ' + getpass.getuser() + ':')+\"@DB1P\")"
   ]
  },
  {
   "cell_type": "markdown",
   "id": "dca7773c-cc12-4ea1-b0ff-87ddf9b3095c",
   "metadata": {},
   "source": [
    "Setter opp sql spørringen som vi skal sende til Oracle databasen."
   ]
  },
  {
   "cell_type": "code",
   "execution_count": null,
   "id": "26e27932-599e-4f32-9ca2-848a79c9d01b",
   "metadata": {},
   "outputs": [],
   "source": [
    "query = \"\"\"\\\n",
    "SELECT IMPEKS, EKSNR, AAR, LOPENR, LINJENR, UKENR, VARENR, VERDI, VEKT \\\n",
    "FROM UTENRIKSHANDEL.UTH_VARELINJER \\\n",
    "WHERE IMPEKS='2' AND UKENR='202224' \\\n",
    "AND VARENR IN ('03021411','03021419','03031311','03031319')\\\n",
    "\"\"\""
   ]
  },
  {
   "cell_type": "markdown",
   "id": "a31a46b1-d761-4b76-9eeb-39c40bf56e93",
   "metadata": {},
   "source": [
    "Ser om sql spørringen ser fin ut."
   ]
  },
  {
   "cell_type": "code",
   "execution_count": null,
   "id": "48393bba-e99c-405c-b93f-f0f4530c2e07",
   "metadata": {},
   "outputs": [],
   "source": [
    "query"
   ]
  },
  {
   "cell_type": "markdown",
   "id": "3856db9a-136a-4b8a-b538-5a896650023e",
   "metadata": {},
   "source": [
    "Henter dataene fra Oracle databasen, som legges direkte inn i en Dataframe."
   ]
  },
  {
   "cell_type": "code",
   "execution_count": null,
   "id": "d3a3a365-2405-436e-be18-a2c305150fcf",
   "metadata": {},
   "outputs": [],
   "source": [
    "df = pd.read_sql_query(query, conn)\n",
    "\n",
    "df"
   ]
  },
  {
   "cell_type": "markdown",
   "id": "21156114-a236-44d3-be86-a6d6e66fa7d1",
   "metadata": {},
   "source": [
    "Lukker connection til Oracle Databasen."
   ]
  },
  {
   "cell_type": "code",
   "execution_count": null,
   "id": "dfa3c1ad-046d-4bd8-a729-04f559d10fe0",
   "metadata": {},
   "outputs": [],
   "source": [
    "conn.close()"
   ]
  },
  {
   "cell_type": "markdown",
   "id": "03eee42e-1503-4cec-9f37-a306b274c47c",
   "metadata": {},
   "source": [
    "## Klargjøring - Transformering av data"
   ]
  },
  {
   "cell_type": "markdown",
   "id": "ddaa04a7-6bae-4c85-9147-6468e58f5cc6",
   "metadata": {},
   "source": [
    "Jeg har mottatt alle kolonne navnene med store bokstaver, som lager litt ekstra arbeid, så legger disse om til små bokstaver."
   ]
  },
  {
   "cell_type": "code",
   "execution_count": null,
   "id": "d6c2ab2f-7bfc-4f2d-a625-7b945bc24475",
   "metadata": {},
   "outputs": [],
   "source": [
    "df.columns = df.columns.str.lower()\n",
    "df.dtypes"
   ]
  },
  {
   "cell_type": "markdown",
   "id": "7837220e-71e8-4a7f-8f58-010544db84d5",
   "metadata": {},
   "source": [
    "Lager ny variabel type som skal ha to mulige verdier avhengig av verdien i kolonnen varenr. Dette er da en where statement, og fungerer helt likt som i Excel vel og merke... Variabelen type er noe Statistikkbanken forventer, som viste seg da vi leste inn .dat filen første gang."
   ]
  },
  {
   "cell_type": "code",
   "execution_count": null,
   "id": "408d232d-da89-41c8-8c44-aed0ca16dbdf",
   "metadata": {},
   "outputs": [],
   "source": [
    "df['type'] = np.where(df.varenr == '03021411', '01', np.where(df.varenr == '03021419', '01', '02'))\n",
    "df"
   ]
  },
  {
   "cell_type": "markdown",
   "id": "b04678aa-623a-44cc-a648-0ddea6d0fbd0",
   "metadata": {},
   "source": [
    "Summerer opp til aggregatene type og ukenr. De kolonnene som enten er Float eller Int vil bli summert opp."
   ]
  },
  {
   "cell_type": "code",
   "execution_count": null,
   "id": "9511e5fd-5d9a-4b11-bd79-d58f86b2e50c",
   "metadata": {},
   "outputs": [],
   "source": [
    "laks = df.groupby(['type', 'ukenr']).sum().reset_index()\n",
    "laks"
   ]
  },
  {
   "cell_type": "markdown",
   "id": "61ecf382-b734-4808-8647-28d595e6d5f3",
   "metadata": {},
   "source": [
    "Greit å sjekke datatypene i kolonnene løpende i ny og ne..."
   ]
  },
  {
   "cell_type": "code",
   "execution_count": null,
   "id": "feadadba-e1e2-4a57-a44a-adba2bf1b9d1",
   "metadata": {},
   "outputs": [],
   "source": [
    "laks.dtypes"
   ]
  },
  {
   "cell_type": "markdown",
   "id": "101cda7a-e789-445e-93d8-2d1ddee6eb9e",
   "metadata": {},
   "source": [
    "Justerer verdiene i kolonnen Ukenr så det passer med det Statistikkbanken skal ha."
   ]
  },
  {
   "cell_type": "code",
   "execution_count": null,
   "id": "f4f6d7c9-da37-407c-a1c8-db52993e8f8d",
   "metadata": {},
   "outputs": [],
   "source": [
    "laks['ukenr'] = laks.ukenr[0][:4] + 'U' + laks.ukenr[0][-2:]\n",
    "laks"
   ]
  },
  {
   "cell_type": "markdown",
   "id": "860450d3-0815-4617-acc8-9c1107cd84b3",
   "metadata": {},
   "source": [
    "Lager prisen per kilo for laksen. Må ha 2 desimaler."
   ]
  },
  {
   "cell_type": "code",
   "execution_count": null,
   "id": "88c41cf0-1252-46a1-8db3-7f7d0b644336",
   "metadata": {},
   "outputs": [],
   "source": [
    "laks['pkg'] = laks.verdi.div(laks.vekt).round(2)\n",
    "laks"
   ]
  },
  {
   "cell_type": "markdown",
   "id": "71a204be-06a8-450d-9cf9-b272d0ae7cd4",
   "metadata": {},
   "source": [
    "Gjør om verdiene i kolonnen vekt fra kilo til tonn. Skal ikke ha noen desimaler."
   ]
  },
  {
   "cell_type": "code",
   "execution_count": null,
   "id": "b8d5f02d-a3dd-4749-b1cb-f8e7308493cb",
   "metadata": {},
   "outputs": [],
   "source": [
    "laks.vekt = laks.vekt.div(1000).round(0).astype(int)\n",
    "laks"
   ]
  },
  {
   "cell_type": "markdown",
   "id": "208d59fe-77d2-450f-bec1-2120558e67b1",
   "metadata": {},
   "source": [
    "Da trenger vi ikke variabelen verdi lenger, så da kan vi slette denne."
   ]
  },
  {
   "cell_type": "code",
   "execution_count": null,
   "id": "64ed2c9b-360d-4d6d-bb8a-640a9e4355a2",
   "metadata": {},
   "outputs": [],
   "source": [
    "del laks[\"verdi\"]\n",
    "laks"
   ]
  },
  {
   "cell_type": "markdown",
   "id": "b4bbb22d-2373-4baa-b434-7a9efc1d0013",
   "metadata": {},
   "source": [
    "Pandas opererer med punktum i stede for komma, og Statistikkbanken forventer komma. Gjør derfor alle variablene i dataframen om til strings."
   ]
  },
  {
   "cell_type": "code",
   "execution_count": null,
   "id": "21992d1c-158b-4517-823f-82a780ee11ee",
   "metadata": {},
   "outputs": [],
   "source": [
    "for col in laks.columns:\n",
    "    laks[col] = laks[col].astype(str)"
   ]
  },
  {
   "cell_type": "code",
   "execution_count": null,
   "id": "795eb381-e84c-44b3-bef5-c3a600fafc97",
   "metadata": {},
   "outputs": [],
   "source": [
    "laks.dtypes"
   ]
  },
  {
   "cell_type": "markdown",
   "id": "da60ec03-a35f-466c-8188-8c3647fdfcde",
   "metadata": {},
   "source": [
    "ok, og så endrer jeg fra punktum til komma."
   ]
  },
  {
   "cell_type": "code",
   "execution_count": null,
   "id": "bc968f06-67c9-4a1f-8388-123f90a3c57f",
   "metadata": {},
   "outputs": [],
   "source": [
    "laks = laks.stack().str.replace('.',',').unstack()\n",
    "laks"
   ]
  },
  {
   "cell_type": "markdown",
   "id": "84f65612-b971-4f2d-82cc-8766f572d3d7",
   "metadata": {},
   "source": [
    "Og da er dataene slik vi ønsker det!"
   ]
  },
  {
   "cell_type": "markdown",
   "id": "e30580c4-ceaf-4d53-8202-33eb1aa29514",
   "metadata": {},
   "source": [
    "## Lagre data som .dat-fil"
   ]
  },
  {
   "cell_type": "markdown",
   "id": "388f8843-a917-4fae-bda7-d9271cbc37bb",
   "metadata": {},
   "source": [
    "For å lagre dataene i dataframen til en .dat fil kan vi benytte pandas sine metoder for hvordan den prosesserer csv filer. Dataene i .dat fila skilles kun med semikolon. Skal også ikke være noen overskrifts rad, og indexen fra dataframen vil vi ikke ha med inn i filen."
   ]
  },
  {
   "cell_type": "code",
   "execution_count": null,
   "id": "1dfc4176-5441-46b3-b268-7422731806cb",
   "metadata": {},
   "outputs": [],
   "source": [
    "datfile = \"ekslaksuke1.dat\"\n",
    "laks.to_csv(datfile, sep=';', header=False, decimal=',', index=False)"
   ]
  },
  {
   "cell_type": "markdown",
   "id": "e3dce316-cc66-4298-9e6c-c33e451e627d",
   "metadata": {},
   "source": [
    "Leser filen inn igjen for å se om vi får det samme resultatet med .dat filen vi hadde fra før og den vi nettopp lagde."
   ]
  },
  {
   "cell_type": "code",
   "execution_count": null,
   "id": "8c665f0a-0684-475b-8195-bfb6d77a3395",
   "metadata": {},
   "outputs": [],
   "source": [
    "test1laks = pd.read_csv(datfile, sep=';', header=None)\n",
    "test1laks"
   ]
  },
  {
   "cell_type": "code",
   "execution_count": null,
   "id": "f33310b7-3159-4e9f-bb63-6a402ee2ffac",
   "metadata": {},
   "outputs": [],
   "source": [
    "test1laks.dtypes"
   ]
  },
  {
   "cell_type": "code",
   "execution_count": null,
   "id": "b14d310e-5fc8-44a8-acb4-0ac97ffd160d",
   "metadata": {},
   "outputs": [],
   "source": [
    "test2laks = pd.read_csv(navn, sep=';', header=None)\n",
    "test2laks"
   ]
  },
  {
   "cell_type": "code",
   "execution_count": null,
   "id": "01d08725-07b6-417f-90a3-77126289892a",
   "metadata": {},
   "outputs": [],
   "source": [
    "test2laks.dtypes"
   ]
  },
  {
   "cell_type": "markdown",
   "id": "702c8e38-a020-430f-a50d-f146a2e2da5b",
   "metadata": {},
   "source": [
    "OK, da er vi klare for å laste opp denne filen til Statistikkbanken!"
   ]
  },
  {
   "cell_type": "markdown",
   "id": "5d753fcc-cb19-4f55-8688-77dc6c904365",
   "metadata": {},
   "source": [
    "## Publisere til Statistikkbanken"
   ]
  },
  {
   "cell_type": "markdown",
   "id": "d9735907-83ad-4514-8886-3449e21dbf68",
   "metadata": {},
   "source": [
    "En funksjon er lagd og lagt på felles området på Linux i SSB som vi kan benytte. Det er også lagt opp til at Python leter etter pakker/moduler/biblioteker i denne fellesmappen også, slik at vi kan importere den som en eller vanlig modul."
   ]
  },
  {
   "cell_type": "code",
   "execution_count": null,
   "id": "8a1de23d-0f44-4222-a0f9-e10be0d42420",
   "metadata": {},
   "outputs": [],
   "source": [
    "from statbankpy import statbank_lasting"
   ]
  },
  {
   "cell_type": "markdown",
   "id": "b111a6cd-4c7b-49ae-9779-4f90681e15ed",
   "metadata": {},
   "source": [
    "For nærmere beskrivelse av funksjonen:"
   ]
  },
  {
   "cell_type": "code",
   "execution_count": null,
   "id": "37f8728c-b0fc-4bb6-8607-580cbd35988e",
   "metadata": {},
   "outputs": [],
   "source": [
    "help(statbank_lasting)"
   ]
  },
  {
   "cell_type": "markdown",
   "id": "172e4486-1c9e-4706-bc98-4cbcaf29a788",
   "metadata": {},
   "source": [
    "I dette tilfelle må vi sende inn 5 inputs til funksjonen. Filnavn og filsti har vi fra før, men vi må også sende inn publiseringsdatoen, lastebrukeren for seksjonen det gjelder, og tabellnavn som filene skal lastes opp til."
   ]
  },
  {
   "cell_type": "code",
   "execution_count": null,
   "id": "c6acf006-8c6d-48d5-a6df-fe6fe2e82e3b",
   "metadata": {},
   "outputs": [],
   "source": [
    "pubdato = \"20220628\" #OBS! skriv i formatet YYYYMMDD, funksjonen vil rette opp deretter til korrekt format.\n",
    "laste_bruker = \"LAST214\"\n",
    "lakstab = \"EksLaksUke\"\n",
    "\n",
    "print(\"Publinseringsdato som er satt: \" + pubdato)\n",
    "print(\"Lastebruker: \" + laste_bruker)\n",
    "print(\"Tabell vi skal laste opp til: \" + lakstab)\n",
    "print(\"Filstien hvor .dat-fila ligger: \" + hjemme)\n",
    "print(\"Filnavnet til .dat-fila: \" + datfile)"
   ]
  },
  {
   "cell_type": "code",
   "execution_count": null,
   "id": "98f57bf2-498c-4586-97c1-038e075769fa",
   "metadata": {},
   "outputs": [],
   "source": [
    "statbank_lasting(pdato=pubdato,\n",
    "                 luser=laste_bruker,\n",
    "                 tab=lakstab,\n",
    "                 filsti=hjemme,\n",
    "                 fil=datfile)"
   ]
  },
  {
   "cell_type": "markdown",
   "id": "169adabe-ac87-4f04-9295-b81c64aaf427",
   "metadata": {},
   "source": [
    "Det vil bli printet ut løpende fra funksjonen om hvordan lastingen gikk, slik de fleste i SSB er vant med å få fra SAS."
   ]
  },
  {
   "cell_type": "code",
   "execution_count": null,
   "id": "a7ad5635-df17-4dd2-a3a9-4c60ba68ac1b",
   "metadata": {},
   "outputs": [],
   "source": []
  }
 ],
 "metadata": {
  "language_info": {
   "codemirror_mode": {
    "name": "ipython"
   },
   "file_extension": ".py",
   "mimetype": "text/x-python",
   "name": "python",
   "nbconvert_exporter": "python"
  }
 },
 "nbformat": 4,
 "nbformat_minor": 5
}

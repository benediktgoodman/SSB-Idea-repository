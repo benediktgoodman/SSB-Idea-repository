{
 "cells": [
  {
   "cell_type": "code",
   "execution_count": null,
   "metadata": {},
   "outputs": [],
   "source": [
    "from pyjstat import pyjstat\n",
    "import requests\n",
    "import pandas as pd\n",
    "import json\n",
    "import ipywidgets as widgets"
   ]
  },
  {
   "cell_type": "markdown",
   "metadata": {},
   "source": [
    "### 08531: Medlemmer i trus- og livssynssamfunn som mottek offentleg stønad og er utanfor Den norske kyrkja, etter religion/livssyn (F)\n",
    "https://www.ssb.no/statbank/table/08531/\n",
    "\n",
    "Dette notebooket henter data fra statbanken, kobler mot korrespondansetabell fra KLASS, for å kompansere for fylkes-sammenslåinger i 2017+2019.\\\n",
    "Arket resulterer i en interaktiv graf ved bruk av ipywidgets + matplotlib (innebygd i pandas)"
   ]
  },
  {
   "cell_type": "markdown",
   "metadata": {},
   "source": [
    "### Hent data fra statbanken"
   ]
  },
  {
   "cell_type": "code",
   "execution_count": null,
   "metadata": {},
   "outputs": [],
   "source": [
    "URL = 'http://data.ssb.no/api/v0/no/table/08531'"
   ]
  },
  {
   "cell_type": "code",
   "execution_count": null,
   "metadata": {},
   "outputs": [],
   "source": [
    "payload = {\n",
    "  \"query\": [\n",
    "    {\n",
    "      \"code\": \"Region\",\n",
    "      \"selection\": {\n",
    "        \"filter\": \"vs:Fylker\",\n",
    "        \"values\": [\n",
    "          \"30\",\n",
    "          \"01\",\n",
    "          \"02\",\n",
    "          \"06\",\n",
    "          \"03\",\n",
    "          \"34\",\n",
    "          \"04\",\n",
    "          \"05\",\n",
    "          \"38\",\n",
    "          \"07\",\n",
    "          \"08\",\n",
    "          \"42\",\n",
    "          \"09\",\n",
    "          \"10\",\n",
    "          \"11\",\n",
    "          \"46\",\n",
    "          \"12\",\n",
    "          \"13\",\n",
    "          \"14\",\n",
    "          \"15\",\n",
    "          \"50\",\n",
    "          \"16\",\n",
    "          \"17\",\n",
    "          \"18\",\n",
    "          \"54\",\n",
    "          \"19\",\n",
    "          \"20\",\n",
    "          \"21\",\n",
    "          \"22\",\n",
    "          \"23\",\n",
    "          \"25\",\n",
    "          \"26\",\n",
    "          \"88\",\n",
    "          \"99\"\n",
    "        ]\n",
    "      }\n",
    "    },\n",
    "    {\n",
    "      \"code\": \"ReligionLivs\",\n",
    "      \"selection\": {\n",
    "        \"filter\": \"item\",\n",
    "        \"values\": [\n",
    "          \"999\",\n",
    "          \"200\",\n",
    "          \"400\",\n",
    "          \"600\",\n",
    "          \"902\",\n",
    "          \"900\"\n",
    "        ]\n",
    "      }\n",
    "    }\n",
    "  ],\n",
    "  \"response\": {\n",
    "    \"format\": \"json-stat2\"\n",
    "  }\n",
    "}"
   ]
  },
  {
   "cell_type": "code",
   "execution_count": null,
   "metadata": {},
   "outputs": [],
   "source": [
    "# Hent data fra statistikkbanken\n",
    "resultat = requests.post(URL, json = payload)\n",
    "# Les resultatet som ett pyjstat-class-objekt\n",
    "dataset = pyjstat.Dataset.read(resultat.text)\n",
    "# Skriv \"hovedresultat\" til en dataframe\n",
    "df = dataset.write('dataframe')\n",
    "df"
   ]
  },
  {
   "cell_type": "markdown",
   "metadata": {},
   "source": [
    "### Fest på fylkeskode på hovedresultat"
   ]
  },
  {
   "cell_type": "code",
   "execution_count": null,
   "metadata": {},
   "outputs": [],
   "source": [
    "# Hent og sett regionkoder inn i en dataframe\n",
    "\n",
    "### Gammel kode fra video, endret etter tilbakemelding fra Jan Bruusgaard\n",
    "#regionkode_dict = dict(dataset.get('dimension').get('Region').get('category').get('label'))\n",
    "#df_regionkode = pd.DataFrame(regionkode_dict.items(), columns=['fylkekode', 'region'])  \n",
    "# Koble koder på regioner i hoveddataframe utifra regionnavn\n",
    "#df = df.merge(df_regionkode, on = 'region' , how = 'left')\n",
    "\n",
    "# Ny kode for å gjøre det samme, etter tilbakemelding fra Jan Bruusgaard\n",
    "df_regionkode = dataset.write('dataframe', naming='id')\n",
    "df['fylkekode'] = df_regionkode['Region']"
   ]
  },
  {
   "cell_type": "markdown",
   "metadata": {},
   "source": [
    "### Litt opprydding"
   ]
  },
  {
   "cell_type": "code",
   "execution_count": null,
   "metadata": {},
   "outputs": [],
   "source": [
    "# Dropp kolonnen som er lik på hver linje\n",
    "df.drop('statistikkvariabel', axis = \"columns\", inplace = True)\n",
    "# Kutt ut oppsummeringsvariabelen\n",
    "df = df[~df['religion/livssyn'].isin(['Medlemmer i alt'])]\n",
    "# Døp om kolonner\n",
    "df.columns = ['fylke', 'religion', 'aar', 'value', 'fylkekode']\n",
    "# Konverter value (antall medlemmer) til int\n",
    "df['value'] = df['value'].fillna(0)\n",
    "df['value'] = df['value'].astype(int)\n",
    "df"
   ]
  },
  {
   "cell_type": "markdown",
   "metadata": {},
   "source": [
    "### Importer korrespondansetabell 2019"
   ]
  },
  {
   "cell_type": "code",
   "execution_count": null,
   "metadata": {},
   "outputs": [],
   "source": [
    "# Hent korrespondansetabell\n",
    "URL = \"http://data.ssb.no/api/klass/v1/correspondencetables/452.json\"\n",
    "r = requests.get(URL)\n",
    "# Tolk responsen som json\n",
    "df_corr = json.loads(r.text)\n",
    "# Hent ut kun korrespondansene\n",
    "corr_maps = df_corr['correspondenceMaps']"
   ]
  },
  {
   "cell_type": "markdown",
   "metadata": {},
   "source": [
    "### Importer korrespondansetabell 2018/2017 (Trøndelag)"
   ]
  },
  {
   "cell_type": "code",
   "execution_count": null,
   "metadata": {},
   "outputs": [],
   "source": [
    "# Hent korrespondansetabell\n",
    "URL = \"http://data.ssb.no/api/klass/v1/correspondencetables/588.json\"\n",
    "r = requests.get(URL)\n",
    "# Tolk responsen som json\n",
    "df_corr_tron = json.loads(r.text)\n",
    "# Hent ut kun korrespondansene\n",
    "corr_maps_tron = df_corr_tron['correspondenceMaps']\n",
    "\n",
    "# Kombiner med eksisterende korrespondansetabell\n",
    "corr_maps += corr_maps_tron\n",
    "corr_maps"
   ]
  },
  {
   "cell_type": "markdown",
   "metadata": {},
   "source": [
    "### Kombiner tall fra de kombinerte fylkene ift. korrespondansetabellene"
   ]
  },
  {
   "cell_type": "code",
   "execution_count": null,
   "metadata": {},
   "outputs": [],
   "source": [
    "# Funksjon for å finne en korrespondanse\n",
    "def get_corr(code, src, tar):\n",
    "    output = []\n",
    "    for item in corr_maps:\n",
    "        if item[src] == code:\n",
    "            output.append(item[tar])\n",
    "    # Vi går innom ett \"set\" for å fjerne duplikater i returnen, \n",
    "    # f.eks. når vi finner koden til \"Viken\" trenger vi ikke få \"30\" tre ganger\n",
    "    return list(set(output))"
   ]
  },
  {
   "cell_type": "code",
   "execution_count": null,
   "metadata": {},
   "outputs": [],
   "source": [
    "# Finn de unike source-idene (sammenslåtte fylker)\n",
    "sammenslaatt_fylk = []\n",
    "for item in corr_maps:\n",
    "    sammenslaatt_fylk.append(item['sourceCode'])\n",
    "sammenslaatt_fylk = list(set(sammenslaatt_fylk))\n",
    "\n",
    "# Lag ett dictionary for koblingen mellom fylkene\n",
    "fylk_kobl = {}\n",
    "for fylk in sammenslaatt_fylk:\n",
    "    fylk_kobl[fylk] = get_corr(fylk, 'sourceCode', 'targetCode')\n",
    "    \n",
    "fylk_kobl"
   ]
  },
  {
   "cell_type": "code",
   "execution_count": null,
   "metadata": {},
   "outputs": [],
   "source": [
    "print('Fylkene som ligger i gjeldende fylkesinndeling')\n",
    "r = requests.get('http://data.ssb.no/api/klass/v1/versions/1158')\n",
    "gjeldende = r.text\n",
    "gjeldende = r.content.decode('utf8').replace(\"'\", '\"')\n",
    "gjeldende = json.loads(gjeldende)\n",
    "gjeldende = pd.json_normalize(gjeldende['classificationItems'])\n",
    "\n",
    "gjeld_fylk = list(gjeldende['name'])\n",
    "gjeld_fylk"
   ]
  },
  {
   "cell_type": "code",
   "execution_count": null,
   "metadata": {},
   "outputs": [],
   "source": [
    "# Lag en liste av alle fylkeskodene som skal kobles inn i andre\n",
    "kobleliste = [item for sublist in fylk_kobl.values() for item in sublist]\n",
    "kobler = []\n",
    "mangler = []\n",
    "\n",
    "# For hvert fylke, sjekk om den ligger i den gjeldende fylkesinndelingen\n",
    "for fylk_kode in pd.unique(df[~df['fylkekode'].isin(list(gjeldende['code']))]['fylkekode']):\n",
    "    # For de som ikke ligger der, sjekk om de skal kobles som ett \"barn\"\n",
    "    if fylk_kode in kobleliste:\n",
    "        kobler.append(fylk_kode)\n",
    "    else: \n",
    "        # Disse er da hverken ett gjeldende fylke, eller noe som vil kobles inn i de gjeldende fylkene\n",
    "        mangler.append(fylk_kode)    \n",
    "\n",
    "# Om mangler-listen ikke er tom\n",
    "if mangler:\n",
    "    print('Fylkene i trossamfil som ikke er i gjeldende fylkesinndeling og ikke vil kobles\\n')\n",
    "    for code in mangler:\n",
    "        #print(code)\n",
    "        print(df_regionkode[df_regionkode['fylkekode'] == code]['region'].values[0])\n",
    "    print('\\n')\n",
    "\n",
    "# Om kobler-listen ikke er tom\n",
    "if kobler:\n",
    "    print('Fylkene i trossamfil som ikke er i gjeldende fylkesinndeling, men som vil kobles\\n')\n",
    "    for code in kobler:\n",
    "        print(df_regionkode[df_regionkode['fylkekode'] == code]['region'].values[0])\n",
    "        "
   ]
  },
  {
   "cell_type": "code",
   "execution_count": null,
   "metadata": {},
   "outputs": [],
   "source": [
    "# Koden i cellen under gir masse warnings, men fungerer for det, vi skrur derfor av warnings her frem til dette er gjennomgått\n",
    "pd.set_option('mode.chained_assignment', None)"
   ]
  },
  {
   "cell_type": "code",
   "execution_count": null,
   "metadata": {},
   "outputs": [],
   "source": [
    "# Loop gjennom dictionariet, og om summen er null på linjen, legg inn fra targets/kildefylker\n",
    "for source, targets in fylk_kobl.items():\n",
    "    # Finner linjer som har fylket vi ser på\n",
    "    interest = df[df['fylkekode'] == source]\n",
    "    # Og hvor verdien er null\n",
    "    interest = interest[interest['value'] == 0]\n",
    "    \n",
    "    # Gå gjennom hver rad av dette\n",
    "    for i, row in interest.iterrows():\n",
    "        value_new = 0\n",
    "        # Gå gjennom hver av de koblede fylkene og legg sammen verdien for året og religionen\n",
    "        for target in targets:\n",
    "           \n",
    "\n",
    "            # Legg verdien fra kildefylket til det korresponderende fylket\n",
    "            select = df[\n",
    "                    (df['aar'] == row['aar']) & \n",
    "                    (df['religion'] == row['religion']) & \n",
    "                    (df['fylkekode'] == target) &\n",
    "                    (df['value'] > 0)]\n",
    "            if len(select) == 1:\n",
    "                value_new += float(select['value'])\n",
    "            else:\n",
    "                print('\\nSELECTION')\n",
    "                print(select)\n",
    "                print('*'*85)\n",
    "                print('\\nKILDERAD')\n",
    "                print(row)\n",
    "                print('*'*85)\n",
    "                print('\\nDATASETT PÅ MATCH')\n",
    "                print(target)\n",
    "                print(df[df['fylkekode'] == target])\n",
    "                raise ValueError('Denne selectionen er ikke 1-rad lang, eller ett annet issue')\n",
    "                \n",
    "        df.loc[(df['fylkekode'] == source) & (df['religion'] == row['religion']) & (df['aar'] == row['aar']), 'value'] = value_new\n",
    "        \n",
    "df"
   ]
  },
  {
   "cell_type": "code",
   "execution_count": null,
   "metadata": {},
   "outputs": [],
   "source": [
    "# Så skrur vi på warnings igjen\n",
    "pd.set_option('mode.chained_assignment', 'warn')"
   ]
  },
  {
   "cell_type": "code",
   "execution_count": null,
   "metadata": {},
   "outputs": [],
   "source": [
    "# Ekstra sjekk på hva som skjer med Trøndelag i overgangen 2015-2019\n",
    "df_tron = df[df['fylkekode'] == \"50\"]\n",
    "df_tron = df_tron.pivot('aar', 'religion', 'value')\n",
    "df_tron.plot.area(figsize = (15,10), title = 'Trøndelag')"
   ]
  },
  {
   "cell_type": "code",
   "execution_count": null,
   "metadata": {},
   "outputs": [],
   "source": [
    "# Ekstra sjekk på hva som skjer med Troms-Finnmark i overgangen 2015-2019\n",
    "df_finn = df[df['fylkekode'] == '54']\n",
    "df_finn = df_finn.pivot('aar', 'religion', 'value')\n",
    "df_finn.plot.area(figsize = (15,10), title = 'Troms og Finnmark')"
   ]
  },
  {
   "cell_type": "markdown",
   "metadata": {},
   "source": [
    "## Behold bare fylkene som finnes i fylkesinndelingen"
   ]
  },
  {
   "cell_type": "code",
   "execution_count": null,
   "metadata": {},
   "outputs": [],
   "source": [
    "df = df[df['fylkekode'].isin(gjeldende['code'])]"
   ]
  },
  {
   "cell_type": "code",
   "execution_count": null,
   "metadata": {},
   "outputs": [],
   "source": [
    "# Sjekk om det er noen fylker som mangler ift. fylkesinndelingen\n",
    "for fylk in gjeldende['code']:\n",
    "    if fylk not in list(pd.unique(df['fylkekode'])):\n",
    "        print(f'{fylk} - Finnes i fylkesinndelingen, men ligger ikke i datasettet')"
   ]
  },
  {
   "cell_type": "markdown",
   "metadata": {},
   "source": [
    "# Interaktiv graf med ipywidgets"
   ]
  },
  {
   "cell_type": "code",
   "execution_count": null,
   "metadata": {},
   "outputs": [],
   "source": [
    "# Sorteringsrekkefølge for religioner etter størrelser på landsbasis (alle fylker) i siste året i datasettet\n",
    "df_thisyr = df[df['aar'] == df['aar'].max()]\n",
    "df_thisyr = df_thisyr.groupby('religion').sum().reset_index()\n",
    "df_thisyr = df_thisyr.sort_values('value', ascending = False).reset_index()\n",
    "df_thisyr"
   ]
  },
  {
   "cell_type": "code",
   "execution_count": null,
   "metadata": {},
   "outputs": [],
   "source": [
    "# Fylkesdropdown\n",
    "fylker = list(pd.unique(df['fylke']))\n",
    "fylker.sort()\n",
    "default = '-Velg Fylke-'\n",
    "fylker.insert(0, default)\n",
    "\n",
    "drop = widgets.Dropdown(\n",
    "    options= fylker,\n",
    "    value=fylker[0],\n",
    "    description='Fylke:',\n",
    "    disabled=False,\n",
    ")\n",
    "\n",
    "# Religion dropdown\n",
    "relg = list(pd.unique(df['religion']))\n",
    "relg.sort()\n",
    "relg_default = '-Velg Organisasjon-'\n",
    "relg.insert(0, relg_default)\n",
    "\n",
    "drop_relg = widgets.Dropdown(\n",
    "    options= relg,\n",
    "    value=relg[0],\n",
    "    description='Organisasjon:',\n",
    "    disabled=False,\n",
    ")\n",
    "\n",
    "# Årsslider\n",
    "min_aar = df['aar'].min()\n",
    "max_aar = df['aar'].max()\n",
    "\n",
    "rang = widgets.IntRangeSlider(\n",
    "    value=[min_aar, max_aar],\n",
    "    min= min_aar ,\n",
    "    max= max_aar,\n",
    "    step=1,\n",
    "    description='År:',\n",
    "    disabled=False,\n",
    "    orientation='horizontal',\n",
    "    readout=True,\n",
    "    readout_format='d',\n",
    ")\n",
    "\n",
    "\n",
    "# Update handler\n",
    "def f(drop, relg, rang):    \n",
    "    \n",
    "    \n",
    "    # Ta ny kopi av datasett\n",
    "    df_tmp = df\n",
    "    \n",
    "    # Filtrer fylker\n",
    "    if drop != default:\n",
    "        df_tmp = df_tmp[df_tmp['fylke'] == drop]       \n",
    "    \n",
    "    # Filtrer organisasjon\n",
    "    if relg != relg_default:\n",
    "        df_tmp = df_tmp[df_tmp['religion'] == relg]\n",
    "    \n",
    "    # Filtrer år\n",
    "    if str(rang[0]) != min_aar or str(rang[1]) != max_aar:\n",
    "        df_tmp = df_tmp[(df_tmp['aar'].astype(int) >= int(rang[0])) & (df_tmp['aar'].astype(int) <= int(rang[1]))]\n",
    "     \n",
    "    # Grafen blir for komplisert om ingen valg er valgt, \n",
    "    # så vi forutsetter at man velger fylke eller organisasjon for å få se noe\n",
    "    \n",
    "    if drop != default or relg != relg_default:\n",
    "        # Om man har valgt fylke, så bør religion være grupperingen\n",
    "        if drop != default and relg == relg_default:\n",
    "            print('Bruker religion som gruppering')\n",
    "            df_tmp_piv = df_tmp.pivot('aar', 'religion', 'value')\n",
    "            #print(df_tmp_piv)\n",
    "            df_tmp_piv = df_tmp_piv[list(df_thisyr['religion'])]\n",
    "        # Om man ikke har valgt organisasjon, så bør organisasjonene være grupperingene\n",
    "        elif relg != relg_default and drop == default:\n",
    "            print('Bruker fylke som gruppering')\n",
    "            df_tmp_piv = df_tmp.pivot('aar', 'fylke', 'value')\n",
    "        # Ellers har man valgt en av hver, og da er ikke grupperinger nødvendig\n",
    "        else:\n",
    "            print('Det vil bare være en gruppering')\n",
    "            df_tmp_piv = df_tmp.pivot('aar', 'fylke', 'value')\n",
    "    \n",
    "        # Graf output\n",
    "        df_tmp_piv.plot.area(figsize = (15,10))\n",
    "        #print(df_tmp)\n",
    "            \n",
    "    else:\n",
    "        print('Velg fylke eller organisasjon for å vise graf.')\n",
    "    \n",
    "\n",
    "# Koble output\n",
    "out = widgets.interactive_output(f, {'drop': drop, 'relg': drop_relg, 'rang': rang})\n",
    "\n",
    "# Launch layout\n",
    "widgets.VBox([widgets.HBox([drop, drop_relg, rang]), out])"
   ]
  },
  {
   "cell_type": "code",
   "execution_count": null,
   "metadata": {},
   "outputs": [],
   "source": []
  }
 ],
 "metadata": {
  "language_info": {
   "codemirror_mode": {
    "name": "ipython"
   },
   "file_extension": ".py",
   "mimetype": "text/x-python",
   "name": "python",
   "nbconvert_exporter": "python"
  }
 },
 "nbformat": 4,
 "nbformat_minor": 4
}

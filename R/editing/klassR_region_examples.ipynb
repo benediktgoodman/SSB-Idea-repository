{
 "cells": [
  {
   "cell_type": "markdown",
   "metadata": {},
   "source": [
    "# KLASS og bruk av R\n",
    "**Eksempler på bruk av klassR-tilleggspakke i forbindelse med regionreform**\n",
    "\n",
    "SSB har utviklet en R-tilleggspakke som heter klassR som gjøre det lettere å hente klassifikasjoner og kodelister fra KLASS inn til R. Dette er en gratis tilleggspakke som er tilgjengelig for installasjon fra [CRAN](https://cran.r-project.org/web/packages/klassR/index.html) og [github](https://github.com/statisticsnorway/klassR). \n",
    "Først kalles pakken til bruk ved"
   ]
  },
  {
   "cell_type": "code",
   "execution_count": null,
   "metadata": {},
   "outputs": [],
   "source": [
    "library(klassR)"
   ]
  },
  {
   "cell_type": "markdown",
   "metadata": {},
   "source": [
    "## Søk i KLASS\n",
    "For å søke i KLASS finnes det en funksjon `SearchKlass()`"
   ]
  },
  {
   "cell_type": "code",
   "execution_count": null,
   "metadata": {},
   "outputs": [],
   "source": [
    "SearchKlass(\"kommune\", size = 5)"
   ]
  },
  {
   "cell_type": "markdown",
   "metadata": {},
   "source": [
    "## Hent en klassifikasjon\n",
    "Klassifikasjoner og kodelister kan hentes ved funksjonen `GetKlass()`. Du trenger kun klassifikasjonsnummer for å hente en klassifikasjon.\n"
   ]
  },
  {
   "cell_type": "code",
   "execution_count": null,
   "metadata": {},
   "outputs": [],
   "source": [
    "kommune_klass <- GetKlass(131)\n",
    "head(kommune_klass)"
   ]
  },
  {
   "cell_type": "markdown",
   "metadata": {},
   "source": [
    "## Hent klassifikasjon på en bestemt dato\n",
    "Klassifikasjoner endrer seg over tid. For å hente en eldre klassifikasjon kan du spesifisere dato ved `date =` parameter."
   ]
  },
  {
   "cell_type": "code",
   "execution_count": null,
   "metadata": {},
   "outputs": [],
   "source": [
    "kommune_klass <- GetKlass(131, date = \"2018-01-01\")\n",
    "head(kommune_klass)"
   ]
  },
  {
   "cell_type": "markdown",
   "metadata": {},
   "source": [
    "## Hent endringer i en klassifikasjon\n",
    "Det er også mulig å hente endringer mellom to tidspunkter. For å gjøre dette må du skrive to datoer som en vektor ved `date =` parameter og `correspond = TRUE`. "
   ]
  },
  {
   "cell_type": "code",
   "execution_count": null,
   "metadata": {},
   "outputs": [],
   "source": [
    "kommune_endringer <- GetKlass(131, date = c(\"2018-01-01\", \"2020-01-01\"), correspond = TRUE)\n",
    "head(kommune_endringer)"
   ]
  },
  {
   "cell_type": "markdown",
   "metadata": {},
   "source": [
    "## Bruk en klassifikasjon\n",
    "Vi er ikke alltid interessert i å hente hele klassifikasjoner, men å bruke det på en vektor. For eksempel å hente navnet på en klassifikasjon til en variabel i et datasett. Da kan vi bruke funksjonen `ApplyKlass()`.\n",
    "Her er et eksempel på å lage et lite datasett som inneholder kommunenummer og befolkningstall.\n"
   ]
  },
  {
   "cell_type": "code",
   "execution_count": null,
   "metadata": {},
   "outputs": [],
   "source": [
    "dataset <- data.frame(Region = c(\"0101\", \"0104\", \"0105\", \"0106\", \"0111\"), \n",
    "                      Tid = c(2018, 2018, 2018, 2018, 2018),\n",
    "                      Befolkning = c(31037, 32588, 55543, 80977, 4540))\n",
    "dataset"
   ]
  },
  {
   "cell_type": "code",
   "execution_count": null,
   "metadata": {},
   "outputs": [],
   "source": [
    "dataset$Region_navn <- ApplyKlass(dataset$Region, klass = 131, date = \"2018-01-01\")\n",
    "dataset"
   ]
  },
  {
   "cell_type": "markdown",
   "metadata": {},
   "source": [
    "## Oppdatere kommunekoder\n",
    "Mange kommuner har endret kodene ved regionreformen det siste året. Vi kan hente kodene for et annet tidspunkt ved å bruke to datoer som tidligere, `correspond = TRUE` og spesifisering av `output = \"code\"` for de nye kodene eller `output = \"name\"` for de nye kommunenavnene.\n"
   ]
  },
  {
   "cell_type": "code",
   "execution_count": null,
   "metadata": {},
   "outputs": [],
   "source": [
    "dataset$Region_ny <- ApplyKlass(dataset$Region, klass = 131, \n",
    "                              date = c(\"2018-01-01\", \"2020-01-01\"),\n",
    "                              correspond = TRUE,\n",
    "                              output = \"code\")       \n",
    "dataset"
   ]
  },
  {
   "cell_type": "markdown",
   "metadata": {},
   "source": [
    "## Hent ut fylke\n",
    "Vi kan også hente ut fylke for vår kommunevariabel. For å gjøre dette trenger vi å vite Klass-nummeret for korresponderende klassifikasjon (fylke). For å finne tigjengelig korrespondansetabeller for en klassifikasjon kan vi bruke funksjonen `CorrespondList()` med klassifikasjonen som vi ønsker å finne korrespondansetabell til. Dette kan ta litt tid fordi hele KLASS må søkes gjennom. Etterpå kan vi bruke `correspond =` sammen med  Klass-nummer (104 for fylkeinndeling) til å hente fylke. \n"
   ]
  },
  {
   "cell_type": "code",
   "execution_count": null,
   "metadata": {},
   "outputs": [],
   "source": [
    "dataset$Fylke_ny <- ApplyKlass(dataset$Region_ny, klass = 131, correspond = 104)\n",
    "dataset"
   ]
  }
 ],
 "metadata": {
  "language_info": {
   "codemirror_mode": "r",
   "file_extension": ".r",
   "mimetype": "text/x-r-source",
   "name": "R"
  }
 },
 "nbformat": 4,
 "nbformat_minor": 4
}

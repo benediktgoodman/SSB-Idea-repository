{
 "cells": [
  {
   "cell_type": "code",
   "execution_count": null,
   "metadata": {},
   "outputs": [],
   "source": [
    "packs <- installed.packages()"
   ]
  },
  {
   "cell_type": "code",
   "execution_count": null,
   "metadata": {},
   "outputs": [],
   "source": [
    "packs$Package"
   ]
  },
  {
   "cell_type": "code",
   "execution_count": null,
   "metadata": {},
   "outputs": [],
   "source": [
    "library(tidyverse) #Inneholder ggplot?"
   ]
  },
  {
   "cell_type": "code",
   "execution_count": null,
   "metadata": {},
   "outputs": [],
   "source": [
    "# Les inn eksempeldata fra dapla-lagring\n",
    "df_areal <- spark.read.path(\"/felles/veiledning/pyspark/eksempler/areal\")"
   ]
  },
  {
   "cell_type": "code",
   "execution_count": null,
   "metadata": {},
   "outputs": [],
   "source": [
    "typeof(df_areal)"
   ]
  },
  {
   "cell_type": "code",
   "execution_count": null,
   "metadata": {},
   "outputs": [],
   "source": [
    "df_areal"
   ]
  },
  {
   "cell_type": "code",
   "execution_count": null,
   "metadata": {},
   "outputs": [],
   "source": [
    "df_area"
   ]
  },
  {
   "cell_type": "code",
   "execution_count": null,
   "metadata": {},
   "outputs": [],
   "source": [
    "# Vi kan coerce en spark dataframe inn i en R dataframe kanskje\n",
    "df_areals <- as.data.frame(df_areal)\n",
    "# Kan jo hende det blir kvalm her om det er blandete typer i kolonnene, string+int feks\n",
    "typeof(df_areals)\n",
    "# Er jo litt rart at dette er en liste og ikke en dataframe...\n",
    "#typeof(data.frame())"
   ]
  },
  {
   "cell_type": "code",
   "execution_count": null,
   "metadata": {},
   "outputs": [],
   "source": [
    "# Kolonnenavnene \n",
    "names(df_areals)"
   ]
  },
  {
   "cell_type": "code",
   "execution_count": null,
   "metadata": {},
   "outputs": [],
   "source": [
    "# Titte på dataframen\n",
    "glimpse(df_areals)"
   ]
  },
  {
   "cell_type": "code",
   "execution_count": null,
   "metadata": {},
   "outputs": [],
   "source": [
    "# Lag en generisk ggplot for å se på output i Dapla\n",
    "p <- ggplot(data = df_areals,\n",
    "           aes(\n",
    "             x = Land,\n",
    "             y = Areal\n",
    "           ))+\n",
    "     geom_bar(stat=\"identity\")\n",
    "print(p)"
   ]
  }
 ],
 "metadata": {
  "language_info": {
   "codemirror_mode": "r",
   "file_extension": ".r",
   "mimetype": "text/x-r-source",
   "name": "R"
  }
 },
 "nbformat": 4,
 "nbformat_minor": 4
}
